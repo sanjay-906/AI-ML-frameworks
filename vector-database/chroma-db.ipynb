{
 "cells": [
  {
   "cell_type": "code",
   "execution_count": 3,
   "id": "38b0bf1e-e75a-49c5-ad4b-3d3324ab86de",
   "metadata": {},
   "outputs": [],
   "source": [
    "import os\n",
    "import chromadb\n",
    "from keys import huggingface_api"
   ]
  },
  {
   "cell_type": "code",
   "execution_count": 5,
   "id": "736b2381-949e-4d3a-bda4-831ac016a738",
   "metadata": {},
   "outputs": [],
   "source": [
    "from chromadb.utils.embedding_functions import HuggingFaceEmbeddingFunction"
   ]
  },
  {
   "cell_type": "code",
   "execution_count": 7,
   "id": "9fd8e327-0c7c-45a0-b550-3f7f52ffb0f6",
   "metadata": {},
   "outputs": [],
   "source": [
    "embeddings= HuggingFaceEmbeddingFunction(api_key= huggingface_api)"
   ]
  },
  {
   "cell_type": "code",
   "execution_count": 9,
   "id": "76ba107b-afdc-4e1b-a737-f3030d79fffc",
   "metadata": {},
   "outputs": [],
   "source": [
    "cur_dir= os.getcwd()\n",
    "data_path= os.path.join(cur_dir, \"chromadb\")\n",
    "client= chromadb.PersistentClient(path= data_path)"
   ]
  },
  {
   "cell_type": "code",
   "execution_count": 11,
   "id": "8dbeaa40-398e-4223-996e-75507fc6d7df",
   "metadata": {},
   "outputs": [],
   "source": [
    "collection= client.create_collection(name= \"temp-collection\", embedding_function= embeddings)"
   ]
  },
  {
   "cell_type": "code",
   "execution_count": 21,
   "id": "eff6acc0-7ac2-4c0c-95a4-391b7451450b",
   "metadata": {},
   "outputs": [],
   "source": [
    "collection1= client.create_collection(name= \"temp1-collection\", embedding_function= embeddings)"
   ]
  },
  {
   "cell_type": "code",
   "execution_count": 23,
   "id": "ceb9e13a-31bf-4b19-981f-224efe7e8d2e",
   "metadata": {},
   "outputs": [
    {
     "name": "stdout",
     "output_type": "stream",
     "text": [
      "[<chromadb.api.models.Collection.Collection object at 0x00000286D8795A50>, <chromadb.api.models.Collection.Collection object at 0x00000286D87432D0>]\n"
     ]
    }
   ],
   "source": [
    "collections= client.list_collections()\n",
    "print(collections)"
   ]
  },
  {
   "cell_type": "code",
   "execution_count": 25,
   "id": "0a4283db-10d3-4425-b3af-d4ffc607d4ef",
   "metadata": {},
   "outputs": [],
   "source": [
    "collection= client.get_collection(name= \"temp-collection\", embedding_function= embeddings)"
   ]
  },
  {
   "cell_type": "code",
   "execution_count": 29,
   "id": "4c8dea43-d44a-4a1e-88ac-868eaecaac2d",
   "metadata": {},
   "outputs": [],
   "source": [
    "collection.add(ids= [\"id1\",\"id2\"], documents= [\"this is document 1\", \"this is document 2\"])"
   ]
  },
  {
   "cell_type": "code",
   "execution_count": 31,
   "id": "33ecde80-3387-4252-b022-a2ae3bbd83c3",
   "metadata": {},
   "outputs": [
    {
     "data": {
      "text/plain": [
       "2"
      ]
     },
     "execution_count": 31,
     "metadata": {},
     "output_type": "execute_result"
    }
   ],
   "source": [
    "collection.count()"
   ]
  },
  {
   "cell_type": "code",
   "execution_count": 33,
   "id": "6048c362-f1fe-4e75-b8cd-b16ba4cd2fc9",
   "metadata": {},
   "outputs": [
    {
     "data": {
      "text/plain": [
       "{'ids': ['id2'],\n",
       " 'embeddings': None,\n",
       " 'metadatas': [None],\n",
       " 'documents': ['this is document 2'],\n",
       " 'uris': None,\n",
       " 'data': None,\n",
       " 'included': ['metadatas', 'documents']}"
      ]
     },
     "execution_count": 33,
     "metadata": {},
     "output_type": "execute_result"
    }
   ],
   "source": [
    "collection.get(ids= [\"id2\"])"
   ]
  },
  {
   "cell_type": "code",
   "execution_count": 35,
   "id": "58761d38-e9f0-4071-beeb-fb02830efde1",
   "metadata": {},
   "outputs": [
    {
     "data": {
      "text/plain": [
       "{'ids': ['id1', 'id2'],\n",
       " 'embeddings': None,\n",
       " 'metadatas': [None, None],\n",
       " 'documents': ['this is document 1', 'this is document 2'],\n",
       " 'uris': None,\n",
       " 'data': None,\n",
       " 'included': ['metadatas', 'documents']}"
      ]
     },
     "execution_count": 35,
     "metadata": {},
     "output_type": "execute_result"
    }
   ],
   "source": [
    "collection.get(ids= [\"id2\", \"id1\"])"
   ]
  },
  {
   "cell_type": "code",
   "execution_count": 37,
   "id": "6e5da38f-3739-465b-9074-19539e434198",
   "metadata": {},
   "outputs": [
    {
     "name": "stderr",
     "output_type": "stream",
     "text": [
      "Add of existing embedding ID: id1\n",
      "Insert of existing embedding ID: id1\n",
      "Add of existing embedding ID: id2\n",
      "Insert of existing embedding ID: id2\n"
     ]
    }
   ],
   "source": [
    "id_text= \"id\"\n",
    "text= \"this is text\"\n",
    "\n",
    "for i in range(0,12):\n",
    "    collection.add(ids= [id_text+str(i)], documents= [text+str(i)])"
   ]
  },
  {
   "cell_type": "code",
   "execution_count": 39,
   "id": "9ec3b1d0-0cde-4f6a-a9cd-5425ed2c0490",
   "metadata": {},
   "outputs": [
    {
     "data": {
      "text/plain": [
       "{'ids': ['id1', 'id3'],\n",
       " 'embeddings': None,\n",
       " 'metadatas': [None, None],\n",
       " 'documents': ['this is document 1', 'this is text3'],\n",
       " 'uris': None,\n",
       " 'data': None,\n",
       " 'included': ['metadatas', 'documents']}"
      ]
     },
     "execution_count": 39,
     "metadata": {},
     "output_type": "execute_result"
    }
   ],
   "source": [
    "collection.get(ids= [\"id1\", \"id3\"])"
   ]
  },
  {
   "cell_type": "code",
   "execution_count": 41,
   "id": "3df7e3b7-7118-4311-a1a0-54a4d6cacc37",
   "metadata": {},
   "outputs": [],
   "source": [
    "collection.upsert(ids= [\"id1\"], documents= [\"new content\"])"
   ]
  },
  {
   "cell_type": "code",
   "execution_count": 43,
   "id": "ec2fb1b7-49e9-48e6-883f-011894ece048",
   "metadata": {},
   "outputs": [
    {
     "data": {
      "text/plain": [
       "{'ids': ['id1', 'id3'],\n",
       " 'embeddings': None,\n",
       " 'metadatas': [None, None],\n",
       " 'documents': ['new content', 'this is text3'],\n",
       " 'uris': None,\n",
       " 'data': None,\n",
       " 'included': ['metadatas', 'documents']}"
      ]
     },
     "execution_count": 43,
     "metadata": {},
     "output_type": "execute_result"
    }
   ],
   "source": [
    "collection.get(ids= [\"id1\", \"id3\"])"
   ]
  },
  {
   "cell_type": "code",
   "execution_count": 163,
   "id": "9f881ba5-78fc-4e10-8892-9e284e882178",
   "metadata": {},
   "outputs": [
    {
     "name": "stdout",
     "output_type": "stream",
     "text": [
      "temp-collection\n",
      "temp1-collection\n"
     ]
    }
   ],
   "source": [
    "collections= client.list_collections()\n",
    "for i in collections:\n",
    "    print(i.name)"
   ]
  },
  {
   "cell_type": "code",
   "execution_count": 165,
   "id": "5cf6c141-4e1d-4633-b421-1c1ae499b8fc",
   "metadata": {},
   "outputs": [],
   "source": [
    "fruits= client.create_collection(name= \"fruit-data\", embedding_function= embeddings)"
   ]
  },
  {
   "cell_type": "code",
   "execution_count": 167,
   "id": "04535263-34ca-40fd-bd6c-c494169eafc2",
   "metadata": {},
   "outputs": [],
   "source": [
    "documents= [\"Apples are the most consumed fruit in the US\", \\\n",
    "            \"Oranges are a great source of vitamin C.\",\n",
    "            \"Grapes come in over 8,000 varieties worldwide.\",\n",
    "            \"Strawberries are the only fruit with seeds on the outside.\",\n",
    "            \"Peaches are drupes, or stone fruits, related to cherries and almonds.\",\n",
    "            \"Lemons are used for their juice, zest, and essential oil.\", \n",
    "            \"Cherries are the smallest fruits found on trees.\", \n",
    "            \"Pineapples are actually a collection of many flowers.\",\n",
    "            \"Mangoes are the national fruit of India.\",\n",
    "            \"Kiwis are native to China, despite their New Zealand namesake.\"]"
   ]
  },
  {
   "cell_type": "code",
   "execution_count": 169,
   "id": "d5c0028b-585d-4e0d-9fd0-f54ef4255e03",
   "metadata": {},
   "outputs": [],
   "source": [
    "metadata= []\n",
    "for i in documents:\n",
    "    data= {}\n",
    "    data[\"context\"]= i.split()[0]\n",
    "    metadata.append(data)"
   ]
  },
  {
   "cell_type": "code",
   "execution_count": 177,
   "id": "3df06a35-19bf-4f6e-96f8-829b2191bbeb",
   "metadata": {},
   "outputs": [],
   "source": [
    "fruits.add(ids= [str(i) for i in range(1,11)], documents= documents, metadatas= metadata)"
   ]
  },
  {
   "cell_type": "code",
   "execution_count": 179,
   "id": "9a5d6716-a4a1-480c-9174-5202b08490ee",
   "metadata": {},
   "outputs": [
    {
     "data": {
      "text/plain": [
       "{'ids': ['1', '10', '2', '3', '4', '5', '6', '7', '8', '9'],\n",
       " 'embeddings': None,\n",
       " 'metadatas': [{'context': 'Apples'},\n",
       "  {'context': 'Kiwis'},\n",
       "  {'context': 'Oranges'},\n",
       "  {'context': 'Grapes'},\n",
       "  {'context': 'Strawberries'},\n",
       "  {'context': 'Peaches'},\n",
       "  {'context': 'Lemons'},\n",
       "  {'context': 'Cherries'},\n",
       "  {'context': 'Pineapples'},\n",
       "  {'context': 'Mangoes'}],\n",
       " 'documents': ['Apples are the most consumed fruit in the US',\n",
       "  'Kiwis are native to China, despite their New Zealand namesake.',\n",
       "  'Oranges are a great source of vitamin C.',\n",
       "  'Grapes come in over 8,000 varieties worldwide.',\n",
       "  'Strawberries are the only fruit with seeds on the outside.',\n",
       "  'Peaches are drupes, or stone fruits, related to cherries and almonds.',\n",
       "  'Lemons are used for their juice, zest, and essential oil.',\n",
       "  'Cherries are the smallest fruits found on trees.',\n",
       "  'Pineapples are actually a collection of many flowers.',\n",
       "  'Mangoes are the national fruit of India.'],\n",
       " 'uris': None,\n",
       " 'data': None,\n",
       " 'included': ['metadatas', 'documents']}"
      ]
     },
     "execution_count": 179,
     "metadata": {},
     "output_type": "execute_result"
    }
   ],
   "source": [
    "fruits.get()"
   ]
  },
  {
   "cell_type": "code",
   "execution_count": 187,
   "id": "c793a2ef-b3df-4ed5-bc00-b7b39e90baaf",
   "metadata": {},
   "outputs": [
    {
     "data": {
      "text/plain": [
       "{'ids': [['9', '10']],\n",
       " 'distances': [[1.1871251939099179, 1.5962152236937135]],\n",
       " 'metadatas': [[{'context': 'Mangoes'}, {'context': 'Kiwis'}]],\n",
       " 'embeddings': None,\n",
       " 'documents': [['Mangoes are the national fruit of India.',\n",
       "   'Kiwis are native to China, despite their New Zealand namesake.']],\n",
       " 'uris': None,\n",
       " 'data': None,\n",
       " 'included': ['metadatas', 'documents', 'distances']}"
      ]
     },
     "execution_count": 187,
     "metadata": {},
     "output_type": "execute_result"
    }
   ],
   "source": [
    "results= fruits.query(\n",
    "    query_texts= [\"India is the 7th largest country\"],\n",
    "    n_results= 2\n",
    ")\n",
    "results"
   ]
  },
  {
   "cell_type": "code",
   "execution_count": 189,
   "id": "b6d66c34-f95a-4969-8ee3-999cec8ee0bc",
   "metadata": {},
   "outputs": [
    {
     "data": {
      "text/plain": [
       "'fruit-data'"
      ]
     },
     "execution_count": 189,
     "metadata": {},
     "output_type": "execute_result"
    }
   ],
   "source": [
    "fruits.name"
   ]
  },
  {
   "cell_type": "code",
   "execution_count": 191,
   "id": "c1994de1-4302-4bdf-b947-72957763556c",
   "metadata": {},
   "outputs": [
    {
     "data": {
      "text/plain": [
       "{'ids': [['1', '7']],\n",
       " 'distances': [[3.1502551239860323e-13, 1.1242562254760096]],\n",
       " 'metadatas': [[{'context': 'Apples'}, {'context': 'Cherries'}]],\n",
       " 'embeddings': None,\n",
       " 'documents': [['Apples are the most consumed fruit in the US',\n",
       "   'Cherries are the smallest fruits found on trees.']],\n",
       " 'uris': None,\n",
       " 'data': None,\n",
       " 'included': ['metadatas', 'documents', 'distances']}"
      ]
     },
     "execution_count": 191,
     "metadata": {},
     "output_type": "execute_result"
    }
   ],
   "source": [
    "results= fruits.query(\n",
    "    query_texts= [\"Apples are the most consumed fruit in the US\"],\n",
    "    n_results= 2\n",
    ")\n",
    "results"
   ]
  },
  {
   "cell_type": "code",
   "execution_count": 61,
   "id": "8d7f1038-c488-4d36-a175-15c5ded80dc4",
   "metadata": {},
   "outputs": [
    {
     "data": {
      "text/plain": [
       "10"
      ]
     },
     "execution_count": 61,
     "metadata": {},
     "output_type": "execute_result"
    }
   ],
   "source": [
    "fruits.count()"
   ]
  },
  {
   "cell_type": "code",
   "execution_count": 199,
   "id": "904cb281-714f-4bf3-87ab-f2a94105e75b",
   "metadata": {},
   "outputs": [],
   "source": [
    "results= fruits.get(where= {\"context\": { \"$in\": [\"Apples\", \"mangoes\"]}})"
   ]
  },
  {
   "cell_type": "code",
   "execution_count": 201,
   "id": "1d324f50-a372-4553-a72c-1615415f7796",
   "metadata": {},
   "outputs": [
    {
     "data": {
      "text/plain": [
       "{'ids': ['1'],\n",
       " 'embeddings': None,\n",
       " 'metadatas': [{'context': 'Apples'}],\n",
       " 'documents': ['Apples are the most consumed fruit in the US'],\n",
       " 'uris': None,\n",
       " 'data': None,\n",
       " 'included': ['metadatas', 'documents']}"
      ]
     },
     "execution_count": 201,
     "metadata": {},
     "output_type": "execute_result"
    }
   ],
   "source": [
    "results"
   ]
  },
  {
   "cell_type": "markdown",
   "id": "d8b131e5-ebb3-49df-a302-1bb3780b03bb",
   "metadata": {},
   "source": [
    "#### \"where\" works on metadata, add more keys to the metadata"
   ]
  },
  {
   "cell_type": "code",
   "execution_count": 221,
   "id": "26406777-365d-461c-81c1-74d5366f2893",
   "metadata": {},
   "outputs": [],
   "source": [
    "results= fruits.get(where= {\"$and\" : [{\"context\": {\"$in\": [\"Apples\", \"Oranges\"]}}, {\"ids\": {\"$eq\": '1'}}]})"
   ]
  },
  {
   "cell_type": "code",
   "execution_count": 223,
   "id": "29193578-9449-4d0d-819f-e8915ee2b744",
   "metadata": {},
   "outputs": [
    {
     "data": {
      "text/plain": [
       "{'ids': ['1', '2'],\n",
       " 'embeddings': None,\n",
       " 'metadatas': [{'context': 'Apples'}, {'context': 'Oranges'}],\n",
       " 'documents': ['Apples are the most consumed fruit in the US',\n",
       "  'Oranges are a great source of vitamin C.'],\n",
       " 'uris': None,\n",
       " 'data': None,\n",
       " 'included': ['metadatas', 'documents']}"
      ]
     },
     "execution_count": 223,
     "metadata": {},
     "output_type": "execute_result"
    }
   ],
   "source": [
    "results"
   ]
  },
  {
   "cell_type": "code",
   "execution_count": null,
   "id": "9f33b8a6-c8e0-4c06-a973-ed4489c73ede",
   "metadata": {},
   "outputs": [],
   "source": []
  },
  {
   "cell_type": "code",
   "execution_count": null,
   "id": "a7df8f03-1944-4a70-9e3f-2f5f5ad994dc",
   "metadata": {},
   "outputs": [],
   "source": []
  },
  {
   "cell_type": "code",
   "execution_count": null,
   "id": "5cb51bc9-8818-4f35-bbf7-dc5184e25719",
   "metadata": {},
   "outputs": [],
   "source": []
  },
  {
   "cell_type": "code",
   "execution_count": null,
   "id": "4c4fc6a0-3245-4ba4-8342-c7b4fde17dbc",
   "metadata": {},
   "outputs": [],
   "source": []
  }
 ],
 "metadata": {
  "kernelspec": {
   "display_name": "Python 3 (ipykernel)",
   "language": "python",
   "name": "python3"
  },
  "language_info": {
   "codemirror_mode": {
    "name": "ipython",
    "version": 3
   },
   "file_extension": ".py",
   "mimetype": "text/x-python",
   "name": "python",
   "nbconvert_exporter": "python",
   "pygments_lexer": "ipython3",
   "version": "3.11.7"
  }
 },
 "nbformat": 4,
 "nbformat_minor": 5
}
