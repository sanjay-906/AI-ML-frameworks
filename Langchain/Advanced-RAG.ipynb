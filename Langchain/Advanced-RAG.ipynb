{
 "cells": [
  {
   "cell_type": "code",
   "execution_count": 1,
   "id": "5883cffa-1333-4405-ab30-6ae2ced53e49",
   "metadata": {},
   "outputs": [],
   "source": [
    "import os\n",
    "from langchain_google_genai import ChatGoogleGenerativeAI\n",
    "from keys import gemini_api_key\n",
    "from langchain_huggingface import HuggingFaceEmbeddings"
   ]
  },
  {
   "cell_type": "code",
   "execution_count": 2,
   "id": "02ee6b61-e5bb-4fea-84f3-3f1e990bb698",
   "metadata": {},
   "outputs": [],
   "source": [
    "os.environ[\"GOOGLE_API_KEY\"]= gemini_api_key\n",
    "embeddings=HuggingFaceEmbeddings(model_name='sentence-transformers/all-MiniLM-L6-v2')\n",
    "llm= ChatGoogleGenerativeAI(model= \"gemini-1.5-pro-latest\")"
   ]
  },
  {
   "cell_type": "code",
   "execution_count": 3,
   "id": "0cd505c5-ada2-4c07-960d-44081fd849b8",
   "metadata": {},
   "outputs": [],
   "source": [
    "from langchain.text_splitter import RecursiveCharacterTextSplitter\n",
    "from langchain.vectorstores import Chroma\n",
    "from langchain.schema import Document\n",
    "from langchain.document_loaders import TextLoader"
   ]
  },
  {
   "cell_type": "code",
   "execution_count": 4,
   "id": "2d209c99-38af-4ce1-b7cc-5998cc320824",
   "metadata": {},
   "outputs": [],
   "source": [
    "loader= TextLoader(\"color-psychology.txt\")\n",
    "data1= loader.load()\n",
    "\n",
    "loader= TextLoader(\"natural-disasters.txt\")\n",
    "data2= loader.load()"
   ]
  },
  {
   "cell_type": "code",
   "execution_count": 5,
   "id": "d51936bf-ffa8-4a22-9b08-bbd1dfd5d19c",
   "metadata": {},
   "outputs": [],
   "source": [
    "docs= data1 + data2"
   ]
  },
  {
   "cell_type": "markdown",
   "id": "31202d7e-b308-4c46-a807-29509546f30f",
   "metadata": {},
   "source": [
    "## 1. Parent Document Retriever"
   ]
  },
  {
   "cell_type": "markdown",
   "id": "5bed262b-7bb2-4fc0-b0b9-4264fb360dbe",
   "metadata": {},
   "source": [
    "Does similarity search on children chunks and returns the associated parent chunk. <br>Split data into two parts: parent chunks: large, children chunks: small<br> Smaller chunks have better accuracy for similarity search, while parent chunks retain more context.<br> "
   ]
  },
  {
   "cell_type": "code",
   "execution_count": 15,
   "id": "049e8392-64a4-40c0-91cc-54160d239e06",
   "metadata": {},
   "outputs": [],
   "source": [
    "from langchain.storage import InMemoryStore\n",
    "from langchain.retrievers import ParentDocumentRetriever"
   ]
  },
  {
   "cell_type": "code",
   "execution_count": 17,
   "id": "d518d554-989e-4b59-8d16-b69c04692f4d",
   "metadata": {},
   "outputs": [],
   "source": [
    "child_splitter= RecursiveCharacterTextSplitter(chunk_size= 120, chunk_overlap= 20)\n",
    "parent_splitter= RecursiveCharacterTextSplitter(chunk_size= 420, chunk_overlap= 20)\n",
    "\n",
    "vectorstore= Chroma(collection_name= \"full_documents\", embedding_function= embeddings)\n",
    "store= InMemoryStore()\n",
    "retriever= ParentDocumentRetriever(\n",
    "    vectorstore= vectorstore,\n",
    "    docstore= store,\n",
    "    child_splitter= child_splitter,\n",
    "    parent_splitter= parent_splitter\n",
    ")"
   ]
  },
  {
   "cell_type": "code",
   "execution_count": 19,
   "id": "dc8c004e-1491-4603-8b6a-463b31569fec",
   "metadata": {},
   "outputs": [],
   "source": [
    "retriever.add_documents(docs, ids= None)"
   ]
  },
  {
   "cell_type": "code",
   "execution_count": 21,
   "id": "c61f4690-f229-49be-ae9f-7d9ae29ef6ad",
   "metadata": {},
   "outputs": [
    {
     "data": {
      "text/plain": [
       "[Document(page_content='meanings, such as flat or boring.', metadata={'doc_id': '1ee50054-073e-4583-bc69-7776c331e72c', 'source': 'color-psychology.txt'}),\n",
       " Document(page_content='color of darkness or sadness.', metadata={'doc_id': 'e5338359-8ca2-4071-82cf-062f6fb0a6ea', 'source': 'color-psychology.txt'}),\n",
       " Document(page_content='1. Black', metadata={'doc_id': 'be629510-0d4e-4980-9c5f-9573b51792a3', 'source': 'color-psychology.txt'}),\n",
       " Document(page_content='1. Black', metadata={'doc_id': '02cf4f80-dc5c-4027-aaba-8fac1c4b229c', 'source': 'color-psychology.txt'})]"
      ]
     },
     "execution_count": 21,
     "metadata": {},
     "output_type": "execute_result"
    }
   ],
   "source": [
    "vectorstore.similarity_search(\"both good and bad\")"
   ]
  },
  {
   "cell_type": "code",
   "execution_count": 23,
   "id": "b5a0309f-73c9-4818-8e61-c09f364ab27a",
   "metadata": {},
   "outputs": [
    {
     "name": "stderr",
     "output_type": "stream",
     "text": [
      "C:\\Users\\HP\\anaconda3\\Lib\\site-packages\\langchain_core\\_api\\deprecation.py:139: LangChainDeprecationWarning: The method `BaseRetriever.get_relevant_documents` was deprecated in langchain-core 0.1.46 and will be removed in 0.3.0. Use invoke instead.\n",
      "  warn_deprecated(\n"
     ]
    },
    {
     "data": {
      "text/plain": [
       "[Document(page_content='The color white itself means clean, simple or holy. But on the other hand, white also has negative meanings, such as flat or boring.\\n\\n3. Red\\n\\nMoving on from black and white, red is a quite unique color, because red has good and bad meanings. For example, people will consider red as a color that shows anger, chaos, etc. However, red can also be interpreted as a color that shows strength, enthusiasm or love.', metadata={'source': 'color-psychology.txt'}),\n",
       " Document(page_content='So, what effect does black have on a personâ€™s psychology? What does the color black mean? Black gives a formal and exclusive impression. But on the other hand, black can also be interpreted as the color of darkness or sadness.\\n\\n2. White', metadata={'source': 'color-psychology.txt'}),\n",
       " Document(page_content='1. Black\\n\\nBlack is currently often used by most designers, whether creating designs for music or fitness groups. Not infrequently, people nowadays also prefer dark colors like black in everyday life.', metadata={'source': 'color-psychology.txt'}),\n",
       " Document(page_content='Each color certainly has its own meaning and significance, even white and black also have their own meaning. Not infrequently, some colors also have double meanings depending on what they are used for. So, what are the meanings of the colors that we often encounter?\\n\\n1. Black', metadata={'source': 'color-psychology.txt'})]"
      ]
     },
     "execution_count": 23,
     "metadata": {},
     "output_type": "execute_result"
    }
   ],
   "source": [
    "retriever.get_relevant_documents(\"both good and bad\")"
   ]
  },
  {
   "cell_type": "markdown",
   "id": "5b3e73be-5655-4aa5-8282-9ed5614666c4",
   "metadata": {},
   "source": [
    "## 2. MultiQueryRetriever"
   ]
  },
  {
   "cell_type": "markdown",
   "id": "ed8dca05-c21f-4c1c-9082-7ddab9c47929",
   "metadata": {},
   "source": [
    "use an llm to alter the question into many other ways, and use each question to retrieve the respective most similar chunk from the vector store. Now attach all these in to the prompt(as context) and send to an llm for output"
   ]
  },
  {
   "cell_type": "code",
   "execution_count": 26,
   "id": "951a35bb-5dff-4d75-ac0e-945f0adef7ea",
   "metadata": {},
   "outputs": [],
   "source": [
    "from langchain.retrievers.multi_query import MultiQueryRetriever"
   ]
  },
  {
   "cell_type": "code",
   "execution_count": 28,
   "id": "fbaacdcb-b5e7-415c-a29b-f55f7374e6eb",
   "metadata": {},
   "outputs": [],
   "source": [
    "retriever= MultiQueryRetriever.from_llm(\n",
    "    retriever= vectorstore.as_retriever(),\n",
    "    llm= llm\n",
    ")"
   ]
  },
  {
   "cell_type": "code",
   "execution_count": 30,
   "id": "f688b809-e64a-43c4-bf52-bbd32fd935c5",
   "metadata": {},
   "outputs": [],
   "source": [
    "vector_docs= retriever.get_relevant_documents(\"both good and bad\")"
   ]
  },
  {
   "cell_type": "code",
   "execution_count": 32,
   "id": "56852a5b-b6e3-497b-969c-6451af61b273",
   "metadata": {},
   "outputs": [
    {
     "data": {
      "text/plain": [
       "[Document(page_content='technological developments, and various other things related to design. Letâ€™s make this place a place for us to', metadata={'doc_id': '29d84cb4-4c5f-472c-8eb2-db5a99656026', 'source': 'color-psychology.txt'}),\n",
       " Document(page_content='and information about design that we need to know.', metadata={'doc_id': '29d84cb4-4c5f-472c-8eb2-db5a99656026', 'source': 'color-psychology.txt'}),\n",
       " Document(page_content='2. Wound infections â€” Open wounds can become infected by the dirty water, and itâ€™s easy to cut yourself on sharp', metadata={'doc_id': 'a92f766d-c772-4459-8cd6-489d6861fed8', 'source': 'natural-disasters.txt'}),\n",
       " Document(page_content='2. Injuries due to building damage â€” If a building is damaged during an earthquake, debris and other objects may fall', metadata={'doc_id': '0b20d220-486d-47e6-8aea-fb27405d7f06', 'source': 'natural-disasters.txt'}),\n",
       " Document(page_content='Risks and Injuries', metadata={'doc_id': '994c8685-c65e-495d-8020-dad68c97576e', 'source': 'natural-disasters.txt'}),\n",
       " Document(page_content='3. Burns and other injuries from fire â€” Be sure to evacuate quickly so that you and your family are not injured by', metadata={'doc_id': 'dc089ed4-e347-4173-8de0-819d5cd81895', 'source': 'natural-disasters.txt'}),\n",
       " Document(page_content='to something important in a country.', metadata={'doc_id': '2262f7b2-9392-49ef-bb28-f33478675b62', 'source': 'color-psychology.txt'}),\n",
       " Document(page_content='So, what effect does black have on a personâ€™s psychology? What does the color black mean? Black gives a formal and', metadata={'doc_id': 'e5338359-8ca2-4071-82cf-062f6fb0a6ea', 'source': 'color-psychology.txt'}),\n",
       " Document(page_content='3. Wound infections', metadata={'doc_id': '5ac90eff-d410-4984-8f4a-ffd9017adc4d', 'source': 'natural-disasters.txt'})]"
      ]
     },
     "execution_count": 32,
     "metadata": {},
     "output_type": "execute_result"
    }
   ],
   "source": [
    "vector_docs"
   ]
  },
  {
   "cell_type": "markdown",
   "id": "5c7286b2-251a-43ea-86d9-d011e549450c",
   "metadata": {},
   "source": [
    "## 3. Contextual Compression"
   ]
  },
  {
   "cell_type": "markdown",
   "id": "793ba5c5-22a7-4758-9d44-f2e023f87b67",
   "metadata": {},
   "source": [
    "use an llm to compress (summarize) the data after retrieving it from the vector store). Now attach all these in to the prompt(as context) and send to an llm for output"
   ]
  },
  {
   "cell_type": "code",
   "execution_count": 6,
   "id": "139863a7-eae3-4627-91b7-13e2542d658c",
   "metadata": {},
   "outputs": [],
   "source": [
    "text_splitter= RecursiveCharacterTextSplitter(\n",
    "    chunk_size= 100,\n",
    "    chunk_overlap= 20,\n",
    "    length_function= len,\n",
    "    is_separator_regex = False\n",
    ")\n",
    "data= text_splitter.split_documents(docs)\n",
    "vectorstore= Chroma(collection_name= \"full_documents\", embedding_function= embeddings)\n",
    "retriever= vectorstore.as_retriever()\n",
    "retriever.add_documents(data, ids= None);"
   ]
  },
  {
   "cell_type": "code",
   "execution_count": 21,
   "id": "62913e06-3651-4c2c-8b68-ee6eee4a2bdc",
   "metadata": {},
   "outputs": [
    {
     "data": {
      "text/plain": [
       "[Document(page_content='also has negative meanings, such as flat or boring.', metadata={'source': 'color-psychology.txt'}),\n",
       " Document(page_content='higher. When an earthquake has a magnitude of 6 or higher, itâ€™s considered extremely destructive.', metadata={'source': 'natural-disasters.txt'}),\n",
       " Document(page_content='black mean? Black gives a formal and exclusive impression. But on the other hand, black can also be', metadata={'source': 'color-psychology.txt'}),\n",
       " Document(page_content='1. Black', metadata={'source': 'color-psychology.txt'})]"
      ]
     },
     "execution_count": 21,
     "metadata": {},
     "output_type": "execute_result"
    }
   ],
   "source": [
    "retriever.get_relevant_documents(query= \"both good and bad\")"
   ]
  },
  {
   "cell_type": "code",
   "execution_count": 23,
   "id": "5d58bf96-cfbc-48fa-acc3-a03fd8fbd277",
   "metadata": {},
   "outputs": [
    {
     "name": "stderr",
     "output_type": "stream",
     "text": [
      "Retrying langchain_google_genai.chat_models._chat_with_retry.<locals>._chat_with_retry in 2.0 seconds as it raised ResourceExhausted: 429 Resource has been exhausted (e.g. check quota)..\n"
     ]
    }
   ],
   "source": [
    "from langchain.retrievers import ContextualCompressionRetriever\n",
    "from langchain.retrievers.document_compressors import LLMChainExtractor\n",
    "\n",
    "compressor= LLMChainExtractor.from_llm(llm)\n",
    "compression_retriever= ContextualCompressionRetriever(base_compressor= compressor, base_retriever= retriever)\n",
    "\n",
    "compressed_docs= compression_retriever.get_relevant_documents(query= \"both good and bad\")"
   ]
  },
  {
   "cell_type": "code",
   "execution_count": 25,
   "id": "ff42faf4-323a-4c54-880c-5bce7c0d1af0",
   "metadata": {},
   "outputs": [
    {
     "data": {
      "text/plain": [
       "[]"
      ]
     },
     "execution_count": 25,
     "metadata": {},
     "output_type": "execute_result"
    }
   ],
   "source": [
    "compressed_docs"
   ]
  },
  {
   "cell_type": "markdown",
   "id": "b73faa2c-b0f7-4402-92be-7e3edc8d490d",
   "metadata": {},
   "source": [
    "since we use llm for compression, it gets expensive, below is an alternative: (but we don't compress the data using llm here)"
   ]
  },
  {
   "cell_type": "markdown",
   "id": "00a8eaa4-fc99-4d58-93a2-69e5e87936a3",
   "metadata": {},
   "source": [
    "## 4. Embeddings Filter"
   ]
  },
  {
   "cell_type": "markdown",
   "id": "523e9b33-8275-40c8-8f16-9850d9ba4443",
   "metadata": {},
   "source": [
    "documents are sent to embedding models, we can calculate similarity for each document w.r.t. the query"
   ]
  },
  {
   "cell_type": "code",
   "execution_count": 51,
   "id": "6c5fe5ac-a111-4569-9e13-9317ae8e4a27",
   "metadata": {},
   "outputs": [],
   "source": [
    "query= \"both good and bad\""
   ]
  },
  {
   "cell_type": "code",
   "execution_count": 47,
   "id": "b9c0d1bd-10ae-4fe8-a1b1-5c9a3bd92394",
   "metadata": {},
   "outputs": [],
   "source": [
    "from langchain.retrievers.document_compressors import EmbeddingsFilter"
   ]
  },
  {
   "cell_type": "code",
   "execution_count": 61,
   "id": "842f090e-ab93-4c85-9093-9ee7dda4f86f",
   "metadata": {},
   "outputs": [
    {
     "name": "stderr",
     "output_type": "stream",
     "text": [
      "Retrying langchain_google_genai.chat_models._chat_with_retry.<locals>._chat_with_retry in 2.0 seconds as it raised ResourceExhausted: 429 Resource has been exhausted (e.g. check quota)..\n"
     ]
    }
   ],
   "source": [
    "embeddings_filter= EmbeddingsFilter(embeddings= embeddings, similarity_threshold= 0.6)\n",
    "compression_filter= ContextualCompressionRetriever(base_compressor= embeddings_filter, base_retriever= retriever)\n",
    "\n",
    "compressed_docs= compression_retriever.get_relevant_documents(query= query)"
   ]
  },
  {
   "cell_type": "code",
   "execution_count": 63,
   "id": "5cb520aa-a16d-43b0-b786-8d204ad62900",
   "metadata": {},
   "outputs": [
    {
     "data": {
      "text/plain": [
       "[]"
      ]
     },
     "execution_count": 63,
     "metadata": {},
     "output_type": "execute_result"
    }
   ],
   "source": [
    "compressed_docs"
   ]
  },
  {
   "cell_type": "markdown",
   "id": "de364cce-9fb8-49a4-8776-1772db167eec",
   "metadata": {},
   "source": [
    "## 5. Ensemble Retriever"
   ]
  },
  {
   "cell_type": "markdown",
   "id": "7a093e6e-7849-4425-bbba-520cb64a8e42",
   "metadata": {},
   "source": [
    "use multiple retrievers, and combine the output of all"
   ]
  },
  {
   "cell_type": "markdown",
   "id": "f023001a-b874-4872-b50c-1d46f8cc09e2",
   "metadata": {},
   "source": [
    "Sparse vectors are good at finding relevant documents based on keywords<BR>\n",
    "whereas dense vectors, based on semantic similarity. Both of them complement each other"
   ]
  },
  {
   "cell_type": "code",
   "execution_count": 81,
   "id": "83e08600-8780-4a8c-ba5c-0d77c3b0a3a2",
   "metadata": {},
   "outputs": [],
   "source": [
    "from langchain.retrievers import BM25Retriever, EnsembleRetriever\n",
    "bm25_retriever= BM25Retriever.from_documents(data)\n",
    "bm25_retriever.k= 2\n",
    "\n",
    "chroma_vectorstore= Chroma.from_documents(data, embeddings)\n",
    "chroma_retriever= chroma_vectorstore.as_retriever()\n",
    "\n",
    "ensemble_retriever= EnsembleRetriever(\n",
    "    retrievers= [bm25_retriever, chroma_retriever], weights= [0.5, 0.5]\n",
    ")"
   ]
  },
  {
   "cell_type": "code",
   "execution_count": 83,
   "id": "9f083a53-c33c-49e2-90b6-5619f2e7791a",
   "metadata": {},
   "outputs": [
    {
     "data": {
      "text/plain": [
       "[Document(page_content='Risks and Injuries', metadata={'source': 'natural-disasters.txt'}),\n",
       " Document(page_content='Moving on from black and white, red is a quite unique color, because red has good and bad meanings.', metadata={'source': 'color-psychology.txt'}),\n",
       " Document(page_content='also has negative meanings, such as flat or boring.', metadata={'source': 'color-psychology.txt'}),\n",
       " Document(page_content='and bad meanings. For example, people will consider red as a color that shows anger, chaos, etc.', metadata={'source': 'color-psychology.txt'})]"
      ]
     },
     "execution_count": 83,
     "metadata": {},
     "output_type": "execute_result"
    }
   ],
   "source": [
    "results= ensemble_retriever.get_relevant_documents(query= query)\n",
    "results"
   ]
  },
  {
   "cell_type": "markdown",
   "id": "a56ad103-04c6-431a-aa44-0d3e19436e29",
   "metadata": {},
   "source": [
    "## 6. Self Querying Retriever"
   ]
  },
  {
   "cell_type": "markdown",
   "id": "a3f25e1b-bdb9-42b4-8c3b-dd90e5cd6bbb",
   "metadata": {},
   "source": [
    "uses the metadata of the documents based on the input query"
   ]
  },
  {
   "cell_type": "code",
   "execution_count": 11,
   "id": "38c3aaa3-12fc-486d-9fd9-ca0872bd48fa",
   "metadata": {},
   "outputs": [],
   "source": [
    "from langchain.chains.query_constructor.base import AttributeInfo\n",
    "from langchain.retrievers.self_query.base import SelfQueryRetriever"
   ]
  },
  {
   "cell_type": "code",
   "execution_count": 23,
   "id": "636e5e8d-b792-427b-8150-19ecf00dc6ab",
   "metadata": {},
   "outputs": [],
   "source": [
    "text_splitter= RecursiveCharacterTextSplitter(\n",
    "    chunk_size= 100,\n",
    "    chunk_overlap= 20,\n",
    "    length_function= len,\n",
    "    is_separator_regex = False\n",
    ")\n",
    "data= text_splitter.split_documents(docs)\n",
    "\n",
    "chroma_vectorstore= Chroma.from_documents(data, embeddings)\n",
    "chroma_retriever= chroma_vectorstore.as_retriever()\n",
    "\n",
    "metadata_field_info= [\n",
    "    AttributeInfo(\n",
    "        name= \"source\",\n",
    "        description= \"topic of the document\",\n",
    "        type= \"string\"\n",
    "    )\n",
    "]\n",
    "\n",
    "document_content_description= \"documents about color pyschology and natural disasters\"\n",
    "retriever= SelfQueryRetriever.from_llm(\n",
    "    llm,\n",
    "    chroma_vectorstore,\n",
    "    document_content_description,\n",
    "    metadata_field_info\n",
    ")"
   ]
  },
  {
   "cell_type": "code",
   "execution_count": 31,
   "id": "d75714ee-69c9-433b-9c65-39da6d68a579",
   "metadata": {},
   "outputs": [
    {
     "data": {
      "text/plain": [
       "[Document(page_content='black can also be interpreted as the color of darkness or sadness.', metadata={'source': 'color-psychology.txt'}),\n",
       " Document(page_content='black can also be interpreted as the color of darkness or sadness.', metadata={'source': 'color-psychology.txt'}),\n",
       " Document(page_content='black can also be interpreted as the color of darkness or sadness.', metadata={'source': 'color-psychology.txt'}),\n",
       " Document(page_content='black can also be interpreted as the color of darkness or sadness.', metadata={'source': 'color-psychology.txt'})]"
      ]
     },
     "execution_count": 31,
     "metadata": {},
     "output_type": "execute_result"
    }
   ],
   "source": [
    "retriever.invoke(\"individuals may associate the color black with feelings of distress\") #i.e., .get_relevant_documents()"
   ]
  },
  {
   "cell_type": "markdown",
   "id": "71243477-597b-4318-9633-9d711bf35f0f",
   "metadata": {},
   "source": [
    "## 7. Time Weighted Vector Store"
   ]
  },
  {
   "cell_type": "markdown",
   "id": "694b9dc5-98e7-44cd-8f28-561d8c9c3414",
   "metadata": {},
   "source": [
    "uses decay rate and metadata about the documents (time related such as last created, last edited etc..)\n",
    "\"High decay rate makes old documents invalidate fast, while low decay rate keeps them valid longer.\""
   ]
  },
  {
   "cell_type": "markdown",
   "id": "5b51ee79-9d53-4f9d-af79-f5ab6f12a870",
   "metadata": {},
   "source": [
    "## 8. RAG fusion"
   ]
  },
  {
   "cell_type": "markdown",
   "id": "777de8f8-b7f6-4fe1-92b4-87e6bd0d216b",
   "metadata": {},
   "source": [
    "- Generate multiple queries based on the given user query using an llm\n",
    "- Perform vector searches for both the original and generated queries\n",
    "- use reciprocal rank fusion to reorder the results"
   ]
  },
  {
   "cell_type": "markdown",
   "id": "0326361f-c4ec-48e2-8e54-9d59aaae25a2",
   "metadata": {},
   "source": [
    "## 9. Two Stage Retrieval with Cross Encoder"
   ]
  },
  {
   "cell_type": "markdown",
   "id": "15ae26e4-28ec-43cd-9364-206e3910c870",
   "metadata": {},
   "source": [
    "  converting text to vector results in some loss of information, cross encoder performs better here"
   ]
  },
  {
   "cell_type": "code",
   "execution_count": 8,
   "id": "389e49a0-8489-4bd5-ad84-6e8b7ba86c3a",
   "metadata": {},
   "outputs": [],
   "source": [
    "doc_strings= [i.page_content for i in data]"
   ]
  },
  {
   "cell_type": "code",
   "execution_count": 9,
   "id": "e7847b8b-94ed-4828-be03-a10c45b6a34d",
   "metadata": {},
   "outputs": [],
   "source": [
    "vectors= embeddings.embed_documents(doc_strings)"
   ]
  },
  {
   "cell_type": "code",
   "execution_count": 8,
   "id": "92de164c-91aa-48dd-a034-fe2dc8d6679e",
   "metadata": {},
   "outputs": [],
   "source": [
    "db= Chroma.from_documents(data, embeddings)\n",
    "retriever= db.as_retriever(search_kwargs= {'k': 6})"
   ]
  },
  {
   "cell_type": "code",
   "execution_count": 11,
   "id": "241f3d04-c77a-49b2-a423-df76cb3a6d3d",
   "metadata": {},
   "outputs": [],
   "source": [
    "from visualize_embeddings import visualizeEmbeddings"
   ]
  },
  {
   "cell_type": "code",
   "execution_count": 12,
   "id": "c46d8ecf-9d53-4fd3-b098-235fa412e916",
   "metadata": {},
   "outputs": [],
   "source": [
    "embeds= visualizeEmbeddings()"
   ]
  },
  {
   "cell_type": "code",
   "execution_count": 13,
   "id": "4fcec8c5-9d32-41a7-9126-01235e9dc584",
   "metadata": {},
   "outputs": [
    {
     "name": "stderr",
     "output_type": "stream",
     "text": [
      "C:\\Users\\HP\\anaconda3\\Lib\\site-packages\\umap\\umap_.py:1945: UserWarning: n_jobs value 1 overridden to 1 by setting random_state. Use no seed for parallelism.\n",
      "  warn(f\"n_jobs value {self.n_jobs} overridden to 1 by setting random_state. Use no seed for parallelism.\")\n"
     ]
    }
   ],
   "source": [
    "embeds.fit(vectors)"
   ]
  },
  {
   "cell_type": "code",
   "execution_count": 14,
   "id": "d72ac38a-05c8-4da5-91cb-0401fcb2e42a",
   "metadata": {},
   "outputs": [
    {
     "name": "stderr",
     "output_type": "stream",
     "text": [
      "100%|████████████████████████████████████████████████████████████████████████████████| 206/206 [07:11<00:00,  2.09s/it]\n"
     ]
    }
   ],
   "source": [
    "global_embeddings= embeds.umap_embed(vectors)"
   ]
  },
  {
   "cell_type": "code",
   "execution_count": 15,
   "id": "8d975738-55c4-40f3-8123-5cabf15bc76e",
   "metadata": {},
   "outputs": [
    {
     "data": {
      "text/plain": [
       "(-6.635483264923096,\n",
       " 14.46119737625122,\n",
       " -2.4717871487140655,\n",
       " 19.514524036645888)"
      ]
     },
     "execution_count": 15,
     "metadata": {},
     "output_type": "execute_result"
    },
    {
     "data": {
      "image/png": "[encoded data removed]",
      "text/plain": [
       "<Figure size 640x480 with 1 Axes>"
      ]
     },
     "metadata": {},
     "output_type": "display_data"
    }
   ],
   "source": [
    "import matplotlib.pyplot as plt\n",
    "\n",
    "plt.figure()\n",
    "plt.scatter(global_embeddings[:, 0], global_embeddings[:, 1], s=10)\n",
    "plt.gca().set_aspect('equal', 'datalim')\n",
    "plt.title('Embeddings')\n",
    "plt.axis('off')"
   ]
  },
  {
   "cell_type": "code",
   "execution_count": 16,
   "id": "5e49eeac-1191-475c-9f20-d0e970cc1822",
   "metadata": {},
   "outputs": [
    {
     "name": "stderr",
     "output_type": "stream",
     "text": [
      "C:\\Users\\HP\\anaconda3\\Lib\\site-packages\\langchain_core\\_api\\deprecation.py:139: LangChainDeprecationWarning: The method `BaseRetriever.get_relevant_documents` was deprecated in langchain-core 0.1.46 and will be removed in 0.3.0. Use invoke instead.\n",
      "  warn_deprecated(\n",
      "100%|████████████████████████████████████████████████████████████████████████████████████| 1/1 [00:02<00:00,  2.43s/it]\n",
      "100%|████████████████████████████████████████████████████████████████████████████████████| 6/6 [00:12<00:00,  2.05s/it]\n"
     ]
    },
    {
     "data": {
      "image/png": "[encoded data removed]",
      "text/plain": [
       "<Figure size 640x480 with 1 Axes>"
      ]
     },
     "metadata": {},
     "output_type": "display_data"
    }
   ],
   "source": [
    "embeds.calc_global_embeddings(\"what is the damage done by a hurricane?\", embeddings, retriever, global_embeddings)"
   ]
  },
  {
   "cell_type": "code",
   "execution_count": 31,
   "id": "b8bd261b-d546-46af-a89e-70fe3a012108",
   "metadata": {},
   "outputs": [
    {
     "name": "stderr",
     "output_type": "stream",
     "text": [
      "100%|████████████████████████████████████████████████████████████████████████████████████| 1/1 [00:02<00:00,  2.06s/it]\n",
      "100%|████████████████████████████████████████████████████████████████████████████████████| 6/6 [00:13<00:00,  2.18s/it]\n"
     ]
    },
    {
     "data": {
      "image/png": "[encoded data removed]",
      "text/plain": [
       "<Figure size 640x480 with 1 Axes>"
      ]
     },
     "metadata": {},
     "output_type": "display_data"
    }
   ],
   "source": [
    "embeds.calc_global_embeddings(\"what color associates with a company?\", embeddings, retriever, global_embeddings)"
   ]
  },
  {
   "cell_type": "code",
   "execution_count": 51,
   "id": "e6bacfdf-0067-4bf5-b178-2b9ba433eda7",
   "metadata": {},
   "outputs": [],
   "source": [
    "from langchain.chains import LLMChain\n",
    "from langchain_core.output_parsers import StrOutputParser\n",
    "from langchain.prompts import ChatPromptTemplate\n",
    "from pydantic import BaseModel, Field"
   ]
  },
  {
   "cell_type": "code",
   "execution_count": 63,
   "id": "4282c52f-9e9a-48e1-9954-4e4e44843d38",
   "metadata": {},
   "outputs": [],
   "source": [
    "prompt_template= \"Generate five different versions of the same given question. Do not give any explainations. Just straight to the point. \\nQuery: {query}\"\n",
    "prompt= ChatPromptTemplate.from_template(prompt_template)\n",
    "\n",
    "chain= prompt | llm | StrOutputParser()\n",
    "result= chain.invoke({\"query\": \"what color associates with a company?\"})"
   ]
  },
  {
   "cell_type": "code",
   "execution_count": 64,
   "id": "3faa7554-50e8-411c-abe7-12f1753646a5",
   "metadata": {},
   "outputs": [
    {
     "data": {
      "text/plain": [
       "\"1. What color represents a company?\\n2. What color embodies a company's identity?\\n3. What color signifies a company's brand?\\n4. What color do people associate with a company?\\n5. What is a company's color? \\n\""
      ]
     },
     "execution_count": 64,
     "metadata": {},
     "output_type": "execute_result"
    }
   ],
   "source": [
    "result"
   ]
  },
  {
   "cell_type": "code",
   "execution_count": null,
   "id": "322ac711-3516-4988-9dd2-1c522e951467",
   "metadata": {},
   "outputs": [],
   "source": [
    "result= result.split(\"\\n\")"
   ]
  },
  {
   "cell_type": "code",
   "execution_count": 73,
   "id": "195953cc-8556-4c46-a1a3-b34520b34981",
   "metadata": {},
   "outputs": [],
   "source": [
    "result= result[:-1]"
   ]
  },
  {
   "cell_type": "code",
   "execution_count": 75,
   "id": "ac758fd2-3b81-4e78-b09f-cbb17863747e",
   "metadata": {},
   "outputs": [
    {
     "data": {
      "text/plain": [
       "['1. What color represents a company?',\n",
       " \"2. What color embodies a company's identity?\",\n",
       " \"3. What color signifies a company's brand?\",\n",
       " '4. What color do people associate with a company?',\n",
       " \"5. What is a company's color? \"]"
      ]
     },
     "execution_count": 75,
     "metadata": {},
     "output_type": "execute_result"
    }
   ],
   "source": [
    "result"
   ]
  },
  {
   "cell_type": "code",
   "execution_count": 79,
   "id": "2ffaead7-954b-4eb9-b154-2b705f88026b",
   "metadata": {},
   "outputs": [],
   "source": [
    "query= \"what color associates with a company?\"\n",
    "docs= [retriever.get_relevant_documents(query) for query in result]"
   ]
  },
  {
   "cell_type": "code",
   "execution_count": 105,
   "id": "78709e06-83d4-49e1-acd0-0ad635e25913",
   "metadata": {},
   "outputs": [
    {
     "name": "stdout",
     "output_type": "stream",
     "text": [
      "30\n"
     ]
    }
   ],
   "source": [
    "count=0\n",
    "for i in docs:\n",
    "    for j in i:\n",
    "        count+=1\n",
    "print(count)   #top k (6), for 5 questions"
   ]
  },
  {
   "cell_type": "code",
   "execution_count": 91,
   "id": "b52e88f2-0b05-48e8-b97a-e6082d3da6bc",
   "metadata": {},
   "outputs": [
    {
     "data": {
      "text/plain": [
       "[[Document(page_content='Colors and their meanings:', metadata={'source': 'color-psychology.txt'}),\n",
       "  Document(page_content='Then, there is blue. The color blue itself is often used for companies, businesses, or designs', metadata={'source': 'color-psychology.txt'}),\n",
       "  Document(page_content='1. Black', metadata={'source': 'color-psychology.txt'}),\n",
       "  Document(page_content='a complement to the design or a balance between dark and bright colors.', metadata={'source': 'color-psychology.txt'}),\n",
       "  Document(page_content='depending on what they are used for. So, what are the meanings of the colors that we often', metadata={'source': 'color-psychology.txt'}),\n",
       "  Document(page_content='the combination of colors must of course suit the user.', metadata={'source': 'color-psychology.txt'})],\n",
       " [Document(page_content='This proves how influential a color is on a personâ€™s perception of something. Of course, knowing', metadata={'source': 'color-psychology.txt'}),\n",
       "  Document(page_content='Colors and their meanings:', metadata={'source': 'color-psychology.txt'}),\n",
       "  Document(page_content='Then, there is blue. The color blue itself is often used for companies, businesses, or designs', metadata={'source': 'color-psychology.txt'}),\n",
       "  Document(page_content='a complement to the design or a balance between dark and bright colors.', metadata={'source': 'color-psychology.txt'}),\n",
       "  Document(page_content='Color psychology is also often used for marketing purposes. In the world of marketing, of course', metadata={'source': 'color-psychology.txt'}),\n",
       "  Document(page_content='Each color certainly has its own meaning and significance, even white and black also have their own', metadata={'source': 'color-psychology.txt'})],\n",
       " [Document(page_content='Colors and their meanings:', metadata={'source': 'color-psychology.txt'}),\n",
       "  Document(page_content='Then, there is blue. The color blue itself is often used for companies, businesses, or designs', metadata={'source': 'color-psychology.txt'}),\n",
       "  Document(page_content='3. Red', metadata={'source': 'color-psychology.txt'}),\n",
       "  Document(page_content='the combination of colors must of course suit the user.', metadata={'source': 'color-psychology.txt'}),\n",
       "  Document(page_content='a complement to the design or a balance between dark and bright colors.', metadata={'source': 'color-psychology.txt'}),\n",
       "  Document(page_content='depending on what they are used for. So, what are the meanings of the colors that we often', metadata={'source': 'color-psychology.txt'})],\n",
       " [Document(page_content='Color Psychology â€” as previously discussed, the world of graphic design and color theory are', metadata={'source': 'color-psychology.txt'}),\n",
       "  Document(page_content='Colors and their meanings:', metadata={'source': 'color-psychology.txt'}),\n",
       "  Document(page_content='Then, there is blue. The color blue itself is often used for companies, businesses, or designs', metadata={'source': 'color-psychology.txt'}),\n",
       "  Document(page_content='Color psychology is also often used for marketing purposes. In the world of marketing, of course', metadata={'source': 'color-psychology.txt'}),\n",
       "  Document(page_content='How Color psychology works?', metadata={'source': 'color-psychology.txt'}),\n",
       "  Document(page_content='What is color psychology?', metadata={'source': 'color-psychology.txt'})],\n",
       " [Document(page_content='5. Blue', metadata={'source': 'color-psychology.txt'}),\n",
       "  Document(page_content='Then, there is blue. The color blue itself is often used for companies, businesses, or designs', metadata={'source': 'color-psychology.txt'}),\n",
       "  Document(page_content='this, such as black, gold, gray or dark green. Of course, the combination of basic colors and', metadata={'source': 'color-psychology.txt'}),\n",
       "  Document(page_content='Colors and their meanings:', metadata={'source': 'color-psychology.txt'}),\n",
       "  Document(page_content='the combination of colors must of course suit the user.', metadata={'source': 'color-psychology.txt'}),\n",
       "  Document(page_content='Color psychology is also often used for marketing purposes. In the world of marketing, of course', metadata={'source': 'color-psychology.txt'})]]"
      ]
     },
     "execution_count": 91,
     "metadata": {},
     "output_type": "execute_result"
    }
   ],
   "source": [
    "docs"
   ]
  },
  {
   "cell_type": "code",
   "execution_count": 93,
   "id": "1cbf221c-0868-43c4-9134-f3d08ada378a",
   "metadata": {},
   "outputs": [],
   "source": [
    "uniq_docs= set()\n",
    "for i in docs:\n",
    "    for j in i:\n",
    "        uniq_docs.add(j.page_content)"
   ]
  },
  {
   "cell_type": "code",
   "execution_count": 95,
   "id": "a257d916-3a97-4d39-b316-49a853bd06ea",
   "metadata": {},
   "outputs": [
    {
     "data": {
      "text/plain": [
       "15"
      ]
     },
     "execution_count": 95,
     "metadata": {},
     "output_type": "execute_result"
    }
   ],
   "source": [
    "len(uniq_docs)"
   ]
  },
  {
   "cell_type": "code",
   "execution_count": 107,
   "id": "0d393b8e-55b0-46bd-aed5-128d0018d1f0",
   "metadata": {},
   "outputs": [
    {
     "data": {
      "text/plain": [
       "{'1. Black',\n",
       " '3. Red',\n",
       " '5. Blue',\n",
       " 'Color Psychology â€” as previously discussed, the world of graphic design and color theory are',\n",
       " 'Color psychology is also often used for marketing purposes. In the world of marketing, of course',\n",
       " 'Colors and their meanings:',\n",
       " 'Each color certainly has its own meaning and significance, even white and black also have their own',\n",
       " 'How Color psychology works?',\n",
       " 'Then, there is blue. The color blue itself is often used for companies, businesses, or designs',\n",
       " 'This proves how influential a color is on a personâ€™s perception of something. Of course, knowing',\n",
       " 'What is color psychology?',\n",
       " 'a complement to the design or a balance between dark and bright colors.',\n",
       " 'depending on what they are used for. So, what are the meanings of the colors that we often',\n",
       " 'the combination of colors must of course suit the user.',\n",
       " 'this, such as black, gold, gray or dark green. Of course, the combination of basic colors and'}"
      ]
     },
     "execution_count": 107,
     "metadata": {},
     "output_type": "execute_result"
    }
   ],
   "source": [
    "uniq_docs"
   ]
  },
  {
   "cell_type": "code",
   "execution_count": 111,
   "id": "98708818-3660-4b47-aef5-3b2ec8a3402f",
   "metadata": {},
   "outputs": [],
   "source": [
    "from sentence_transformers import CrossEncoder\n",
    "cross_encoder= CrossEncoder(\"cross-encoder/ms-marco-MiniLM-L-6-v2\")\n",
    "\n",
    "pairs= []\n",
    "for doc in uniq_docs:\n",
    "    pairs.append([query, doc])\n",
    "\n",
    "scores= cross_encoder.predict(pairs)"
   ]
  },
  {
   "cell_type": "code",
   "execution_count": 113,
   "id": "68569754-d78a-459a-82e2-1a8a3db723f0",
   "metadata": {},
   "outputs": [
    {
     "data": {
      "text/plain": [
       "[(0.48739782,\n",
       "  'Then, there is blue. The color blue itself is often used for companies, businesses, or designs'),\n",
       " (-1.4796442, '3. Red'),\n",
       " (-1.5310198, '5. Blue'),\n",
       " (-2.3795652, '1. Black'),\n",
       " (-3.809833,\n",
       "  'this, such as black, gold, gray or dark green. Of course, the combination of basic colors and'),\n",
       " (-6.018729,\n",
       "  'a complement to the design or a balance between dark and bright colors.'),\n",
       " (-6.1652775,\n",
       "  'Each color certainly has its own meaning and significance, even white and black also have their own'),\n",
       " (-7.3876233,\n",
       "  'Color psychology is also often used for marketing purposes. In the world of marketing, of course'),\n",
       " (-8.301504, 'What is color psychology?'),\n",
       " (-8.383129, 'the combination of colors must of course suit the user.'),\n",
       " (-8.705719, 'Colors and their meanings:'),\n",
       " (-8.919555,\n",
       "  'depending on what they are used for. So, what are the meanings of the colors that we often'),\n",
       " (-9.026719,\n",
       "  'Color Psychology â€” as previously discussed, the world of graphic design and color theory are'),\n",
       " (-9.524346, 'How Color psychology works?'),\n",
       " (-9.787386,\n",
       "  'This proves how influential a color is on a personâ€™s perception of something. Of course, knowing')]"
      ]
     },
     "execution_count": 113,
     "metadata": {},
     "output_type": "execute_result"
    }
   ],
   "source": [
    "scored_docs= zip(scores, uniq_docs)\n",
    "scored_docs= sorted(scored_docs, reverse= True)\n",
    "scored_docs"
   ]
  },
  {
   "cell_type": "code",
   "execution_count": 115,
   "id": "00498ee8-20d2-4344-9596-654bfcd92a6c",
   "metadata": {},
   "outputs": [],
   "source": [
    "reranked_docs= [doc for _, doc in scored_docs][:5] #top 5"
   ]
  },
  {
   "cell_type": "code",
   "execution_count": 120,
   "id": "9004356d-889b-43ec-a56b-7f9bc0f7a02f",
   "metadata": {},
   "outputs": [
    {
     "data": {
      "text/plain": [
       "['Then, there is blue. The color blue itself is often used for companies, businesses, or designs',\n",
       " '3. Red',\n",
       " '5. Blue',\n",
       " '1. Black',\n",
       " 'this, such as black, gold, gray or dark green. Of course, the combination of basic colors and']"
      ]
     },
     "execution_count": 120,
     "metadata": {},
     "output_type": "execute_result"
    }
   ],
   "source": [
    "reranked_docs #these are the required documents."
   ]
  },
  {
   "cell_type": "markdown",
   "id": "0eedc557-e8fb-49f9-a846-c56472b97b41",
   "metadata": {},
   "source": [
    "Lost in the middle problem:<br>\n",
    "llms provide better accuracy when the important content is located at either the first or at the last. it doesnt perform well when it is in the middle."
   ]
  },
  {
   "cell_type": "code",
   "execution_count": 123,
   "id": "ed712d3f-c037-4c05-96d6-0fb30773e505",
   "metadata": {},
   "outputs": [
    {
     "data": {
      "text/plain": [
       "['Then, there is blue. The color blue itself is often used for companies, businesses, or designs',\n",
       " '5. Blue',\n",
       " 'this, such as black, gold, gray or dark green. Of course, the combination of basic colors and',\n",
       " '1. Black',\n",
       " '3. Red']"
      ]
     },
     "execution_count": 123,
     "metadata": {},
     "output_type": "execute_result"
    }
   ],
   "source": [
    "from langchain_community.document_transformers import LongContextReorder\n",
    "\n",
    "reordering= LongContextReorder()\n",
    "reordered_docs= reordering.transform_documents(reranked_docs)\n",
    "reordered_docs"
   ]
  },
  {
   "cell_type": "markdown",
   "id": "5e23b0db-f018-483d-b216-e3cbe898661e",
   "metadata": {},
   "source": [
    "## 10. RAPTOR"
   ]
  },
  {
   "cell_type": "markdown",
   "id": "66578622-fd5a-43ec-adcb-e663a0b4f753",
   "metadata": {},
   "source": [
    "**R**ecursive **A**bstractive **P**rocessing for **T**ree- **O**rganized **R**etrieval"
   ]
  },
  {
   "cell_type": "markdown",
   "id": "0a3124bd-7731-4cc5-9ca8-96c9dbd6db7c",
   "metadata": {},
   "source": [
    "Idea: Repeated clustering and summarizing chunks"
   ]
  },
  {
   "cell_type": "code",
   "execution_count": 19,
   "id": "abafb15d-c13c-471c-8dd7-b6f8c4ecc388",
   "metadata": {},
   "outputs": [
    {
     "name": "stdout",
     "output_type": "stream",
     "text": [
      "Num tokens in all context: 3725\n"
     ]
    }
   ],
   "source": [
    "#check no of tokens in all the documents (to see if it fits in the context window of the model\n",
    "\n",
    "import tiktoken\n",
    "\n",
    "def num_tokens_from_string(string: str) -> int:\n",
    "    \"\"\"Returns the number of tokens in a text string.\"\"\"\n",
    "    encoding = tiktoken.get_encoding(\"cl100k_base\")\n",
    "    num_tokens = len(encoding.encode(string))\n",
    "    return num_tokens\n",
    "\n",
    "d_sorted = sorted(data, key=lambda x: x.metadata[\"source\"])\n",
    "d_reversed = list(reversed(d_sorted))\n",
    "concatenated_content = \"\\n\\n\\n --- \\n\\n\\n\".join(\n",
    "    [doc.page_content for doc in d_reversed]\n",
    ")\n",
    "print(\n",
    "    \"Num tokens in all context: %s\"\n",
    "    % num_tokens_from_string(concatenated_content)\n",
    ")"
   ]
  },
  {
   "cell_type": "code",
   "execution_count": null,
   "id": "21bd9104-2b3c-4b76-bc17-c81dd234aefd",
   "metadata": {},
   "outputs": [],
   "source": []
  }
 ],
 "metadata": {
  "kernelspec": {
   "display_name": "Python 3 (ipykernel)",
   "language": "python",
   "name": "python3"
  },
  "language_info": {
   "codemirror_mode": {
    "name": "ipython",
    "version": 3
   },
   "file_extension": ".py",
   "mimetype": "text/x-python",
   "name": "python",
   "nbconvert_exporter": "python",
   "pygments_lexer": "ipython3",
   "version": "3.11.7"
  }
 },
 "nbformat": 4,
 "nbformat_minor": 5
}
