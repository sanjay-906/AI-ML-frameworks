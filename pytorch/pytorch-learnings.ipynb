{
 "cells": [
  {
   "cell_type": "markdown",
   "id": "cbed1325-1512-46a9-bc50-39fe6b59c9d7",
   "metadata": {},
   "source": [
    "# PyTorch learnings"
   ]
  },
  {
   "cell_type": "markdown",
   "id": "33dc6ec7-ddfa-46c8-aaa2-b995bd7b9976",
   "metadata": {},
   "source": [
    "# Tensors"
   ]
  },
  {
   "cell_type": "markdown",
   "id": "73549afc-d2c3-46cb-9374-53d0d8bc3d0a",
   "metadata": {},
   "source": [
    "* Tensors are the core data structure in Pytorch and many other deep learning frameworks\n",
    "* They are like arrays(n dimensional), except they can be used on hardware accelerators like Gpus\n",
    "* Tensors are generalization of numbers(0 dim tensor), vectors(1 dim tensor), matrices(2 dim tensor) in multi dimension\n",
    "* Tensors are vital in almost all domains of ML and DL. Neural network takes tensors as input and produce tensors as output. Even the parameters of a neural network, the weights and biases, are saved as tensors"
   ]
  },
  {
   "cell_type": "code",
   "execution_count": 1,
   "id": "fb94722d-fa92-412a-9641-75633be7b446",
   "metadata": {},
   "outputs": [],
   "source": [
    "import torch"
   ]
  },
  {
   "cell_type": "code",
   "execution_count": 7,
   "id": "729b4a48-cdce-4937-bb10-74220750b416",
   "metadata": {},
   "outputs": [
    {
     "name": "stdout",
     "output_type": "stream",
     "text": [
      "tensor([[1, 2, 3],\n",
      "        [4, 5, 6]])\n"
     ]
    }
   ],
   "source": [
    "data = [[1,2,3], [4,5,6]]\n",
    "tensor_example = torch.tensor(data)\n",
    "print(tensor_example)"
   ]
  },
  {
   "cell_type": "code",
   "execution_count": 9,
   "id": "5f528da9-694f-4419-be31-66f17f6c00ba",
   "metadata": {},
   "outputs": [
    {
     "data": {
      "text/plain": [
       "torch.Size([2, 3])"
      ]
     },
     "execution_count": 9,
     "metadata": {},
     "output_type": "execute_result"
    }
   ],
   "source": [
    "tensor_example.shape"
   ]
  },
  {
   "cell_type": "code",
   "execution_count": 11,
   "id": "db0c6454-5cf2-471d-8e01-7940ae7e843c",
   "metadata": {},
   "outputs": [
    {
     "data": {
      "text/plain": [
       "torch.int64"
      ]
     },
     "execution_count": 11,
     "metadata": {},
     "output_type": "execute_result"
    }
   ],
   "source": [
    "tensor_example.dtype"
   ]
  },
  {
   "cell_type": "markdown",
   "id": "0ea4683e-b462-4107-9d09-68d0f8c0f2e4",
   "metadata": {},
   "source": [
    "# Tensor Operations"
   ]
  },
  {
   "cell_type": "markdown",
   "id": "f1b18419-8541-4a02-99a3-c033fdddddd4",
   "metadata": {},
   "source": [
    "* Tensor operations include arithmetical operations\n",
    "* We can also perform operations between a scalar and a tensor, or  between tensors of different shapes, using a technique called Broadcasting"
   ]
  },
  {
   "cell_type": "code",
   "execution_count": 15,
   "id": "9c0fea6d-414f-429d-9ba4-f9b75b0e8539",
   "metadata": {},
   "outputs": [],
   "source": [
    "tensor1 = torch.tensor([[1, 2], [3, 4]], dtype=torch.int32)\n",
    "tensor2 = torch.tensor([[5, 6], [7, 8]], dtype=torch.int32)"
   ]
  },
  {
   "cell_type": "code",
   "execution_count": 19,
   "id": "2e09686c-0470-44a1-916d-b050e74c21f1",
   "metadata": {},
   "outputs": [
    {
     "data": {
      "text/plain": [
       "tensor([[ 6,  8],\n",
       "        [10, 12]], dtype=torch.int32)"
      ]
     },
     "execution_count": 19,
     "metadata": {},
     "output_type": "execute_result"
    }
   ],
   "source": [
    "sum = torch.add(tensor1, tensor2)\n",
    "sum"
   ]
  },
  {
   "cell_type": "code",
   "execution_count": 21,
   "id": "960a4f48-e413-422d-b081-9b35724a9503",
   "metadata": {},
   "outputs": [
    {
     "data": {
      "text/plain": [
       "tensor([[ 6,  8],\n",
       "        [10, 12]], dtype=torch.int32)"
      ]
     },
     "execution_count": 21,
     "metadata": {},
     "output_type": "execute_result"
    }
   ],
   "source": [
    "tensor1 + tensor2"
   ]
  },
  {
   "cell_type": "code",
   "execution_count": 23,
   "id": "14cf09a1-ce65-4c4d-b9b1-1f67c19544f0",
   "metadata": {},
   "outputs": [
    {
     "data": {
      "text/plain": [
       "tensor([[ 5, 12],\n",
       "        [21, 32]], dtype=torch.int32)"
      ]
     },
     "execution_count": 23,
     "metadata": {},
     "output_type": "execute_result"
    }
   ],
   "source": [
    "prod = tensor2 * tensor1\n",
    "prod"
   ]
  },
  {
   "cell_type": "code",
   "execution_count": 25,
   "id": "f58d8d3e-4fc7-4d43-810d-7d6ae482478d",
   "metadata": {},
   "outputs": [
    {
     "data": {
      "text/plain": [
       "tensor([[ 5, 12],\n",
       "        [21, 32]], dtype=torch.int32)"
      ]
     },
     "execution_count": 25,
     "metadata": {},
     "output_type": "execute_result"
    }
   ],
   "source": [
    "prod = torch.mul(tensor1, tensor2)\n",
    "prod"
   ]
  },
  {
   "cell_type": "code",
   "execution_count": 27,
   "id": "80ecbec9-430f-499e-9d48-ef669e4f0061",
   "metadata": {},
   "outputs": [],
   "source": [
    "matmul = torch.matmul(tensor1, tensor2)"
   ]
  },
  {
   "cell_type": "code",
   "execution_count": 29,
   "id": "c900c9c7-cad7-42ba-bf3b-b0bf08acc0d4",
   "metadata": {},
   "outputs": [
    {
     "data": {
      "text/plain": [
       "tensor([[19, 22],\n",
       "        [43, 50]], dtype=torch.int32)"
      ]
     },
     "execution_count": 29,
     "metadata": {},
     "output_type": "execute_result"
    }
   ],
   "source": [
    "matmul"
   ]
  },
  {
   "cell_type": "code",
   "execution_count": 43,
   "id": "284ae58d-b711-43bd-9050-cb2c6b786e9d",
   "metadata": {},
   "outputs": [
    {
     "data": {
      "text/plain": [
       "tensor([[ 5],\n",
       "        [11]], dtype=torch.int32)"
      ]
     },
     "execution_count": 43,
     "metadata": {},
     "output_type": "execute_result"
    }
   ],
   "source": [
    "tensor3= torch.tensor([[1], [2]], dtype=torch.int32)\n",
    "torch.matmul(tensor1, tensor3)"
   ]
  },
  {
   "cell_type": "markdown",
   "id": "30e7d949-26d2-4b18-83e5-f6090fceb1ec",
   "metadata": {},
   "source": [
    "# Tensor Broadcasting"
   ]
  },
  {
   "cell_type": "markdown",
   "id": "2869670c-61e6-4523-b388-60a3970c14a8",
   "metadata": {},
   "source": [
    "* Broadcasting is a technique that allows PyTorch to perform operations on tensors of different shapes.\n",
    "* It essentially extends the smaller tensor to match the shape of the larger tensor so that operations can be performed element-wise"
   ]
  },
  {
   "cell_type": "markdown",
   "id": "a8c5e590-bca8-4a49-8005-c6fe31fe4cdc",
   "metadata": {},
   "source": [
    "```python\n",
    "tensor1 = torch.tensor(\n",
    "    [[1, 2],\n",
    "     [3, 4]], dtype=torch.int32)\n",
    "```"
   ]
  },
  {
   "cell_type": "markdown",
   "id": "cb90988e-6b8d-46de-99a0-572e3c8f2bd1",
   "metadata": {},
   "source": [
    "```python\n",
    "tensor3 = torch.tensor(\n",
    "    [[1],\n",
    "     [2]], dtype=torch.int32)\n",
    "```"
   ]
  },
  {
   "cell_type": "code",
   "execution_count": 51,
   "id": "5e4f83da-152b-4f0a-b4f4-75305c5d057a",
   "metadata": {},
   "outputs": [
    {
     "data": {
      "text/plain": [
       "tensor([[11, 12],\n",
       "        [13, 14]], dtype=torch.int32)"
      ]
     },
     "execution_count": 51,
     "metadata": {},
     "output_type": "execute_result"
    }
   ],
   "source": [
    "tensor1 + 10"
   ]
  },
  {
   "cell_type": "code",
   "execution_count": 53,
   "id": "8f3e64fa-5d89-44db-91bc-5b31bfc159db",
   "metadata": {},
   "outputs": [
    {
     "data": {
      "text/plain": [
       "tensor([[2, 3],\n",
       "        [5, 6]], dtype=torch.int32)"
      ]
     },
     "execution_count": 53,
     "metadata": {},
     "output_type": "execute_result"
    }
   ],
   "source": [
    "tensor1 + tensor3"
   ]
  },
  {
   "cell_type": "code",
   "execution_count": 55,
   "id": "33e166d6-5ebb-4356-becd-cae4850c185d",
   "metadata": {},
   "outputs": [
    {
     "data": {
      "text/plain": [
       "tensor([[1, 2],\n",
       "        [6, 8]], dtype=torch.int32)"
      ]
     },
     "execution_count": 55,
     "metadata": {},
     "output_type": "execute_result"
    }
   ],
   "source": [
    "tensor1 * tensor3"
   ]
  },
  {
   "cell_type": "markdown",
   "id": "82a9aa7e-26ad-4163-8f3a-4120cacd395e",
   "metadata": {},
   "source": [
    "# Reshaping tensors"
   ]
  },
  {
   "cell_type": "markdown",
   "id": "38581bc5-938d-4a64-9a8f-a0e39e67e302",
   "metadata": {},
   "source": [
    "* Reshaping means changing the tensors dimensions without altering the underlying data\n",
    "* Reshaping is necessary to match the input/output shapes of the data with the layers shapes of neural network"
   ]
  },
  {
   "cell_type": "markdown",
   "id": "ab0cce9f-3f44-45eb-8773-2d4dde00a2a9",
   "metadata": {},
   "source": [
    "`view()` method allows you to return a new tensor with the same data but a different shape."
   ]
  },
  {
   "cell_type": "code",
   "execution_count": 7,
   "id": "76b329ec-3e7b-459b-9001-8076b3bccc91",
   "metadata": {},
   "outputs": [
    {
     "data": {
      "text/plain": [
       "torch.Size([2, 3])"
      ]
     },
     "execution_count": 7,
     "metadata": {},
     "output_type": "execute_result"
    }
   ],
   "source": [
    "tensor_a = torch.tensor([[1,2,3], [4,5,6]])\n",
    "tensor_a.shape"
   ]
  },
  {
   "cell_type": "code",
   "execution_count": 11,
   "id": "94a97bf9-8d49-4a08-a783-789ed264a3fa",
   "metadata": {},
   "outputs": [
    {
     "data": {
      "text/plain": [
       "tensor([[1, 2],\n",
       "        [3, 4],\n",
       "        [5, 6]])"
      ]
     },
     "execution_count": 11,
     "metadata": {},
     "output_type": "execute_result"
    }
   ],
   "source": [
    "new_ten = tensor_a.view(3,2)\n",
    "new_ten"
   ]
  },
  {
   "cell_type": "markdown",
   "id": "3b6e888c-2781-43d3-8589-af103f5cb00b",
   "metadata": {},
   "source": [
    "* to flatten a tensor, use -1 in argument so it will convert the n dim tensor into 1 dim "
   ]
  },
  {
   "cell_type": "code",
   "execution_count": 14,
   "id": "2e3e461e-246c-44f5-92bf-b7d8eb7a11c3",
   "metadata": {},
   "outputs": [
    {
     "data": {
      "text/plain": [
       "tensor([1, 2, 3, 4, 5, 6])"
      ]
     },
     "execution_count": 14,
     "metadata": {},
     "output_type": "execute_result"
    }
   ],
   "source": [
    "flat = tensor_a.view(-1)\n",
    "flat"
   ]
  },
  {
   "cell_type": "markdown",
   "id": "beab71b2-f7da-4e0f-8527-f29d9aadb8bb",
   "metadata": {},
   "source": [
    "# Creating a dataset"
   ]
  },
  {
   "cell_type": "markdown",
   "id": "386a2622-32b5-424f-8ba4-75e3bdfe4e16",
   "metadata": {},
   "source": [
    "* Pytorh's primary unit of data storage is a tensor.\n",
    "* A `TensorDataset` is a dataset that wraps multiple tensors\n",
    "* Each sample is a tuple of tensors where each tensor in the tuple corresponds to a level of the dataset.\n",
    "* It is not always necessary to use `TensorDataset`, it can be very convenient especially if you want to use a `DataLoader` for batching and shuffling your data"
   ]
  },
  {
   "cell_type": "code",
   "execution_count": 9,
   "id": "aea389b4-ff3b-4872-9196-d95b2ab11df5",
   "metadata": {},
   "outputs": [],
   "source": [
    "import numpy as np\n",
    "X = np.array([[1.0, 2.0], [2.0, 1.0], [3.0, 4.0], [4.0, 3.0]])\n",
    "y = np.array([0, 1, 0, 1])"
   ]
  },
  {
   "cell_type": "code",
   "execution_count": 11,
   "id": "bbf81688-7b2c-4ea4-bfd8-e6819c75e6d8",
   "metadata": {},
   "outputs": [],
   "source": [
    "X_tensor = torch.tensor(X, dtype=torch.float32)\n",
    "y_tensor = torch.tensor(y, dtype=torch.int32)"
   ]
  },
  {
   "cell_type": "code",
   "execution_count": 13,
   "id": "1e52e21e-2e5b-4001-aebe-92afe48b7d9c",
   "metadata": {},
   "outputs": [],
   "source": [
    "from torch.utils.data import TensorDataset\n",
    "\n",
    "dataset = TensorDataset(X_tensor, y_tensor)"
   ]
  },
  {
   "cell_type": "code",
   "execution_count": 15,
   "id": "3bb6461a-cadd-40f9-be52-06528b692145",
   "metadata": {},
   "outputs": [
    {
     "name": "stdout",
     "output_type": "stream",
     "text": [
      "X[0]: tensor([1., 2.]), y[0]: 0\n",
      "X[1]: tensor([2., 1.]), y[1]: 1\n",
      "X[2]: tensor([3., 4.]), y[2]: 0\n",
      "X[3]: tensor([4., 3.]), y[3]: 1\n"
     ]
    }
   ],
   "source": [
    "for i in range(len(dataset)):\n",
    "    X_sample, y_sample = dataset[i]\n",
    "    print(f\"X[{i}]: {X_sample}, y[{i}]: {y_sample}\")"
   ]
  },
  {
   "cell_type": "markdown",
   "id": "9a2cb407-1bde-4c13-909b-73ffbd31599b",
   "metadata": {},
   "source": [
    "# Implementing DataLoader"
   ]
  },
  {
   "cell_type": "markdown",
   "id": "9a6dddaf-9cfa-427c-933c-1c94baa84e3a",
   "metadata": {},
   "source": [
    "* DataLoader takes in a dataset and other parameters like `batch_size`, which defines the number of samples to work with per batch, and `shuffle`, which indicates to shuffle the data every epoch if set to True"
   ]
  },
  {
   "cell_type": "code",
   "execution_count": 19,
   "id": "33fa37fa-2bc6-403f-a5cb-7e8ac2d4dfc3",
   "metadata": {},
   "outputs": [],
   "source": [
    "from torch.utils.data import DataLoader\n",
    "dataloader = DataLoader(dataset, batch_size=2, shuffle=True)"
   ]
  },
  {
   "cell_type": "code",
   "execution_count": 25,
   "id": "60d71278-c9c6-488e-8162-b8936d7410d0",
   "metadata": {},
   "outputs": [
    {
     "name": "stdout",
     "output_type": "stream",
     "text": [
      "Batch X:\n",
      "tensor([[1., 2.],\n",
      "        [4., 3.]])\n",
      "Batch y:\n",
      "tensor([0, 1], dtype=torch.int32)\n",
      "\n",
      "Batch X:\n",
      "tensor([[2., 1.],\n",
      "        [3., 4.]])\n",
      "Batch y:\n",
      "tensor([1, 0], dtype=torch.int32)\n",
      "\n"
     ]
    }
   ],
   "source": [
    "for batch_X, batch_y in dataloader:\n",
    "    print(f\"Batch X:\\n{batch_X}\")\n",
    "    print(f\"Batch y:\\n{batch_y}\\n\")"
   ]
  },
  {
   "cell_type": "markdown",
   "id": "a5f18741-88be-4280-8c76-b0427a4a7684",
   "metadata": {},
   "source": [
    "# Layers of neural network"
   ]
  },
  {
   "cell_type": "markdown",
   "id": "c933b2da-7bfe-430d-8a2b-45cfe83b1eb7",
   "metadata": {},
   "source": [
    "* A layer in neural network refers to a collection of neurons (nodes) operating together at the same depth level\n",
    "* A linear layer performs a linear transformation on its input data\n",
    "  * Formula: `y = Wx + b`\n",
    "    * `y` is output vector\n",
    "    * `W` is weight matrix (Scales the vector)\n",
    "    * `x` is input vector\n",
    "    * `b` is bias vector (shifts the vector)"
   ]
  },
  {
   "cell_type": "code",
   "execution_count": 13,
   "id": "284a8326-acd2-4f5a-b298-54d85d5f8ee3",
   "metadata": {},
   "outputs": [
    {
     "name": "stdout",
     "output_type": "stream",
     "text": [
      "Input tensor: tensor([[1., 2.]])\n",
      "Output tensor: tensor([[ 0.6681, -0.7588, -0.4721, -0.9576]], grad_fn=<AddmmBackward0>)\n"
     ]
    }
   ],
   "source": [
    "import torch\n",
    "import torch.nn as nn\n",
    "\n",
    "input_tensor = torch.tensor([[1.0, 2.0]], dtype=torch.float32)\n",
    "layer = nn.Linear(in_features=2, out_features=4) # input neurons, 4 output neurons\n",
    "output_tensor = layer(input_tensor)\n",
    "\n",
    "print(\"Input tensor:\", input_tensor)\n",
    "print(\"Output tensor:\", output_tensor)"
   ]
  },
  {
   "cell_type": "markdown",
   "id": "38dbfecf-66d2-4ccc-aa97-4a4c1a756e54",
   "metadata": {},
   "source": [
    "* An activation function introduce non-linearity into the model, enabling to handle complex patterns\n",
    "* Two commonly used activation functions are: ReLU (rectified linear unit), sigmoid\n",
    "  * ReLU: $$ f(x) = max(0, x) $$\n",
    "  * sigmoid: $$ f(x) = \\frac{1}{1+ e^{-x}} $$"
   ]
  },
  {
   "cell_type": "code",
   "execution_count": 23,
   "id": "c751b36f-76c0-4527-81f5-e721a084e04b",
   "metadata": {},
   "outputs": [
    {
     "name": "stdout",
     "output_type": "stream",
     "text": [
      "tensor([[0.6681, 0.0000, 0.0000, 0.0000]], grad_fn=<ReluBackward0>)\n"
     ]
    }
   ],
   "source": [
    "relu = nn.ReLU()\n",
    "activated_op_relu = relu(output_tensor)\n",
    "print(activated_op_relu)"
   ]
  },
  {
   "cell_type": "code",
   "execution_count": 25,
   "id": "66a3d5b4-c82a-4551-8cc4-f95ca8a412d1",
   "metadata": {},
   "outputs": [
    {
     "name": "stdout",
     "output_type": "stream",
     "text": [
      "tensor([[0.6611, 0.3189, 0.3841, 0.2774]], grad_fn=<SigmoidBackward0>)\n"
     ]
    }
   ],
   "source": [
    "sigmoid = nn.Sigmoid()\n",
    "activated_op_sig = sigmoid(output_tensor)\n",
    "print(activated_op_sig)"
   ]
  },
  {
   "cell_type": "markdown",
   "id": "c2576c77-aa5f-440f-89bb-8c6d3ec07c0f",
   "metadata": {},
   "source": [
    "# Neural network"
   ]
  },
  {
   "cell_type": "markdown",
   "id": "cbd6fbc6-8bd4-4a36-8160-37d580360809",
   "metadata": {},
   "source": [
    "* PyTorch's modules are encapsulated as Python classes and serve as building blocks for designing models.\n",
    "* Any model we create in PyTorch is a subclass of the `nn.Module`"
   ]
  },
  {
   "cell_type": "code",
   "execution_count": 3,
   "id": "78acac14-9e22-40a4-b8b2-3836ff946f80",
   "metadata": {},
   "outputs": [],
   "source": [
    "import torch\n",
    "import torch.nn as nn"
   ]
  },
  {
   "cell_type": "code",
   "execution_count": 5,
   "id": "2af7dda4-4b07-4998-a91f-9ab8c2a00da6",
   "metadata": {},
   "outputs": [],
   "source": [
    "class SimpleNN(nn.Module):\n",
    "    def __init__(self):\n",
    "        super(SimpleNN, self).__init__()\n",
    "        self.layer1 = nn.Linear(in_features=2, out_features=10)\n",
    "        self.relu = nn.ReLU()\n",
    "        self.layer2 = nn.Linear(in_features=10, out_features=1)\n",
    "        self.sigmoid = nn.Sigmoid()\n",
    "\n",
    "    def forward(self, x):\n",
    "        x = self.layer1(x)\n",
    "        x = self.relu(x)\n",
    "        x = self.layer2(x)\n",
    "        x = self.sigmoid(x)\n",
    "        return x"
   ]
  },
  {
   "cell_type": "markdown",
   "id": "ca5f637c-030d-4fa1-b8ec-24064d92ccba",
   "metadata": {},
   "source": [
    "* Input size of each layer must always match the output size of the preceding layer\n",
    "* In `forward()` method, we define how the input tensor `x` moves through the various layers and activation functions of the network"
   ]
  },
  {
   "cell_type": "code",
   "execution_count": 11,
   "id": "ca60c2d8-5ac5-4dfd-a634-fbb3ad301186",
   "metadata": {},
   "outputs": [
    {
     "name": "stdout",
     "output_type": "stream",
     "text": [
      "SimpleNN(\n",
      "  (layer1): Linear(in_features=2, out_features=10, bias=True)\n",
      "  (relu): ReLU()\n",
      "  (layer2): Linear(in_features=10, out_features=1, bias=True)\n",
      "  (sigmoid): Sigmoid()\n",
      ")\n"
     ]
    }
   ],
   "source": [
    "model = SimpleNN()\n",
    "print(model)"
   ]
  },
  {
   "cell_type": "markdown",
   "id": "b9ce80f4-a33a-4d4f-9834-c31b126142c1",
   "metadata": {},
   "source": [
    "# Sequential models"
   ]
  },
  {
   "cell_type": "markdown",
   "id": "4324449b-6655-42fb-9caf-d0c4fc4d9ba6",
   "metadata": {},
   "source": [
    "* A Sequential model, as the name suggests, allows us to build a model as a plain stack of layers - with each layer having one input tensor and one output tensor\n",
    "* Created using `nn.Sequential()` function.\n",
    "* It makes the building of models more comfortable, and the created models are shorter and more readable"
   ]
  },
  {
   "cell_type": "code",
   "execution_count": 5,
   "id": "8fe6138e-94d7-4e7f-981e-dc05837f1b86",
   "metadata": {},
   "outputs": [],
   "source": [
    "import torch.nn as nn\n",
    "\n",
    "model = nn.Sequential(\n",
    "    nn.Linear(2, 10),\n",
    "    nn.ReLU(),\n",
    "    nn.Linear(10, 1),\n",
    "    nn.Sigmoid()\n",
    ")"
   ]
  },
  {
   "cell_type": "code",
   "execution_count": 7,
   "id": "6a9208a3-07a4-43c9-98fb-4959ba79efd2",
   "metadata": {},
   "outputs": [
    {
     "name": "stdout",
     "output_type": "stream",
     "text": [
      "Sequential(\n",
      "  (0): Linear(in_features=2, out_features=10, bias=True)\n",
      "  (1): ReLU()\n",
      "  (2): Linear(in_features=10, out_features=1, bias=True)\n",
      "  (3): Sigmoid()\n",
      ")\n"
     ]
    }
   ],
   "source": [
    "print(model)"
   ]
  },
  {
   "cell_type": "markdown",
   "id": "0e153908-3f3b-4e16-a75c-027bdb30a72c",
   "metadata": {},
   "source": [
    "# Training a neural network"
   ]
  },
  {
   "cell_type": "markdown",
   "id": "90edb4af-9a31-442b-8ee0-d11d17466cc4",
   "metadata": {},
   "source": [
    "* Training a neural network is a process of learning the weight parameters that minimize the error on the training data\n",
    "* The process involves passing data through the model (forward propagation), computing the loss (predicted value - expected value), and then adjusting the weights using this loss (Back propagation)"
   ]
  },
  {
   "cell_type": "markdown",
   "id": "d7db57e4-5d04-4eef-88ef-29e91f74cc89",
   "metadata": {},
   "source": [
    "* At the core of supervised learning techniques, we need input data (features) and output data (target/labels)\n",
    "*  In our scenario, the input represents: \\[avg goals scored, avg goals conceded\\]. The output is binary, won (1) or lost (0)."
   ]
  },
  {
   "cell_type": "code",
   "execution_count": 2,
   "id": "9ad553e4-129f-4e6f-91ef-c461c64c8cf5",
   "metadata": {},
   "outputs": [],
   "source": [
    "import torch\n",
    "\n",
    "# Input features [Average Goals Scored, Average Goals Conceded by Opponent]\n",
    "X = torch.tensor([\n",
    "    [3.0, 0.5], [1.0, 1.0], [0.5, 2.0], [2.0, 1.5],\n",
    "    [3.5, 3.0], [2.0, 2.5], [1.5, 1.0], [0.5, 0.5],\n",
    "    [2.5, 0.8], [2.1, 2.0], [1.2, 0.5], [0.7, 1.5]\n",
    "], dtype=torch.float32)\n",
    "\n",
    "# Target outputs [1 if the team won, 0 otherwise]\n",
    "y = torch.tensor([[1], [0], [0], [1], [1], [0], [1], [0], [1], [0], [1], [0]], dtype=torch.float32)"
   ]
  },
  {
   "cell_type": "code",
   "execution_count": 5,
   "id": "7898170b-a4e4-41f8-a748-49f44b635c69",
   "metadata": {},
   "outputs": [],
   "source": [
    "import torch.nn as nn\n",
    "\n",
    "model = nn.Sequential(\n",
    "    nn.Linear(2, 10),\n",
    "    nn.ReLU(),\n",
    "    nn.Linear(10, 1),\n",
    "    nn.Sigmoid()\n",
    ")"
   ]
  },
  {
   "cell_type": "code",
   "execution_count": 6,
   "id": "807f1f5a-a164-4333-be8d-1f6f5c1ff23e",
   "metadata": {},
   "outputs": [],
   "source": [
    "import torch.optim as optim\n",
    "\n",
    "# loss function: Binary cross entropy\n",
    "criterion = nn.BCELoss()\n",
    "\n",
    "# optimizer: Adam\n",
    "optimizer = optim.Adam(model.parameters(), lr=0.1)"
   ]
  },
  {
   "cell_type": "markdown",
   "id": "47d99169-8913-4852-bb5c-e730df2d5e33",
   "metadata": {},
   "source": [
    "* Training in neural networks typically involves interatively passing data through our model, calculating the loss, and backpropagating the loss to update our model.\n",
    "* This is repeated for certain number of epochs.\n",
    "* An epoch is one complete pass through the entire training dataset"
   ]
  },
  {
   "cell_type": "code",
   "execution_count": 8,
   "id": "c0ef2039-0406-48af-895b-fe578e3ccb37",
   "metadata": {},
   "outputs": [
    {
     "name": "stdout",
     "output_type": "stream",
     "text": [
      "Epoch 10, Loss: 0.2934242784976959\n",
      "Epoch 20, Loss: 0.06583815068006516\n",
      "Epoch 30, Loss: 0.014907230623066425\n",
      "Epoch 40, Loss: 0.005229164380580187\n",
      "Epoch 50, Loss: 0.0028132807929068804\n"
     ]
    }
   ],
   "source": [
    "# train for 50 epochs\n",
    "for epoch in range(50):\n",
    "    # set the model in training mode\n",
    "    model.train()\n",
    "    # zero the gradients for this iteration; gradients accumulate by default in PyTorch\n",
    "    optimizer.zero_grad()\n",
    "    # foward pass: compute the results\n",
    "    outputs = model(X)\n",
    "    # compute the loss\n",
    "    loss = criterion(outputs, y)\n",
    "    # backward pass: compute the gradients of the loss\n",
    "    loss.backward()\n",
    "    # optimize the model parameters based on the gradients\n",
    "    optimizer.step()\n",
    "    # display progress every 10 epochs\n",
    "    if (epoch + 1)%10 == 0:\n",
    "        print(f\"Epoch {epoch + 1}, Loss: {loss.item()}\")"
   ]
  },
  {
   "cell_type": "markdown",
   "id": "21b4cf4b-014b-41c3-94d9-de1264faab62",
   "metadata": {},
   "source": [
    "# Making predictions"
   ]
  },
  {
   "cell_type": "markdown",
   "id": "85539b00-b3dc-4d85-bb14-f251e353a3ee",
   "metadata": {},
   "source": [
    "* The first crucial step after we have trained the model, is to switch it to eval mode\n",
    "* In training mode, `Dropout` is enabled (fraction of nodes are dropped), but now this time, it is disabled\n",
    "* In training mode, `Batch Normalization` uses the batch statistics (mean and variance) to perform normalization, but in eval mode, it uses the running statistics (accumlated during the training), rather than the statistics of the current batch"
   ]
  },
  {
   "cell_type": "code",
   "execution_count": 14,
   "id": "20e3f583-78d1-4e17-9983-7b464cf04d7a",
   "metadata": {},
   "outputs": [],
   "source": [
    "new_input = torch.tensor([[4.0, 5.0]], dtype=torch.float32)\n",
    "\n",
    "# switch to eval mode\n",
    "model.eval()\n",
    "\n",
    "# disable gradient calculation \n",
    "with torch.no_grad():\n",
    "    prediction = model(new_input)"
   ]
  },
  {
   "cell_type": "code",
   "execution_count": 16,
   "id": "974d2770-4877-4609-8f2b-e679b7737312",
   "metadata": {},
   "outputs": [
    {
     "data": {
      "text/plain": [
       "tensor([[2.0065e-11]])"
      ]
     },
     "execution_count": 16,
     "metadata": {},
     "output_type": "execute_result"
    }
   ],
   "source": [
    "prediction"
   ]
  },
  {
   "cell_type": "code",
   "execution_count": 18,
   "id": "0494628c-aa51-478d-9298-26319635bfb7",
   "metadata": {},
   "outputs": [
    {
     "data": {
      "text/plain": [
       "0"
      ]
     },
     "execution_count": 18,
     "metadata": {},
     "output_type": "execute_result"
    }
   ],
   "source": [
    "int((prediction > 0.5).item())"
   ]
  },
  {
   "cell_type": "code",
   "execution_count": 12,
   "id": "41e2a63b-6b73-4502-9dcc-244dd45f3ebf",
   "metadata": {},
   "outputs": [],
   "source": [
    "X_test = torch.tensor([[2.5, 1.0], [0.8, 0.8], [1.0, 2.0], [3.0, 2.5]], dtype=torch.float32)\n",
    "y_test = torch.tensor([[1], [0], [0], [1]], dtype=torch.float32)"
   ]
  },
  {
   "cell_type": "code",
   "execution_count": 18,
   "id": "cda202d1-136b-43c3-a147-dfe9cdfa3ed3",
   "metadata": {},
   "outputs": [],
   "source": [
    "from sklearn.metrics import accuracy_score, precision_score"
   ]
  },
  {
   "cell_type": "code",
   "execution_count": 20,
   "id": "c7aa6f3d-de62-4013-9c7c-c2c0eb7bf340",
   "metadata": {},
   "outputs": [
    {
     "name": "stdout",
     "output_type": "stream",
     "text": [
      "\n",
      "Test accuracy: 1.0\n",
      "Test loss: 0.0014120392734184861\n",
      "Test precision: 1.0\n"
     ]
    }
   ],
   "source": [
    "model.eval()\n",
    "with torch.no_grad():\n",
    "\n",
    "    outputs = model(X_test)\n",
    "\n",
    "    predicted_classes = (outputs > 0.5).int()\n",
    "\n",
    "    test_loss = criterion(outputs, y_test).item()\n",
    "\n",
    "    test_accuracy = accuracy_score(y_test.numpy(), predicted_classes.numpy())\n",
    "\n",
    "    test_precision = precision_score(y_test.numpy(), predicted_classes.numpy())\n",
    "\n",
    "print(f'\\nTest accuracy: {test_accuracy}\\nTest loss: {test_loss}\\nTest precision: {test_precision}')"
   ]
  },
  {
   "cell_type": "markdown",
   "id": "e16e00ce-9bf1-43d6-ac48-ab6f4c1938d0",
   "metadata": {},
   "source": [
    "# Preprocessing datasets"
   ]
  },
  {
   "cell_type": "code",
   "execution_count": 2,
   "id": "01e175b5-79f9-46f2-8fdf-8a2d6a6b55f2",
   "metadata": {},
   "outputs": [
    {
     "name": "stdout",
     "output_type": "stream",
     "text": [
      "Features: ['alcohol', 'malic_acid', 'ash', 'alcalinity_of_ash', 'magnesium', 'total_phenols', 'flavanoids', 'nonflavanoid_phenols', 'proanthocyanins', 'color_intensity', 'hue', 'od280/od315_of_diluted_wines', 'proline']\n",
      "Target classes: ['class_0' 'class_1' 'class_2']\n"
     ]
    }
   ],
   "source": [
    "from sklearn.datasets import load_wine\n",
    "\n",
    "wine = load_wine()\n",
    "\n",
    "print(\"Features:\", wine.feature_names)\n",
    "print(\"Target classes:\", wine.target_names)"
   ]
  },
  {
   "cell_type": "code",
   "execution_count": 3,
   "id": "bcd3fa81-1b33-4287-bdda-42aee74bd995",
   "metadata": {},
   "outputs": [
    {
     "name": "stdout",
     "output_type": "stream",
     "text": [
      "Shape of X_train: (124, 13)\n",
      "Shape of X_test: (54, 13)\n",
      "Shape of y_train: (124,)\n",
      "Shape of y_test: (54,)\n"
     ]
    }
   ],
   "source": [
    "from sklearn.model_selection import train_test_split\n",
    "\n",
    "X, y = wine.data, wine.target\n",
    "\n",
    "X_train, X_test, y_train, y_test = train_test_split(X, y, test_size=0.3, stratify=y)\n",
    "\n",
    "\n",
    "print(\"Shape of X_train:\", X_train.shape)\n",
    "print(\"Shape of X_test:\", X_test.shape)\n",
    "print(\"Shape of y_train:\", y_train.shape)\n",
    "print(\"Shape of y_test:\", y_test.shape)"
   ]
  },
  {
   "cell_type": "code",
   "execution_count": 4,
   "id": "30038c07-bd42-4a75-8b7b-36d144b8ba77",
   "metadata": {},
   "outputs": [
    {
     "name": "stdout",
     "output_type": "stream",
     "text": [
      "Unscaled X sample:\n",
      " [1.184e+01 2.890e+00 2.230e+00 1.800e+01 1.120e+02 1.720e+00 1.320e+00\n",
      " 4.300e-01 9.500e-01 2.650e+00 9.600e-01 2.520e+00 5.000e+02]\n",
      "Scaled X sample:\n",
      " [-1.48636784  0.52773635 -0.45157285 -0.43509941  0.7679684  -0.95710762\n",
      " -0.73671749  0.56401159 -1.09324412 -1.00759327  0.02200127 -0.13370673\n",
      " -0.77521339]\n"
     ]
    }
   ],
   "source": [
    "from sklearn.preprocessing import StandardScaler\n",
    "\n",
    "# This step fits the scaler to your training data, meaning it calculates the mean and standard deviation from X_train.\n",
    "scaler = StandardScaler().fit(X_train)\n",
    "\n",
    "X_train_scaled = scaler.transform(X_train)\n",
    "X_test_scaled = scaler.transform(X_test)\n",
    "\n",
    "print(\"Unscaled X sample:\\n\", X_train[0])\n",
    "print(\"Scaled X sample:\\n\", X_train_scaled[0])"
   ]
  },
  {
   "cell_type": "code",
   "execution_count": 5,
   "id": "a9847001-9c0f-40c9-be37-dd2fa54d1486",
   "metadata": {},
   "outputs": [],
   "source": [
    "import torch"
   ]
  },
  {
   "cell_type": "code",
   "execution_count": 6,
   "id": "a575c0f6-40ec-4c0d-b363-0e51da23f9bd",
   "metadata": {},
   "outputs": [
    {
     "name": "stdout",
     "output_type": "stream",
     "text": [
      "Sample of X_train_tensor: tensor([-1.4864,  0.5277, -0.4516, -0.4351,  0.7680, -0.9571, -0.7367,  0.5640,\n",
      "        -1.0932, -1.0076,  0.0220, -0.1337, -0.7752])\n",
      "Sample of y_train_tensor: tensor(1)\n"
     ]
    }
   ],
   "source": [
    "X_train_tensor = torch.tensor(X_train_scaled, dtype=torch.float32)\n",
    "X_test_tensor = torch.tensor(X_test_scaled, dtype=torch.float32)\n",
    "y_train_tensor = torch.tensor(y_train, dtype=torch.long)\n",
    "y_test_tensor = torch.tensor(y_test, dtype=torch.long)\n",
    "\n",
    "print(\"Sample of X_train_tensor:\", X_train_tensor[0])\n",
    "print(\"Sample of y_train_tensor:\", y_train_tensor[0])"
   ]
  },
  {
   "cell_type": "markdown",
   "id": "443cc862-545f-4f1f-9e26-3748a0b292af",
   "metadata": {},
   "source": [
    "# Building a multi-class classification model"
   ]
  },
  {
   "cell_type": "code",
   "execution_count": 7,
   "id": "78db3d3d-3410-44f2-a9dd-7f90a6516c1b",
   "metadata": {},
   "outputs": [
    {
     "name": "stdout",
     "output_type": "stream",
     "text": [
      "Sequential(\n",
      "  (0): Linear(in_features=13, out_features=10, bias=True)\n",
      "  (1): ReLU()\n",
      "  (2): Linear(in_features=10, out_features=10, bias=True)\n",
      "  (3): ReLU()\n",
      "  (4): Linear(in_features=10, out_features=3, bias=True)\n",
      ")\n"
     ]
    }
   ],
   "source": [
    "import torch.nn as nn\n",
    "\n",
    "model = nn.Sequential(\n",
    "    nn.Linear(13, 10),\n",
    "    nn.ReLU(),\n",
    "    nn.Linear(10, 10),\n",
    "    nn.ReLU(),\n",
    "    nn.Linear(10, 3)\n",
    ")\n",
    "\n",
    "print(model)"
   ]
  },
  {
   "cell_type": "code",
   "execution_count": 8,
   "id": "a255ac3b-2011-4316-ba39-b2191becc59e",
   "metadata": {},
   "outputs": [],
   "source": [
    "criterion = nn.CrossEntropyLoss()"
   ]
  },
  {
   "cell_type": "markdown",
   "id": "e26613eb-13d5-49a0-9fba-b9764a5e9fa9",
   "metadata": {},
   "source": [
    "* Cross entropy loss is used when the output needs to be a probability distribution. This means it helps measure how different the predicted probabilities are from the actual labels.\n",
    "* We don't need to explicitly define a softmax layer as the loss function handles it for us\n",
    "* `CrossEntropyLoss` expects raw scores (a.k.a logits) as inputs and internally applies softmax to convert these into probabilities"
   ]
  },
  {
   "cell_type": "code",
   "execution_count": 9,
   "id": "b3eefcd9-905f-4d68-87c9-1363a2f16a27",
   "metadata": {},
   "outputs": [],
   "source": [
    "import torch.optim as optim\n",
    "\n",
    "optimizer = optim.Adam(model.parameters(), lr=0.001)"
   ]
  },
  {
   "cell_type": "markdown",
   "id": "df17ece3-77ba-452e-b2dc-11f20eddfedd",
   "metadata": {},
   "source": [
    "* Adam, short for Adaptive moment estimation, is an algorithm that adjusts the models parameters based on the gradients\n",
    "* Learning rate controls how big a step we take while updating the parameters"
   ]
  },
  {
   "cell_type": "code",
   "execution_count": 11,
   "id": "f3a2f513-556e-4ce0-b0db-8c0dd2a3c052",
   "metadata": {},
   "outputs": [],
   "source": [
    "X_train = X_train_tensor\n",
    "X_test = X_test_tensor\n",
    "y_train = y_train_tensor\n",
    "y_test = y_test_tensor"
   ]
  },
  {
   "cell_type": "code",
   "execution_count": 12,
   "id": "290639d9-218d-48ab-9287-75294498cea6",
   "metadata": {},
   "outputs": [
    {
     "name": "stdout",
     "output_type": "stream",
     "text": [
      "Epoch [10/150], Train Loss: 1.0772, Val Loss: 1.0967\n",
      "Epoch [20/150], Train Loss: 1.0484, Val Loss: 1.0698\n",
      "Epoch [30/150], Train Loss: 1.0192, Val Loss: 1.0435\n",
      "Epoch [40/150], Train Loss: 0.9879, Val Loss: 1.0131\n",
      "Epoch [50/150], Train Loss: 0.9523, Val Loss: 0.9760\n",
      "Epoch [60/150], Train Loss: 0.9111, Val Loss: 0.9322\n",
      "Epoch [70/150], Train Loss: 0.8636, Val Loss: 0.8802\n",
      "Epoch [80/150], Train Loss: 0.8091, Val Loss: 0.8200\n",
      "Epoch [90/150], Train Loss: 0.7455, Val Loss: 0.7508\n",
      "Epoch [100/150], Train Loss: 0.6733, Val Loss: 0.6731\n",
      "Epoch [110/150], Train Loss: 0.5959, Val Loss: 0.5882\n",
      "Epoch [120/150], Train Loss: 0.5177, Val Loss: 0.5042\n",
      "Epoch [130/150], Train Loss: 0.4431, Val Loss: 0.4270\n",
      "Epoch [140/150], Train Loss: 0.3755, Val Loss: 0.3595\n",
      "Epoch [150/150], Train Loss: 0.3168, Val Loss: 0.3034\n"
     ]
    }
   ],
   "source": [
    "num_epochs = 150\n",
    "history = {\"loss\": [], \"val_loss\": []}\n",
    "\n",
    "for epoch in range(num_epochs):\n",
    "    model.train()\n",
    "    optimizer.zero_grad()\n",
    "    outputs = model(X_train)\n",
    "    loss = criterion(outputs, y_train)\n",
    "    loss.backward()\n",
    "    optimizer.step()\n",
    "    history[\"loss\"].append(loss.item())\n",
    "\n",
    "    model.eval()\n",
    "    with torch.no_grad():\n",
    "        outputs_val = model(X_test)\n",
    "        val_loss = criterion(outputs_val, y_test)\n",
    "        history[\"val_loss\"].append(val_loss.item())\n",
    "\n",
    "    if (epoch + 1) % 10 == 0:\n",
    "        print(f\"Epoch [{epoch+1}/{num_epochs}], Train Loss: {loss.item():.4f}, Val Loss: {val_loss.item():.4f}\")"
   ]
  },
  {
   "cell_type": "markdown",
   "id": "3fa042a6-516e-4dd3-b653-1bf14976686b",
   "metadata": {},
   "source": [
    "# Deep evaluation of models"
   ]
  },
  {
   "cell_type": "code",
   "execution_count": 14,
   "id": "bba47c20-9cb3-422a-96ae-22b53a829384",
   "metadata": {},
   "outputs": [
    {
     "name": "stdout",
     "output_type": "stream",
     "text": [
      "Test Accuracy: 1.0000, Test Loss: 0.3034\n"
     ]
    }
   ],
   "source": [
    "from sklearn.metrics import accuracy_score\n",
    "\n",
    "model.eval()\n",
    "\n",
    "with torch.no_grad():\n",
    "    outputs = model(X_test)\n",
    "    test_loss = criterion(outputs, y_test).item()\n",
    "    # choose the class with the highest probability as the predicted value\n",
    "    _, predicted = torch.max(outputs, 1)\n",
    "    test_accuracy = accuracy_score(y_test, predicted)\n",
    "\n",
    "print(f'Test Accuracy: {test_accuracy:.4f}, Test Loss: {test_loss:.4f}')"
   ]
  },
  {
   "cell_type": "code",
   "execution_count": 16,
   "id": "2317f0c8-9add-44b9-a9f6-0a089fb3b8da",
   "metadata": {},
   "outputs": [
    {
     "data": {
      "image/png": "[encoded data removed]",
      "text/plain": [
       "<Figure size 800x500 with 1 Axes>"
      ]
     },
     "metadata": {},
     "output_type": "display_data"
    }
   ],
   "source": [
    "import matplotlib.pyplot as plt\n",
    "\n",
    "\n",
    "epochs = range(1, num_epochs + 1)\n",
    "train_loss = history['loss']\n",
    "val_loss = history['val_loss']\n",
    "\n",
    "plt.figure(figsize=(8, 5))\n",
    "plt.plot(epochs, train_loss, label='Training Loss')\n",
    "plt.plot(epochs, val_loss, label='Validation Loss')\n",
    "plt.title('Model Loss During Training')\n",
    "plt.ylabel('Loss')\n",
    "plt.xlabel('Epoch')\n",
    "plt.legend()\n",
    "plt.show()"
   ]
  },
  {
   "cell_type": "markdown",
   "id": "9861076e-f693-459f-8308-cb772cbd65c6",
   "metadata": {},
   "source": [
    "# Saving and loading Pytorch models"
   ]
  },
  {
   "cell_type": "code",
   "execution_count": 28,
   "id": "6ca0835d-2330-4a66-ab9d-899d725a71cf",
   "metadata": {},
   "outputs": [],
   "source": [
    "torch.save(model, \"wine_model.pth\")"
   ]
  },
  {
   "cell_type": "code",
   "execution_count": 30,
   "id": "4164d92e-b331-44fd-b0fb-b33e1ff615d6",
   "metadata": {},
   "outputs": [
    {
     "name": "stderr",
     "output_type": "stream",
     "text": [
      "C:\\Users\\HP\\AppData\\Local\\Temp\\ipykernel_5940\\85787333.py:1: FutureWarning: You are using `torch.load` with `weights_only=False` (the current default value), which uses the default pickle module implicitly. It is possible to construct malicious pickle data which will execute arbitrary code during unpickling (See https://github.com/pytorch/pytorch/blob/main/SECURITY.md#untrusted-models for more details). In a future release, the default value for `weights_only` will be flipped to `True`. This limits the functions that could be executed during unpickling. Arbitrary objects will no longer be allowed to be loaded via this mode unless they are explicitly allowlisted by the user via `torch.serialization.add_safe_globals`. We recommend you start setting `weights_only=True` for any use case where you don't have full control of the loaded file. Please open an issue on GitHub for any issues related to this experimental feature.\n",
      "  loaded_model = torch.load(\"wine_model.pth\")\n"
     ]
    },
    {
     "data": {
      "text/plain": [
       "Sequential(\n",
       "  (0): Linear(in_features=13, out_features=10, bias=True)\n",
       "  (1): ReLU()\n",
       "  (2): Linear(in_features=10, out_features=10, bias=True)\n",
       "  (3): ReLU()\n",
       "  (4): Linear(in_features=10, out_features=3, bias=True)\n",
       ")"
      ]
     },
     "execution_count": 30,
     "metadata": {},
     "output_type": "execute_result"
    }
   ],
   "source": [
    "loaded_model = torch.load(\"wine_model.pth\", weights_only=False)\n",
    "loaded_model.eval() # it is essential to set the model to eval after loading it"
   ]
  },
  {
   "cell_type": "code",
   "execution_count": 32,
   "id": "027a83ac-a132-4efd-b149-e9c8565578c0",
   "metadata": {},
   "outputs": [
    {
     "name": "stdout",
     "output_type": "stream",
     "text": [
      "Original Model Accuracy: 1.0000\n",
      "Loaded Model Accuracy: 1.0000\n"
     ]
    }
   ],
   "source": [
    "from sklearn.metrics import accuracy_score\n",
    "\n",
    "with torch.no_grad():\n",
    "    model.eval()\n",
    "    original_outputs = model(X_test)\n",
    "    loaded_outputs = loaded_model(X_test)\n",
    "\n",
    "    _, original_predicted = torch.max(original_outputs, 1)\n",
    "    _, loaded_predicted = torch.max(loaded_outputs, 1)\n",
    "\n",
    "    original_accuracy = accuracy_score(y_test, original_predicted)\n",
    "    loaded_accuracy = accuracy_score(y_test, loaded_predicted)\n",
    "\n",
    "\n",
    "print(f'Original Model Accuracy: {original_accuracy:.4f}')\n",
    "print(f'Loaded Model Accuracy: {loaded_accuracy:.4f}')"
   ]
  },
  {
   "cell_type": "markdown",
   "id": "c601fbfa-ff03-4917-9403-8a1905824a5b",
   "metadata": {},
   "source": [
    "# Model checkpointing"
   ]
  },
  {
   "cell_type": "markdown",
   "id": "891d57e5-3a31-45c1-81d7-d94907de73bb",
   "metadata": {},
   "source": [
    "* Model checkpointing involves saving the state of a neural network model at various points during the training process\n",
    "* This prevents loss of progress in case of  power failure, hardware malfunction etc.. checkpointing helps in resuming training from the last saved state\n",
    "* By saving the model whenever it achieves a new best performance on a validation set, we ensure that we reatain the best version of our model"
   ]
  },
  {
   "cell_type": "code",
   "execution_count": 36,
   "id": "a5b5dcdb-2b4c-49fa-b5f8-ca79fde57998",
   "metadata": {},
   "outputs": [],
   "source": [
    "best_loss = float('inf') # we keep it to infinite\n",
    "checkpoint_path = \"best_model.pth\""
   ]
  },
  {
   "cell_type": "code",
   "execution_count": 40,
   "id": "8d01f487-4fef-4e86-b898-5b6c497a791d",
   "metadata": {},
   "outputs": [
    {
     "name": "stdout",
     "output_type": "stream",
     "text": [
      "Model saved at epoch 0 with validation loss 0.2934!\n",
      "Model saved at epoch 1 with validation loss 0.2886!\n",
      "Model saved at epoch 2 with validation loss 0.2839!\n",
      "Model saved at epoch 3 with validation loss 0.2793!\n",
      "Model saved at epoch 4 with validation loss 0.2748!\n",
      "Model saved at epoch 5 with validation loss 0.2704!\n",
      "Model saved at epoch 6 with validation loss 0.2660!\n",
      "Model saved at epoch 7 with validation loss 0.2618!\n",
      "Model saved at epoch 8 with validation loss 0.2576!\n",
      "Model saved at epoch 9 with validation loss 0.2535!\n",
      "Model saved at epoch 10 with validation loss 0.2495!\n",
      "Model saved at epoch 11 with validation loss 0.2456!\n",
      "Model saved at epoch 12 with validation loss 0.2418!\n",
      "Model saved at epoch 13 with validation loss 0.2381!\n",
      "Model saved at epoch 14 with validation loss 0.2345!\n",
      "Model saved at epoch 15 with validation loss 0.2309!\n",
      "Model saved at epoch 16 with validation loss 0.2275!\n",
      "Model saved at epoch 17 with validation loss 0.2241!\n",
      "Model saved at epoch 18 with validation loss 0.2207!\n",
      "Model saved at epoch 19 with validation loss 0.2175!\n",
      "Model saved at epoch 20 with validation loss 0.2143!\n",
      "Model saved at epoch 21 with validation loss 0.2112!\n",
      "Model saved at epoch 22 with validation loss 0.2082!\n",
      "Model saved at epoch 23 with validation loss 0.2053!\n",
      "Model saved at epoch 24 with validation loss 0.2024!\n",
      "Model saved at epoch 25 with validation loss 0.1996!\n",
      "Model saved at epoch 26 with validation loss 0.1969!\n",
      "Model saved at epoch 27 with validation loss 0.1942!\n",
      "Model saved at epoch 28 with validation loss 0.1916!\n",
      "Model saved at epoch 29 with validation loss 0.1891!\n",
      "Model saved at epoch 30 with validation loss 0.1866!\n",
      "Model saved at epoch 31 with validation loss 0.1841!\n",
      "Model saved at epoch 32 with validation loss 0.1817!\n",
      "Model saved at epoch 33 with validation loss 0.1794!\n",
      "Model saved at epoch 34 with validation loss 0.1771!\n",
      "Model saved at epoch 35 with validation loss 0.1749!\n",
      "Model saved at epoch 36 with validation loss 0.1727!\n",
      "Model saved at epoch 37 with validation loss 0.1706!\n",
      "Model saved at epoch 38 with validation loss 0.1685!\n",
      "Model saved at epoch 39 with validation loss 0.1666!\n",
      "Model saved at epoch 40 with validation loss 0.1646!\n",
      "Model saved at epoch 41 with validation loss 0.1627!\n",
      "Model saved at epoch 42 with validation loss 0.1608!\n",
      "Model saved at epoch 43 with validation loss 0.1590!\n",
      "Model saved at epoch 44 with validation loss 0.1572!\n",
      "Model saved at epoch 45 with validation loss 0.1555!\n",
      "Model saved at epoch 46 with validation loss 0.1537!\n",
      "Model saved at epoch 47 with validation loss 0.1520!\n",
      "Model saved at epoch 48 with validation loss 0.1503!\n",
      "Model saved at epoch 49 with validation loss 0.1485!\n",
      "Model saved at epoch 50 with validation loss 0.1468!\n",
      "Model saved at epoch 51 with validation loss 0.1451!\n",
      "Model saved at epoch 52 with validation loss 0.1434!\n",
      "Model saved at epoch 53 with validation loss 0.1417!\n",
      "Model saved at epoch 54 with validation loss 0.1400!\n",
      "Model saved at epoch 55 with validation loss 0.1384!\n",
      "Model saved at epoch 56 with validation loss 0.1367!\n",
      "Model saved at epoch 57 with validation loss 0.1351!\n",
      "Model saved at epoch 58 with validation loss 0.1334!\n",
      "Model saved at epoch 59 with validation loss 0.1318!\n",
      "Model saved at epoch 60 with validation loss 0.1302!\n",
      "Model saved at epoch 61 with validation loss 0.1286!\n",
      "Model saved at epoch 62 with validation loss 0.1270!\n",
      "Model saved at epoch 63 with validation loss 0.1254!\n",
      "Model saved at epoch 64 with validation loss 0.1239!\n",
      "Model saved at epoch 65 with validation loss 0.1225!\n",
      "Model saved at epoch 66 with validation loss 0.1210!\n",
      "Model saved at epoch 67 with validation loss 0.1196!\n",
      "Model saved at epoch 68 with validation loss 0.1182!\n",
      "Model saved at epoch 69 with validation loss 0.1169!\n",
      "Model saved at epoch 70 with validation loss 0.1156!\n",
      "Model saved at epoch 71 with validation loss 0.1144!\n",
      "Model saved at epoch 72 with validation loss 0.1132!\n",
      "Model saved at epoch 73 with validation loss 0.1121!\n",
      "Model saved at epoch 74 with validation loss 0.1111!\n",
      "Model saved at epoch 75 with validation loss 0.1101!\n",
      "Model saved at epoch 76 with validation loss 0.1091!\n",
      "Model saved at epoch 77 with validation loss 0.1081!\n",
      "Model saved at epoch 78 with validation loss 0.1072!\n",
      "Model saved at epoch 79 with validation loss 0.1063!\n",
      "Model saved at epoch 80 with validation loss 0.1055!\n",
      "Model saved at epoch 81 with validation loss 0.1046!\n",
      "Model saved at epoch 82 with validation loss 0.1038!\n",
      "Model saved at epoch 83 with validation loss 0.1029!\n",
      "Model saved at epoch 84 with validation loss 0.1021!\n",
      "Model saved at epoch 85 with validation loss 0.1013!\n",
      "Model saved at epoch 86 with validation loss 0.1005!\n",
      "Model saved at epoch 87 with validation loss 0.0996!\n",
      "Model saved at epoch 88 with validation loss 0.0988!\n",
      "Model saved at epoch 89 with validation loss 0.0980!\n",
      "Model saved at epoch 90 with validation loss 0.0972!\n",
      "Model saved at epoch 91 with validation loss 0.0964!\n",
      "Model saved at epoch 92 with validation loss 0.0956!\n",
      "Model saved at epoch 93 with validation loss 0.0948!\n",
      "Model saved at epoch 94 with validation loss 0.0940!\n",
      "Model saved at epoch 95 with validation loss 0.0932!\n",
      "Model saved at epoch 96 with validation loss 0.0924!\n",
      "Model saved at epoch 97 with validation loss 0.0916!\n",
      "Model saved at epoch 98 with validation loss 0.0908!\n",
      "Model saved at epoch 99 with validation loss 0.0900!\n"
     ]
    }
   ],
   "source": [
    "num_epochs = 100\n",
    "for epoch in range(num_epochs):\n",
    "    model.train()\n",
    "    optimizer.zero_grad()\n",
    "    outputs = model(X_train)\n",
    "    loss = criterion(outputs, y_train)\n",
    "    loss.backward()\n",
    "    optimizer.step()\n",
    "\n",
    "    model.eval()\n",
    "    with torch.no_grad():\n",
    "        val_outputs = model(X_test)\n",
    "        val_loss = criterion(val_outputs, y_test).item()\n",
    "\n",
    "    # implement checkpointing\n",
    "    if val_loss < best_loss:\n",
    "        best_loss = val_loss\n",
    "        torch.save(model, checkpoint_path)\n",
    "        print(f\"Model saved at epoch {epoch} with validation loss {val_loss:.4f}!\")"
   ]
  },
  {
   "cell_type": "markdown",
   "id": "a64a4097-d40c-4944-9873-1df40c919ea0",
   "metadata": {},
   "source": [
    "# Training with mini batches"
   ]
  },
  {
   "cell_type": "markdown",
   "id": "3444f197-bc7d-4a5f-8122-e0248303019b",
   "metadata": {},
   "source": [
    "In Machine learning, there are three main methods for training models:\n",
    "- Stochastic gradient descent\n",
    "- Full batch gradient descent\n",
    "- Mini batch gradient descent"
   ]
  },
  {
   "cell_type": "markdown",
   "id": "a08a7b27-567f-4862-a443-20bf45c42cca",
   "metadata": {},
   "source": [
    "SGD:\n",
    "* The model weights are updated after processing each individual training example\n",
    "* For each training example, it computes the gradient of the loss function with respect to the model parameters, and then updates the parameters accordingly"
   ]
  },
  {
   "cell_type": "markdown",
   "id": "b09bd1b0-c3bb-4ee4-b45a-82e06b46168c",
   "metadata": {},
   "source": [
    "Full batch GD:\n",
    "* The model weights are updates after processing the entire dataset\n",
    "* It computes the gradient of the loss function w.r.t the model parameters based on the avg of all examples in the dataset"
   ]
  },
  {
   "cell_type": "markdown",
   "id": "4b5b7e58-940e-4077-af9d-37eabf64b59b",
   "metadata": {},
   "source": [
    "Mini batch GD:\n",
    "* Compromise between the above two methods\n",
    "* Updates its weights after processing a small batch"
   ]
  },
  {
   "cell_type": "code",
   "execution_count": 9,
   "id": "33b5b3db-aee7-4630-92ad-2a4b1b3ab9d2",
   "metadata": {},
   "outputs": [],
   "source": [
    "import torch\n",
    "from sklearn.datasets import load_wine\n",
    "\n",
    "wine = load_wine()\n",
    "X = torch.tensor(wine.data, dtype=torch.float32)\n",
    "y = torch.tensor(wine.target, dtype=torch.long)"
   ]
  },
  {
   "cell_type": "code",
   "execution_count": 11,
   "id": "af2110bc-1fad-4ef8-979c-6d4587b5005c",
   "metadata": {},
   "outputs": [],
   "source": [
    "from torch.utils.data import DataLoader, TensorDataset\n",
    "\n",
    "batch_size = 32\n",
    "dataset = TensorDataset(X, y)\n",
    "data_loader = DataLoader(dataset, batch_size=batch_size, shuffle=True)"
   ]
  },
  {
   "cell_type": "code",
   "execution_count": 13,
   "id": "1e192051-52bf-4e34-93fe-6a8a922e1f02",
   "metadata": {},
   "outputs": [],
   "source": [
    "import torch.nn as nn\n",
    "import torch.optim as optim\n",
    "\n",
    "model = nn.Sequential(\n",
    "    nn.Linear(13, 10),\n",
    "    nn.ReLU(),\n",
    "    nn.Linear(10, 10),\n",
    "    nn.ReLU(),\n",
    "    nn.Linear(10, 3)\n",
    ")\n",
    "\n",
    "criterion = nn.CrossEntropyLoss()\n",
    "optimizer = optim.Adam(model.parameters(), lr=0.001)"
   ]
  },
  {
   "cell_type": "code",
   "execution_count": 15,
   "id": "edb2a335-add6-4027-a7f3-524aaf2df5b5",
   "metadata": {},
   "outputs": [
    {
     "name": "stdout",
     "output_type": "stream",
     "text": [
      "Batch Loss: 28.6072\n",
      "Batch Loss: 25.4370\n",
      "Batch Loss: 30.1804\n",
      "Batch Loss: 42.0932\n",
      "Batch Loss: 34.0817\n",
      "Batch Loss: 35.6205\n",
      "Epoch [1/10] Average Loss: 32.4379\n",
      "Batch Loss: 34.3715\n",
      "Batch Loss: 28.4559\n",
      "Batch Loss: 29.0758\n",
      "Batch Loss: 23.7466\n",
      "Batch Loss: 26.2374\n",
      "Batch Loss: 23.8116\n",
      "Epoch [2/10] Average Loss: 27.9157\n",
      "Batch Loss: 25.4319\n",
      "Batch Loss: 26.2260\n",
      "Batch Loss: 23.6337\n",
      "Batch Loss: 25.9583\n",
      "Batch Loss: 18.3860\n",
      "Batch Loss: 21.8599\n",
      "Epoch [3/10] Average Loss: 23.7181\n",
      "Batch Loss: 24.0283\n",
      "Batch Loss: 22.5402\n",
      "Batch Loss: 19.8977\n",
      "Batch Loss: 19.5751\n",
      "Batch Loss: 16.8055\n",
      "Batch Loss: 15.6078\n",
      "Epoch [4/10] Average Loss: 20.0676\n",
      "Batch Loss: 19.1345\n",
      "Batch Loss: 19.4436\n",
      "Batch Loss: 16.6199\n",
      "Batch Loss: 13.8787\n",
      "Batch Loss: 15.1902\n",
      "Batch Loss: 15.4866\n",
      "Epoch [5/10] Average Loss: 16.7152\n",
      "Batch Loss: 17.5944\n",
      "Batch Loss: 11.6425\n",
      "Batch Loss: 12.6552\n",
      "Batch Loss: 11.2055\n",
      "Batch Loss: 14.6627\n",
      "Batch Loss: 14.8385\n",
      "Epoch [6/10] Average Loss: 13.6822\n",
      "Batch Loss: 12.1746\n",
      "Batch Loss: 10.6029\n",
      "Batch Loss: 11.7761\n",
      "Batch Loss: 9.6691\n",
      "Batch Loss: 11.1866\n",
      "Batch Loss: 10.7076\n",
      "Epoch [7/10] Average Loss: 11.0440\n",
      "Batch Loss: 9.0961\n",
      "Batch Loss: 7.4897\n",
      "Batch Loss: 8.1388\n",
      "Batch Loss: 8.9092\n",
      "Batch Loss: 9.1589\n",
      "Batch Loss: 8.3794\n",
      "Epoch [8/10] Average Loss: 8.5404\n",
      "Batch Loss: 6.9716\n",
      "Batch Loss: 6.8566\n",
      "Batch Loss: 5.7480\n",
      "Batch Loss: 6.2706\n",
      "Batch Loss: 5.5758\n",
      "Batch Loss: 6.2049\n",
      "Epoch [9/10] Average Loss: 6.2765\n",
      "Batch Loss: 4.6405\n",
      "Batch Loss: 4.1816\n",
      "Batch Loss: 4.5115\n",
      "Batch Loss: 4.7617\n",
      "Batch Loss: 3.5689\n",
      "Batch Loss: 2.7447\n",
      "Epoch [10/10] Average Loss: 4.1722\n"
     ]
    }
   ],
   "source": [
    "num_epochs = 10\n",
    "\n",
    "for epoch in range(num_epochs):\n",
    "    model.train()\n",
    "    running_loss = 0.0\n",
    "    for batch_X, batch_y in data_loader:\n",
    "        optimizer.zero_grad()\n",
    "        outputs = model(batch_X)\n",
    "        loss = criterion(outputs, batch_y)\n",
    "        loss.backward()\n",
    "        optimizer.step()\n",
    "        print(f\"Batch Loss: {loss.item():.4f}\")\n",
    "        running_loss += loss.item() * batch_X.size(0)\n",
    "\n",
    "    epoch_loss = running_loss / len(data_loader.dataset)\n",
    "    print(f'Epoch [{epoch+1}/{num_epochs}] Average Loss: {epoch_loss:.4f}')"
   ]
  },
  {
   "cell_type": "markdown",
   "id": "d3655720-e4ba-4851-8ab6-b0125ac6c95e",
   "metadata": {},
   "source": [
    "# Learning rate scheduling"
   ]
  },
  {
   "cell_type": "markdown",
   "id": "b61823e2-3e4e-421c-8d4f-8701f306df2a",
   "metadata": {},
   "source": [
    "* It involves changing the learning rate during the training process to enhance the performance and statbilit of the model\n",
    "* A consistent learning rate may cause the model to get stuck in local minima or diverge if it starts too large.\n",
    "* Adjusting the learning rate can help the model converge faster and more effectively to a solution"
   ]
  },
  {
   "cell_type": "code",
   "execution_count": 3,
   "id": "06167c88-dccb-4e61-b04a-0842f0583c64",
   "metadata": {},
   "outputs": [],
   "source": [
    "import torch\n",
    "import torch.nn as nn\n",
    "import torch.optim as optim\n",
    "from sklearn.datasets import load_wine\n",
    "from sklearn.model_selection import train_test_split\n",
    "\n",
    "wine = load_wine()\n",
    "X = torch.tensor(wine.data, dtype=torch.float32)\n",
    "y = torch.tensor(wine.target, dtype=torch.long)\n",
    "\n",
    "X_train, X_valid, y_train, y_valid = train_test_split(X, y, test_size=0.2, random_state=42)\n",
    "\n",
    "model = nn.Sequential(\n",
    "    nn.Linear(13, 10),\n",
    "    nn.ReLU(),\n",
    "    nn.Linear(10, 10),\n",
    "    nn.ReLU(),\n",
    "    nn.Linear(10, 3)\n",
    ")\n",
    "\n",
    "criterion = nn.CrossEntropyLoss()\n",
    "optimizer = optim.Adam(model.parameters(), lr=0.1)"
   ]
  },
  {
   "cell_type": "code",
   "execution_count": 7,
   "id": "d26c657d-68e2-44f4-9cfd-a893f1722924",
   "metadata": {},
   "outputs": [],
   "source": [
    "import torch.optim.lr_scheduler as lr_scheduler\n",
    "\n",
    "scheduler = lr_scheduler.ReduceLROnPlateau(optimizer, mode=\"min\", factor=0.1, patience=10)"
   ]
  },
  {
   "cell_type": "code",
   "execution_count": 9,
   "id": "589205a7-67a8-423d-b7a8-7d32200f2505",
   "metadata": {},
   "outputs": [
    {
     "name": "stdout",
     "output_type": "stream",
     "text": [
      "Epoch [10/100], LR: 0.100000\n",
      "Epoch [20/100], LR: 0.010000\n",
      "Epoch [30/100], LR: 0.001000\n",
      "Epoch [40/100], LR: 0.001000\n",
      "Epoch [50/100], LR: 0.000100\n",
      "Epoch [60/100], LR: 0.000010\n",
      "Epoch [70/100], LR: 0.000001\n",
      "Epoch [80/100], LR: 0.000000\n",
      "Epoch [90/100], LR: 0.000000\n",
      "Epoch [100/100], LR: 0.000000\n"
     ]
    }
   ],
   "source": [
    "num_epochs = 100\n",
    "for epoch in range(num_epochs):\n",
    "    model.train()\n",
    "    optimizer.zero_grad()\n",
    "    outputs = model(X_train)\n",
    "    loss = criterion(outputs, y_train)\n",
    "    loss.backward()\n",
    "    optimizer.step()\n",
    "\n",
    "    model.eval()\n",
    "    with torch.no_grad():\n",
    "        val_outputs = model(X_valid)\n",
    "        val_loss = criterion(val_outputs, y_valid)\n",
    "\n",
    "    scheduler.step(val_loss)  # Update learning rate\n",
    "\n",
    "    if (epoch + 1) % 10 == 0:\n",
    "        lr = optimizer.param_groups[0][\"lr\"]\n",
    "        print(f'Epoch [{epoch + 1}/{num_epochs}], LR: {lr:.6f}')"
   ]
  },
  {
   "cell_type": "markdown",
   "id": "3fe58408-6218-439e-b63f-e71fe318b1de",
   "metadata": {},
   "source": [
    "# Dealing with overfitting"
   ]
  },
  {
   "cell_type": "markdown",
   "id": "b59c1704-3bfc-419e-ae58-f27e539055b8",
   "metadata": {},
   "source": [
    "* Overfitting occurs when the model learns not only the underlying patterns in the training data but also the random noise, leading to poor performance on new, unseen data\n",
    "* Regularization techniques add additional constraints or penalities to the model's learning process, encouraging it to focus on the most important patterns in the data and improving its generalization ability."
   ]
  },
  {
   "cell_type": "code",
   "execution_count": 2,
   "id": "64fbfb02-fddd-4cd9-bae8-4dbb413060f6",
   "metadata": {},
   "outputs": [],
   "source": [
    "import torch.nn as nn\n",
    "\n",
    "model = nn.Sequential(\n",
    "    nn.Linear(13, 10),\n",
    "    nn.ReLU(),\n",
    "    nn.Dropout(0.2),\n",
    "    nn.Linear(10, 10),\n",
    "    nn.ReLU(),\n",
    "    nn.Dropout(0.1),\n",
    "    nn.Linear(10, 3)\n",
    ")"
   ]
  },
  {
   "cell_type": "markdown",
   "id": "18f354f9-2ca6-4002-aff3-c7a212acfc41",
   "metadata": {},
   "source": [
    "* Dropout randomly sets a fraction of activations in the previous layer to zero, preventing the neural network becoming too dependent on any particular node"
   ]
  },
  {
   "cell_type": "code",
   "execution_count": 9,
   "id": "4b477e3d-7951-438a-94bd-a209855bd2b5",
   "metadata": {},
   "outputs": [],
   "source": [
    "from sklearn.datasets import load_wine\n",
    "import torch\n",
    "\n",
    "wine = load_wine()\n",
    "X = wine.data\n",
    "y = wine.target\n",
    "\n",
    "X = torch.tensor(X, dtype=torch.float32)\n",
    "y = torch.tensor(y, dtype=torch.long)"
   ]
  },
  {
   "cell_type": "code",
   "execution_count": 10,
   "id": "4fc3306d-a8e1-417d-80c9-650e687bdc79",
   "metadata": {},
   "outputs": [
    {
     "name": "stdout",
     "output_type": "stream",
     "text": [
      "10 - L2 norm of weights: 1.829788088798523\n",
      "20 - L2 norm of weights: 1.828264594078064\n",
      "30 - L2 norm of weights: 1.8285893201828003\n",
      "40 - L2 norm of weights: 1.8299075365066528\n",
      "50 - L2 norm of weights: 1.8316445350646973\n",
      "\n",
      "Regularization added to optimizer\n",
      "\n",
      "60 - L2 norm of weights: 1.7831552028656006\n",
      "70 - L2 norm of weights: 1.7314496040344238\n",
      "80 - L2 norm of weights: 1.6850314140319824\n",
      "90 - L2 norm of weights: 1.6392663717269897\n",
      "100 - L2 norm of weights: 1.594768762588501\n"
     ]
    }
   ],
   "source": [
    "import torch.optim as optim\n",
    "\n",
    "criterion = nn.CrossEntropyLoss()\n",
    "optimizer = optim.Adam(model.parameters(), lr=0.001)\n",
    "\n",
    "for i in range(100):\n",
    "    model.train()\n",
    "    optimizer.zero_grad()\n",
    "    outputs = model(X)\n",
    "    loss = criterion(outputs, y)\n",
    "    loss.backward()\n",
    "\n",
    "    if(i==50):\n",
    "        # Introducing weight decay from 50th epoch on\n",
    "        optimizer = optim.Adam(model.parameters(), lr=0.001, weight_decay=0.01)\n",
    "        print(\"\\nRegularization added to optimizer\\n\")\n",
    "\n",
    "    if (i+1) % 10 ==0:\n",
    "        # L2 norm of weights of the first linear layer\n",
    "        first_layer_weights = model[0].weight.norm(2).item()\n",
    "        print(f'{i+1} - L2 norm of weights: {first_layer_weights}')\n",
    "\n",
    "    optimizer.step()  # Update weights"
   ]
  },
  {
   "cell_type": "markdown",
   "id": "e6cc46f4-c095-48be-ba0f-59cca3b5f0b3",
   "metadata": {},
   "source": [
    "* L2 regularization penalizes large weights by adding their squared values to the loss function. This also prevents the neural network to rely too heavily on any particular feature"
   ]
  },
  {
   "cell_type": "markdown",
   "id": "80575954-b0be-455c-991d-fb499421a64f",
   "metadata": {},
   "source": [
    "NOTE:\n",
    "\n",
    "*  Initially the optimizer is set up without any L2 regularization\n",
    "*  At epoch 50, the optimizer is updated to include L2 regularization by adding a `weight_decay` of 0.1. This introduces a penalty to the weights, helping prevent overfitting\n"
   ]
  },
  {
   "cell_type": "code",
   "execution_count": null,
   "id": "e66334f0-654f-4dd8-add5-aaec3959b629",
   "metadata": {},
   "outputs": [],
   "source": []
  }
 ],
 "metadata": {
  "kernelspec": {
   "display_name": "Python 3 (ipykernel)",
   "language": "python",
   "name": "python3"
  },
  "language_info": {
   "codemirror_mode": {
    "name": "ipython",
    "version": 3
   },
   "file_extension": ".py",
   "mimetype": "text/x-python",
   "name": "python",
   "nbconvert_exporter": "python",
   "pygments_lexer": "ipython3",
   "version": "3.11.7"
  }
 },
 "nbformat": 4,
 "nbformat_minor": 5
}
