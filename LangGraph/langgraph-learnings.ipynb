{
 "cells": [
  {
   "cell_type": "markdown",
   "id": "d2e8f86a-b644-486f-a79b-2a835b84e62e",
   "metadata": {},
   "source": [
    "# LangGraph learnings"
   ]
  },
  {
   "cell_type": "markdown",
   "id": "19d352ad-75dc-446d-ba64-9ffba4d30d5f",
   "metadata": {},
   "source": [
    "![image](data:image/jpeg;base64,/9j/4AAQSkZJRgABAQEAYABgAAD/2wBDAAIBAQIBAQICAgICAgICAwUDAwMDAwYEBAMFBwYHBwcGBwcICQsJCAgKCAcHCg0KCgsMDAwMBwkODw0MDgsMDAz/2wBDAQICAgMDAwYDAwYMCAcIDAwMDAwMDAwMDAwMDAwMDAwMDAwMDAwMDAwMDAwMDAwMDAwMDAwMDAwMDAwMDAwMDAz/wAARCADHAqIDASIAAhEBAxEB/8QAHwAAAQUBAQEBAQEAAAAAAAAAAAECAwQFBgcICQoL/8QAtRAAAgEDAwIEAwUFBAQAAAF9AQIDAAQRBRIhMUEGE1FhByJxFDKBkaEII0KxwRVS0fAkM2JyggkKFhcYGRolJicoKSo0NTY3ODk6Q0RFRkdISUpTVFVWV1hZWmNkZWZnaGlqc3R1dnd4eXqDhIWGh4iJipKTlJWWl5iZmqKjpKWmp6ipqrKztLW2t7i5usLDxMXGx8jJytLT1NXW19jZ2uHi4+Tl5ufo6erx8vP09fb3+Pn6/8QAHwEAAwEBAQEBAQEBAQAAAAAAAAECAwQFBgcICQoL/8QAtREAAgECBAQDBAcFBAQAAQJ3AAECAxEEBSExBhJBUQdhcRMiMoEIFEKRobHBCSMzUvAVYnLRChYkNOEl8RcYGRomJygpKjU2Nzg5OkNERUZHSElKU1RVVldYWVpjZGVmZ2hpanN0dXZ3eHl6goOEhYaHiImKkpOUlZaXmJmaoqOkpaanqKmqsrO0tba3uLm6wsPExcbHyMnK0tPU1dbX2Nna4uPk5ebn6Onq8vP09fb3+Pn6/9oADAMBAAIRAxEAPwD826KKK+kP5jCiiigAooooAKKKKACiiigAooooAKKKKACiiigAooooAKKKKACiiigAooooAKKKKACiiigAooooAKKKKACiiigAooooAKKKKACiiigAooooAKKKKACiiigAooooAKKKKACiiigAooooAKKKKACiiigAooooAKKKKACiiigAooooAKKKKACiiigAooooAKKKKACiiigAooooAKKKKACiiigAooooAKKKKACiiigAooooAKKKKACiiigAooooAKKKKACiiigAooooAKKKKACiiigAooooAKKKKACiiigAooooAKKKKACiiigAooooAKKKKACiiigAooooAKKKKACiiigAooooAKKKKACiiigAooooAKKKKACiiigAooooAKKKKACiiigAooooAKKKKACiiigAooooAKKKKACiiigAooooAKKKKACiiigAooooAKKKKACiiigAooooAKKKKACiiigAopVrR8PeE9T8VXXk6Tp1/qk/Xy7S3eZ/yUE0aArt2RnYoxXqmhfsNfGvxPbCbT/hF8TbyFuRJD4YvnQ/iI8Voj/gnh8fP+iLfFH/AMJi8/8AjdTzR7r7zp+pYl7U5fczxrGKSvZx/wAE8Pj5/wBEW+KP/hM3n/xug/8ABO/4+f8ARFvij/4TN3/8bo5o9194/qOK/wCfcvuZ4xRXs/8Aw7v+Pv8A0RX4o/8AhM3f/wAbpP8Ah3h8ff8AoivxS/8ACZvP/jdPnj3X3lf2fiv+fcvuZ4zRXs3/AA7w+Pv/AERX4pf+Ezef/G6P+HeHx9/6Ir8Uv/CZvP8A43Rzx7r7w/s/Ff8APuX3M8Zor2b/AId4fH3/AKIr8Uv/AAmbz/43R/w7w+Pv/RFfil/4TN5/8bo549194f2fiv8An3L7meM0V7N/w7w+Pv8A0RX4pf8AhM3f/wAbpf8Ah3f8ff8AoivxR/8ACau//jdHPHuvvD+z8V/z7l9zPGKAc167q/7A/wAcdCsmuL34O/E22gT70j+GrzA+v7uvOPE/gTWvBU3l61o2raPJnG29tJIDn6OBRdPYyqYatT1qQa9UzJzRSsu2kpmAUUUUAFFFFABRRRQAUUUUAFFFFABRRRQAUUUUAFFFFABRRRQAUUUUAFFFFABRRRQAUUUUAFFFFABRRRQAUUUUAFFFFABRRRQAUUUUAFFFFABRRRQAUUUUAFFFFABRRRQAUUUUAFFFFABRRRQAUUUUAFFFFABRRRQAUUUUAFFFFABRmjNKOlHqAlfRH7Ef/BMT4pft3aoknhfS10zwyshjufEOphobGIg/MqHBMzj+6gODwxXrX0X/AMEcv+COzftSSQ/En4nWF3bfD62f/iV6c+Ym8Qyq2GYkYYW6kMpI++3A4BNftl4e8N6f4S0S00zSrG00zTLGJYLa1tYViht41GFREUAKB6AVwV8corlhufoXDPBMsZFYrGtxpvZdZf5L8WfFn7Kv/BBf4JfAGxt7vxLZP8SfEcWGe51hcWSt3EdoCU2/9dPMP+1X2V4N8EaL4A0ZbDQ9H0zRLGP7ttYWqW0K/REAFarw7Tmo77VrXRbCa6vLiC0tLdDJLPO4SOFQMlmY8AAdSeleW6k56M/WsHluEwcOXDU1FeX6vd/MkTrT8182av8A8Fc/2cNF8V/2PP8AFnw4bsuV3QrNNbZHH/HwiGHHod+DXtvwr+M3hH44eGI9Z8G+JtD8T6W5KfadMvY7lFYdVYoThh3BqHGSdmjTD4/DVnyUakZNdE0/yOmzmiiipOwKKKKACiiigAoziikIy4+uOlAC9aK85/aC/a/+GP7JljHcfEHxno/htLrJt4bh2kuZwOrJDGrSMPcKRnAzzWf+zv8Atz/CL9rF2j+H3jrRfEF0qNIbJWe2vQikAv8AZ5lSbaCRltmORzzTs7Xsc313Dqr7B1I8/wDLdX+7c9VKhuorP8UeEtL8b6LLp2s6bYatp84xLbXtus8Mg90YEH8q0SNpo70HQ0mrM+N/2n/+CGPwK/aR065k0zQP+FdeIXQ+TqWgIIYN/XL2nELL6hQh/wBoV+Sf7dP/AASU+K/7Css+oapp6eJfBqPtj8RaUpa3QHp58Z+eBv8AeyuTgO1f0alyaivdPt9Z0+ezvIYbm0uozFNDMgeOVSMFWU5BB9CMV10sVOKsj5LOeDMBjouUI+zn3W3zWz/PzP5MCcDBGG9COlGMV+oP/BZP/gi9a/CLR9S+LXwh06VfDtuTN4g8PxKWGmAnm5tx18nJyydEGWB2ZCfl82Q2Ccke2K9WnV548x+KZrlOIy6u8PiFZ9OzXdCUUUVseYFFFFMAooopAFFFFMAooooAKKKKACiiigAooooAKKKKACiiigAooooAKKKKACiiigAooooAKKKKQBRSEbqNmD1pgLRRRQAUUUUAFFFFABRRRQAUUUUAFFFFABRRRQAUUUUAFFFGaACijNFIAooopgFFFFABRRRQAUUUUAFFFFABt3kDv2r6k/4JOf8ABPu4/b1/aUt7HU4bhPAfhjZqHiS4jypkiBGy1VuzzEEZHKqHbqBXy3356d6/on/4IzfssxfsrfsNeGIbi3WLxF4xT/hI9VcpiQNcKphiJ64SERDHZi/qa5sVPlpn1fB+TRzHHpVVeENX59l83+Fz6h8OeG7Hwh4etNM0u0gsNNsIUt7a2gjEcUEaAKqqo4AAA4FW8Zpc0V4J/QCSWiGu+Gx61+S//BwJ/wAFH9N1HSJPgZ4L1O4lvLa+V/Ft5aybYAFQ4sNw++d7K0g6KY1XJO4L+s7Y8wfXnjOK/nv8e/8ABIX9o/x2mo+NB4Pk15tZ1zU47pIb2Jb1JobqSKSV45WQkSSJIVK7sgbjgEZ7MCqfPeT1PieN8Rjo4VYbBQcue/NZNtRVu3e/3XPkDYByvHtXqv7Hf7YnjH9if4x2Hi7wneThY5UGo6aZmW21e33AvDKoODkDg4JU4I5Arlvjh8CfF37NvxHu/CPjbQ7nw/4gsEikmtJpEkwsiB0IdGZGBUjoTg5HUGuTUevHvXt2jLSJ+IwnWwtbmjeM4v0aaP6pPgZ8ZdG/aH+Dfhrxx4cm8/RvEthFfW5J+ZNw+aNvR0YMjDsVNdYh5r8fP+Der/goNZ+D9Qufgh4pv0tbbVro3nhi4nfbGtw/M1pzwN5+dB3csvJZRX7BHjrj2x3r57EU3CbTP6KyHOYZlg4YiPxbSXZ9f815D6KahyadWB7QUUUUDCmk4f720dye1Ozms/xV4o07wT4cvtY1e9tNN0vTIGubu7u5lhgtolGWd3YgKoGSSTiqjqxNpK7P5k/23fjrrv7R37VfjnxP4huLmW5n1e4gt4ZmJFjbxyMkUCA/dVFAHuck8k1ynwR+MniH9n/4q6F4w8L30+n6zoV5HdQvG5CyhXBMbgfeRgMMp4IODX6kf8FEP+CEOp/H34o6h8S/glrXh26s/F7f2reaVdXeyJ5pfnaa2mQMjJKSX2tgAkkMQwVcD9hD/g3s8R+Gvifpniv413uhQaFoUy3v9gWV0bmS/eNgyLPIAI1hyMsFLFgMfLk16/toeysj8Eq8L5xLMHaLu5X5+m/xX/HufrxZ3LXdlBMwKGaNX2MOUyM4PvU1Z/hTxfpPjzw7b6pomoWGrabc7hDd2VylxBKVYq211ypwwIOOhBHar+a8h7n71FpxTQtFFFSURXdrHqEEkEyJJDMhSRHGVdTwQR3Br8Av+C0//BOxv2Kv2gP+Eg8PWez4d+OJZJ9NEa/JpdyOZbM+g53p6qxUf6smv6Aa8J/4KU/srwftg/sbeMvCItY59aW0bUtDYpl4r+AF4dp7F/miJ/uzNXRh68oTt0PmOLMljmOBkkvfhrH17fP87H80VFGWX5XUo6EqykYIOe/v2/CivfW1z+e9gooopiEZ9p5/Sv3z/Y7/AOCWn7P3xE/ZD+FPiDWPhhod/rOs+D9J1C+uZJJw1zcTWUMksjASAZLsx6d6/Axulf09fsAxg/sIfBY/9SHof/pvgrzsbJx1P0Xw8wtCviKyrwUrRW6T6+Z+D3/BXz4NeF/gF+374y8K+DdGt9A8PaZBp32eygLlIy9hbu5yxJ5ZmJ9ya+Z6+wP+C77f8bQfiJ/1x0r/ANNtrXx/XoUvgTPjs7hGGY14QVkpysl6sKKKKp7nlhRnFFIwyKQC0V0Phj4SeKvGdq0uj+G9f1aKMZZ7LT5p1Ue5VSKzdd8Kap4Yl2ajp19YODgpc27xEH/gQFJtF+zmlzW0KFGaQE5odsUyBc5opAmaVYmJwoJJOAAM07W3GFFdTB8EvGk+ji+Xwj4neyK7hcJpU7REeu7biudvbCXTpminjlhmQ4eOSMoUP40adGU4TiryViCiiikQFFKql2AHetjw18O/EHjNm/sfQtZ1YIcMbKyknx/3wDR0uVGMpO0VcxqM1r+JvAWteDJ/L1fSdS0p+63lq8DD8GANZBdXPGfcEdKSBxadmgo60p4pbe3lu7mOKFGklkYIiIu5mJOAAO5py0JOm+EHwb8T/Hzx/Y+FvB+i32v69qcmyC0tUyx9WYn5VUDksxAABJ4Ffrl+x1/wbheDPC+iWuq/GbW7zxLrMiq76NpUzWunW5PJRpgPNlI6blMY6jB4avon/gkz/wAE6NL/AGGf2f7Ga/sYJPiP4ntY7nxDesoZ7csFcWUbdVjj4DAffdSx6KFT/gpv/wAFW/Cn/BPjw3b6UlrF4k+ImqQmWx0ZJ9sVsnIE9yw+ZY9wICj5nwcYALDyq1edWXJA/XMn4VwGXYT6/nNm7Xs9l5W6vy/4c9B8If8ABND9nz4f2CW+n/Bz4fSKo+V7/R4tQl/7+XAd/wBam8X/APBOz4DeONNe0v8A4O/DkxvwXtdBtrSYfSWFFcfga/FH4l/8FxP2lfidqlxNH4+Tw1as25LHRdLt7eGEeiu6PKf+BSNUPwx/4LeftJ/DDXrS8k+IDeJLSB90un6zp1vcQ3I/uu4RZQP911PvQsJW3uX/AK55Ff2Sw75f8EbfdfY/QP8Aar/4NyPhp8QtJur74W6pf+BdbEZa3sLud7zSpG5+Vi26dMnHzBmA/unt+PHx/wDgH4q/Zm+KGpeD/GWl3Gka5pb7ZYZB8si/wyRt0dG6hh1/Sv37/wCCZf8AwVB8M/8ABQvwLcQeRF4f8daOgbU9EebeHQnH2m3Y4LwkkAg8oWCnOVZsj/gsH/wTtsv23f2dLi90u0iT4geDopb3RZ0XEl2oG6SzfH3hIFG3P3XCkcFslDEypz5J7E53wtgMfgv7QylJO17R2kuqt0a/4Fj+elWzS0NF9mO0hsg4ORyDSqRjuT2wK9jdH5GxKKVT6g0jAg1NhBRS5oTBfriny6gJRmrFnZTanerb2sEtzM5wqRKWZj6AAHNburfBjxjpFg13deEvE1raIMtPNpc6RgepYriiy7lxhOWsUc1RQBjjuOvtS4+X0PapIEpcUqsAe/4U2aTgYzz36CgNQzijOa6TwZ8FvF/xHx/wj3hPxNrpbgDTtMnuc/8AfCmpvGvwG8c/DGCRvEngvxb4eCDcf7T0i4tMD/togqeZGvsKnLz8rt3tocrR5fmsBxgc8nGcc00Etz0+tOUZkpp3Mtj9nf8Agkj/AME0fgb+0P8AsDeCvFvjL4f6frniLUXv0ubyW7uY2mEd/cRpkRyqvCIo6ZxXxV/wXD/Zt8Gfss/thab4a8CaBa+HdEuPDNrqDW0Ekkg817i5ViS7MeiAdewr9Sv+CEoz/wAExPh5/wBdtU/9Od1X53f8HJDmP9v/AEjHfwbZfh/pV5XBRk/rFn2P1PPsDhocNUK1OnFTap3aST1Wuu5+fx4orpvA3wX8X/E3P/COeFfEniLnA/s3TJ7vn0/dqa1vGH7LfxM+HFg934i+HPjzQrWNdzzajoF3axoPUs8YAFehpfdH5ksPVcedRdu9jg6KC+Tiim9DEKKKKQBRRRQAUUUUAehfsm/Cb/hfH7Tvw/8ABu3dF4l8QWVhPx92F50ErfhHuP4V/UbbWyQwIkaLHFCoRFUYCqOgA+lfzpf8EXtMGr/8FNvhXEVDbbq9mAI7pp9y4P4Fa/ouiYpxXkZjL3kfsXhrRSwlWt1crfck/wBSSiiivOP0oQikVApOAMn2p1FG2oH5U/8ABzV+zlBP4Q8AfFW1hC3lpct4a1KRUGZI3V57csevylJxz/z0FfkEWyK/oe/4Lg/DKb4of8E2/Hi20P2i70EWusxKBkhYZ081h9IWlP0Br+d6P7vPWvZy+p7tj8K4/wAIqOaupFfGk/nt+hLazPaXcc0UjwyxsHSRG2MhHIIPUH0r9nf+COf/AAWUX40W+n/Cj4q6gp8YYFvoOuSsEGsgD5IJieBcDGFP/LXgY38v+L5GaktLp7G4SaJ3iliYOjo21kI6EEcg111aPtb23PByTO8RlmI9tRej3XRr+tn0P6yomzEufvYycdqdnFfAP/BEf/gqTJ+1p4Lf4deOb5P+Fh+GLPfa3kzc+ILNSqhye88eQH/vAq3JLY+/gMr/ADrw6tNwdmf0HlmY0cdho4mg9H+D7PzQ5Dk0vlGVxzimp1qWEAyjJwO9YHoHzb+2b/wVX+EH7C2tDSPFupalqfiWRBKND0a3W5vYkPR5NzpHHnqA7qSOQDX54/8ABQv/AIKq3P8AwVG0/wAG/Bb4K6P4jsIPF99H/aqamkVtcXsof91bny5XUQJjznYk5KJ0Ctn4K/az8X6/44/ab8f6n4nluJNcufEF6bzzs7o3E7gxgHoFxgDoAABxXMfDXxTrPgv4iaDrHh5riPXtM1CC608wAmXz0kVo9oHOdwFezRwajFN7n4dnHGmMxc54b4aTdml8Vr6693/wD+mb9ij9mHT/ANjj9mnwx8PdNu5tR/sS23Xd5IzE3Vy53yuAT8qFiQqj7qhR2rp/jv8ABnTP2hfg94j8E619qTS/E1jJY3ElrKYpoQ3R0YEfMpAIB4OMEEEivzNP7fP/AAUJLt5fwOt+mT/xSl1gf+R6+rP+CYv7QP7RHxwuPGyfHjwOngyPT0sW0Qx6RLY/a/M8/wA/JeV9xXZF0Axv56ivMrUZRbZ+lZdnGDxHLgKdKai1bWDSsls36Hwr+xj+3Hq3/BFX4x+Pvgp8XrDXdZ8KWMxvdJfSoY5ZVkbBSaFZZEHkXERVyC3yOh4yXr7s/Y9/4LMfBb9sXxzF4V0m71rw54lvFJtLHX7aO3+3EDJWKSOSSMt6KWDHsDg1+H//AAUI8V6740/bj+LF74jeZtVHii/tnWXOYY4p2iijGf4UjRFXttUYryjw/q11oGv2N/YzzW19Y3EdxbTwkiWCVGDI6EchgQCMc5rveFjKCk97H5nhOMMXl1b6rS96jCTST35b7XP6xQpEpHPFPrA+Fd7qWrfDnQbvWYvJ1e50y2mvo/8AnnO0SmRfwctW/XlNWdj9xi7pMKZKzADb17U+kZSVyOooW5R/NF/wU6+EA+Bn7f3xU8PRxrFbprst/boi7VSG7Auo1AHQBJlA9hXhNfbX/Bwbpi6f/wAFKNcmUAG/0bTZ5CB95hAI+fwQflXxLX0NB81NM/mfO6Ko5hXpR2U5W+8KKKK2PLEbpX9Pv7AX/Jh/wW/7EPQv/TdBX8wTdK/p9/YCOf2D/gt/2Iehf+m6CvNzJWgj9M8NP95rf4V+Z+IX/Bd//lKH8RP+uOlf+my1r5Ar7A/4Lv8A/KUL4if9cdK/9NlrXx/XoYd3pR9D4rP/APkZ4j/HP/0phRRT4mw/pxnpWx5B0/wR+DXiH9oL4raJ4N8K6fJqeva9ci3tYFOOxLOxPARFDMxPRVJr95/2Cf8Agjb8LP2Q/Clnda7oul+OfHrIst5rGpWwnhtpOu21ifKxqpHD43nnJAO0fmX/AMEL/wBqT4Wfss/tO6vqvxHubjSrzXdOXStI1V4BJZaezyhpTMR80W7ZGofG0AvuKqSR+m3/AAVd/wCCkK/sYfst6drPg+5sNT8U+PHa38OXQZZ7aKIJukvBgkSBAUCjoWlQnIBB8zFOo5ckdEfp3B2GyzD4KeaYpqUo9N+VdNO7ez/4J9gPEkSpEqhfLAVQowFHYYrH8dfD/Qvid4bm0XxLoml69pd1/rbPUbVLiF+CMlXBGRk4OOO1fy1/Ev4ueKvjT4hn1rxd4m1nxDqkrljPqF3Jcvk+hYnaBnoOPQAYr7E/4Ig/t1eOPhd+2F4W8CX+v6nq3gvxrMdJl0+7naaOwlZGMM8IJ+Qh1UNjAKs2QSBjkeFklztnq4HxBw+KxMcNUo2jJ2ve++mqt+p3f/Bav/gj9pP7MOhj4pfDC0uLXwi86wa1ozM0o0qRydk0LHLeSSMMGPyFlwdpwv58fCaJbn4peGkdQ6SaraoykZDAzKCDX9Qf7RPgC1+KfwH8Y+HtR8qXT9Z0W7s5S4DbA8TLuwe65BB7ECv5f/hFHj4r+F/+wvaf+jkrrw1STpyR81xtk1DA46nUw65Y1OnRNNXt5an9OcP7M3w1ECIfh34GK7AoB0G1wB/37rgf2XP+Ca3wq/ZLsvtOieHNOv8AxLczPdXWvX9okt9JIzbiI2OTDGOAqIQMKCdzfMfd7dA6r67eM9K/JH/gt1/wVp8UeFPipf8Awf8Ahjrtzodvoi+V4j1ayYJdT3DoGNtDKPmjWMEB2Uhi5ZeAvzedh1Kfuo/Tc6xeX5bSWNxNNNrSNkr3fb7t+iP1uVsMxHLN1PUmvM/2jP2Nfht+114ck0z4g+FdN1wMmyK8ZPLvrP0MU64dCPQHB6EEV/MrN8QNd1DxJ/bk2r6k+sRHf9ue7ka5z6+YTuz+NfsT/wAG+37f/in4/wCmeJPhl431i81/VfDdoNW0i/u5DLcvZ70jmhkc/M/lySRlWYk4lIzhVFdNSjUprmvseBlXGeFzXEfUcRRspbXfMn5PRfqfnn/wVA/4J5an/wAE9Pjumjie41Twj4gje88P6lMoDzRKwEkMmOPNiLKGxjIZWwN2B846ZptxrWpW9nZ2893d3cqwwQQoXkmdjhVVRyWJIAA65r98f+C/PwmsfiL/AME6vEGtXEUf2/wTqFlqtlLsG9d86W0iBuoBSckjuUX0FfBf/Bu7+y1Z/Gj9rDVPHOr2wuNO+GVrFdWiOuY31CcssBP+4kczj0ZUNdMMVei6nY+LznhfkzyOX4bSNSzXktb/AHWfyPsX/gnF/wAEH/BXwM8L6X4n+K2m2XjLx1cRLO+mXYE2maOxGfLCfdnkGfmZwVBACjjc36A6Vo9poOmxWNlbWljY2q7IoIIliiiX0VRgKPoK8x/bS/aw0r9jH9m7xN8QdVjF22lQbLG0L7Tf3kh2QxZ64LkFiOQoY9q/nf8A2kv25/it+1f4uvdX8aeMtZvVvXJGnQXLwadbL2SK3U7FUDjpk9yTyeOjTq13fofc5jm+XcNwjhcPSvJq9lo7d5Pz/qx/TN4g8JaP450G60vWLDT9X0m9jMdzaXkCXFvOvUh0cFWHHQjtXzz8C/8Agll8K/2fvjL4z8R6L4b0abRfF0Ftt0W+sY7qDS7iN5TJJb+YDsWQOmUGApTj5cKv4Jfs7/tlfEv9lbxPZan4K8W6zpa2Unm/YPtLSWFx/sy27Hy3B9xkdQQQDX9EX7Cv7WumftrfsyeHfHmnxx21xfxm31OyRi32C9iO2aLJ5K5wyk8lHQnk0q2HnTXka5Jn+BzysvaUuWrDVX102dnp31VvP0+Iv+Djj4T+Fvh/+yR4KudB8NaBolxP4ujjll0/TobZ5F+xXR2kooJGQDj2r4L/AOCOPwEj/aF/4KF+AtOu4FuNM0Kd/EF6rLuUpaqZIww6FTP5KkHqGNfor/wcx8/seeBv+xxj/wDSK7r5s/4Nl9Giuf2u/HOoHBms/CLwJkdBJeWxJ/8AIdddN2wtz5TOcLTq8U06LXu3hp6an7PeLvEdt4E8ManrWoSeVp+kWst7dP8A3Io1LufwUGv5dv2kvjrrH7THx18UeO9dlll1HxNfyXhR3L/ZkLfu4VJ6IibUA9FFf0Qf8FS9fn8Pf8E7fjFdW+7zW8M3VvlTg7ZQIm/8dc1/NXnzDRgEpJz7GviVi5e0o4ZfDZy+ey+6z+8iI2ClU5XmnMu2ut+BPwT139o34uaH4I8MxW82u+IpzbWcc8ywo77WbBY8DhTXe5W1Z+ZU4SqSUIK7eiNv9kb9pLV/2Sf2ifC3j7SHn36DepJdQRuV+22pIE8B7YdMjnocHqBX6Q/En/g57Mw+zeF/hIOR/wAfOq63x6f6qOLOf+2lfN8P/Bv3+0msf/IC8OYPVTrsHy/rSSf8G/f7SJH/ACBPDS/9x2E1zONGUuZvU+xy1cSYCnKjhKc4xk7/AAX/ADTPkL4leNX+I3xB8Qa/9ittMXX9SuNRNnbLiG282VpNkYJJCLuwM9gK/Vb/AINy/gn4K+KXwJ+IN14p8H+F/Elzaa9FDBNqulQXjwobdSVUyKxAzzgd6/NP9qf9lzxd+x18Uh4M8bW1rZ60LSO+MdvcrcJskzg7l47Gv1T/AODZAbv2eviT/wBjFD/6TLVYqS+rNx7j4Qw8v7bVPEx1966a627Gn/wUU/4JO2v7WP7X/wAPfD/gnQvDfw/8J2GjTX3iXUtL0qG24M6qihI1USTsM7ATwFdjwMH6d/Z+/wCCVnwG/Z48KW9npnw58PaxeQ/63U9ftI9Tvbhh/HvmUhD7RhV9AK9P/aS+Pug/ss/A3xH4/wDEs3k6R4btDcSKuPMuHJCRQpnq7yMqKCQMtyQOa/CD9qD/AILafHb9ojxZfS6Z4u1HwH4faQi00vw7P9jeBR033CYmdyMZ+cLnOFUHFebR9rVXJHY+5zWtk+S4iWIrU+erU1SstFt10S09Wz1//g46+HmgfDv4/wDw/i0DQ9I0KK80CWSePTrKO2WZxcMAzBAATgYyecACuJ/4JKf8Eh7z9ubVP+Eu8Xvd6L8NNLuBC7RHZd65Kpy0URP3I14Dydedq87mT5E+KXxw8ZfGu/tbvxj4q8R+LLyzjMMFxrOpTX0sEZO4qryszBc5OAcZJPc1++n/AASI/bC+Dvxa/Zq8I+A/A2qDTtW8GaMlte6DflIdR3ov765RekivIS5dM4L/ADBScV31eejRUI6s+RyWjgc5zudevaMHqoN7vRW/Vr/gn0B8EP2ZPAn7OXhxNH8D+FNC8NWUMYTdZWypPPj/AJ6yY3yN0yzEk967WObyvlJDc+ua/Cb/AIK+f8FXfGXx3+PGt+CfBXiDUvDngDwneS6cBpd48D67NGSkk0roQWiyCETO3ADEZPHw54Z8c654I1tNU0TWdV0fVIW8yO8sruS3njb+8HQhgffNcccJNrmvqfRYzj/CYSu8NhaPNCLtdPlXyVnp9x/SJ+2T/wAE2/hV+254avIfE/hu0s/ELwsLXxDp0SQalbSfwneB+8X1STcp9AQCP57/ANq79l/xH+x78eNe8A+KEX+0dGmHlXEYPk30DDdFPH6q6kH2OQeQa/dz/gi3+174g/bH/Yrg1zxVO974j8M6pP4fvL9wA2pGGKGWOZscbzHPGGPdlY96+Nf+Dn3wFZ23ib4ReKkjRdR1C11LTJ3x80kULW8kQz/stPL/AN91WEqyjU5G7oy4wwGExuVxzjDq0tH6ptKz803udN/wbL6BYaz8J/ik93Y2l08Wr2QVpoVcqPJkOASM9hX3r8dv2IPhn+0X4u8Jah4x8NWmqp4MmnuLPT3jVbGWSXZzLGMeZt2nCtlfnPGea+Ff+DYRd/wj+KuO2sWX/omSvs3/AIKS/tjx/sMfsoa944it4L3XGdNO0W3nJ8ua9lDFCwHJVFR5CBjIjIyM5GOJc/byUXbU9rh54aHD1OpiknBJt3V9pNntBg0nwTpMFlbrYaPZWiCOCCNEtoYV7KijAA9gKtzGLVNO/guYpk24OGSQHt3BBr+V/wCMHxr8X/Hnxrd+IfGXiLVfEWrXkjSPPe3DSbMnO1F+7GgzwqAKBwAK9F/Yk/b88f8A7DXxM0/WPDWrX1xoUc2dR8PzXT/2fqURI3gx52rJgfLIBuU+xIOv1GcVzcx41DxJoOqoTotU+99UvS36n6s/8FOf+CG3hL4++E9Q8WfCnS9O8J/EGxja5l020VYNP17AJaPYPkimP8LqArHh+u4fiDrGh3fhrXbvT9QtZ7LULCVre5tp0KSW8ikqyMp5DAggg+lf1RfBz4q6X8cPhZ4b8ZaJI0ukeJdOg1K1Zhh1SVA+1gOjLnaR2II7V+Ln/BxX+zBbfB79rrS/HOlwLBp3xL08z3KxptQX9tsjmPHGWjaBj6szHqa0wWIlzunI5uO+HsOsOs0wattzW2ae0vv++5+hf/BCB9v/AATH+HYwDmbVOv8A2E7qt/44f8EuvA37Uf7Z0XxU+IEa+INP0nRbXStO0J1Itnkilnlaa4/vj96oWPp8p3Z6Vz//AAQmOz/gmF8Pf+u2qf8Apzuq7L/gqf8At1N+wf8Asq33iixhtrrxRq9ymjaFBOu6L7S6u5lcDkpHHG7Y7ttXI3Zrmmm63Kj67CrCf2HQqY1XhCEJa+UV06+h77oWi6Z4M0u303R7Cx0rTrZQkVtaQpBDCPRUUBQPoKvNa+ZEd2Gz0OOlfy1/F79p74j/ABw8VTat4t8b+JNcvp5DJun1CQxQ57RoCEjX0VAAPSvq7/gkj/wVZ8a/s9ftA+HvCXi/xHqmv/DzxNeR6Zcw6hcG4OjvKQkdxE7ksiIxG9AQCpY4yBVvAtK9zwsF4h4WtiFQnScYPRO609V0XzZ9zf8ABXL/AII5eHP2hvhvrHj74d6JZaH8R9Jga8mtbGPyYvEqIpLRtGvyifA+V1UFjw2c7h+GdwFVtoH3PlJz945PP8q/rOed0tv3qq5HYjjntiv5sP8Agqf8GLX4Dft+fE3QLKFYLL+1jqVtGi7USK7jS6VVA4AUTbcDptrXAVHdwZ43iFktGhyY6grcztL13T/B3Pnuiil/gNemfmQmaKYBkdqKWo7D6KKKYj6P/wCCRXjVPAP/AAUk+El/IcLNrJ078bqCW1H6zCv6Q1+dt1fykfDfxxf/AAx+IeheJNLfytT8P6hBqVo/92aGRZEP/fSiv6lvhD8R7D4w/DDw/wCK9KYPpniPTrfUrY5z+7mjWRR9QGwfevKzGOsZH694aYpOhWwz3TUvvVv0OjooorzD9OCiiigDN8YeDtO+IPhLVdC1e3S80zWbKaxu7d+k8MsbI6H/AHlYj8a/mH/a8/Zm1v8AZC/aG8R+AteRzcaNct9lutu1NQtWO6C4T2dCp9juU8g1/UO43nFfL3/BTH/gmB4Y/wCChXgGBpJ10Hx3ocEiaPrSxblCnLeRcKOXiLdO6EkgHkHqwtVQlqfH8Y8OyzPDRlQ/iQvbzT3X+X/BP5z6CM1q+PvBN/8ADTx5rfhzVVWLVPD+oT6ZeRq4dY54ZGjkUEdcMprKr3Yvqj8FlFxbjLdHTfBv4ua78BfijofjHwzdtY654eu0vLSUdNynlWHdGGVZe6sR3r+mb9kj9pLRv2u/2dvDXxC0PEdrr9oHmt925rK5X5ZoG90kDr7gA9CK/l0UV+pf/Bth+1RLpHjjxd8Ib+c/Y9Xi/wCEg0lWbhLiMLHcIB6vH5TfSA1yYuHPG6PuuAs5lhsd9Um/cqfhLp9+33H7CU6NiJPX8M02lUbhXjn7gfBn/BQz/gg54U/bE+JN7448IeID4F8Saqwk1JHsftVjqMuDmXYHRo5TkbmGQ23O0MWY/Bf7SP8AwTw8X/8ABHD4pfC/4pXb6P8AEnQbDV4ri5b7CYba2u4n3rbybi/LICyScYZCcAquf3q3nPU8Vx/xw+Avhn9pb4T6z4J8XWH9o6DrsJhuIgdrqc5WSNsZR1bDKw6EVvHFSjpJ6Hx+bcIYPEueIw8eStund25lrqtteunmP+Bvxt8PftDfCPw/428J3yX+g+I7Rbu2kXgpnIeNx2dHDIw7MpHaurU7s5P4mvzq/ae/4Ks/B7/gk/bQfBv4V+Bl12/8NALd2NteG1stPkcbm824ZZJJZydpbg/e5cEYrS/YU/4L8eDv2pviJp3gzxf4bl8AeINYlFvp10t6LzT72ZiAkJcqjxyOThQVZWPG4EgGJ0JNc/Q76XE2AVWODr1o+10Ttfl5uqTtbfzN3/go7/wRA8K/tu/EWXxt4e15fA/jC6iRNRkFl9ps9VZF2rJJHvVkkwAN4JyBypIzXnv7Fv8AwbteHfgn8StL8VfEXxZF4zn0eb7Ra6Pbaf5FiZV5R5WZy0oU/Nt2qCQM5GQf0ohYkEN65B9v8/zp6ttB96lYiajyX0KrcL5ZVxX1ydJc979bX72vb8AebA2qm0H2pKVm3UlZHvIKaSxlVV7nFOqrrevWvhfRbzUr2ZLe00+B7meVzhYo0UszH2ABNC3Buyuz+fr/AILx+NYvGP8AwUv8aRwtuj0W00/Ts/7QtIpHH4NIw/A18dV3f7TXxnn/AGhv2g/Gnje53B/FOsXOoIjdYo3kYxp/wFNo/CuEr6KirQR/MWZ4lYjGVa62lJtejegUUUVqcIjdK/p9/YC/5MO+Cv8A2IWhf+m6Cv5gm6V/T5+wEcfsHfBX/sQtC/8ATdBXn5n8ET9M8NP95r/4V+Z+In/Bd/8A5ShfET/rjpX/AKbLWvj+vsD/AILvn/jaF8RP+uOlf+my1r4/rtw38JHxWf8A/IzxH+Of/pTClBwaSkd9nWtjyNyWG2k1C5jhhjkmmlYIkcalndicAADkk1+mP7Kf/Bvx8SvjV4M0S7+Lfiy/8F+HbaIy6b4fic3t/ZCQq0gKMfKtS+FJADNkYdQRisL/AINyf2VtE+N/7Q/ijx3rdpDfQ/Da2tW0+CYBlW+uml8ubaeDsSCXHozA9q/Vz9uj9sHRf2IP2ctY8ea1bSagLFo7ax0+OTy31G6kOI4g+DtHDMzYOFRjgkYPmYytLm5Ibn6TwtwvhKmClmeZP93rZXsrLdu2r1Wi8up5B8GP+CGf7OHwesY/N8HTeML9cbrvxBfSXRYj/pkuyHH/AGzr6M+HP7PHgD4SFG8LeCvCPhhol2qdL0e3tG9OsaA1+FPx6/4Lr/tC/GS9mGl+IbfwHpUpYpaaDbKkirk4zcPvm3cdVZQeoUDgc5/wTu+M3jr41/8ABR34Sf8ACSeLPFni64PiKCVv7R1Se9IVdzM37xjwFDZ9s1lPC1HC82ephuLsopV4YfL8Nu0r2Ud3a/Vv52P6EvHqg/D/AF9cY32E+e+f3ZH9K/ln+ELE/Ffwv/2F7T/0clf1MePsjwPre5fmOnz8/wDbNq/lm+EP/JV/C/8A2F7T/wBHJU4D+HP5GPiR/Gwv/b35xP6rYf8AVr/ug1/L7+2Rcve/td/FOWV2klfxfqxZmOSf9Mlr+oKD7g9hiv5ef2wP+Tsfih/2N2rf+lktGU/EzbxM/gUPV/kjztRtORX6F/8ABtV/yfV4r/7EO8/9OGnV+eSHJr9Dv+Dar/k+nxX/ANiHef8Apw06vTxlvYyPgOFf+RvQ/wAR+i//AAWrYp/wTC+KZAz+4sOP+4la188/8GzVtEn7NHxBmAXzn8TpGxxztW0iK/qzfrX0N/wWrkMX/BL/AOKp/wCnew/9OVpXyF/wbC/FODyvil4JmcLc7rPW7VM8unzwzH8D5H/fVeTRX+yyfmfqePqRjxTh1LrTa/8ASzsP+DnHxBcWn7PXw10pCwtb/wAQz3UuDwXitiqZ/CZ6/GXPFfvl/wAF/P2ZdR+Pv7ETazottJean8PNQXXHgjUtJLabGjuNo77VZZD/ALMbV+B57g8EHpXbgai9nZHwfH1GpDNXOe0krfdb8wQBs5r9lP8Ag2Q1uW5+BfxO08k+Raa9bXKDsHlt9rH8ok/IV+NQDbwFGeenrX7y/wDBvt+zlefBT9iBvEOqWz2uofETUm1eKNxh1s1RYoMj/a2ySA91lU96WPn+75RcAUpzzeM47RTb+635tHGf8HM//JnfgX/scov/AEiu6+Uf+Dbfx1F4b/bn1zSJnCf8JD4UuYYQT9+WK4t5QP8AvhZT+FfV/wDwczH/AIw78Df9jlH/AOkN3X5R/sLftFH9lH9rjwN48ZpFs9E1JP7QEYyz2cgMVwAO58p3wPXFRQjzYZxPV4ixawvE0K8to8l/Tr+B/RB+318N7j4p/sSfFXQLNDNfah4XvvskS9ZZkhaSNPxdVH41/MOjFRzX9ZGj6pa+KdEtr61uIbywv4FngniIeOeJ1DK6noVZSCPav52/+CqX7AGsfsOftGapDDp8p8B6/cyXnhy/Rcw+Sx3G2Y9pIt2wg9QFYcNWWX1FG9N7noeJGXznCljaaulo/nqvlv8AgfL/AFr1P9iP4+af+y3+1V4M8f6pYXWp2Hhi9N1La2xUSzAxumFLEAH5u9eWZpkykj5Rluw9a9RpNWZ+U4etOlVjVhvFpr1R+0Mf/BzX8NoxtPw48c5bJGJbXj0H36/SDwxrH/CUeENK1Q2k9kdWtYrz7NcEebb+YgfY2OMrnB+lfzp/8Eqv2K9V/bU/a10DTmsZpPCPh6ePVPEVw0RMCW0Z3iBm6B52URgdcMx/hNf0V63rFl4U0C91TU7iOz0/TLd7meVzhIY0UszE+gA/SvJxUYQlaO5+68F5pmOOoVMTjn7u0dEvX9PxPwa/4OE/E0Gv/wDBSfWLa32/8SXQ9OspsdnMRm/lMtfX/wDwbGjP7PXxK/7GKH/0nWvyr/a9+Pdx+1B+05448eTltviPVpri2VusdsDst0P+7Csa/wDAa/VP/g2N5/Z7+JP/AGMUJ/8AJZa7a8eXBpPyPi+G8UsTxNLER2k5temtvwOm/wCDlnxRc6N+xX4S0u3leOLVfF0P2jacCVI7S6YIfUbirfVRX4fHCjH41+1v/BzcMfsn+AP+xt/9srivxSfpRgnanoefx6283lftH8hY2MTZBGexr279hv8AY/8Ain+1f8VoLb4WR3dhqWiMlzPrn2t7KDRQWO2Rp0+dW64CAucEgYBI8PHCkntX9Mf/AATq/ZS0b9kL9kjwl4Y0q3ha+ubGHUdYulQBr2+mjV5XJ7gE7Fz0VFHaljK7hHTc5eE8g/tTFNTdoQ1dt/JL/M+Rv2fv+DbLwD4Yt0u/iZ4w1vxnqMhDvb6Yo06yB6sCx3zPz/FuQn0FfWXwu/4JhfAH4NRRDRPhP4OaeMjy7jUbEancI3qJLnzHB9wRXyV/wVU/4Le6z+yt8W7/AOGvw003TZfEGjog1bV9TgM8NrK6BxDDGGAZlVlLM2QCSu3IJH5o/Fz/AIKafHv43STnX/in4ueGbO61sLw6bbY9PKt9ikfUGuT2VWok+ax9jiM44fymo6GGoc046PRPX/FLX7j+kzw9oOn+F9MSx0uwsNNtIj8sNnCsMQz6KoAHbtX5Y/8AB0W3/FN/BT/r41r/ANBsK9Y/4Nu21C8/Yb8U3uo/apJb3xzeSpNOxYzL9isFLAnqNwYE+oNeTf8AB0YceG/gp/18a1/6DY1GHi44hQfmevn+M+t8MzxPLy8yi7dvfj6Gr/wbBvs+EHxYP/UXsf8A0TJUv/Bzl4kubf4KfCzSQX+yX2tXd5KueDJDAqJ+k7/mag/4Nh2I+EHxXx/0F7H/ANEyV6J/wcZ/ArUPiX+xdo3ijTrdriTwJriXN4FGWjs542id8egk8jPoMntWkv8AenfuefTpzqcIctPflb+Snd/gfhs5yaIjtbd6Uwybmx6CnKrSOFQFnY4AAzk16u6ufjtuh/QX/wAEHPElz4g/4Jm+C459zDTL7UrWJ2OSyfbZZB+ALkfhXi3/AAc0aHDL+zP8O9QYA3Fr4ne3jbuqS2sjMPziT8q+sP8Aglp8CLz9m39hP4ceEtStza6qbD+0L+Fxh4Li7ka4eJ/RozKIz/uV8O/8HOfxcthpfwt8CQTB7l5bvX7uIHmJAFggY/7xa4/74rxqWuI0P3HOE6HC3s6+6hBfP3fyPqP/AIITRiT/AIJhfD3t++1T/wBOd1Xy7/wdB6vPBovwXsA5+z3M+s3DrnhmjWxVSfoJG/M19Sf8EIxn/gmH8Pv+u2qf+nK6r5S/4OjhhfgZ/wBx7/3G1rH/AHg583f/ABiUf8FL84H5Lk5p9oCsoIJUg5BBwQajp0Zwa9Spsz8V6H9Wnw28RP4y+GPhzVpjum1TS7a7k92kiVz+rV+D3/Bf2JY/+CkfiMgAF9J00tjufsyj+QFfuf8As+RhfgH4H9vD9gAP+3eOvw0/4OBBj/gpL4h/7BGm/wDpOteVgv4z+Z+1cfNvJ6blvzR/JnxNQzEDjvRSocNXrH4sRUVI0J3HHTPFFTysdwoooqhCg4r9qf8Ag3a/bWT4ifBW++D2t3n/ABO/BRN5ookfcbrTZDlkU9SYZS2R2WVAOFr8Va7L9nv4/wDib9l/4w6L428JXxstZ0ScTR7ifKuU/jhlX+KN1yrD0PGCAaxxFH2kOU93h3OJZbjY4hfDtJd0/wDLc/qhBzS145+xH+2h4T/bn+Bmn+MPDMwhuioh1fSpJAbjSLrGWif1XurjhlIPByB6/k18/KLi7Pc/onD4inXpRrUneMtUySimAk+tJkipNhz8CklZkCH7w/iHTisfx54Ufxz4TvNKTWNW0A3iqhv9MlEV3CoYFgjlW2lgCpYDcAxKlWwR+f1n/wAEU/i/pnxkuNZsv2p/iFpmi3l5PJI8N/fPqZg8xhEjSmZVkcxbdzsoCtkBGHNaRinuzy8fi8VRnFYeg6ie9pJW+8/M/wD4KvfBWb4F/wDBQT4nabJLHLFqutTa7blGDBYr1jchTjoUMjIQefk9818+WVhcatfQ2tnDJc3VzIsMMUa7nldiFVVA5JJIAFfr3+1P/wAG62ofEfxKNQ8E+MbqfUbm8ibUNV8YeIZNQur+LafOlZUslPnbiAoMpUqnJBb5fD/gP/wQ++L8n7V8F34UvdT8H6B4K1OO6tfGWvaattJeXEEisJ7XTyxcrvGVEhCsq5JGQtevCtCNPRn4vmPC+YvGSkqL5ZSdra7u/lt3dl5nvnxX/wCDbfw98QPhho2oeDPENz4I8atpNs2o6Zfk3ulSXvlL5qh8+bEDIW+b5wMcIK/MyBPiH/wTr/aoDslx4b8e+A9QJVXXdFKR7HHmwSofYMj+9f0Dfs+eAv2hPCfxJlX4h/ELwD4s8IpblUaw0CWx1K5lwcM2JDFGAcE435yQAtdX8Xv2O/hb+0L4hsNX8a+APCvifU9MXy7a51KxSeRV67CxGWTOSFbIGa5qeL5W1LVH22P4No4qEa+XxdCpF9etuujdn2t93U5f/gnz+27oX7eX7O+n+LtOFvYazF/o2t6Ss4kfTLkdR/e8tx8yMRyp9Qa9xAxXmPwb/Yz+GH7Pfja/8ReCvBGheFNW1K2NncyaZF5EcsO5X2+Wp8v7yKQduRzzya9NVsmuGpKPN7ux91gFiFQjHFtOa3a2fn03HUAE/dOD2NFKrYHvWe52H8tf7WGhav4c/ad+Ill4hSaPXLfxJqC3wlUgtJ9pkJYZ6hs5B7gg965TwHouq+JPGek6docVzcaze3kUFhFbg+bJOzqIwuO+7GK/oX/bZ/4JF/Cn9uXxJ/b2vwanoHic4Eur6I8UNxeBVCqs4dHWQABQDgMAoAbHFZ37Ff8AwRi+EH7FfjCLxTp6av4r8U2+fsmo63JHJ/Z5PBMEcaKqtj+I7mGSAQCRXrrF0lS5WfjNbw9x0sa0pL2bd+a+tvTv+F+p9YWEMkFlCtw4knRQsjqMKzgDdj2zUu+lkYuMnrTa8Zu7uj9lQ5WyadTE61IhUON3ApoY08qfWvhD/gvl+2jD+z5+ybN4G0a+8vxb8SlbT3VHxJa6cMG6f28wFYR6iWTHK19VftYftPeF/wBkD4J61478VXPk6bpcZ8m3Vh5+oTn/AFdvED953bAHYckkAEj+b39rn9qrxP8Atl/HXV/HXiqfN5qDeVa2qMTDptqpJjt4s/wrk8/xMzMeWNdmEoOcrvY+H424ghgsK8LSf7yorei6v57L7+h5jGMjPvTqKK92yWiPwsKKKKAEbpX9Pn7AQB/YP+CuT/zIWhf+m6Cv5g2PpX6I/A//AIOI/HHwS+DfhPwdafDzwve2vhPRbLRYZ5by4DzJbQJCrEA4BIQdK5MXD2iSXQ+34JzrCZdWqzxcrKSSWjfXyP0M/aj/AOCL/wAIP2uPjjq/j/xZN4vXW9ZSBJxY6ikMOIYY4Uwpib+GMd68/wD+Ic/9nz/nv4//APBzF/8AGK+W2/4Oc/iEOnwz8Hfjd3P+NN/4idPiJ/0TTwZ/4E3P+Ncqw+JWkdj6qtnXClSo6k4Jtu7fI9W/kfU3/EOd+z2f+W/xA/8ABzF/8YoP/BuV+z22D5/xBIHUf2xFz/5Br5Z/4idPiJ/0TTwZ/wCBNz/jQ3/Bzn8RXQr/AMK18Gcgj/j6ueP1p+yxa1uQs24S601/4A/8jr/+COfjrwv+yB/wUz+NvwTivXtNJ13Vp9M0SS9cF5ZdNuLkRRM/A3NDLIenJXHev0Q/bd/ZB0H9uH9n/VvAOu3U+nLeMlzZX8Kb3sLqPPlyhMgOBkgqSMqxwQcEfzifFz45ar8Vf2g/EHxGjX+w9b13W5teX7JM6/YriSUy/u3yGG1jwetfoB+yl/wcl+I/h/4QtNE+KHhBfGsllH5Sa3p1ytlfSgdGnjKtHI/GNymPPcEkmrr4ed/aQOLh7ijLo0KmW43Sk3LldnblbvZ21W+j/KxRk/4Nkfih/wAJB5cvxD8BLpA+5cqt2bgj3i8vaP8Av4etfbv/AATh/wCCOngb9gLW/wDhKbrUpPGHjtoHhGrXMC29tpqMMOLaIlthI4MjOWKkgbQzA+Nat/wc0/DaLR1ks/h345u73r5dzJawwqf99Xc/+O18pftnf8F8fiN+1D4cuPDnhTS7b4deHr5GhvBBctd393EfvI8+xAkZHUIoOOCxBIOfLXnHU6YYnhXLH9Yw3v1Fsvef56L13P3F+IfyeBdbOcsthPwOh/dtX8s3wfO74r+Fj/1FrT/0clfoDq//AAcqfE/XdJuYH+H3gYR3qSQufNu9+1lAz/rSAevbGe1fnd4S19/DHizTNUWFZm066huhEWwHKOGxnHGcV0YPDyhGSfU8PjXPsHmFWhLCyuoXvo1vb/I/q9iAQY9q/l3/AGwOf2svigP+pu1b/wBLJa+4/wDiJk+KkK8/Dz4f+mS13/8AHK/PL4p+Pbj4p/EvxF4muYIrW58R6nc6pLDESUieeVpWVSecAsQM1OCw86Um5I0424gwWZUqUMJJtxbvdNdDEUYr9DP+Dak/8Z1+LP8AsQ7z/wBOGnV+eAODXuX7AX7dOu/8E/fjJqXjPQNG0nXbzU9Gl0V4NRaQRJHJPBMXGxgdwMCjrjDGumtGU6bitz5LIcVTwuYUsRWdoxd2ftl/wWxYr/wS++KnvBp4P/gytK/EH9gL9sLU/wBhv9p/w/47so3u7G1drTV7JT/x/wBjL8ssYzxuAw6ejxoTxX0H+1v/AMF2PHH7Xn7PHiL4dax4L8JaXp3iNIUmurKS4M8XlTxzrt3uV5aJQcjoT9a+Fhw2axw+HlCi4T7n0PFef0cVmNLGYCT9yK1tbVSb6+p/VV8Kfi14X/aC+F+meJPDWpWfiDw3r9p5sMy4ImjYEMjoejDlWRhkEEEV8TftF/8ABux8HfjH4pu9b8Latrnw6mvSWbT7BI7nTY27skT4dMn+ASbR/CFr8yv2RP2lf2hv2GvBV3468DWPiWDwB56Pf/2lpcs/h+5kcqi7iwCK5wq7o2Vugzjivs74f/8AB0J/xK4U8U/CAvfIoE1zpWvbY5T3xDJCSn/fxq5ZYWpHWnsfXR4mybMqEYZzDll5p29Yta2f9XPVv2f/APg3M+E3wr8T2eqeL/EGv/EGWzkEi2U0Mdhp0zAgr5kSFpHHH3fM2noQRxX6DadHYaZDHplkttbfYoU22sOFEERyEwg+6vykDt8px0r8k/jH/wAHOV5qWiXFv4D+F8Gn6hIu2K+1rVDcJAe58mJE3H0/eAccg19J/wDBCs+PPib8C/F/xW+Impanqmu/EvW/Ntbi9OPMs7ZPLRo0GFjj8151VVAGEGODWNSE+TmqM9XI8xyiOJWByeF73cmk9Eu7lq9bJdNThf8Ag5m/5M88C/8AY5R/+kN3X4l7dz1+xv8Awc6eP7ex+EXww8KeYpu9Q1i51UoDyqQQ+Vk/U3Bx/umvxyJw4r0sCv3VmfnHHklLOJpdFH8rn6yf8EOv+CuVj4X8P2HwV+KOrxWNpblLbwnrF222KNScCxmkPCAf8s2bjHyEj5Af1C+NXwL8KftGfD668K+MtF07xDod8Pmt7qPcFbBAkjYYZHAJw6kMM8Gv5XPMNfVv7H//AAWT+NH7IdpDpdrrKeLfDUEawxaRr7SXMVogIwIHDrJHgDAUMUAP3elY1sG1LmpHq8O8bQo0FgczjzQ2T307NdV+h96/Fb/g2e+HHiPWZrnwp488V+FracsyWt3bRanFAc/dVsxPtAwMMzNxyxrK+HH/AAbHeCtG1qKXxd8UfEfiGyU5e303SYtLMnsXaWcgeuBn3FZfgz/g590V9Oji1/4RalBcAfPJp2vJOjH1CyQoV+m5vrS+LP8Ag570W0jddE+EOp3UhX5JL7X44Ap9SqQvke2R9axcMRsz2efgy/tXa/pU/Lb8D9Gv2ff2cPBH7KXgGDwx4D0Ky8PaMrGR0iyXuJCADLLI2Wkc4HzMT6DA4r8yP+C3n/BXnTvFnh/Vfgv8LtSjvba7zbeJ9dtZN0MsfIeygcHDBukjDgrlQTubHyv+2B/wWg+Nv7W2hX+hXOrWfhDwpqAMc2l+H42g+0x8jZNMzNI4IJBUMqHuvAr5IU7k6Yx61dDCPm56h5HEPG9OrQ+o5XHlhs3a2nZLov6shM/Niv2c/wCDYw4/Z7+JP/Ywxf8ApMtfjMuB8xA49a+q/wDgn9/wVa8Wf8E9fA/iHQvD3hnQdcg1++S+ebUTOCjLGEwvlsBjFd1eLqUvZrc+a4UzGhgcxjiMQ7RSfS+6P0A/4Obef2TvAH/Y2/8AtncV+KTDcK+s/wBvj/grX4u/4KC/DvSPDfibwx4d0az0XUf7Tgk0x5xI0nlPHhvMZgVw56AHOOa+TKihRlTgoyDivMaGOzGWIwzvFpdLbITG0jHXPFf0x/8ABO39prTf2pv2NvBHiOzlRrv+y4dO1aMNlrW+gjWOZSOoBYBl9VdT3r+Z3vXu/wCw/wD8FC/iH+wd4zm1DwbfRS6fqLKdR0a9y9jqIXGCyggrIAMB1IYcjJBIKxNF1I2RvwlxBHK8U5VVeE1Z23XZn6f/APBTT/ghdc/tjfHi/wDiN4I8VWGha3raxjVrHWEk+zzyRxhFmjeNWZCVVAyFMZBbOSQfGvg7/wAGx+vXOv2r+P8A4kaPBpavm6tvD9tLLPMvok0yoEPuY2+leieCf+DnHwPfabEPEPwx8UaZeooEw0y+gvIWP+yX8oj1xjj3rM+JP/BznocNhcp4O+Fuq3N2YyLafWdUjgjjfHBeOJXLDPUBxn1FcUaVeK5UfZ4h8IVazxdWd23dr39X6WP0i+BfwQ8L/s1/CnSfBHg+wi0zQtDi8uGBW3MSTud3bqzsxLMx5JY1+Z3/AAdGc+Gvgr/18a1/6DY181/DH/gvP8X/AAP8bvEnjbWbTRPE914htIrGGwuVkhsdHgR2cLbRxsMZJGSxZjtGScV53/wUR/4KfeJ/+CiuneEofEPhvQNAHhJrp4f7OaZjMZ/KDbjIx/55L0FaUMNUVVT9Tnz3i3LcXlNTCYe8ZOyjG3RSXyWiPu//AINgv+SRfFf/ALDFj/6Jkr9OPFPhvT/Gnhu+0jVrC21PS9Tt3tLu0uIVliuYnUq6MrAgggkYNfmP/wAGwf8AySH4r/8AYYsf/RMlfU3/AAV1/af8V/sf/sjnxv4MuoLXW7HXLKFRcW4ngnjdm3xSIcZVgMEggjqDmuTEKTxD5dz6ThzEU8Pw9TxFX4Yxk36XZ80fHf8A4NnvBvi3xldaj4D8fal4O025cyDS73TBqSW5PO2KTzY2CDsG3EDHzGu6/Yu/4N+fh9+zJ4+sfFfizxFdfEbXNKkE9hDPpyWWnW8oIKyNDvkMjrjjc+3JztyAR5F8MP8Ag57sH0iCLxp8KrtL8ACa40XVFaFvdIZVDL9DI31ra8cf8HO/g200+QeGvhd4l1G5K4jOqahDZore/liUkfln2rXkxFuU8ejW4QjP63GylvtPf/Dt+B+jfxY+Knh74F/DvVPFfijVLPR9C0aBrm7urh9qoo7AdWYnAVVGWYgAZNfzhf8ABQX9r68/be/an8SeOpo5rXTZ5Fs9Hs5TlrKxiysSHsGb5pGA43yNitf9uT/gph8Tv289bjHivUYbHw9ZS+bY6FpqmGytmAIDsMlpJME/M5OMnbtBIr58VzHlgAx/u+ua68JhPZ+/Pc+T4t4q/tO2Gw6tSTvru338l2/Hy/oU/wCCEX/KML4ff9dtU/8ATldV8pf8HRx+X4Gf9x//ANxteG/sS/8ABc/W/wBjL9mrQPh5Y/D7SddttFa6ZLu41SSCSXzrmWc5URkceZivLv8Agpd/wU61T/go4fBX9peErDwv/wAIb9u8v7LftdfaftP2bO7cq7dv2cYxnO4+lJYeXtefoevmXEWX1eHll8J3qcsFaz3i431tboz5ZpU+9SU6PjnjI5we9ds78h+ZH9Un7Pwz8BfA/wD2ALH/ANJ0r8M/+DgWP/jZP4h/7BGm/wDpOtew+Av+DlnxL4J8FaRov/CqPD00ej2EFjHM2szKZhHGE3ECMgE4r4r/AG9f2v7n9ub9oi9+IN3olt4euL+zt7V7O3uWuI18lNgIZlU8gDjHXvXBhaEo1OZo/TeLOIsvx2Www+GneacXazWyfdHjJGKSiivTsfmQu6ikopgFFFFZgFIVyaWigD1r9jj9tPxt+w78V4fFXg6+KhwsWo6bMSbTVYQc+XKoI+oYfMp6Hkg/vF+wb/wVN+GP7d+gQwaZqC+HfGSRg3Xh3UZlFyGxyYG4E8f+0oBA+8qdK/nDIyKl06/uNG1CG7tLie0urZxLDPDIY5ImHIZWGCCPUGuavho1V5n1HD3FOJyuXKvepveL/Ndn+B/Wd5TJz/Ceh9aUivwT/ZQ/4L9/GX9nyxi0zxP9l+JmjQgBF1aZob+JR/CtyoJIx/z0WQ+/avuD4Vf8HJvwW8V6Sv8AwlPh/wAa+FL8Ab0S1j1C2B77ZEdXP4xivLng6kT9XwHG2VYmPvVOR9pafjt+J+hL80plOK+SdD/4Llfsv61AHb4kmyY/8s7nQdSVl+pFuV/I1o/8Prv2YP8Aoqtl/wCCfUf/AJHrD6tUfQ9lZ5lrV1iIf+Bx/wAz6jQbelOK4NfLX/D639mA/wDNVbH/AME+o/8AyPS/8PrP2Yf+iq2H/go1H/5Ho+r1F0YPOst/6CIf+Bx/zPqQD5s0Fq+W/wDh9Z+zDj/kqth/4KNR/wDkek/4fWfsxf8ARVbD/wAFGo//ACPR7CXZiWdZb/0EQ/8AA4/5n1LyRQFxXy0f+C1n7MX/AEVWw/8ABRqP/wAj0n/D6z9mL/oqtj/4KNR/+R6ToT7MbzrLv+giH/gcf8z6n5pCSDXy1/w+r/Zi/wCiq2X/AIKNR/8Akek/4fWfsxf9FVsf/BRqP/yPS9hPsxLPMt/6CIf+Bx/zPqUkntQq49q+Wv8Ah9Z+zF/0VWx/8FGo/wDyPR/w+s/ZhPX4q2P/AIJ9R/8Aken7Gp2Y3neW/wDQRD/wOP8AmfU/X3pCnHFfKGrf8Fvf2YNLtGm/4WfHOV6RwaJqLu30H2fH5mvLviP/AMHH/wAC/C2ny/2DpnjbxTcgHyxHYx2kLHtlpXDAfRD9KccNUk7JM56nEWV01eWIh8pJ/lc/QARmvAv21f8AgpJ8L/2E/Dss/irW4r3xD5W+z8O2Eiy6jeE9PlziNPV3IGM43HAP5WftTf8ABw/8W/jXpNzpHgmw0/4a6XcHBubSU3mp7OQV89lRUzn+CMMMDDdc/BOv69f+KNbutR1K9utRv76QzXFzcytLLO55LMxJJNdtLL3e8z4/OPESjBezy6PM/wCZ6Jei3fzt8z2/9vz/AIKEeN/+CgHxOXWfEzpp2j6ezjSNCtXJtdMRsZPODJKQBukIGewVcKPBKKK9aMYxVon5PisVVxNV1q8uaT3bCiiimc4UUUUAKrFTxQDg0lFIAY7hSbKWimAmygLilopWAKUsWXHakop9LAKHIFLvPl7e3XFNooAMUUUU7sAozRRRdgFFFFIBRX1X/wAEcv2gfAn7Pv7Zum3HxE0rRrzw94gtjpK32o2yTpody8kbxXY3g7cFChYcqspOcA18p06N2jfK9enIz14qZK8bI6sFipYXEQxEN4u+ux/VR8UvhX4Y+O3wz1Pwv4k0+z1vw1r1p9nubZjuimjPKlSp4YHDKykFSAQRivza+Jv/AAbJeHtW1ye58G/FHUtF0587LHVNHW/dOeMTJLFwPdCfcnNfIP7E3/BbT4tfsbeH7XwxcLZePPCFkix2un6vK4nsYx/BBcDLKuOArB1Xsor7L8Lf8HOfgm8t0/tn4XeKtPkzllsdRgvFX8XEWfyFeRyYiDsfrNXPuHM3hGWYLlku/Ndf9vR6f1Yvfs9/8G1XgnwN4otdU+IPjrUvGttauJP7MstO/su2nIIIWV/Nkdl4OQpTOeuMg/otv0L4S+AyQNN8OeGvDdlwQFgs9Otok9sBEVF/ACvzU8e/8HOnha00+UeGPhfr9/dYxEdT1KK0jB9SIxKT9O/qK+CP21P+Cqvxb/bfhl03xHqsGj+FnkEi6Do6tBZvtOVMpLM8pzg/OxUMAQq4rRYarUXviXEmQZRSlHLI80n2v+MpdPS5L/wVg/bfH7dX7V19r2n+ZH4V0CH+yNBjdSrPboxLTsDyGlcs+DyFKA8jNfM2OaUnNJXoRioLlR+TYvF1cVXliKzvKTuxSc0lFFapnMAGKKKKAFDEUZzSUVSACM0u4hcdqSimAUUUVLAKKKKaAOlKGIpKKT3AMc0j/dpaGUsvFNdxdT9iv+DYMf8AFofit/2GLH/0TJXsn/BwuNv/AATm1D/sP6d/6G9fNn/Bun+0T8Pvgh8L/iVb+NPHXhHwhcX2p2cltFrWsW1gblVikDMgldSwBIHHrXq//Bdb9q34XfF39ge+0bwn8SPAXifV21uxmWx0nxBaXtyyKzbmEccjNgZ5OOK8mUGsUmfs2DxNFcJum5rm5JaXV930PxNL5alBwabj56WvVZ+NBnNBGRRRVIBQcUE5pKKl9gClDbTSUUgEVQvSloooAKKKKpAFFFFUAUUUVmAUUUUAFFFFABQBiiigApc0lFKyAXOKNxpKKewC7jRuNJRTuwF3GjcaSii7AXcaNxpKKLsBSc0lFFF2AEZo7UUUrsAPIoAwKKKACiiigAooooAKKKKACiiigAooooAKKKKACiiigAooooAKKKKACiiigAooooAKUHFJRQAHk0obBpKKAFLZNJnNFFABRRRQAUUUUAFFFFABRRRVIAoooqgCiiigAooooAKKKKh7gFKDikopoBd2BRmkopgFFFFABRRRTAKKKKACiiigAooooAKKKKACiiigAooorMAooooAKKKKACiiigAooooAKKKKACiiigAooooAKKKKACiiigAooooAKKKKACiiigAooooAKKKKACiiigAooooAKKKKACiiigAooooAKKKKACiiigAooooAKKKKACiiigAooooAKKKKACiiigAooooAKKKKpAFFFFUAUUUUAFFFFABRRRQAUUUUAFFFFABRRRQAUUUUAFFFFABRRRQAUUUUAFFFFABRRRQAUUUVmAUUUUAFFFFABRRRQAUUUUAFFFFABRRRQAUUUUAFFFFABRRRQAUUUUAFFFFABRRRQAUUUUAFFFFABRRRQAUUUUAFFFFABRRRQAUUUUAFFFFABRRRQAUUUUAFFFFABRRRQAUUUUAFFFFABRRRQAUUUUAFFFFUgCiiiqAKKKKACiiigAooooAKKKKACiiigAooooAKKKKACiiigAooooAKKKKACiiigAooooAKKKKzAKKKKACiiigAooooAKKKKACiiigAooooAKKKKACiiigAooooAKKKKACiiigAooooAKKKKACiiigAooooAKKKKACiiigAooooAKKKKACiiigAooooAKKKKACiiigAooooAKKKKACiiigAooooAKKKKACiiiqQBRRRVAFFFFABRRRQAUUUUAFFFFABRRRQAUUUUAFFFFABRRRQAUUUUAFFFFABRRRQAUUUUAf/2Q==)"
   ]
  },
  {
   "cell_type": "markdown",
   "id": "7f80fc4d-e75b-4c6e-b6d6-faa031389efa",
   "metadata": {},
   "source": [
    "* Inspired by Google's Pregel system\n",
    "* LangGraph models agent workflows as graphs (with nodes and edges).\n",
    "* Its underlying graph algorithm uses messages passing to define a general program.\n",
    "* When a node completes its execution, it sends messages along one or more edges to other node(s).\n",
    "* Likewise, it propogates throughout the graph\n",
    "* The execution proceeds in discrete \"super-steps\""
   ]
  },
  {
   "cell_type": "markdown",
   "id": "6eefa82a-8ae5-4564-bc2b-c3dfcaabe3de",
   "metadata": {},
   "source": [
    "From Langgraph's Glossary:\n",
    ">A super-step can be considered a single iteration over the graph nodes. Nodes that run in parallel are part of the same super-step, while nodes that run sequentially belong to separate super-steps."
   ]
  },
  {
   "cell_type": "markdown",
   "id": "0124dcdc-b9be-4313-bd5d-9edce7e935dc",
   "metadata": {},
   "source": [
    "**Contents:**\n",
    "- Basics\n",
    "- Motivation\n",
    "- Simple Graph\n",
    "  - State\n",
    "  - Nodes\n",
    "  - Edges\n",
    "  - Graph construction\n",
    "  - Graph invocation\n",
    "- Chains\n",
    "- Messages\n",
    "- Chat models\n",
    "- Tools\n",
    "- Reducers\n",
    "- Router\n",
    "- Agent\n",
    "- Memory\n",
    "- State schema\n",
    "  - TypedDict\n",
    "  - Dataclasses\n",
    "  - Pydantic\n",
    "- State reducers\n",
    "  - add\n",
    "  - rewrite\n",
    "  - remove\n",
    "- Multiple schemas\n",
    "  - private state\n",
    "  - input/output state\n",
    "- Filtering and Trimming\n",
    "  - Filtering messages\n",
    "  - Trimming messages\n",
    "- Running summary\n",
    "  - Adding memory\n",
    "  - Threads\n",
    "- Message summarization with external db\n",
    "  - Sqlite\n",
    "- Streaming\n",
    "  - Streaming tokens\n",
    "- Breakpoints\n",
    "- Human-in-the-loop\n",
    "- Editing state\n",
    "- Human feedback\n",
    "- Dynamic breakpoints\n",
    "- Time travel\n",
    "  - Browsing history\n",
    "  - Replaying\n",
    "  - Forking\n",
    "- Parallelization\n",
    "  - Fan out and fan in\n",
    "  - Order of updates\n",
    "- Sub-graphs\n",
    "- Map-reduce\n",
    "- Long-term vs short-term memory\n",
    "- Memory store\n",
    "- Complex schemas (gemini doesnt work (as of 28-01-2025))\n",
    "- Deployment (No langgraph cloud)"
   ]
  },
  {
   "cell_type": "markdown",
   "id": "fa16d6c9-ef1f-4b38-9a02-e890571927fd",
   "metadata": {},
   "source": [
    "Project: **Research Assistant** (output failed, free version rate limit exceeded)\n",
    "- Generate Analysts: Human-in-the-loop\n",
    "- Conduct Interview\n",
    "- Generate answer: Parallelization\n",
    "- Write report\n",
    "- Build the graph\n",
    "- Parallelize interviews"
   ]
  },
  {
   "cell_type": "markdown",
   "id": "6a93539b-c1fa-442c-b9f6-9291887a6ed8",
   "metadata": {},
   "source": [
    "## <span style=\"color:red\">Basics</span>"
   ]
  },
  {
   "cell_type": "code",
   "execution_count": 64,
   "id": "6c6e3978-5ffd-47d0-adbc-b9cf1e7987c7",
   "metadata": {},
   "outputs": [],
   "source": [
    "from langchain_google_genai import ChatGoogleGenerativeAI\n",
    "from keys import gemini_api_key\n",
    "gemini_llm = ChatGoogleGenerativeAI(\n",
    "    model=\"gemini-1.5-flash-latest\",\n",
    "    temperature=0,\n",
    "    api_key=gemini_api_key\n",
    ")"
   ]
  },
  {
   "cell_type": "code",
   "execution_count": 65,
   "id": "965a780e-4a25-4a43-a53b-c2ef1286eda9",
   "metadata": {},
   "outputs": [],
   "source": [
    "from langchain_core.messages import HumanMessage"
   ]
  },
  {
   "cell_type": "code",
   "execution_count": 4,
   "id": "7e4a44a2-8ded-42b2-ae55-0dec318ab82f",
   "metadata": {},
   "outputs": [
    {
     "data": {
      "text/plain": [
       "AIMessage(content='Hey there! How can I help you today?\\n', additional_kwargs={}, response_metadata={'prompt_feedback': {'block_reason': 0, 'safety_ratings': []}, 'finish_reason': 'STOP', 'safety_ratings': []}, id='run-c65f6c76-b82e-4ce7-8499-e8d0a94aa858-0', usage_metadata={'input_tokens': 3, 'output_tokens': 11, 'total_tokens': 14, 'input_token_details': {'cache_read': 0}})"
      ]
     },
     "execution_count": 4,
     "metadata": {},
     "output_type": "execute_result"
    }
   ],
   "source": [
    "msg = HumanMessage(content=\"heyy\", name=\"apple\")\n",
    "messages = [msg]\n",
    "gemini_llm.invoke(messages)"
   ]
  },
  {
   "cell_type": "markdown",
   "id": "564eca6f-968b-479a-8e73-803378de3842",
   "metadata": {},
   "source": [
    "## <span style=\"color:red\">Motivation</span>"
   ]
  },
  {
   "cell_type": "markdown",
   "id": "5a4ebe82-0923-4f6d-8cce-ffeb8d14d16a",
   "metadata": {},
   "source": [
    "A standalone llm has some limitations:\n",
    "- Doesn't have access to tools\n",
    "- Doesn't have access to external context\n",
    "- Can't perform multi step operations\n",
    "\n",
    "So, many LLM applications use a control flow with steps pre/post-LLM call (like tool calls and retrievals)"
   ]
  },
  {
   "cell_type": "markdown",
   "id": "f7b28a66-c46d-421f-a035-5c0dd3c335ae",
   "metadata": {},
   "source": [
    "This control flow forms a **\"chain\"**"
   ]
  },
  {
   "cell_type": "markdown",
   "id": "e7b5ab89-460a-4538-b6f4-e2c02408af68",
   "metadata": {},
   "source": [
    "chain flows are predefined, and they are very reliable, the same flow occurs everytime we make a call.<br>\n",
    "But we want the LLM system to make their own control flows\n"
   ]
  },
  {
   "cell_type": "markdown",
   "id": "58ed68ab-da60-427b-8415-08184fa2fac7",
   "metadata": {},
   "source": [
    "**Agent** ~ control flow defined by an LLM"
   ]
  },
  {
   "cell_type": "markdown",
   "id": "87af8fab-760c-4818-bd45-6fe0288c0ea9",
   "metadata": {},
   "source": [
    "2 (of many) kinds of Agents:<br>\n",
    "- Router\n",
    "  - Less control\n",
    "  - More reliable\n",
    "  - LLM controls a single step in a flow\n",
    "- Fully Autonomous\n",
    "  - High control\n",
    "  - Less reliable\n",
    "  - LLM can even autogenerate steps"
   ]
  },
  {
   "cell_type": "markdown",
   "id": "20c5d994-3ace-4d21-b28f-e6418f950594",
   "metadata": {},
   "source": [
    "Langgraph is making it possible to build fully autonomous agents with high reliablilty"
   ]
  },
  {
   "cell_type": "markdown",
   "id": "c9869444-c22f-43da-b819-b503282b1790",
   "metadata": {},
   "source": [
    "> - LangGraph express custom control flows as **graphs**\n",
    "> - **Nodes**: steps/functions\n",
    "> - **edges**: connectivity between nodes"
   ]
  },
  {
   "cell_type": "markdown",
   "id": "92c48602-1063-4a7f-9c6f-f4e3aef4f0fb",
   "metadata": {},
   "source": [
    "LangGraph features:\n",
    "- State persistence\n",
    "- Streaming\n",
    "- Human-in-the-loop\n",
    "- Controllability\n",
    "- Cycles and Branching\n",
    "- Long term memory\n",
    "- Time travel"
   ]
  },
  {
   "cell_type": "markdown",
   "id": "cb325da9-40c9-4c3e-8084-6ea8220dad5f",
   "metadata": {},
   "source": [
    ">- Langchain componenets are used in LangGraph often"
   ]
  },
  {
   "cell_type": "markdown",
   "id": "6d0506bb-4426-4371-a58b-83d20bd79b5e",
   "metadata": {},
   "source": [
    "## <span style=\"color:red\">Simple Graph</span>"
   ]
  },
  {
   "cell_type": "markdown",
   "id": "0fcfeb04-4342-437e-9bb5-31ea8ab2191b",
   "metadata": {},
   "source": [
    "### <span style=\"color:purple\">State</span>:\n",
    "- The first thing to do, when you define your graph is define the **State** of the graph\n",
    "- The **State** Scheme serves as the input schema for all Nodes and Edges in the graph\n",
    "- **State** is global. All nodes operate on one State\n",
    "- **State** is the class that represents the graph. You initialize by passing the state definition. \n",
    "- The state definition represents the central state object that is updated over time. This state is updated by nodes in the graph.\n",
    "- State have attributes, which can be modified in 2 ways..\n",
    "  - It can be overridden completely or updated by adding new value to it"
   ]
  },
  {
   "cell_type": "code",
   "execution_count": 22,
   "id": "f00a2618-02e9-4dd6-91f6-3d23d707a2c1",
   "metadata": {},
   "outputs": [],
   "source": [
    "from typing import TypedDict\n",
    "\n",
    "class State(TypedDict):\n",
    "    graph_state: str"
   ]
  },
  {
   "cell_type": "markdown",
   "id": "0bf7cfa9-0711-40e4-82a1-df733c522d70",
   "metadata": {},
   "source": [
    "### <span style=\"color:purple\">Nodes</span>:\n",
    "- Nodes are just python functions/chains/runnables\n",
    "- For every node, State is its first positional argument\n",
    "- By default, each node will override the prior state value"
   ]
  },
  {
   "cell_type": "code",
   "execution_count": 24,
   "id": "a0ab1ed2-bbf0-4d90-9efd-ffd8dd8d86ec",
   "metadata": {},
   "outputs": [],
   "source": [
    "def node1(state):\n",
    "    print(\"--Node 1--\")\n",
    "    return {\"graph_state\": state[\"graph_state\"] + \" I am\"}\n",
    "\n",
    "def node2(state):\n",
    "    print(\"--Node 2--\")\n",
    "    return {\"graph_state\": state[\"graph_state\"] + \" happy!\"}\n",
    "\n",
    "def node3(state):\n",
    "    print(\"--Node 3--\")\n",
    "    return {\"graph_state\": state[\"graph_state\"] + \" Sad!\"}"
   ]
  },
  {
   "cell_type": "markdown",
   "id": "07df6900-460c-4b9a-918d-c6cb377d26e3",
   "metadata": {},
   "source": [
    "### <span style=\"color:purple\">Edges</span>:\n",
    "- Connections between nodes\n",
    "- Normal edge: \n",
    "  - a regular edge where the control flows from one node to another no matter what\n",
    "- Conditional edge:\n",
    "  - next node is decided based on a condition\n",
    "  - it is implemented as a function that returns the next node to visit based upon some logic"
   ]
  },
  {
   "cell_type": "code",
   "execution_count": 26,
   "id": "86cb05e0-f915-4dc0-a07a-49455095f0cc",
   "metadata": {},
   "outputs": [],
   "source": [
    "import random\n",
    "from typing import Literal\n",
    "\n",
    "def decide_mood(state) -> Literal[\"node_2\", \"node_3\"]:\n",
    "    user_input = state[\"graph_state\"]\n",
    "    if random.random() < 0.5:\n",
    "        return \"node_2\"\n",
    "    return \"node_3\""
   ]
  },
  {
   "cell_type": "markdown",
   "id": "05a180dc-159c-4d9f-8ac6-8495e26a9647",
   "metadata": {},
   "source": [
    "### <span style=\"color:purple\">Graph construction</span>:"
   ]
  },
  {
   "cell_type": "markdown",
   "id": "ca357407-91ca-46d0-ba7f-843eac4d0cba",
   "metadata": {},
   "source": [
    "- The **\"StateGraph\"** class is the main graph class to use\n",
    "- We initialize it with the **State** we defined\n",
    "- Then we add the nodes and edges\n",
    "- We use `START` node, a special node that sends user input to the graph, to indicate where to start our graph\n",
    "- The `END` node is also a special node that represents the terminal node"
   ]
  },
  {
   "cell_type": "code",
   "execution_count": 24,
   "id": "999dee3c-fb06-4916-9c5a-03cd025c94d5",
   "metadata": {},
   "outputs": [],
   "source": [
    "from IPython.display import Image, display\n",
    "from langgraph.graph import StateGraph, START, END\n",
    "\n",
    "\n",
    "builder = StateGraph(State)\n",
    "\n",
    "builder.add_node(\"node_1\", node1)\n",
    "builder.add_node(\"node_2\", node2)\n",
    "builder.add_node(\"node_3\", node3)\n",
    "\n",
    "builder.add_edge(START, \"node_1\")\n",
    "builder.add_conditional_edges(\"node_1\", decide_mood)\n",
    "builder.add_edge(\"node_2\", END)\n",
    "builder.add_edge(\"node_3\", END)\n",
    "\n",
    "graph = builder.compile()"
   ]
  },
  {
   "cell_type": "markdown",
   "id": "0af8ab31-4215-4755-9834-a591b28d8ff0",
   "metadata": {},
   "source": [
    "What does `.compile()` do?"
   ]
  },
  {
   "cell_type": "markdown",
   "id": "ad3bdf76-f1ad-404f-84ff-5d6d36c863a2",
   "metadata": {},
   "source": [
    "* Compiling provides a few basic checks on the structure of the graph (eg., no orphan nodes, node validation etc..).\n",
    "* It is also where we can specify runtime arguments like checkpointers and breakpoints.\n",
    "* .compile() is a MUST before using the graph"
   ]
  },
  {
   "cell_type": "code",
   "execution_count": 25,
   "id": "3ac872bb-8b15-40a6-bdce-b162e6dc835e",
   "metadata": {},
   "outputs": [
    {
     "data": {
      "image/png": "[encoded data removed]",
      "text/plain": [
       "<IPython.core.display.Image object>"
      ]
     },
     "metadata": {},
     "output_type": "display_data"
    }
   ],
   "source": [
    "display(Image(graph.get_graph().draw_mermaid_png()))"
   ]
  },
  {
   "cell_type": "markdown",
   "id": "c1fcf2f6-1b8e-4a6b-b6fd-ae4d6328149b",
   "metadata": {},
   "source": [
    "### <span style=\"color:purple\">Graph invocation</span>:"
   ]
  },
  {
   "cell_type": "markdown",
   "id": "7409130d-6ce3-40ee-856d-61fe6d8fb087",
   "metadata": {},
   "source": [
    "- The compiled graph implements the **runnable** protocol (a standard way to execute langchain components)\n",
    "- Input dictionary with the attribute values are given in the `invoke` method\n",
    "- Execution continues untill it reaches the `END` node"
   ]
  },
  {
   "cell_type": "code",
   "execution_count": 28,
   "id": "c2b5a1f1-58dd-4798-8320-0a67bd4947fc",
   "metadata": {},
   "outputs": [
    {
     "name": "stdout",
     "output_type": "stream",
     "text": [
      "--Node 1--\n",
      "--Node 3--\n"
     ]
    },
    {
     "data": {
      "text/plain": [
       "{'graph_state': 'Hi, this is Person. I am Sad!'}"
      ]
     },
     "execution_count": 28,
     "metadata": {},
     "output_type": "execute_result"
    }
   ],
   "source": [
    "graph.invoke({\"graph_state\": \"Hi, this is Person.\"})"
   ]
  },
  {
   "cell_type": "markdown",
   "id": "bb494efe-89a4-4355-9668-9a5fd113662c",
   "metadata": {},
   "source": [
    "- `invoke` runs the entire graph synchronously i.e., it waits for each step to complete before moving to the next\n",
    "- It returns the final state of the graph after all nodes have executed"
   ]
  },
  {
   "cell_type": "markdown",
   "id": "bdfe32cc-30f5-42e7-a4cf-c6a94c2f0605",
   "metadata": {},
   "source": [
    "## <span style=\"color:red\">Chains</span>"
   ]
  },
  {
   "cell_type": "markdown",
   "id": "f0c232c5-ac00-4e2e-bebe-2275cd370a23",
   "metadata": {},
   "source": [
    "- A sequence of LLM/function/tool calls\n",
    "- Works the same everytime we invoke(static)\n",
    "- hain componenets and control flow are predefined"
   ]
  },
  {
   "cell_type": "markdown",
   "id": "16e20120-a603-42c2-a720-ad4d67cdd9e6",
   "metadata": {},
   "source": [
    "## <span style=\"color:red\">Messages</span>"
   ]
  },
  {
   "cell_type": "markdown",
   "id": "15f9e76b-2227-41a6-a813-b2d1b79c969f",
   "metadata": {},
   "source": [
    "- Chat models can use **messages**, which capture different roles within a conversation\n",
    "- Various message types: AIMessage, HumanMessage, SystemMessage, ToolMessage which represents a message from the user, from the chat model, for the chat model to instruct behaviour, and from a tool call respectievely\n",
    "- Each message has these attributes:\n",
    "  - `content`: contents\n",
    "  - `name`: optionally, who is creating the message\n",
    "  - `response_metadata`: optionally, a dict of metadata that is often specific to each model provider"
   ]
  },
  {
   "cell_type": "code",
   "execution_count": 34,
   "id": "051b9182-90dc-4b01-9ae5-12d1fb9186de",
   "metadata": {},
   "outputs": [
    {
     "name": "stdout",
     "output_type": "stream",
     "text": [
      "==================================\u001b[1m Ai Message \u001b[0m==================================\n",
      "Name: model\n",
      "\n",
      "So you said you were researching ocean mammals?\n",
      "\n",
      "================================\u001b[1m Human Message \u001b[0m=================================\n",
      "Name: human\n",
      "\n",
      "Yes, that's right\n",
      "\n",
      "==================================\u001b[1m Ai Message \u001b[0m==================================\n",
      "Name: model\n",
      "\n",
      "Great. What would you like to do about?\n",
      "\n",
      "================================\u001b[1m Human Message \u001b[0m=================================\n",
      "Name: human\n",
      "\n",
      "I want to know the best places to see dolphins in my country\n",
      "\n"
     ]
    }
   ],
   "source": [
    "from langchain_core.messages import AIMessage, HumanMessage, SystemMessage\n",
    "\n",
    "messages = []\n",
    "messages.extend([AIMessage(content=\"So you said you were researching ocean mammals?\", name=\"model\")])\n",
    "messages.extend([HumanMessage(content=\"Yes, that's right\", name=\"human\")])\n",
    "messages.extend([AIMessage(content=\"Great. What would you like to do about?\", name=\"model\")])\n",
    "messages.extend([HumanMessage(content=\"I want to know the best places to see dolphins in my country\", name=\"human\")])\n",
    "\n",
    "for m in messages:\n",
    "    m.pretty_print()\n",
    "    print()"
   ]
  },
  {
   "cell_type": "markdown",
   "id": "ce8d578c-8d83-4954-bafe-e3a48eee176c",
   "metadata": {},
   "source": [
    "## <span style=\"color:red\">Chat Models</span>"
   ]
  },
  {
   "cell_type": "markdown",
   "id": "f409f8c2-1ecf-40d7-996e-4c8b52189dd3",
   "metadata": {},
   "source": [
    "A chat model is a language model that uses chat messages as inputs and returns chat messages as outputs (as opposed to using plain text)."
   ]
  },
  {
   "cell_type": "code",
   "execution_count": 37,
   "id": "27a652c3-5803-45f5-a430-a7d54a6c276a",
   "metadata": {},
   "outputs": [
    {
     "data": {
      "text/plain": [
       "langchain_core.messages.ai.AIMessage"
      ]
     },
     "execution_count": 37,
     "metadata": {},
     "output_type": "execute_result"
    }
   ],
   "source": [
    "result = gemini_llm.invoke(messages) # invoke with the above defined messages\n",
    "type(result)"
   ]
  },
  {
   "cell_type": "code",
   "execution_count": 38,
   "id": "7b77ddcb-d6f3-4ab9-97bc-f1d4c2861b70",
   "metadata": {},
   "outputs": [
    {
     "data": {
      "text/plain": [
       "AIMessage(content=\"To give you the best recommendations for dolphin watching in your country, I need to know which country you're in!  Please tell me your country.\\n\", additional_kwargs={}, response_metadata={'prompt_feedback': {'block_reason': 0, 'safety_ratings': []}, 'finish_reason': 'STOP', 'safety_ratings': []}, id='run-dfe8e601-b82f-43b6-878a-46f99268d883-0', usage_metadata={'input_tokens': 42, 'output_tokens': 32, 'total_tokens': 74, 'input_token_details': {'cache_read': 0}})"
      ]
     },
     "execution_count": 38,
     "metadata": {},
     "output_type": "execute_result"
    }
   ],
   "source": [
    "result"
   ]
  },
  {
   "cell_type": "markdown",
   "id": "1cd46b84-a428-477c-aea4-8633dbde2360",
   "metadata": {},
   "source": [
    "## <span style=\"color:red\">Tools</span>"
   ]
  },
  {
   "cell_type": "markdown",
   "id": "355c968e-95cd-4713-94fa-f8130c984a83",
   "metadata": {},
   "source": [
    "- Tools are needed whenever you want a model to control parts of your code or call out to external APIs\n",
    "- Gives the LLM additional knowledge which probably it didnt have"
   ]
  },
  {
   "cell_type": "code",
   "execution_count": 81,
   "id": "807c1096-0068-41eb-a949-660eb45bdac5",
   "metadata": {},
   "outputs": [],
   "source": [
    "def multiply(a: int, b: int) -> int:\n",
    "    \"\"\"\n",
    "    Multiply a and b\n",
    "    Args:\n",
    "        a: first int\n",
    "        b: second int\n",
    "    \"\"\"\n",
    "    return a * b\n",
    "\n",
    "tools = [multiply]\n",
    "llm_with_tools = gemini_llm.bind_tools(tools)"
   ]
  },
  {
   "cell_type": "code",
   "execution_count": 42,
   "id": "31a5a83e-a673-47cd-9f1a-638697ebbe33",
   "metadata": {},
   "outputs": [
    {
     "data": {
      "text/plain": [
       "AIMessage(content='', additional_kwargs={'function_call': {'name': 'multiply', 'arguments': '{\"a\": 9.0, \"b\": 10.0}'}}, response_metadata={'prompt_feedback': {'block_reason': 0, 'safety_ratings': []}, 'finish_reason': 'STOP', 'safety_ratings': []}, id='run-21853bea-80a3-4119-a028-f1f3d7cc549c-0', tool_calls=[{'name': 'multiply', 'args': {'a': 9.0, 'b': 10.0}, 'id': '78e0f66e-637e-4cd5-a313-b3698a2b83f3', 'type': 'tool_call'}], usage_metadata={'input_tokens': 70, 'output_tokens': 3, 'total_tokens': 73, 'input_token_details': {'cache_read': 0}})"
      ]
     },
     "execution_count": 42,
     "metadata": {},
     "output_type": "execute_result"
    }
   ],
   "source": [
    "tool_call = llm_with_tools.invoke([HumanMessage(content=\"what is 9 times 10?\", name=\"Jesse\")])\n",
    "tool_call"
   ]
  },
  {
   "cell_type": "code",
   "execution_count": 43,
   "id": "e94a1899-7dac-4494-908a-c68d67564f8f",
   "metadata": {},
   "outputs": [
    {
     "data": {
      "text/plain": [
       "AIMessage(content='Hello there! How can I help you today?\\n', additional_kwargs={}, response_metadata={'prompt_feedback': {'block_reason': 0, 'safety_ratings': []}, 'finish_reason': 'STOP', 'safety_ratings': []}, id='run-877af9b7-e719-4d4b-922e-222c37205771-0', usage_metadata={'input_tokens': 63, 'output_tokens': 11, 'total_tokens': 74, 'input_token_details': {'cache_read': 0}})"
      ]
     },
     "execution_count": 43,
     "metadata": {},
     "output_type": "execute_result"
    }
   ],
   "source": [
    "tool_call = llm_with_tools.invoke([HumanMessage(content=\"heyyy\", name=\"Jesse\")])\n",
    "tool_call"
   ]
  },
  {
   "cell_type": "code",
   "execution_count": 44,
   "id": "4b9c534e-72ab-49ac-bac9-66f49b4ad464",
   "metadata": {},
   "outputs": [
    {
     "name": "stdout",
     "output_type": "stream",
     "text": [
      "(\"AIMessage(content='', additional_kwargs={'function_call': {'name': \"\n",
      " '\\'multiply\\', \\'arguments\\': \\'{\"a\": 9.0, \"b\": 10.0}\\'}}, '\n",
      " \"response_metadata={'prompt_feedback': {'block_reason': 0, 'safety_ratings': \"\n",
      " \"[]}, 'finish_reason': 'STOP', 'safety_ratings': []}, \"\n",
      " \"id='run-ac5ad8ca-954e-4b8b-b9d8-21bfd215ad97-0', tool_calls=[{'name': \"\n",
      " \"'multiply', 'args': {'a': 9.0, 'b': 10.0}, 'id': \"\n",
      " \"'268ba8db-8844-4108-bcff-94289d9be2ab', 'type': 'tool_call'}], \"\n",
      " \"usage_metadata={'input_tokens': 70, 'output_tokens': 3, 'total_tokens': 73, \"\n",
      " \"'input_token_details': {'cache_read': 0}})\")\n"
     ]
    }
   ],
   "source": [
    "from pprint import pprint\n",
    "x = \"\"\"AIMessage(content='', additional_kwargs={'function_call': {'name': 'multiply', 'arguments': '{\"a\": 9.0, \"b\": 10.0}'}}, response_metadata={'prompt_feedback': {'block_reason': 0, 'safety_ratings': []}, 'finish_reason': 'STOP', 'safety_ratings': []}, id='run-ac5ad8ca-954e-4b8b-b9d8-21bfd215ad97-0', tool_calls=[{'name': 'multiply', 'args': {'a': 9.0, 'b': 10.0}, 'id': '268ba8db-8844-4108-bcff-94289d9be2ab', 'type': 'tool_call'}], usage_metadata={'input_tokens': 70, 'output_tokens': 3, 'total_tokens': 73, 'input_token_details': {'cache_read': 0}})\"\"\"\n",
    "pprint(x)"
   ]
  },
  {
   "cell_type": "markdown",
   "id": "4f14e22b-5ed3-4068-90f9-3c61e8cc5897",
   "metadata": {},
   "source": [
    "## <span style=\"color:orange\">Combining them all together</span>"
   ]
  },
  {
   "cell_type": "code",
   "execution_count": 46,
   "id": "018aea02-fdb7-464a-9f0a-08481a6fd2c1",
   "metadata": {},
   "outputs": [],
   "source": [
    "from langchain_core.messages import AnyMessage\n",
    "\n",
    "class MessagesState(TypedDict):\n",
    "    messages: list[AnyMessage]"
   ]
  },
  {
   "cell_type": "markdown",
   "id": "70373d89-bdff-4492-b9dc-f121cc3a7622",
   "metadata": {},
   "source": [
    "## <span style=\"color:red\">Reducers</span>"
   ]
  },
  {
   "cell_type": "markdown",
   "id": "2ea7c980-a987-4806-a93d-40e248938e12",
   "metadata": {},
   "source": [
    "- When we have our State object, the nodes override its information everytime, this deletes all the previously stored, and puts new content there, but to keep track of messages, we dont want to override it, for this we have **reducer functions** to address the issue\n",
    "\n",
    "- They allow us to specify how state updates are performed\n",
    "- If no reducer function is explicitly specified, then it is assumed that all updates to the key should override it"
   ]
  },
  {
   "cell_type": "code",
   "execution_count": 49,
   "id": "e0ef11ec-006f-49ef-bbec-8eec08d7b62f",
   "metadata": {},
   "outputs": [],
   "source": [
    "from typing import Annotated\n",
    "from langgraph.graph.message import add_messages\n",
    "\n",
    "class MessagesState(TypedDict):\n",
    "    messages: Annotated[list[AnyMessage], add_messages]\n",
    "    ...\n",
    "\n",
    "\n",
    "# LangGraph has a prebuilt MessageState that does the above job exactly\n",
    "from langgraph.graph import MessagesState\n",
    "\n",
    "class State(MessagesState):\n",
    "    # anyother keys beyond messages, as that one is prebuilt\n",
    "    ...\n",
    "\n",
    "\n",
    "\n",
    "#both the above classes behave the same"
   ]
  },
  {
   "cell_type": "code",
   "execution_count": 50,
   "id": "31b7e991-6da3-4f70-806e-e6db6101c174",
   "metadata": {},
   "outputs": [
    {
     "data": {
      "image/png": "[encoded data removed]",
      "text/plain": [
       "<IPython.core.display.Image object>"
      ]
     },
     "metadata": {},
     "output_type": "display_data"
    }
   ],
   "source": [
    "# State\n",
    "class MessagesState(MessagesState):\n",
    "    pass\n",
    "\n",
    "# Node\n",
    "def tool_calling_llm(state: MessagesState):\n",
    "    return {\"messages\": [llm_with_tools.invoke(state[\"messages\"])]}\n",
    "\n",
    "builder = StateGraph(MessagesState)\n",
    "builder.add_node(\"tool_calling_llm\", tool_calling_llm)\n",
    "builder.add_edge(START, \"tool_calling_llm\")\n",
    "builder.add_edge(\"tool_calling_llm\", END)\n",
    "graph = builder.compile()\n",
    "\n",
    "display(Image(graph.get_graph().draw_mermaid_png()))"
   ]
  },
  {
   "cell_type": "code",
   "execution_count": 51,
   "id": "9a153041-07eb-44f5-a89f-4d6c7fd77353",
   "metadata": {},
   "outputs": [
    {
     "data": {
      "text/plain": [
       "{'messages': [HumanMessage(content='Hello!', additional_kwargs={}, response_metadata={}, id='96f0c71f-edff-4e3c-9462-bc6343ea03bf'),\n",
       "  AIMessage(content='Hello! How can I help you today?\\n', additional_kwargs={}, response_metadata={'prompt_feedback': {'block_reason': 0, 'safety_ratings': []}, 'finish_reason': 'STOP', 'safety_ratings': []}, id='run-e57af17a-cb21-4269-b716-a604ae5c4d4b-0', usage_metadata={'input_tokens': 63, 'output_tokens': 10, 'total_tokens': 73, 'input_token_details': {'cache_read': 0}})]}"
      ]
     },
     "execution_count": 51,
     "metadata": {},
     "output_type": "execute_result"
    }
   ],
   "source": [
    "graph.invoke({\"messages\": HumanMessage(content=\"Hello!\")})"
   ]
  },
  {
   "cell_type": "markdown",
   "id": "51664a95-9137-4c53-ad76-608396434803",
   "metadata": {},
   "source": [
    "- The AI Message is just a regular natural language response "
   ]
  },
  {
   "cell_type": "code",
   "execution_count": 52,
   "id": "84f53f17-d3cd-4d4b-bfd0-ef566bcd32f5",
   "metadata": {},
   "outputs": [
    {
     "data": {
      "text/plain": [
       "{'messages': [HumanMessage(content='What is 9 times 10?', additional_kwargs={}, response_metadata={}, id='acfe435e-979f-42fa-a5d5-4cd91a82519f'),\n",
       "  AIMessage(content='', additional_kwargs={'function_call': {'name': 'multiply', 'arguments': '{\"a\": 9.0, \"b\": 10.0}'}}, response_metadata={'prompt_feedback': {'block_reason': 0, 'safety_ratings': []}, 'finish_reason': 'STOP', 'safety_ratings': []}, id='run-f3b02fc3-34ff-489a-88b3-687ea3b39602-0', tool_calls=[{'name': 'multiply', 'args': {'a': 9.0, 'b': 10.0}, 'id': '5c170d5d-840e-48c9-b8dc-f90c9c44defd', 'type': 'tool_call'}], usage_metadata={'input_tokens': 70, 'output_tokens': 3, 'total_tokens': 73, 'input_token_details': {'cache_read': 0}})]}"
      ]
     },
     "execution_count": 52,
     "metadata": {},
     "output_type": "execute_result"
    }
   ],
   "source": [
    "graph.invoke({\"messages\": HumanMessage(content=\"What is 9 times 10?\")})"
   ]
  },
  {
   "cell_type": "markdown",
   "id": "4ce2e635-c193-4bcb-9d03-09dc50e243f5",
   "metadata": {},
   "source": [
    "- The AI Message now is a tool call"
   ]
  },
  {
   "cell_type": "markdown",
   "id": "515f8ffb-f5c8-4a10-9b32-6c897f8243df",
   "metadata": {},
   "source": [
    "## <span style=\"color:red\">Router</span>"
   ]
  },
  {
   "cell_type": "markdown",
   "id": "843b7023-4398-4a2a-a879-e3baa86afc67",
   "metadata": {},
   "source": [
    "- right now, the graph can return a tool call or return a natural language response\n",
    "- Now we want the chat model to route between direct response or a tool call based on user input"
   ]
  },
  {
   "cell_type": "markdown",
   "id": "6241b19b-0792-43b3-9826-dad683cbb9d6",
   "metadata": {},
   "source": [
    "Now, let's implement this way if the model returns a \"tool_call\", we can execute that tool"
   ]
  },
  {
   "cell_type": "markdown",
   "id": "515fff20-1535-4326-a77e-bbfffccfc4e8",
   "metadata": {},
   "source": [
    "- We can use the built in `ToolNode` and simply pass a list of our tools to initialize it"
   ]
  },
  {
   "cell_type": "code",
   "execution_count": 58,
   "id": "4b2bffba-11fb-46be-875d-5038b2ef43b7",
   "metadata": {},
   "outputs": [],
   "source": [
    "from langgraph.prebuilt import ToolNode\n",
    "tools = [multiply]\n",
    "tool_node = ToolNode(tools)\n",
    "\n",
    "def maybe_route_to_tools(state: MessagesState) -> str:\n",
    "    msgs = state.get(\"messages\", [])\n",
    "    msg = msgs[-1]\n",
    "    if hasattr(msg, \"tool_calls\") and len(msg.tool_calls) > 0:\n",
    "        return \"tools\"\n",
    "    else:\n",
    "        return END"
   ]
  },
  {
   "cell_type": "code",
   "execution_count": 59,
   "id": "fa664a91-0aa5-45c2-853c-f157d1520b1d",
   "metadata": {},
   "outputs": [],
   "source": [
    "builder = StateGraph(MessagesState)\n",
    "\n",
    "builder.add_node(\"tool_calling_llm\", tool_calling_llm)\n",
    "builder.add_node(\"tools\", tool_node)\n",
    "\n",
    "builder.add_edge(START, \"tool_calling_llm\")\n",
    "builder.add_conditional_edges(\"tool_calling_llm\", maybe_route_to_tools)\n",
    "builder.add_edge(\"tools\", END)\n",
    "\n",
    "graph = builder.compile()"
   ]
  },
  {
   "cell_type": "code",
   "execution_count": 60,
   "id": "9236c4c0-b33b-41e5-8fe8-f959afb33477",
   "metadata": {},
   "outputs": [
    {
     "data": {
      "image/png": "[encoded data removed]",
      "text/plain": [
       "<IPython.core.display.Image object>"
      ]
     },
     "metadata": {},
     "output_type": "display_data"
    }
   ],
   "source": [
    "display(Image(graph.get_graph().draw_mermaid_png()))"
   ]
  },
  {
   "cell_type": "code",
   "execution_count": 61,
   "id": "3343fec5-3a46-4fbd-a372-d3efd1df6fb0",
   "metadata": {},
   "outputs": [
    {
     "name": "stdout",
     "output_type": "stream",
     "text": [
      "================================\u001b[1m Human Message \u001b[0m=================================\n",
      "\n",
      "Multiply 9 and 10\n",
      "==================================\u001b[1m Ai Message \u001b[0m==================================\n",
      "Tool Calls:\n",
      "  multiply (137fef8d-1111-4279-bac6-fe46daa6cfe4)\n",
      " Call ID: 137fef8d-1111-4279-bac6-fe46daa6cfe4\n",
      "  Args:\n",
      "    a: 9.0\n",
      "    b: 10.0\n",
      "=================================\u001b[1m Tool Message \u001b[0m=================================\n",
      "Name: multiply\n",
      "\n",
      "90\n"
     ]
    }
   ],
   "source": [
    "messages = [HumanMessage(content=\"Multiply 9 and 10\")]\n",
    "messages = graph.invoke({\"messages\": messages})\n",
    "for m in messages[\"messages\"]:\n",
    "    m.pretty_print()"
   ]
  },
  {
   "cell_type": "code",
   "execution_count": 62,
   "id": "cd08ccf4-144b-4b9a-948a-042fae0daaff",
   "metadata": {},
   "outputs": [
    {
     "name": "stdout",
     "output_type": "stream",
     "text": [
      "================================\u001b[1m Human Message \u001b[0m=================================\n",
      "\n",
      "heyyy\n",
      "==================================\u001b[1m Ai Message \u001b[0m==================================\n",
      "\n",
      "Hello there! How can I help you today?\n"
     ]
    }
   ],
   "source": [
    "messages = [HumanMessage(content=\"heyyy\")]\n",
    "messages = graph.invoke({\"messages\": messages})\n",
    "for m in messages[\"messages\"]:\n",
    "    m.pretty_print()"
   ]
  },
  {
   "cell_type": "markdown",
   "id": "16031aa3-0c29-4ffb-8d14-bf4d2f809d5c",
   "metadata": {},
   "source": [
    "## <span style=\"color:red\">Agent</span>"
   ]
  },
  {
   "cell_type": "markdown",
   "id": "6446024b-dab2-415d-9d61-253c24e66255",
   "metadata": {},
   "source": [
    "- Take the output of tools node (ToolMessage) and send it back to the chat_model\n",
    "- This is the intuition behind **ReAct**, a general agent architecture\n",
    "  - **act**- Let the model call specific tools\n",
    "  - **observe**- pass the tool output back to the model\n",
    "  - **reason**- Let the model reason about the tool output to decide what to do next (e.g., call another tool or just respond directly)"
   ]
  },
  {
   "cell_type": "code",
   "execution_count": 68,
   "id": "26055bc7-734f-4a2c-b3f8-8f7a656e0d39",
   "metadata": {},
   "outputs": [],
   "source": [
    "def add(a: int, b: int) -> int:\n",
    "    \"\"\"\n",
    "    Adds a and b\n",
    "    Args:\n",
    "        a: first int\n",
    "        b: second int\n",
    "    \"\"\"\n",
    "    return a + b\n",
    "\n",
    "def subtract(a: int, b: int) -> int:\n",
    "    \"\"\"\n",
    "    Subtracts b from a\n",
    "    Args:\n",
    "        a: first int\n",
    "        b: second int\n",
    "    \"\"\"\n",
    "    return a - b\n",
    "\n",
    "def multiply(a: int, b: int) -> int:\n",
    "    \"\"\"\n",
    "    Multiply a and b\n",
    "    Args:\n",
    "        a: first int\n",
    "        b: second int\n",
    "    \"\"\"\n",
    "    return a * b\n",
    "\n",
    "def divide(a: int, b: int) -> int:\n",
    "    \"\"\"\n",
    "    Divides a by b\n",
    "    Args:\n",
    "        a: first int\n",
    "        b: second int\n",
    "    \"\"\"\n",
    "    return a / b\n",
    "\n",
    "tools = [add, subtract, multiply, divide]\n",
    "llm = ChatGoogleGenerativeAI(\n",
    "    temperature=0,\n",
    "    model=\"gemini-1.5-flash\",\n",
    "    api_key=gemini_api_key\n",
    ")\n",
    "llm_with_tools = llm.bind_tools(tools)"
   ]
  },
  {
   "cell_type": "code",
   "execution_count": 188,
   "id": "6f177141-e363-4531-a627-d19a7c68aea8",
   "metadata": {},
   "outputs": [],
   "source": [
    "from langgraph.graph import MessagesState\n",
    "sys_msg = SystemMessage(content=\"You are a helpful assistant tasked with performing arithmetic on a set of inputs.\")\n",
    "\n",
    "tool_node = ToolNode(tools)\n",
    "\n",
    "def assistant_node(state: MessagesState):\n",
    "    return {\"messages\": [llm_with_tools.invoke([sys_msg] + state[\"messages\"])]}\n",
    "\n",
    "\n",
    "def route_to_tools(state: MessagesState) -> str:\n",
    "    msgs = state.get(\"messages\", [])\n",
    "    msg = msgs[-1]\n",
    "    if hasattr(msg, \"tool_calls\") and len(msg.tool_calls) > 0:\n",
    "        return \"tools\"\n",
    "    else:\n",
    "        return END"
   ]
  },
  {
   "cell_type": "markdown",
   "id": "dd04d894-31ab-4c57-ab6b-0c91c67e1e4b",
   "metadata": {},
   "source": [
    "- As before, we use `MessagesState` and define a `tool_node`\n",
    "- The `assistant_node` is just our chat_model bound to tools\n",
    "- We create a graph just like before except now, we have an additional step\n",
    "We connect the tool_node back to the `assistant_node`, forming a loop\n",
    "<br><br>\n",
    "- The loop continues as long as the model decides to call tools.\n",
    "- If the model response is not a tool call, the flow is directed to `END`, terminating the process."
   ]
  },
  {
   "cell_type": "code",
   "execution_count": 191,
   "id": "ee1b501f-5cba-4e3b-b412-2228fe32fcea",
   "metadata": {},
   "outputs": [],
   "source": [
    "from langgraph.prebuilt import tools_condition\n",
    "builder = StateGraph(MessagesState)\n",
    "\n",
    "builder.add_node(\"assistant\", assistant_node)\n",
    "builder.add_node(\"tools\", tool_node)\n",
    "\n",
    "builder.add_edge(START, \"assistant\")\n",
    "builder.add_conditional_edges(\"assistant\", route_to_tools)\n",
    "# or\n",
    "#builder.add_conditional_edges(\"assistant\", tools_condition)\n",
    "builder.add_edge(\"tools\", \"assistant\")\n",
    "\n",
    "graph = builder.compile()"
   ]
  },
  {
   "cell_type": "code",
   "execution_count": 193,
   "id": "c354f357-28ae-458a-b773-bdfc72ca2e14",
   "metadata": {},
   "outputs": [
    {
     "data": {
      "image/png": "[encoded data removed]",
      "text/plain": [
       "<IPython.core.display.Image object>"
      ]
     },
     "metadata": {},
     "output_type": "display_data"
    }
   ],
   "source": [
    "display(Image(graph.get_graph().draw_mermaid_png()))"
   ]
  },
  {
   "cell_type": "code",
   "execution_count": 195,
   "id": "5e34ad02-c653-4c89-8bfe-c564851a072f",
   "metadata": {},
   "outputs": [],
   "source": [
    "messages = [HumanMessage(content=\"Add 11 and 9. Multiply the output by 5. Subtract 25 from its output. And Divide the output by 3.\")]\n",
    "response_messages = graph.invoke({\"messages\": messages})"
   ]
  },
  {
   "cell_type": "code",
   "execution_count": 196,
   "id": "e642230a-70b6-40a0-a336-24a83dc7e2b5",
   "metadata": {},
   "outputs": [
    {
     "name": "stdout",
     "output_type": "stream",
     "text": [
      "================================\u001b[1m Human Message \u001b[0m=================================\n",
      "\n",
      "Add 11 and 9. Multiply the output by 5. Subtract 25 from its output. And Divide the output by 3.\n",
      "==================================\u001b[1m Ai Message \u001b[0m==================================\n",
      "Tool Calls:\n",
      "  add (4b674c60-c017-409d-8e73-cbb285f44d8f)\n",
      " Call ID: 4b674c60-c017-409d-8e73-cbb285f44d8f\n",
      "  Args:\n",
      "    a: 11.0\n",
      "    b: 9.0\n",
      "  multiply (d5475e9b-66b2-4266-8f65-493b4edffcf7)\n",
      " Call ID: d5475e9b-66b2-4266-8f65-493b4edffcf7\n",
      "  Args:\n",
      "    a: 20.0\n",
      "    b: 5.0\n",
      "  subtract (2db9f480-62c0-4b00-9c0f-d191be7a8174)\n",
      " Call ID: 2db9f480-62c0-4b00-9c0f-d191be7a8174\n",
      "  Args:\n",
      "    a: 100.0\n",
      "    b: 25.0\n",
      "  divide (f0e1872f-b503-4ebb-84b6-494cfb68869b)\n",
      " Call ID: f0e1872f-b503-4ebb-84b6-494cfb68869b\n",
      "  Args:\n",
      "    a: 75.0\n",
      "    b: 3.0\n",
      "=================================\u001b[1m Tool Message \u001b[0m=================================\n",
      "Name: add\n",
      "\n",
      "20\n",
      "=================================\u001b[1m Tool Message \u001b[0m=================================\n",
      "Name: multiply\n",
      "\n",
      "100\n",
      "=================================\u001b[1m Tool Message \u001b[0m=================================\n",
      "Name: subtract\n",
      "\n",
      "75\n",
      "=================================\u001b[1m Tool Message \u001b[0m=================================\n",
      "Name: divide\n",
      "\n",
      "25.0\n"
     ]
    },
    {
     "data": {
      "text/markdown": [
       "Here's the solution:\n",
       "\n",
       "1. **Add 11 and 9:** 11 + 9 = 20\n",
       "2. **Multiply by 5:** 20 * 5 = 100\n",
       "3. **Subtract 25:** 100 - 25 = 75\n",
       "4. **Divide by 3:** 75 / 3 = 25\n",
       "\n",
       "The final answer is $\\boxed{25}$\n"
      ],
      "text/plain": [
       "<IPython.core.display.Markdown object>"
      ]
     },
     "metadata": {},
     "output_type": "display_data"
    }
   ],
   "source": [
    "from IPython.display import display, Markdown\n",
    "for m in response_messages[\"messages\"]:\n",
    "    if m == response_messages[\"messages\"][-1]:\n",
    "        display(Markdown(m.content))\n",
    "    else:\n",
    "        Markdown(m.pretty_print())"
   ]
  },
  {
   "cell_type": "markdown",
   "id": "7baf31de-2534-4d9e-bc64-fb1a811b44bf",
   "metadata": {},
   "source": [
    "## <span style=\"color:red\">Memory</span>"
   ]
  },
  {
   "cell_type": "markdown",
   "id": "7e95eb09-0068-4338-b038-d64c9449068b",
   "metadata": {},
   "source": [
    "- Each graph invocation is independent\n",
    "- We don't retain the previous conversations\n",
    "- The State is transient to a single graph execution\n",
    "- We can have persistence to address this issue.\n",
    "- LangGraph can use a checkpointer to automatically save the graph state after each step\n",
    "- This built-in persistence layer gives us memory, allowing LangGraph to pick up from the last state update\n",
    "- One of the easiest checkpointers to use is the `MemorySaver`, an in-memory key-value store for Graph state"
   ]
  },
  {
   "cell_type": "code",
   "execution_count": 205,
   "id": "a704b7a9-dd0a-4ddd-ade3-3c385e2a0145",
   "metadata": {},
   "outputs": [],
   "source": [
    "from langgraph.checkpoint.memory import MemorySaver\n",
    "memory = MemorySaver()\n",
    "graph_memory = builder.compile(checkpointer=memory)"
   ]
  },
  {
   "cell_type": "markdown",
   "id": "1d2672a0-dc2c-4245-a69c-4ba12bab95cd",
   "metadata": {},
   "source": [
    "- When we use memory, we need to specify a `thread_id`\n",
    "- This will store our collection of graph states\n",
    "- The checkpointer write the state at every step of the graph\n",
    "- These checkpointers are saved in a thread\n",
    "- We can access the thread in the future using the `thread_id`"
   ]
  },
  {
   "cell_type": "code",
   "execution_count": 207,
   "id": "497e9cf1-8277-4e8d-aae9-5c3c6cff4b0e",
   "metadata": {},
   "outputs": [],
   "source": [
    "config = {\"configurable\": {\"thread_id\": \"1\"}}\n",
    "messages = [HumanMessage(content=\"Add 9 and 10\")]\n",
    "messages = graph_memory.invoke({\"messages\": messages}, config)"
   ]
  },
  {
   "cell_type": "code",
   "execution_count": 209,
   "id": "cf38bac5-ffc4-4b10-b812-9a58675ce290",
   "metadata": {},
   "outputs": [
    {
     "name": "stdout",
     "output_type": "stream",
     "text": [
      "================================\u001b[1m Human Message \u001b[0m=================================\n",
      "\n",
      "Add 9 and 10\n",
      "==================================\u001b[1m Ai Message \u001b[0m==================================\n",
      "Tool Calls:\n",
      "  add (24cf8e32-a342-4b38-87b2-c3bfe8ba8623)\n",
      " Call ID: 24cf8e32-a342-4b38-87b2-c3bfe8ba8623\n",
      "  Args:\n",
      "    a: 9.0\n",
      "    b: 10.0\n",
      "=================================\u001b[1m Tool Message \u001b[0m=================================\n",
      "Name: add\n",
      "\n",
      "19\n",
      "==================================\u001b[1m Ai Message \u001b[0m==================================\n",
      "\n",
      "The sum of 9 and 10 is 19.\n"
     ]
    }
   ],
   "source": [
    "for m in messages[\"messages\"]:\n",
    "    m.pretty_print()"
   ]
  },
  {
   "cell_type": "code",
   "execution_count": 211,
   "id": "37578827-7418-46ed-89e2-be094f9d9ebe",
   "metadata": {},
   "outputs": [],
   "source": [
    "messages = [HumanMessage(content=\"Now multiply that by 25\")]\n",
    "messages = graph_memory.invoke({\"messages\": messages}, config)"
   ]
  },
  {
   "cell_type": "code",
   "execution_count": 213,
   "id": "8a5923b8-453c-4e53-8e85-5a708b1794fe",
   "metadata": {},
   "outputs": [
    {
     "name": "stdout",
     "output_type": "stream",
     "text": [
      "================================\u001b[1m Human Message \u001b[0m=================================\n",
      "\n",
      "Add 9 and 10\n",
      "==================================\u001b[1m Ai Message \u001b[0m==================================\n",
      "Tool Calls:\n",
      "  add (24cf8e32-a342-4b38-87b2-c3bfe8ba8623)\n",
      " Call ID: 24cf8e32-a342-4b38-87b2-c3bfe8ba8623\n",
      "  Args:\n",
      "    a: 9.0\n",
      "    b: 10.0\n",
      "=================================\u001b[1m Tool Message \u001b[0m=================================\n",
      "Name: add\n",
      "\n",
      "19\n",
      "==================================\u001b[1m Ai Message \u001b[0m==================================\n",
      "\n",
      "The sum of 9 and 10 is 19.\n",
      "================================\u001b[1m Human Message \u001b[0m=================================\n",
      "\n",
      "Now multiply that by 25\n",
      "==================================\u001b[1m Ai Message \u001b[0m==================================\n",
      "Tool Calls:\n",
      "  multiply (eb229248-1bce-4a3b-a885-711dd6410c7d)\n",
      " Call ID: eb229248-1bce-4a3b-a885-711dd6410c7d\n",
      "  Args:\n",
      "    a: 19.0\n",
      "    b: 25.0\n",
      "=================================\u001b[1m Tool Message \u001b[0m=================================\n",
      "Name: multiply\n",
      "\n",
      "475\n",
      "==================================\u001b[1m Ai Message \u001b[0m==================================\n",
      "\n",
      "The result of multiplying 19 by 25 is 475.\n"
     ]
    }
   ],
   "source": [
    "for m in messages[\"messages\"]:\n",
    "    m.pretty_print()"
   ]
  },
  {
   "cell_type": "markdown",
   "id": "ee315e03-a8fc-4141-af94-ee32e99fb63b",
   "metadata": {},
   "source": [
    "<br><br>NOTE: **If you change the `thread_id`, you change the state**"
   ]
  },
  {
   "cell_type": "markdown",
   "id": "d72494ff-61a8-44ee-bce8-ee4a610d3ca5",
   "metadata": {},
   "source": [
    "## <span style=\"color:red\">State Schema</span>"
   ]
  },
  {
   "cell_type": "markdown",
   "id": "e57ae08c-9368-4880-a907-f911eb2d965a",
   "metadata": {},
   "source": [
    "- Schema represents the structure and types of data that our graph will use\n",
    "- All nodes are expected to communicate with that schema\n",
    "- LangGraph offers flexibility in how we define our state schema, accommodating various Python types and their corresponding value types"
   ]
  },
  {
   "cell_type": "markdown",
   "id": "1bcb8f29-f20b-4755-ba9e-173dbcf8fd30",
   "metadata": {},
   "source": [
    "### <span style=\"color:purple\">TypedDict</span>:"
   ]
  },
  {
   "cell_type": "markdown",
   "id": "8870942d-8365-4f54-b8c9-a5cb20d1f234",
   "metadata": {},
   "source": [
    "- `TypedDict` is an official Python dictionary subclass that allows us to specify keys and their corresponding value types.\n",
    "- Note that they are **type hints**\n",
    "- They can be used by static type checkers and IDEs to catch potential type related errors **before** the code is run\n",
    "- They are **NOT** enforced at runtime"
   ]
  },
  {
   "cell_type": "code",
   "execution_count": 43,
   "id": "1d0282b2-cf75-44d0-957f-2e5113777bfa",
   "metadata": {},
   "outputs": [],
   "source": [
    "from typing import TypedDict, Literal\n",
    "class TypedDictState(TypedDict):\n",
    "    graph_state: str\n",
    "    mood: Literal[\"happy\", \"sad\"]"
   ]
  },
  {
   "cell_type": "code",
   "execution_count": 45,
   "id": "0d83052a-4ea8-48d1-a68f-d84761cb4ddf",
   "metadata": {},
   "outputs": [
    {
     "data": {
      "image/png": "[encoded data removed]",
      "text/plain": [
       "<IPython.core.display.Image object>"
      ]
     },
     "metadata": {},
     "output_type": "display_data"
    }
   ],
   "source": [
    "builder = StateGraph(TypedDictState)\n",
    "builder.add_node(\"node_1\", node1)\n",
    "builder.add_node(\"node_2\", node2)\n",
    "builder.add_node(\"node_3\", node3)\n",
    "\n",
    "builder.add_edge(START, \"node_1\")\n",
    "builder.add_conditional_edges(\"node_1\", decide_mood)\n",
    "builder.add_edge(\"node_2\", END)\n",
    "builder.add_edge(\"node_3\", END)\n",
    "\n",
    "graph = builder.compile()\n",
    "\n",
    "display(Image(graph.get_graph().draw_mermaid_png()))"
   ]
  },
  {
   "cell_type": "code",
   "execution_count": 61,
   "id": "1a75ed65-f5f0-4082-a9b6-a2ada43c591f",
   "metadata": {},
   "outputs": [
    {
     "name": "stdout",
     "output_type": "stream",
     "text": [
      "--Node 1--\n",
      "--Node 3--\n"
     ]
    },
    {
     "data": {
      "text/plain": [
       "{'graph_state': 'chang chang I am Sad!'}"
      ]
     },
     "execution_count": 61,
     "metadata": {},
     "output_type": "execute_result"
    }
   ],
   "source": [
    "graph.invoke({\"graph_state\": \"chang chang\"})"
   ]
  },
  {
   "cell_type": "markdown",
   "id": "0db35a0d-ecd6-47f1-8eea-eb9ce5bdfbbe",
   "metadata": {},
   "source": [
    "### <span style=\"color:purple\">Dataclasses</span>:"
   ]
  },
  {
   "cell_type": "markdown",
   "id": "16a099ba-15ca-401e-aa04-5f5d2d4b3342",
   "metadata": {},
   "source": [
    "- Similar to TypedDict\n",
    "- Another way to define (annotate) structured data"
   ]
  },
  {
   "cell_type": "code",
   "execution_count": 66,
   "id": "1402d4a8-5d75-4391-a60a-db280117d9b0",
   "metadata": {},
   "outputs": [],
   "source": [
    "from dataclasses import dataclass\n",
    "\n",
    "@dataclass\n",
    "class DataclassState:\n",
    "    graph_state: str\n",
    "    mood: Literal[\"happy\", \"Sad\"]\n"
   ]
  },
  {
   "cell_type": "markdown",
   "id": "291f5f39-2c9d-47dd-a900-14660ce8e106",
   "metadata": {},
   "source": [
    "#### The only difference is"
   ]
  },
  {
   "cell_type": "markdown",
   "id": "b126be42-1ba8-462c-a6c1-90eec219d0aa",
   "metadata": {},
   "source": [
    "##### 1. now we can't subscript"
   ]
  },
  {
   "cell_type": "markdown",
   "id": "f9cd6a3a-26fb-49d7-9af5-1d68547b298a",
   "metadata": {},
   "source": [
    "Old:"
   ]
  },
  {
   "cell_type": "markdown",
   "id": "ef617c2f-17f8-4a05-808d-0a774199e362",
   "metadata": {},
   "source": [
    "```python\n",
    "return {\"graph_state\": state[\"graph_state\"] + \" I am\"}\n",
    "```"
   ]
  },
  {
   "cell_type": "markdown",
   "id": "b69e4392-40eb-422e-a30e-7498fbb9fde8",
   "metadata": {},
   "source": [
    "New:"
   ]
  },
  {
   "cell_type": "markdown",
   "id": "9ee5147f-a21f-472f-8880-c2e110996202",
   "metadata": {},
   "source": [
    "```python\n",
    "return {\"graph_state\": state.graph_state + \" I am\"}\n",
    "```"
   ]
  },
  {
   "cell_type": "markdown",
   "id": "31164061-e738-44b2-931d-1de59608076a",
   "metadata": {},
   "source": [
    "##### 2. and we invoke differently"
   ]
  },
  {
   "cell_type": "markdown",
   "id": "ce3c41f6-4d16-44e0-8ee2-e620c07e77ea",
   "metadata": {},
   "source": [
    "Old:"
   ]
  },
  {
   "cell_type": "markdown",
   "id": "3e59df4a-4836-4c8c-89ee-38fd8e01dcaa",
   "metadata": {},
   "source": [
    "```python\n",
    "graph.invoke({\"graph_state\": \"chang chang\"})\n",
    "```"
   ]
  },
  {
   "cell_type": "markdown",
   "id": "1a22a7a5-5dd5-4bbd-85d8-c567eec68c86",
   "metadata": {},
   "source": [
    "New:"
   ]
  },
  {
   "cell_type": "markdown",
   "id": "3561e078-7fa9-4895-b252-37f9779bd068",
   "metadata": {},
   "source": [
    "```python\n",
    "graph.invoke(DataclassState(graph_state=\"chang chang\"))\n",
    "```"
   ]
  },
  {
   "cell_type": "markdown",
   "id": "857828f3-db52-4292-b219-6956906df3d6",
   "metadata": {},
   "source": [
    "### <span style=\"color:purple\">Pydantic</span>:"
   ]
  },
  {
   "cell_type": "markdown",
   "id": "d8c4a573-2f45-48e5-9c75-2d0b7067192d",
   "metadata": {},
   "source": [
    "- As mentioned, `TypedDict` and `dataclasses` provide type hints but they don't enforce types at runtime.\n",
    "- This means the datatype is not validated, and you can assign values with the incorrect data type without any errors"
   ]
  },
  {
   "cell_type": "markdown",
   "id": "ee93ff9e-ad19-43c8-aafa-a4e412b76067",
   "metadata": {},
   "source": [
    "- Pydantic is a powerful data validation and settings management library using Python type annotations\n",
    "- It's particularly well-suited for defining state schemas in LangGraph due to its robust validation capabilities\n",
    "- IT performs validation at runtime to confirm whether data match to their specified types"
   ]
  },
  {
   "cell_type": "code",
   "execution_count": 119,
   "id": "64dd6ed9-cb58-441d-9b00-b2f732018470",
   "metadata": {},
   "outputs": [
    {
     "name": "stdout",
     "output_type": "stream",
     "text": [
      "ValidationError: 1 validation error for PydanticState\n",
      "mood\n",
      "  unexpected value; permitted: 'happy', 'sad' (type=value_error.const; given=chirp; permitted=('happy', 'sad'))\n"
     ]
    }
   ],
   "source": [
    "from langchain_core.pydantic_v1 import BaseModel, validator, ValidationError\n",
    "\n",
    "class PydanticState(BaseModel):\n",
    "    name: str\n",
    "    mood: Literal[\"happy\", \"sad\"]\n",
    "\n",
    "    # @validator(\"mood\")\n",
    "    # def validate_mood(cls, value):\n",
    "    #     if value not in [\"happy\", \"sad\"]:\n",
    "    #         raise ValueError(\"Each mood must be either 'happy' or 'sad'\")\n",
    "    #     return value\n",
    "\n",
    "try:\n",
    "    state = PydanticState(name=\"Doe Doe\", mood=\"chirp\")\n",
    "except ValidationError as e:\n",
    "    print(\"ValidationError:\", e)"
   ]
  },
  {
   "cell_type": "markdown",
   "id": "4749efdb-84c4-422f-8112-ace96d78ff04",
   "metadata": {},
   "source": [
    "- **NOTE**: The syntax for `pydantic` is just like `dataclasses`"
   ]
  },
  {
   "cell_type": "markdown",
   "id": "b4afb18f-b761-4427-97a5-af0c305ce6d1",
   "metadata": {},
   "source": [
    "## <span style=\"color:red\">State Reducers</span>"
   ]
  },
  {
   "cell_type": "markdown",
   "id": "373fe1af-1246-437b-ab4a-bb29f1db8c9f",
   "metadata": {},
   "source": [
    "- when two nodes are in parallel and both operate on a key, langgraph raises an error knowing which of those 2 nodes' value must be kept for that key in the state schema"
   ]
  },
  {
   "cell_type": "markdown",
   "id": "61afd10d-5b87-4eba-a5c3-52e28c9a29c2",
   "metadata": {},
   "source": [
    "**NOTE**: By default, when we make updates, we overwrite the prior value"
   ]
  },
  {
   "cell_type": "code",
   "execution_count": 35,
   "id": "faa2c5e9-d270-4f45-be42-f5b339bedd87",
   "metadata": {},
   "outputs": [
    {
     "data": {
      "image/png": "[encoded data removed]",
      "text/plain": [
       "<IPython.core.display.Image object>"
      ]
     },
     "metadata": {},
     "output_type": "display_data"
    }
   ],
   "source": [
    "class State(TypedDict):\n",
    "    graph_state: int\n",
    "    \n",
    "def node1(state):\n",
    "    return {\"graph_state\": state[\"graph_state\"] + 1}\n",
    "\n",
    "def node2(state):\n",
    "    return {\"graph_state\": state[\"graph_state\"] + 1}\n",
    "\n",
    "def node3(state):\n",
    "    return {\"graph_state\": state[\"graph_state\"] + 1}\n",
    "\n",
    "builder = StateGraph(State)\n",
    "\n",
    "builder.add_node(\"node1\", node1)\n",
    "builder.add_node(\"node2\", node2)\n",
    "builder.add_node(\"node3\", node3)\n",
    "\n",
    "builder.add_edge(\"node1\", \"node2\")\n",
    "builder.add_edge(\"node1\", \"node3\")\n",
    "\n",
    "builder.add_edge(START, \"node1\")\n",
    "builder.add_edge(\"node2\", END)\n",
    "builder.add_edge(\"node3\", END)\n",
    "\n",
    "graph = builder.compile()\n",
    "\n",
    "display(Image(graph.get_graph().draw_mermaid_png()))"
   ]
  },
  {
   "cell_type": "code",
   "execution_count": 37,
   "id": "346a8537-f680-4aa2-ac50-99e22c317980",
   "metadata": {},
   "outputs": [
    {
     "name": "stdout",
     "output_type": "stream",
     "text": [
      "InvalidUpdateError: At key 'graph_state': Can receive only one value per step. Use an Annotated key to handle multiple values.\n"
     ]
    }
   ],
   "source": [
    "from langgraph.errors import InvalidUpdateError\n",
    "try:\n",
    "    graph.invoke({\"graph_state\": 1})\n",
    "except InvalidUpdateError as e:\n",
    "    print(\"InvalidUpdateError:\", e)"
   ]
  },
  {
   "cell_type": "markdown",
   "id": "eef345ab-68fb-4ab9-b646-6fa02ea1404b",
   "metadata": {},
   "source": [
    "- Before for the \"happy\" and \"sad\" example, we used a conditional edge, here we directly pass the state to both the nodes in parallel"
   ]
  },
  {
   "cell_type": "markdown",
   "id": "1ec0f594-3541-4730-a960-61c19414fb2d",
   "metadata": {},
   "source": [
    "**Reducers** give us a general way to address this problem"
   ]
  },
  {
   "cell_type": "code",
   "execution_count": 59,
   "id": "02bc3095-db66-4d86-920b-8f919667860a",
   "metadata": {},
   "outputs": [
    {
     "data": {
      "image/png": "[encoded data removed]",
      "text/plain": [
       "<IPython.core.display.Image object>"
      ]
     },
     "metadata": {},
     "output_type": "display_data"
    }
   ],
   "source": [
    "from operator import add\n",
    "from IPython.display import Image, display\n",
    "from langgraph.graph import StateGraph, START, END\n",
    "from typing import Annotated, TypedDict\n",
    "\n",
    "class State(TypedDict):\n",
    "    graph_state: Annotated[list[int], add]\n",
    "\n",
    "def node1(state):\n",
    "    return {\"graph_state\": [905]}\n",
    "\n",
    "def node2(state):\n",
    "    return {\"graph_state\": [state[\"graph_state\"][-1]-100]}\n",
    "\n",
    "def node3(state):\n",
    "    return {\"graph_state\": [907]}\n",
    "\n",
    "builder = StateGraph(State)\n",
    "\n",
    "builder.add_node(\"node1\", node1)\n",
    "builder.add_node(\"node2\", node2)\n",
    "builder.add_node(\"node3\", node3)\n",
    "\n",
    "builder.add_edge(\"node1\", \"node2\")\n",
    "builder.add_edge(\"node1\", \"node3\")\n",
    "\n",
    "builder.add_edge(START, \"node1\")\n",
    "builder.add_edge(\"node2\", END)\n",
    "builder.add_edge(\"node3\", END)\n",
    "\n",
    "graph = builder.compile()\n",
    "\n",
    "display(Image(graph.get_graph().draw_mermaid_png()))"
   ]
  },
  {
   "cell_type": "code",
   "execution_count": 61,
   "id": "6fa5b26c-4de0-40ef-bf74-8cc5cca3a031",
   "metadata": {},
   "outputs": [
    {
     "data": {
      "text/plain": [
       "{'graph_state': [2, 905, 805, 907]}"
      ]
     },
     "execution_count": 61,
     "metadata": {},
     "output_type": "execute_result"
    }
   ],
   "source": [
    "graph.invoke({\"graph_state\": [2]})"
   ]
  },
  {
   "cell_type": "markdown",
   "id": "33197f3d-1923-4196-948c-f226c21ef125",
   "metadata": {},
   "source": [
    "### <span style=\"color:purple\">add</span>:"
   ]
  },
  {
   "cell_type": "code",
   "execution_count": 5,
   "id": "7f1e7a5c-ddf6-4d41-bae7-263d82a99f39",
   "metadata": {},
   "outputs": [
    {
     "data": {
      "text/plain": [
       "[AIMessage(content='Hey there!', additional_kwargs={}, response_metadata={}, id='1'),\n",
       " HumanMessage(content='I am tree', additional_kwargs={}, response_metadata={}, id='2'),\n",
       " AIMessage(content='sure, Hi', additional_kwargs={}, response_metadata={}, id='3')]"
      ]
     },
     "execution_count": 5,
     "metadata": {},
     "output_type": "execute_result"
    }
   ],
   "source": [
    "from langgraph.graph.message import add_messages\n",
    "from langchain_core.messages import AIMessage, HumanMessage\n",
    "\n",
    "initial_messages = [\n",
    "    AIMessage(content=\"Hey there!\", id=1),\n",
    "    HumanMessage(content=\"I am tree\", id=2)\n",
    "]\n",
    "new_message = AIMessage(content=\"sure, Hi\", id=3)\n",
    "add_messages(initial_messages, new_message)"
   ]
  },
  {
   "cell_type": "markdown",
   "id": "4c9180b9-6060-4d05-815b-4bb1747d7fee",
   "metadata": {},
   "source": [
    "### <span style=\"color:purple\">re-write</span>:"
   ]
  },
  {
   "cell_type": "code",
   "execution_count": 11,
   "id": "b38417d6-4787-41c6-9c4c-2ed976fe35c2",
   "metadata": {},
   "outputs": [
    {
     "data": {
      "text/plain": [
       "[AIMessage(content='Hey there!', additional_kwargs={}, response_metadata={}, id='1'),\n",
       " HumanMessage(content='I am mike', additional_kwargs={}, response_metadata={}, id='2')]"
      ]
     },
     "execution_count": 11,
     "metadata": {},
     "output_type": "execute_result"
    }
   ],
   "source": [
    "new_msg= HumanMessage(content=\"I am mike\", id=2)\n",
    "add_messages(initial_messages, new_msg)"
   ]
  },
  {
   "cell_type": "markdown",
   "id": "bd6149fb-4e9b-454c-98f1-b859fc4f5fcb",
   "metadata": {},
   "source": [
    "### <span style=\"color:purple\">remove</span>:"
   ]
  },
  {
   "cell_type": "code",
   "execution_count": 16,
   "id": "9f89eec0-ad0d-4c87-99ea-1afdd59fef2d",
   "metadata": {},
   "outputs": [
    {
     "data": {
      "text/plain": [
       "[AIMessage(content='Hey there!', additional_kwargs={}, response_metadata={}, id='1'),\n",
       " HumanMessage(content='I am tree', additional_kwargs={}, response_metadata={}, id='2')]"
      ]
     },
     "execution_count": 16,
     "metadata": {},
     "output_type": "execute_result"
    }
   ],
   "source": [
    "from langchain_core.messages import RemoveMessage\n",
    "initial_messages"
   ]
  },
  {
   "cell_type": "code",
   "execution_count": 22,
   "id": "d4f387e1-ef1e-49dd-9b82-401e55e9d3e7",
   "metadata": {},
   "outputs": [
    {
     "data": {
      "text/plain": [
       "[HumanMessage(content='I am tree', additional_kwargs={}, response_metadata={}, id='2')]"
      ]
     },
     "execution_count": 22,
     "metadata": {},
     "output_type": "execute_result"
    }
   ],
   "source": [
    "add_messages(initial_messages, RemoveMessage(id=1))"
   ]
  },
  {
   "cell_type": "markdown",
   "id": "49b05d95-f3fa-4a94-9fb9-b7beeee64dae",
   "metadata": {},
   "source": [
    "## <span style=\"color:red\">Multiple Schemas</span>"
   ]
  },
  {
   "cell_type": "markdown",
   "id": "41c4a710-4191-4c3d-8a3b-c912e2e44419",
   "metadata": {},
   "source": [
    "- Typically all graph nodes communicate with a single schema\n",
    "- This single schema consists of graph's input and output keys/channels\n",
    "- But there are cases:\n",
    "  - Internal nodes may pass information that is not required in the graph's input/output\n",
    "  - We may also want to use different input/output schemas for the graph. The output might only contain a single relevant output key"
   ]
  },
  {
   "cell_type": "markdown",
   "id": "baf1bb89-9b31-4a2f-99e2-dd4ea48c0db4",
   "metadata": {},
   "source": [
    "### <span style=\"color:purple\">private state</span>:"
   ]
  },
  {
   "cell_type": "markdown",
   "id": "56543bb3-6277-4b41-b17b-4773bfed4a5f",
   "metadata": {},
   "source": [
    "This is useful for anything needed as part of the intermediate working logic of the graph but not relevant for the overall graph input or output"
   ]
  },
  {
   "cell_type": "code",
   "execution_count": 29,
   "id": "91f27c0c-eea5-42e9-9495-71cf4a9aebbc",
   "metadata": {},
   "outputs": [
    {
     "data": {
      "image/png": "[encoded data removed]",
      "text/plain": [
       "<IPython.core.display.Image object>"
      ]
     },
     "metadata": {},
     "output_type": "display_data"
    }
   ],
   "source": [
    "from typing import TypedDict\n",
    "from IPython.display import Image, display\n",
    "from langgraph.graph import StateGraph, START, END\n",
    "\n",
    "class OverallState(TypedDict):\n",
    "    foo: int\n",
    "\n",
    "class PrivateState(TypedDict):\n",
    "    baz: int\n",
    "\n",
    "def node_1(state: OverallState) -> PrivateState:\n",
    "    return {\"baz\": state[\"foo\"] + 1}\n",
    "\n",
    "def node_2(state: PrivateState) -> OverallState:\n",
    "    return {\"foo\": state[\"baz\"] + 1}\n",
    "\n",
    "builder = StateGraph(OverallState)\n",
    "builder.add_node(\"node 1\", node_1)\n",
    "builder.add_node(\"node 2\", node_2)\n",
    "\n",
    "builder.add_edge(START, \"node 1\")\n",
    "builder.add_edge(\"node 1\", \"node 2\")\n",
    "builder.add_edge(\"node 2\", END)\n",
    "\n",
    "graph = builder.compile()\n",
    "\n",
    "display(Image(graph.get_graph().draw_mermaid_png()))"
   ]
  },
  {
   "cell_type": "code",
   "execution_count": 31,
   "id": "1e208332-4284-4bde-bffb-63841df2b221",
   "metadata": {},
   "outputs": [
    {
     "data": {
      "text/plain": [
       "{'foo': 3}"
      ]
     },
     "execution_count": 31,
     "metadata": {},
     "output_type": "execute_result"
    }
   ],
   "source": [
    "graph.invoke({\"foo\": 1})"
   ]
  },
  {
   "cell_type": "markdown",
   "id": "fbe8d14b-3e21-4a3e-906a-365789f50182",
   "metadata": {},
   "source": [
    "`baz` is private to this graph <br>\n",
    "\"node 2\" uses `PrivateState` as input but writes out to `OverallState`"
   ]
  },
  {
   "cell_type": "markdown",
   "id": "ad4cf2ff-2385-49b2-be80-e0f460310d77",
   "metadata": {},
   "source": [
    "### <span style=\"color:purple\">Input/Output State</span>:"
   ]
  },
  {
   "cell_type": "markdown",
   "id": "53795260-b98e-4e1c-8846-e656f9930ed3",
   "metadata": {},
   "source": [
    "By default, `StateGraph` takes in a single schema and all nodes are expected to communicate with that schema. However, it is also possible to define explicit input and output schemas for a graph.<br>\n",
    "In these cases, we define and \"internal\" schema that contains all keys relevant to graph operations"
   ]
  },
  {
   "cell_type": "code",
   "execution_count": 37,
   "id": "c99b4fcc-00fd-4cef-ac7d-fff9dd9a26f8",
   "metadata": {},
   "outputs": [],
   "source": [
    "class InputState(TypedDict):\n",
    "    question: str\n",
    "\n",
    "class OutputState(TypedDict):\n",
    "    answer: str\n",
    "\n",
    "class OverallState(TypedDict):\n",
    "    question: str\n",
    "    answer: str\n",
    "    notes: str\n",
    "\n",
    "def thinking_node(state: InputState):\n",
    "    return {\"answer\": \"bye\", \"notes\": \"... his is name Bond\"}\n",
    "\n",
    "def answer_node(state: OverallState) -> OutputState:\n",
    "    return {\"answer\": \"Farewell Mr. Bond\"}\n",
    "\n",
    "graph = StateGraph(OverallState, input=InputState, output=OutputState)\n",
    "graph.add_node(\"thinking_node\", thinking_node)\n",
    "graph.add_node(\"answer_node\", answer_node)\n",
    "\n",
    "graph.add_edge(START, \"thinking_node\")\n",
    "graph.add_edge(\"thinking_node\", \"answer_node\")\n",
    "graph.add_edge(\"answer_node\", END)\n",
    "\n",
    "graph = graph.compile()"
   ]
  },
  {
   "cell_type": "code",
   "execution_count": 39,
   "id": "c0f2cc28-24ae-4aaa-8d86-32ba19917acd",
   "metadata": {},
   "outputs": [
    {
     "data": {
      "text/plain": [
       "{'answer': 'Farewell Mr. Bond'}"
      ]
     },
     "execution_count": 39,
     "metadata": {},
     "output_type": "execute_result"
    }
   ],
   "source": [
    "graph.invoke({\"question\": \"hi\"})"
   ]
  },
  {
   "cell_type": "markdown",
   "id": "4bbbdd73-044e-4ea3-8f6b-6a7c83a6ab1e",
   "metadata": {},
   "source": [
    "- As we can see, the `Output` schema constrains the output to only the `answer` key"
   ]
  },
  {
   "cell_type": "markdown",
   "id": "54ddd103-716e-4065-9771-fda086d96559",
   "metadata": {},
   "source": [
    "## <span style=\"color:red\">Filtering and trimming messages</span>"
   ]
  },
  {
   "cell_type": "code",
   "execution_count": 43,
   "id": "06d79cc9-be93-467c-a60c-9f658c7f713d",
   "metadata": {},
   "outputs": [
    {
     "name": "stdout",
     "output_type": "stream",
     "text": [
      "==================================\u001b[1m Ai Message \u001b[0m==================================\n",
      "Name: Bot\n",
      "\n",
      "So you said you were researching about fruits?\n",
      "================================\u001b[1m Human Message \u001b[0m=================================\n",
      "Name: Human\n",
      "\n",
      "Yes, I know about pineapples. But what others should I learn about?\n"
     ]
    }
   ],
   "source": [
    "from langchain_core.messages import AIMessage, HumanMessage\n",
    "\n",
    "messages = [\n",
    "    AIMessage(content=\"So you said you were researching about fruits?\", name=\"Bot\"),\n",
    "    HumanMessage(content=\"Yes, I know about pineapples. But what others should I learn about?\", name=\"Human\")\n",
    "]\n",
    "\n",
    "for m in messages:\n",
    "    m.pretty_print()"
   ]
  },
  {
   "cell_type": "code",
   "execution_count": 47,
   "id": "3dc27a66-fe87-4672-baa5-a93901936289",
   "metadata": {},
   "outputs": [],
   "source": [
    "from langchain_google_genai import ChatGoogleGenerativeAI\n",
    "from keys import gemini_api_key\n",
    "llm = ChatGoogleGenerativeAI(model=\"gemini-1.5-flash-latest\", google_api_key=gemini_api_key)"
   ]
  },
  {
   "cell_type": "code",
   "execution_count": 49,
   "id": "9937e073-233d-4e8b-8bd7-d335184568aa",
   "metadata": {},
   "outputs": [
    {
     "data": {
      "text/plain": [
       "AIMessage(content=\"That's great you know about pineapples!  To suggest other fruits for you to learn about, I need a little more information about your interests.  What aspects of fruit are you most interested in?  For example, are you interested in:\\n\\n* **Nutritional value:**  Then you might want to research fruits high in Vitamin C (like oranges, kiwis, and strawberries), antioxidants (like blueberries and acai berries), or fiber (like apples and pears).\\n* **Geographical origins and cultivation:**  Learning about the history and growing conditions of fruits like mangoes (India), bananas (Southeast Asia), or avocados (Mexico) could be fascinating.\\n* **Culinary uses:**  Explore fruits used in desserts (like berries, cherries, and mangoes), savory dishes (like tomatoes, pomegranates, and citrus fruits), or beverages (like grapes, cranberries, and passion fruit).\\n* **Unique characteristics:**  Learn about unusual fruits like durian (known for its pungent smell), mangosteen (for its sweet and creamy texture), or rambutan (for its hairy exterior).\\n* **Health benefits and medicinal properties:**  Research fruits with specific health benefits, like pomegranate (antioxidant properties) or guava (high in Vitamin C).\\n\\n\\nOnce I know what aspects interest you most, I can give you a more tailored list of fruits to research.\\n\", additional_kwargs={}, response_metadata={'prompt_feedback': {'block_reason': 0, 'safety_ratings': []}, 'finish_reason': 'STOP', 'safety_ratings': []}, id='run-4b24e13f-dd5b-4cea-a7f0-2d0b4e5df8aa-0', usage_metadata={'input_tokens': 27, 'output_tokens': 277, 'total_tokens': 304, 'input_token_details': {'cache_read': 0}})"
      ]
     },
     "execution_count": 49,
     "metadata": {},
     "output_type": "execute_result"
    }
   ],
   "source": [
    "llm.invoke(messages)"
   ]
  },
  {
   "cell_type": "code",
   "execution_count": 51,
   "id": "74685fac-f9bf-4378-9592-7451ae88d365",
   "metadata": {},
   "outputs": [],
   "source": [
    "from langgraph.graph import MessagesState\n",
    "def chat_model_node(state: MessagesState):\n",
    "    return {\"messages\": llm.invoke(state[\"messages\"])}\n",
    "\n",
    "builder = StateGraph(MessagesState)\n",
    "builder.add_node(\"chat_model\", chat_model_node)\n",
    "builder.add_edge(START, \"chat_model\")\n",
    "builder.add_edge(\"chat_model\", END)\n",
    "\n",
    "graph = builder.compile()\n"
   ]
  },
  {
   "cell_type": "code",
   "execution_count": 53,
   "id": "e5c36f16-f0a7-4938-869a-4dc32c0a4714",
   "metadata": {},
   "outputs": [
    {
     "name": "stdout",
     "output_type": "stream",
     "text": [
      "==================================\u001b[1m Ai Message \u001b[0m==================================\n",
      "Name: Bot\n",
      "\n",
      "So you said you were researching about fruits?\n",
      "================================\u001b[1m Human Message \u001b[0m=================================\n",
      "Name: Human\n",
      "\n",
      "Yes, I know about pineapples. But what others should I learn about?\n",
      "==================================\u001b[1m Ai Message \u001b[0m==================================\n",
      "\n",
      "That's great you know about pineapples!  To suggest other fruits for you to learn about, I need a little more information about your interests.  What aspects of fruit are you most curious about?  For example, are you interested in:\n",
      "\n",
      "* **Nutritional aspects?**  (e.g., vitamin content, antioxidants, health benefits)  If so, I could suggest fruits high in specific nutrients or with unique health properties.\n",
      "* **Geographic origins and cultivation?** (e.g., where they grow, the history of their cultivation)\n",
      "* **Culinary uses?** (e.g., how they're prepared in different cuisines, common recipes)\n",
      "* **Botanical classification?** (e.g., their family, genus, and species)\n",
      "* **Unusual or exotic fruits?** (e.g., fruits you've never heard of before)\n",
      "* **Economic importance?** (e.g., major producers, global trade)\n",
      "\n",
      "\n",
      "Once I know what you're most interested in, I can give you a more tailored list of fruits to research.\n"
     ]
    }
   ],
   "source": [
    "output = graph.invoke({\"messages\": messages})\n",
    "for m in output[\"messages\"]:\n",
    "    m.pretty_print()"
   ]
  },
  {
   "cell_type": "markdown",
   "id": "0f193af8-1d83-400f-adff-8b4747530471",
   "metadata": {},
   "source": [
    "- A practical issue in working with messages is, managing long running conversations\n",
    "- Costly, in terms of latency, token count etc.."
   ]
  },
  {
   "cell_type": "markdown",
   "id": "678eb432-4fdd-4453-bc45-7e51ad84b43a",
   "metadata": {},
   "source": [
    "One way to handle this problem is to filter the messages: (Remove all messages except the last two)"
   ]
  },
  {
   "cell_type": "code",
   "execution_count": 62,
   "id": "8bd942f9-7215-469f-9ae4-f92ef137bed3",
   "metadata": {},
   "outputs": [],
   "source": [
    "def filter_messages(State: MessagesState):\n",
    "    delete_messages = [RemoveMessage(id=m.id) for m in state[\"messages\"][:-2]]"
   ]
  },
  {
   "cell_type": "code",
   "execution_count": 66,
   "id": "a831837c-f1cb-4709-91c0-329252b0406c",
   "metadata": {},
   "outputs": [
    {
     "data": {
      "image/png": "[encoded data removed]",
      "text/plain": [
       "<IPython.core.display.Image object>"
      ]
     },
     "metadata": {},
     "output_type": "display_data"
    }
   ],
   "source": [
    "builder = StateGraph(MessagesState)\n",
    "builder.add_node(\"filter\", filter_messages)\n",
    "builder.add_node(\"chat_model\", chat_model_node)\n",
    "builder.add_edge(START, \"filter\")\n",
    "builder.add_edge(\"filter\", \"chat_model\")\n",
    "builder.add_edge(\"chat_model\", END)\n",
    "graph = builder.compile()\n",
    "\n",
    "display(Image(graph.get_graph().draw_mermaid_png()))"
   ]
  },
  {
   "cell_type": "markdown",
   "id": "c7611a23-a1aa-4d90-ad3e-33908d4973a6",
   "metadata": {},
   "source": [
    "This will only send the two most recent messages to the LLM, and after execution, there will be only three messages"
   ]
  },
  {
   "cell_type": "markdown",
   "id": "c41c795c-fe69-4006-9e33-d57de30684de",
   "metadata": {},
   "source": [
    "### <span style=\"color:purple\">Filtering messages</span>:"
   ]
  },
  {
   "cell_type": "markdown",
   "id": "d2bcb9d3-03b5-4a2b-a141-2574f17ef343",
   "metadata": {},
   "source": [
    "If you do not wish to modify the graph state, you can just filter the messages you pass to the chat model"
   ]
  },
  {
   "cell_type": "markdown",
   "id": "485d713d-a207-4d8f-8bac-d63f56280d69",
   "metadata": {},
   "source": [
    "```python\n",
    "def chat_model_node(state: MessagesState):\n",
    "    return {\"messages\": [llm.invoke(state[\"messages\"][-1:])]}\n",
    "```"
   ]
  },
  {
   "cell_type": "markdown",
   "id": "4b97a81f-b634-45b9-b195-3f14810ebc6c",
   "metadata": {},
   "source": [
    "### <span style=\"color:purple\">Trimming messages</span>:"
   ]
  },
  {
   "cell_type": "markdown",
   "id": "59ae05ec-8b50-4d29-a3cb-3d66b630c7e8",
   "metadata": {},
   "source": [
    "- based upon on a set number of tokens\n",
    "\n",
    "- this restricts the message history to a specified number of tokens\n",
    "- While filtering, only returns a post-hoc subset of the messages between graphs, trimming restricts the number of tokens that a chat model can use to respond"
   ]
  },
  {
   "cell_type": "code",
   "execution_count": 80,
   "id": "c9396b8d-8a7f-44ee-a53e-41b987c905aa",
   "metadata": {},
   "outputs": [],
   "source": [
    "from langchain_core.messages import trim_messages\n",
    "\n",
    "def chat_model_node(state: MessagesState):\n",
    "    messages = trim_messages(\n",
    "        state[\"messages\"],\n",
    "        max_tokens=100,\n",
    "        strategy=\"last\",\n",
    "        token_counter=ChatGoogleGenerativeAI(model=\"gemini-1.5-flash-latest\", google_api_key=gemini_api_key),\n",
    "        allow_partial=False\n",
    "    )\n",
    "    return {\"messages\": [llm.invoke(messages)]}"
   ]
  },
  {
   "cell_type": "code",
   "execution_count": 78,
   "id": "e86e4931-5c06-45e5-b82e-9e1a52f02c4a",
   "metadata": {},
   "outputs": [
    {
     "data": {
      "text/plain": [
       "[AIMessage(content='So you said you were researching about fruits?', additional_kwargs={}, response_metadata={}, name='Bot', id='fef09018-4e32-4a0b-899e-a6b0dce575ae'),\n",
       " HumanMessage(content='Yes, I know about pineapples. But what others should I learn about?', additional_kwargs={}, response_metadata={}, name='Human', id='dc0fb73e-4865-48ab-b07b-fe821830d98e')]"
      ]
     },
     "execution_count": 78,
     "metadata": {},
     "output_type": "execute_result"
    }
   ],
   "source": [
    "messages"
   ]
  },
  {
   "cell_type": "code",
   "execution_count": 88,
   "id": "b18521e2-f200-47be-9106-fc12a2999bbf",
   "metadata": {},
   "outputs": [
    {
     "data": {
      "text/plain": [
       "[HumanMessage(content='Yes, I know about pineapples. But what others should I learn about?', additional_kwargs={}, response_metadata={}, name='Human', id='dc0fb73e-4865-48ab-b07b-fe821830d98e')]"
      ]
     },
     "execution_count": 88,
     "metadata": {},
     "output_type": "execute_result"
    }
   ],
   "source": [
    "trim_messages(\n",
    "    messages,\n",
    "    max_tokens=20, # this parameter determines\n",
    "    strategy=\"last\",\n",
    "    token_counter=ChatGoogleGenerativeAI(model=\"gemini-1.5-flash-latest\", google_api_key=gemini_api_key),\n",
    "    allow_partial=False\n",
    ")"
   ]
  },
  {
   "cell_type": "markdown",
   "id": "285968dc-c99b-458a-9a0f-f46f96dc4239",
   "metadata": {},
   "source": [
    "## <span style=\"color:red\">Running summary</span>"
   ]
  },
  {
   "cell_type": "code",
   "execution_count": 3,
   "id": "65a937d1-355c-4b2b-8358-e1a33523b4df",
   "metadata": {},
   "outputs": [],
   "source": [
    "from langchain_google_genai import ChatGoogleGenerativeAI\n",
    "from keys import gemini_api_key\n",
    "from langchain_core.messages import RemoveMessage\n",
    "\n",
    "from IPython.display import Image, display\n",
    "from langgraph.graph import StateGraph, START, END\n",
    "from langgraph.checkpoint.memory import MemorySaver\n",
    "from langgraph.graph import MessagesState\n",
    "\n",
    "\n",
    "class State(MessagesState):\n",
    "    summary: str\n",
    "\n",
    "model = ChatGoogleGenerativeAI(model=\"gemini-1.5-flash-latest\", google_api_key=gemini_api_key)\n",
    "\n",
    "def summarize_conversation(state: State):\n",
    "    summary = state.get(\"summary\", \"\")\n",
    "\n",
    "    if summary:\n",
    "        summary_message = (\n",
    "            f\"This is summary of the conversation to date: {summary}\\n\\n\"\n",
    "            \"Extend the summary by taking into account the new messages above:\"\n",
    "        )\n",
    "    else:\n",
    "        summary_message = \"Create a summary of the conversation above:\"\n",
    "\n",
    "    messages = state[\"messages\"] + [HumanMessage(content=summary_message)]\n",
    "    response = model.invoke(messages)\n",
    "    \n",
    "    delete_messages = [RemoveMessage(id=m.id) for m in state[\"messages\"][:-2]]\n",
    "    return {\"summary\": response.content, \"messages\": delete_messages}"
   ]
  },
  {
   "cell_type": "markdown",
   "id": "3a271db9-d37e-4241-a375-9b6f3376b6b6",
   "metadata": {},
   "source": [
    "- we use `RemoveMessage` to filter our state after we've produced the summary"
   ]
  },
  {
   "cell_type": "code",
   "execution_count": 5,
   "id": "f00c1c6a-949a-446a-8cb0-5660ea4cd4e6",
   "metadata": {},
   "outputs": [],
   "source": [
    "def call_model(state: State):\n",
    "    summary = state.get(\"summary\", \"\")\n",
    "    if summary:\n",
    "        system_message = f\"Summary of conversation earlier: {summary}\"\n",
    "        messages = [SystemMessage(content=system_message)] + state[\"messages\"]\n",
    "    else:\n",
    "        messages = state[\"messages\"]\n",
    "\n",
    "    response = model.invoke(messages)\n",
    "    return {\"messages\": response}"
   ]
  },
  {
   "cell_type": "markdown",
   "id": "2cb40c51-a846-4395-b40b-9395f00274cc",
   "metadata": {},
   "source": [
    "- We will add a conditional edge to determine whether to produce a summary based on the conversation length"
   ]
  },
  {
   "cell_type": "code",
   "execution_count": 7,
   "id": "4948a7a2-c505-443c-aa6b-2fbae486a86d",
   "metadata": {},
   "outputs": [],
   "source": [
    "def should_continue(state: State):\n",
    "    messages = state[\"messages\"]\n",
    "    length = 6 # change howmuchever you want\n",
    "    if len(messages) > length:\n",
    "        return \"summarize_conversation\"\n",
    "    else:\n",
    "        return END"
   ]
  },
  {
   "cell_type": "markdown",
   "id": "87b45604-3547-4015-bdd5-24154b394966",
   "metadata": {},
   "source": [
    "### <span style=\"color:purple\">Adding memory</span>:"
   ]
  },
  {
   "cell_type": "markdown",
   "id": "c5837cdd-0076-4f37-a3dc-8b64c6b92c7b",
   "metadata": {},
   "source": [
    "- Recall that state is *transient* to a single graph execution\n",
    "- This limits out ability to have multi-turn conversations with interruptions\n",
    "- we can use *persistence*; a checkpointer to automatically save the graph state after each step\n",
    "- This built-in persistence layer gives us memory, allowing Langgraph to pick up from the last state update"
   ]
  },
  {
   "cell_type": "code",
   "execution_count": 9,
   "id": "36791e8a-3455-4e14-a66d-b901da1a0a12",
   "metadata": {},
   "outputs": [
    {
     "data": {
      "image/png": "[encoded data removed]",
      "text/plain": [
       "<IPython.core.display.Image object>"
      ]
     },
     "metadata": {},
     "output_type": "display_data"
    }
   ],
   "source": [
    "workflow = StateGraph(State)\n",
    "workflow.add_node(\"conversation\", call_model)\n",
    "workflow.add_node(summarize_conversation)\n",
    "\n",
    "workflow.add_edge(START, \"conversation\")\n",
    "workflow.add_conditional_edges(\"conversation\", should_continue)\n",
    "workflow.add_edge(\"summarize_conversation\", END)\n",
    "\n",
    "memory = MemorySaver()\n",
    "graph = workflow.compile(checkpointer=memory)\n",
    "display(Image(graph.get_graph().draw_mermaid_png()))"
   ]
  },
  {
   "cell_type": "markdown",
   "id": "461699ad-e74a-4e05-b18d-8f818f83deec",
   "metadata": {},
   "source": [
    "### <span style=\"color:purple\">Threads</span>:"
   ]
  },
  {
   "cell_type": "markdown",
   "id": "f1169449-ede4-4ecb-bba6-cda1e2f9d68e",
   "metadata": {},
   "source": [
    "Threads represent individual sessions or conversations between the graph and a user. When using checkpointing, turns in a single conversation (and even steps within a single graph execution) are organized by a unique thread ID."
   ]
  },
  {
   "cell_type": "markdown",
   "id": "b0c057b2-0787-4df0-8a3e-4147ff034b7e",
   "metadata": {},
   "source": [
    "- The checkpointer saves the state at each step as a checkpoint\n",
    "- These saved checkpoints can be grouped into a thread of conversation"
   ]
  },
  {
   "cell_type": "code",
   "execution_count": 17,
   "id": "4ba94194-838f-481e-89d1-e9acecd0f703",
   "metadata": {},
   "outputs": [
    {
     "name": "stdout",
     "output_type": "stream",
     "text": [
      "================================\u001b[1m Human Message \u001b[0m=================================\n",
      "\n",
      "hi! I am Bond\n",
      "==================================\u001b[1m Ai Message \u001b[0m==================================\n",
      "\n",
      "Hello Bond.  Is there anything I can help you with today?\n"
     ]
    }
   ],
   "source": [
    "from langchain_core.messages import HumanMessage\n",
    "config = {\"configurable\": {\"thread_id\": \"2\"}}\n",
    "\n",
    "input_msg = HumanMessage(content=\"hi! I am Bond\")\n",
    "output = graph.invoke({\"messages\": [input_msg]}, config)\n",
    "for m in output[\"messages\"]:\n",
    "    m.pretty_print()"
   ]
  },
  {
   "cell_type": "markdown",
   "id": "65d2b2c0-6c9c-4729-8569-f0ecb2228fd7",
   "metadata": {},
   "source": [
    "**Now, a seperate invocation:**"
   ]
  },
  {
   "cell_type": "code",
   "execution_count": 19,
   "id": "fe91710d-ecbb-4e32-a59a-5fc6cc1793e5",
   "metadata": {},
   "outputs": [
    {
     "name": "stdout",
     "output_type": "stream",
     "text": [
      "================================\u001b[1m Human Message \u001b[0m=================================\n",
      "\n",
      "hi! I am Bond\n",
      "==================================\u001b[1m Ai Message \u001b[0m==================================\n",
      "\n",
      "Hello Bond.  Is there anything I can help you with today?\n",
      "================================\u001b[1m Human Message \u001b[0m=================================\n",
      "\n",
      "who was i?\n",
      "==================================\u001b[1m Ai Message \u001b[0m==================================\n",
      "\n",
      "You said you are Bond.  That's James Bond, the fictional British secret agent created by Ian Fleming.\n"
     ]
    }
   ],
   "source": [
    "config = {\"configurable\": {\"thread_id\": \"2\"}}\n",
    "\n",
    "input_msg = HumanMessage(content=\"who was i?\")\n",
    "output = graph.invoke({\"messages\": [input_msg]}, config)  # make sure the config is same\n",
    "for m in output[\"messages\"]:\n",
    "    m.pretty_print()"
   ]
  },
  {
   "cell_type": "markdown",
   "id": "975ab859-78f1-4ec3-8e71-6e8b407b89ff",
   "metadata": {},
   "source": [
    "**view the state saved in the thread:**"
   ]
  },
  {
   "cell_type": "code",
   "execution_count": 21,
   "id": "3ba21cdc-cd86-4325-b057-3d8ec8429695",
   "metadata": {},
   "outputs": [
    {
     "data": {
      "text/plain": [
       "[HumanMessage(content='hi! I am Bond', additional_kwargs={}, response_metadata={}, id='d76f299a-4ce1-4a7e-bc0b-2e9925e3ecea'),\n",
       " AIMessage(content='Hello Bond.  Is there anything I can help you with today?\\n', additional_kwargs={}, response_metadata={'prompt_feedback': {'block_reason': 0, 'safety_ratings': []}, 'finish_reason': 'STOP', 'safety_ratings': []}, id='run-723c82eb-c09f-4faf-b8e0-cfc26d21ad5e-0', usage_metadata={'input_tokens': 6, 'output_tokens': 15, 'total_tokens': 21, 'input_token_details': {'cache_read': 0}}),\n",
       " HumanMessage(content='who was i?', additional_kwargs={}, response_metadata={}, id='050f9450-65c1-43bb-9f89-95ad05cf27c7'),\n",
       " AIMessage(content=\"You said you are Bond.  That's James Bond, the fictional British secret agent created by Ian Fleming.\\n\", additional_kwargs={}, response_metadata={'prompt_feedback': {'block_reason': 0, 'safety_ratings': []}, 'finish_reason': 'STOP', 'safety_ratings': []}, id='run-564249c4-61e6-4e4e-8778-02ab945a1efc-0', usage_metadata={'input_tokens': 27, 'output_tokens': 24, 'total_tokens': 51, 'input_token_details': {'cache_read': 0}})]"
      ]
     },
     "execution_count": 21,
     "metadata": {},
     "output_type": "execute_result"
    }
   ],
   "source": [
    "graph.get_state(config).values.get(\"messages\", \"\")"
   ]
  },
  {
   "cell_type": "code",
   "execution_count": 23,
   "id": "cbed3c5a-868f-46d8-83b2-ca803dcf4e38",
   "metadata": {},
   "outputs": [
    {
     "data": {
      "text/plain": [
       "''"
      ]
     },
     "execution_count": 23,
     "metadata": {},
     "output_type": "execute_result"
    }
   ],
   "source": [
    "graph.get_state(config).values.get(\"summary\", \"\")"
   ]
  },
  {
   "cell_type": "code",
   "execution_count": 25,
   "id": "dae60c8d-6be2-4361-8203-5c7d6a52147e",
   "metadata": {},
   "outputs": [
    {
     "name": "stdout",
     "output_type": "stream",
     "text": [
      "================================\u001b[1m Human Message \u001b[0m=================================\n",
      "\n",
      "hi! I am Bond\n",
      "==================================\u001b[1m Ai Message \u001b[0m==================================\n",
      "\n",
      "Hello Bond.  Is there anything I can help you with today?\n",
      "================================\u001b[1m Human Message \u001b[0m=================================\n",
      "\n",
      "who was i?\n",
      "==================================\u001b[1m Ai Message \u001b[0m==================================\n",
      "\n",
      "You said you are Bond.  That's James Bond, the fictional British secret agent created by Ian Fleming.\n",
      "================================\u001b[1m Human Message \u001b[0m=================================\n",
      "\n",
      "who is better at our job, me or Agent P?\n",
      "==================================\u001b[1m Ai Message \u001b[0m==================================\n",
      "\n",
      "That's a fun question!  Comparing James Bond and Agent P (Perry the Platypus from Phineas and Ferb) is tricky because they operate in very different contexts and have vastly different skill sets.\n",
      "\n",
      "* **James Bond:**  Is a highly trained, sophisticated spy specializing in espionage, hand-to-hand combat, gadgets, and high-stakes international intrigue. He operates in a world of realistic (though often over-the-top) danger.\n",
      "\n",
      "* **Agent P:** Is a secret agent who balances his double life as a seemingly ordinary pet with incredibly effective, often outlandish, missions.  He uses his unique platypus abilities and a range of gadgets to thwart Dr. Doofenshmirtz's (often comically inept) plans.  He operates in a cartoon world with exaggerated physics and humor.\n",
      "\n",
      "\n",
      "There's no single \"better.\"  Bond excels in realistic espionage, while Agent P excels in creative problem-solving within a comedic context.  They are both highly effective in their respective universes.  It really comes down to what kind of \"job\" you're prioritizing.\n"
     ]
    }
   ],
   "source": [
    "config = {\"configurable\": {\"thread_id\": \"2\"}}\n",
    "\n",
    "input_msg = HumanMessage(content=\"who is better at our job, me or Agent P?\")\n",
    "output = graph.invoke({\"messages\": [input_msg]}, config)  # make sure the config is same\n",
    "for m in output[\"messages\"]:\n",
    "    m.pretty_print()"
   ]
  },
  {
   "cell_type": "code",
   "execution_count": 27,
   "id": "f2bd646c-8451-4c69-bbf7-a5ea4b29b66b",
   "metadata": {},
   "outputs": [
    {
     "name": "stdout",
     "output_type": "stream",
     "text": [
      "================================\u001b[1m Human Message \u001b[0m=================================\n",
      "\n",
      "How many times each of our identity was compromised?\n",
      "==================================\u001b[1m Ai Message \u001b[0m==================================\n",
      "\n",
      "This is a difficult question to answer definitively, as it depends on how you define \"compromised identity.\"\n",
      "\n",
      "* **James Bond:**  His identity has been compromised numerous times throughout the various books and films.  His cover has been blown, his true identity suspected or revealed, and he's been impersonated.  There isn't a single number, as it's a recurring theme in his stories.  The level of compromise also varies – sometimes it's a temporary setback, and sometimes it's a major plot point.\n",
      "\n",
      "* **Agent P:**  His dual identity as Perry the Platypus and a secret agent is generally well-protected within the show's universe.  While his cover might be threatened occasionally, his identity as Agent P is rarely truly \"compromised\" in the way Bond's might be.  He faces threats, but outright exposure of his secret identity is less of a recurring plot device.\n",
      "\n",
      "\n",
      "Therefore, a numerical comparison is impossible.  Bond's identity has been threatened and compromised far more often, but in a more realistic and consequential way. Agent P's identity is generally safeguarded, even when facing considerable danger.\n"
     ]
    }
   ],
   "source": [
    "config = {\"configurable\": {\"thread_id\": \"2\"}}\n",
    "\n",
    "input_msg = HumanMessage(content=\"How many times each of our identity was compromised?\")\n",
    "output = graph.invoke({\"messages\": [input_msg]}, config)  # make sure the config is same\n",
    "for m in output[\"messages\"]:\n",
    "    m.pretty_print()"
   ]
  },
  {
   "cell_type": "code",
   "execution_count": 29,
   "id": "099ce9b6-903f-4c39-a61b-63ccb71a9f7d",
   "metadata": {},
   "outputs": [
    {
     "data": {
      "text/plain": [
       "[HumanMessage(content='How many times each of our identity was compromised?', additional_kwargs={}, response_metadata={}, id='b72dc110-d377-441b-a529-79940cce2cfd'),\n",
       " AIMessage(content='This is a difficult question to answer definitively, as it depends on how you define \"compromised identity.\"\\n\\n* **James Bond:**  His identity has been compromised numerous times throughout the various books and films.  His cover has been blown, his true identity suspected or revealed, and he\\'s been impersonated.  There isn\\'t a single number, as it\\'s a recurring theme in his stories.  The level of compromise also varies – sometimes it\\'s a temporary setback, and sometimes it\\'s a major plot point.\\n\\n* **Agent P:**  His dual identity as Perry the Platypus and a secret agent is generally well-protected within the show\\'s universe.  While his cover might be threatened occasionally, his identity as Agent P is rarely truly \"compromised\" in the way Bond\\'s might be.  He faces threats, but outright exposure of his secret identity is less of a recurring plot device.\\n\\n\\nTherefore, a numerical comparison is impossible.  Bond\\'s identity has been threatened and compromised far more often, but in a more realistic and consequential way. Agent P\\'s identity is generally safeguarded, even when facing considerable danger.\\n', additional_kwargs={}, response_metadata={'prompt_feedback': {'block_reason': 0, 'safety_ratings': []}, 'finish_reason': 'STOP', 'safety_ratings': []}, id='run-0c02847d-d6c6-4cac-a428-63807e77061d-0', usage_metadata={'input_tokens': 307, 'output_tokens': 238, 'total_tokens': 545, 'input_token_details': {'cache_read': 0}})]"
      ]
     },
     "execution_count": 29,
     "metadata": {},
     "output_type": "execute_result"
    }
   ],
   "source": [
    "graph.get_state(config).values.get(\"messages\", \"\")"
   ]
  },
  {
   "cell_type": "code",
   "execution_count": 31,
   "id": "46e5ddb3-69ca-44db-8fb3-4a0782d8dc97",
   "metadata": {},
   "outputs": [
    {
     "data": {
      "text/plain": [
       "\"The conversation began with a playful introduction where the user identified as James Bond.  We then discussed the relative merits of James Bond and Agent P as secret agents, acknowledging their vastly different contexts and skill sets – Bond operating in a world of realistic espionage and Agent P in a comedic, cartoon world.  Finally, we debated the difficulty of quantifying how many times each agent's identity had been compromised, concluding that while Bond's identity is frequently threatened and revealed to varying degrees, Agent P's secret identity remains largely secure within the parameters of his show.\\n\""
      ]
     },
     "execution_count": 31,
     "metadata": {},
     "output_type": "execute_result"
    }
   ],
   "source": [
    "graph.get_state(config).values.get(\"summary\", \"\")"
   ]
  },
  {
   "cell_type": "markdown",
   "id": "3ebde448-8fe0-4e50-b30f-f34c030d7ca0",
   "metadata": {},
   "source": [
    "## <span style=\"color:red\">Message summarization with external database</span>"
   ]
  },
  {
   "cell_type": "markdown",
   "id": "f5b1911f-ea9b-4973-95e4-5cdd22de6247",
   "metadata": {},
   "source": [
    "### <span style=\"color:purple\">Sqlite</span>"
   ]
  },
  {
   "cell_type": "code",
   "execution_count": 40,
   "id": "b735e23f-3c2b-4bcb-a016-f66feed98193",
   "metadata": {},
   "outputs": [],
   "source": [
    "import sqlite3"
   ]
  },
  {
   "cell_type": "markdown",
   "id": "330a1666-eec0-4ba5-b799-6f2dd6fd3ff1",
   "metadata": {},
   "source": [
    "- Sqlite is a small, fast and highly popular SQL database\n",
    "- If we supply `\":memory:\"`, it creates an in-memory Sqlite database just as we've done before"
   ]
  },
  {
   "cell_type": "markdown",
   "id": "1b3549de-7bbe-436f-ad09-bab33bca52e1",
   "metadata": {},
   "source": [
    "**NOTE:** This is only lasts till the lifetime of this notebook, replace with an actual local db to persist for a longer time"
   ]
  },
  {
   "cell_type": "code",
   "execution_count": 43,
   "id": "801d0a20-c1ef-4ea5-a89e-79012eb9fb5c",
   "metadata": {},
   "outputs": [],
   "source": [
    "conn = sqlite3.connect(\":memory:\")"
   ]
  },
  {
   "cell_type": "markdown",
   "id": "db660241-537e-48e3-8b9d-9e7ebe263b5b",
   "metadata": {},
   "source": [
    "- If you supply a path, then it will create a db for us"
   ]
  },
  {
   "cell_type": "code",
   "execution_count": 49,
   "id": "3d4c9f1f-2a42-4022-86ae-ce61c2eb11cc",
   "metadata": {},
   "outputs": [],
   "source": [
    "db_path = \"example.db\"\n",
    "conn = sqlite3.connect(db_path, check_same_thread=False)"
   ]
  },
  {
   "cell_type": "code",
   "execution_count": 53,
   "id": "2efb3be6-be77-4572-96f0-10042e209fcb",
   "metadata": {},
   "outputs": [],
   "source": [
    "!pip install langgraph-checkpoint-sqlite -q"
   ]
  },
  {
   "cell_type": "code",
   "execution_count": 58,
   "id": "4dec12ce-76b7-496b-8b3b-e246d1212d5e",
   "metadata": {},
   "outputs": [],
   "source": [
    "from langgraph.checkpoint.sqlite import SqliteSaver\n",
    "new_memory = SqliteSaver(conn)"
   ]
  },
  {
   "cell_type": "markdown",
   "id": "23fda775-0bc8-464d-a9d4-2fe6ce424be1",
   "metadata": {},
   "source": [
    "- just recompile it with our new memory"
   ]
  },
  {
   "cell_type": "code",
   "execution_count": 60,
   "id": "89273e68-84ea-4464-8132-9f3769dc3f16",
   "metadata": {},
   "outputs": [
    {
     "data": {
      "image/png": "[encoded data removed]",
      "text/plain": [
       "<IPython.core.display.Image object>"
      ]
     },
     "metadata": {},
     "output_type": "display_data"
    }
   ],
   "source": [
    "class State(MessagesState):\n",
    "    summary: str\n",
    "\n",
    "workflow = StateGraph(State)\n",
    "workflow.add_node(\"conversation\", call_model)\n",
    "workflow.add_node(summarize_conversation)\n",
    "\n",
    "workflow.add_edge(START, \"conversation\")\n",
    "workflow.add_conditional_edges(\"conversation\", should_continue)\n",
    "workflow.add_edge(\"summarize_conversation\", END)\n",
    "\n",
    "memory = MemorySaver()\n",
    "graph = workflow.compile(checkpointer=new_memory)\n",
    "display(Image(graph.get_graph().draw_mermaid_png()))"
   ]
  },
  {
   "cell_type": "markdown",
   "id": "b7fd7438-85f6-4d38-b5ae-853cd465242a",
   "metadata": {},
   "source": [
    "**Create a new thread**"
   ]
  },
  {
   "cell_type": "markdown",
   "id": "5e89b419-e516-4f48-9711-7527d142a542",
   "metadata": {},
   "source": [
    "Just print the last message (AIMessage) of the messages each time"
   ]
  },
  {
   "cell_type": "code",
   "execution_count": 64,
   "id": "66184187-6a4f-4657-ac57-bf39181ceafe",
   "metadata": {},
   "outputs": [
    {
     "name": "stdout",
     "output_type": "stream",
     "text": [
      "==================================\u001b[1m Ai Message \u001b[0m==================================\n",
      "\n",
      "Hey Carl Johnson!  What's up?  Hope things are going better in San Andreas than they used to. 😉\n",
      "==================================\u001b[1m Ai Message \u001b[0m==================================\n",
      "\n",
      "You said you were Carl Johnson, the protagonist from the video game Grand Theft Auto: San Andreas.\n",
      "==================================\u001b[1m Ai Message \u001b[0m==================================\n",
      "\n",
      "That's right, Carl.  A pivotal moment in the game.  Justice served (or at least, your version of it).\n"
     ]
    }
   ],
   "source": [
    "config = {\"configurable\": {\"thread_id\": \"142\"}}\n",
    "\n",
    "input_message = HumanMessage(content=\"Hi! i am carl johnson\")\n",
    "output = graph.invoke({\"messages\": [input_message]}, config)\n",
    "for m in output[\"messages\"][-1:]:\n",
    "    m.pretty_print()\n",
    "\n",
    "input_message = HumanMessage(content=\"who did i say i was?\")\n",
    "output = graph.invoke({\"messages\": [input_message]}, config)\n",
    "for m in output[\"messages\"][-1:]:\n",
    "    m.pretty_print()\n",
    "\n",
    "input_message = HumanMessage(content=\"I killed Big Smoke\")\n",
    "output = graph.invoke({\"messages\": [input_message]}, config)\n",
    "for m in output[\"messages\"][-1:]:\n",
    "    m.pretty_print()"
   ]
  },
  {
   "cell_type": "markdown",
   "id": "afe2a37c-8366-4919-8347-6059006eff61",
   "metadata": {},
   "source": [
    "**Confim that the state is saved locally**"
   ]
  },
  {
   "cell_type": "code",
   "execution_count": 69,
   "id": "bb4eaaf7-45ed-4062-80b6-9ae6425188bc",
   "metadata": {},
   "outputs": [
    {
     "data": {
      "text/plain": [
       "StateSnapshot(values={'messages': [HumanMessage(content='Hi! i am carl johnson', additional_kwargs={}, response_metadata={}, id='e863ff6c-8071-4873-b937-75107ba1d017'), AIMessage(content=\"Hey Carl Johnson!  What's up?  Hope things are going better in San Andreas than they used to. 😉\\n\", additional_kwargs={}, response_metadata={'prompt_feedback': {'block_reason': 0, 'safety_ratings': []}, 'finish_reason': 'STOP', 'safety_ratings': []}, id='run-e996c6c3-c276-40fe-9070-e12be3a6f80f-0', usage_metadata={'input_tokens': 7, 'output_tokens': 26, 'total_tokens': 33, 'input_token_details': {'cache_read': 0}}), HumanMessage(content='who did i say i was?', additional_kwargs={}, response_metadata={}, id='c73b0d88-e5b6-441a-8751-8cc380a0561f'), AIMessage(content='You said you were Carl Johnson, the protagonist from the video game Grand Theft Auto: San Andreas.\\n', additional_kwargs={}, response_metadata={'prompt_feedback': {'block_reason': 0, 'safety_ratings': []}, 'finish_reason': 'STOP', 'safety_ratings': []}, id='run-2eb407eb-22e0-4180-a0f3-06d4e0703ca1-0', usage_metadata={'input_tokens': 42, 'output_tokens': 21, 'total_tokens': 63, 'input_token_details': {'cache_read': 0}}), HumanMessage(content='I killed Big Smoke', additional_kwargs={}, response_metadata={}, id='a645ca26-0cc4-4751-85ce-4f453658deb7'), AIMessage(content=\"That's right, Carl.  A pivotal moment in the game.  Justice served (or at least, your version of it).\\n\", additional_kwargs={}, response_metadata={'prompt_feedback': {'block_reason': 0, 'safety_ratings': []}, 'finish_reason': 'STOP', 'safety_ratings': []}, id='run-690effdb-3d17-4d9a-a882-b0c97e552906-0', usage_metadata={'input_tokens': 69, 'output_tokens': 29, 'total_tokens': 98, 'input_token_details': {'cache_read': 0}})]}, next=(), config={'configurable': {'thread_id': '142', 'checkpoint_ns': '', 'checkpoint_id': '1efccc7a-112e-66c1-8007-3f9d20fae21b'}}, metadata={'source': 'loop', 'writes': {'conversation': {'messages': AIMessage(content=\"That's right, Carl.  A pivotal moment in the game.  Justice served (or at least, your version of it).\\n\", additional_kwargs={}, response_metadata={'prompt_feedback': {'block_reason': 0, 'safety_ratings': []}, 'finish_reason': 'STOP', 'safety_ratings': []}, id='run-690effdb-3d17-4d9a-a882-b0c97e552906-0', usage_metadata={'input_tokens': 69, 'output_tokens': 29, 'total_tokens': 98, 'input_token_details': {'cache_read': 0}})}}, 'thread_id': '142', 'step': 7, 'parents': {}}, created_at='2025-01-07T07:18:44.470342+00:00', parent_config={'configurable': {'thread_id': '142', 'checkpoint_ns': '', 'checkpoint_id': '1efccc7a-0680-6ddd-8006-d43de790b1b8'}}, tasks=())"
      ]
     },
     "execution_count": 69,
     "metadata": {},
     "output_type": "execute_result"
    }
   ],
   "source": [
    "config = {\"configurable\": {\"thread_id\": \"142\"}}\n",
    "graph_state = graph.get_state(config)\n",
    "graph_state"
   ]
  },
  {
   "cell_type": "markdown",
   "id": "de58dd55-4b0a-45cc-8ffd-8445a4522539",
   "metadata": {},
   "source": [
    "**Now, even if the notebook session ends and restarts, these messages will persist**"
   ]
  },
  {
   "cell_type": "markdown",
   "id": "d5519788-d9e5-43bb-a9a3-ffa1ea774ddb",
   "metadata": {},
   "source": [
    "## <span style=\"color:red\">Streaming</span>"
   ]
  },
  {
   "cell_type": "markdown",
   "id": "333b1a84-9f64-4567-a092-6686c3d6d7af",
   "metadata": {
    "editable": true,
    "slideshow": {
     "slide_type": "notes"
    },
    "tags": []
   },
   "source": [
    "Ways to stream our graph state:\n",
    "- `.stream` and `.astream` are sync and async methods for streaming back results"
   ]
  },
  {
   "cell_type": "markdown",
   "id": "0594baf3-50fe-4c98-ae35-24c0a0bc16ff",
   "metadata": {},
   "source": [
    "Langgraph has these streaming modes for the graph state:\n",
    "- `values` : Streams the full state of the graph after each node is called.\n",
    "- `updates` : Streams updates to the state of the graph after each node is run"
   ]
  },
  {
   "cell_type": "markdown",
   "id": "2f78637e-9d77-4754-a1ad-5c0d0c4722f2",
   "metadata": {},
   "source": [
    "- **mode = \"updates\"**:\n",
    "\n",
    "{\"messages\":[\"a\"]} -> {\"messages\":[\"b\"]} -> {\"messages\":[\"c\"]}\n"
   ]
  },
  {
   "cell_type": "markdown",
   "id": "42ab55ed-3569-42c8-b326-1bd3dd43c3af",
   "metadata": {},
   "source": [
    "- **mode = \"values\"**:\n",
    "\n",
    "{\"messages\":[\"a\"]} -> {\"messages\":[\"a\", \"b\"]} -> {\"messages\":[\"a\", \"b\", \"c\"]}\n"
   ]
  },
  {
   "cell_type": "markdown",
   "id": "979777a4-2e2c-4042-8018-f44c4e22e206",
   "metadata": {},
   "source": [
    "Each chunk of the stream output is a dictionary: {node_name : updated state}"
   ]
  },
  {
   "cell_type": "code",
   "execution_count": 31,
   "id": "972cac38-5f8e-465e-ac73-3c2f78601970",
   "metadata": {},
   "outputs": [
    {
     "name": "stdout",
     "output_type": "stream",
     "text": [
      "{'conversation': {'messages': AIMessage(content='Hi Joe!  How can I help you today?', additional_kwargs={}, response_metadata={'prompt_feedback': {'block_reason': 0, 'safety_ratings': []}, 'finish_reason': 'STOP', 'safety_ratings': []}, id='run-e5ab6ef2-3279-46f9-8dbf-6b8c1dbfd684-0', usage_metadata={'input_tokens': 6, 'output_tokens': 12, 'total_tokens': 18, 'input_token_details': {'cache_read': 0}})}}\n"
     ]
    }
   ],
   "source": [
    "config = {\"configurable\": {\"thread_id\": \"22-01-25\"}}\n",
    "\n",
    "inp_msg = HumanMessage(content=\"hi! I am Joe\")\n",
    "for chunk in graph.stream({\"messages\": [inp_msg]}, config, stream_mode=\"updates\"):\n",
    "    print(chunk)"
   ]
  },
  {
   "cell_type": "code",
   "execution_count": 33,
   "id": "d5b4074f-40b0-432b-aa35-4b77945484c5",
   "metadata": {},
   "outputs": [
    {
     "name": "stdout",
     "output_type": "stream",
     "text": [
      "{'messages': [HumanMessage(content='hi! I am Joe', additional_kwargs={}, response_metadata={}, id='80b013c4-52b2-4d18-9049-836cea2de0a4')]}\n",
      "{'messages': [HumanMessage(content='hi! I am Joe', additional_kwargs={}, response_metadata={}, id='80b013c4-52b2-4d18-9049-836cea2de0a4'), AIMessage(content='Hi Joe!  How can I help you today?', additional_kwargs={}, response_metadata={'prompt_feedback': {'block_reason': 0, 'safety_ratings': []}, 'finish_reason': 'STOP', 'safety_ratings': []}, id='run-c7082500-3c6c-4498-b5eb-833db34f8a3f-0', usage_metadata={'input_tokens': 6, 'output_tokens': 12, 'total_tokens': 18, 'input_token_details': {'cache_read': 0}})]}\n"
     ]
    }
   ],
   "source": [
    "config = {\"configurable\": {\"thread_id\": \"22-01-25-2\"}}\n",
    "\n",
    "inp_msg = HumanMessage(content=\"hi! I am Joe\")\n",
    "for chunk in graph.stream({\"messages\": [inp_msg]}, config, stream_mode=\"values\"):\n",
    "    print(chunk)"
   ]
  },
  {
   "cell_type": "markdown",
   "id": "2c03cc69-060a-4cd9-8e14-4c97eb7170ac",
   "metadata": {},
   "source": [
    "### <span style=\"color:purple\">Streaming tokens</span>"
   ]
  },
  {
   "cell_type": "markdown",
   "id": "eea950d8-68d7-43a8-99b7-29dd30f5bf79",
   "metadata": {},
   "source": [
    "- It is common to stream the tokens as they are generated\n",
    "- We can do this using the `.astream_events` , which streams back events as they happen inside the nodes\n",
    "\n",
    "Each event is a dictionary with few keys:\n",
    "- `event` : Type of event that is being emitted.\n",
    "- `name` : Name of the event\n",
    "- `data` : Data associated with the event\n",
    "- `metadata` : Which contains `langgraph_node` , the node emitting the event "
   ]
  },
  {
   "cell_type": "code",
   "execution_count": 43,
   "id": "af44f33f-6c7f-47e4-8183-be538f0373e5",
   "metadata": {},
   "outputs": [
    {
     "name": "stdout",
     "output_type": "stream",
     "text": [
      "Node: , Type: on_chain_start, Name:: LangGraph\n",
      "Node: __start__, Type: on_chain_start, Name:: __start__\n",
      "Node: __start__, Type: on_chain_start, Name:: _write\n",
      "Node: __start__, Type: on_chain_end, Name:: _write\n",
      "Node: __start__, Type: on_chain_start, Name:: _write\n",
      "Node: __start__, Type: on_chain_end, Name:: _write\n",
      "Node: __start__, Type: on_chain_stream, Name:: __start__\n",
      "Node: __start__, Type: on_chain_end, Name:: __start__\n",
      "Node: conversation, Type: on_chain_start, Name:: conversation\n",
      "Node: conversation, Type: on_chat_model_start, Name:: ChatGoogleGenerativeAI\n",
      "Node: conversation, Type: on_chat_model_stream, Name:: ChatGoogleGenerativeAI\n",
      "Node: conversation, Type: on_chat_model_stream, Name:: ChatGoogleGenerativeAI\n",
      "Node: conversation, Type: on_chat_model_stream, Name:: ChatGoogleGenerativeAI\n",
      "Node: conversation, Type: on_chat_model_end, Name:: ChatGoogleGenerativeAI\n",
      "Node: conversation, Type: on_chain_start, Name:: _write\n",
      "Node: conversation, Type: on_chain_end, Name:: _write\n",
      "Node: conversation, Type: on_chain_start, Name:: should_continue\n",
      "Node: conversation, Type: on_chain_end, Name:: should_continue\n",
      "Node: conversation, Type: on_chain_stream, Name:: conversation\n",
      "Node: conversation, Type: on_chain_end, Name:: conversation\n",
      "Node: , Type: on_chain_stream, Name:: LangGraph\n",
      "Node: , Type: on_chain_end, Name:: LangGraph\n"
     ]
    }
   ],
   "source": [
    "config = {\"configurable\": {\"thread_id\": \"22-01-25-2\"}}\n",
    "input_message = HumanMessage(content=\"What's in the box?????\")\n",
    "async for event in graph.astream_events({\"messages\": [input_message]}, config, version=\"v2\"):\n",
    "    print(f\"Node: {event['metadata'].get('langgraph_node', '')}, Type: {event['event']}, Name:: {event['name']}\")"
   ]
  },
  {
   "cell_type": "markdown",
   "id": "d517680e-bab4-48dc-89d5-e6c577871dc7",
   "metadata": {},
   "source": [
    "* The tokens from chat models in our graph have the `on_chat_model_stream` type.\n",
    "* We can use `event['data']['langgraph_node']`  to select the node to stream from\n",
    "* We can use `event['data']` to get the actual data for each event, which in this case is an `AIMessageChunk`"
   ]
  },
  {
   "cell_type": "code",
   "execution_count": 50,
   "id": "b3b23b5a-d047-4dc2-a0e7-5ae597821b51",
   "metadata": {},
   "outputs": [
    {
     "name": "stdout",
     "output_type": "stream",
     "text": [
      "{'chunk': AIMessageChunk(content='The', additional_kwargs={}, response_metadata={'safety_ratings': []}, id='run-93fad91d-e8b1-4410-b2e9-e3121d1929ed', usage_metadata={'input_tokens': 8, 'output_tokens': 0, 'total_tokens': 8, 'input_token_details': {'cache_read': 0}})}\n",
      "{'chunk': AIMessageChunk(content=\" contents of the box are a mystery!  To know what's in the\", additional_kwargs={}, response_metadata={'safety_ratings': []}, id='run-93fad91d-e8b1-4410-b2e9-e3121d1929ed', usage_metadata={'input_tokens': 0, 'output_tokens': 0, 'total_tokens': 0, 'input_token_details': {'cache_read': 0}})}\n",
      "{'chunk': AIMessageChunk(content=' box, I need more information.  Is this a riddle?  A reference', additional_kwargs={}, response_metadata={'safety_ratings': []}, id='run-93fad91d-e8b1-4410-b2e9-e3121d1929ed', usage_metadata={'input_tokens': 0, 'output_tokens': 0, 'total_tokens': 0, 'input_token_details': {'cache_read': 0}})}\n",
      "{'chunk': AIMessageChunk(content=' to a movie or story?  Tell me more!', additional_kwargs={}, response_metadata={'finish_reason': 'STOP', 'safety_ratings': []}, id='run-93fad91d-e8b1-4410-b2e9-e3121d1929ed', usage_metadata={'input_tokens': 0, 'output_tokens': 45, 'total_tokens': 45, 'input_token_details': {'cache_read': 0}})}\n"
     ]
    }
   ],
   "source": [
    "node_to_stream = 'conversation'\n",
    "config = {\"configurable\": {\"thread_id\": \"22-01-25-3\"}}\n",
    "input_messsage = HumanMessage(content=\"Whats in tha boooxxx???\")\n",
    "\n",
    "async for event in graph.astream_events({\"messages\": [input_message]}, config, version=\"v2\"):\n",
    "    if event[\"event\"] == \"on_chat_model_stream\" and event[\"metadata\"].get(\"langgraph_node\", \"\") == node_to_stream:\n",
    "        print(event[\"data\"])"
   ]
  },
  {
   "cell_type": "code",
   "execution_count": 64,
   "id": "0ef4a376-d366-43f0-a14b-660f4d498db9",
   "metadata": {},
   "outputs": [
    {
     "name": "stdout",
     "output_type": "stream",
     "text": [
      "\"\n",
      "What's in the box?\" is a famous line from **Seven (Se\n",
      "7en)**.\n"
     ]
    }
   ],
   "source": [
    "config = {\"configurable\": {\"thread_id\": \"622-01-25-6\"}}\n",
    "input_messsage = HumanMessage(content=\"Its a famous quote from a movie.. guess which?\")\n",
    "async for event in graph.astream_events({\"messages\": [input_messsage]}, config, version=\"v2\"):\n",
    "    if event[\"event\"] == \"on_chat_model_stream\" and event[\"metadata\"].get(\"langgraph_node\", \"\") == node_to_stream:\n",
    "        print(event[\"data\"][\"chunk\"].content)"
   ]
  },
  {
   "cell_type": "markdown",
   "id": "477b39f7-cd0a-4686-b622-4e573d470198",
   "metadata": {},
   "source": [
    "## <span style=\"color:red\">Breakpoints</span>"
   ]
  },
  {
   "cell_type": "markdown",
   "id": "dd619ab5-4758-432a-af64-96eced3d3b87",
   "metadata": {},
   "source": [
    "Allows us to stop the graph at specific steps"
   ]
  },
  {
   "cell_type": "markdown",
   "id": "0ad61ad4-036c-4620-b603-298fdc8147e3",
   "metadata": {},
   "source": [
    "Let's use some basic arithmetic tools which we used at the beginning"
   ]
  },
  {
   "cell_type": "code",
   "execution_count": 103,
   "id": "da061b71-b93e-4019-b0a9-a73b9f71f6e2",
   "metadata": {},
   "outputs": [
    {
     "data": {
      "image/png": "[encoded data removed]",
      "text/plain": [
       "<IPython.core.display.Image object>"
      ]
     },
     "metadata": {},
     "output_type": "display_data"
    }
   ],
   "source": [
    "from langgraph.prebuilt import tools_condition\n",
    "from langgraph.prebuilt import ToolNode\n",
    "\n",
    "sys_msg = SystemMessage(content=\"You are a helpful assistant tasked with performing arithmetic on a set of inputs.\")\n",
    "\n",
    "def assistant(state: MessagesState):\n",
    "    return {\"messages\": [llm_with_tools.invoke([sys_msg] + state[\"messages\"])]}\n",
    "\n",
    "builder = StateGraph(MessagesState)\n",
    "\n",
    "builder.add_node(\"assistant\", assistant)\n",
    "builder.add_node(\"tools\", ToolNode(tools))\n",
    "\n",
    "builder.add_edge(START, \"assistant\")\n",
    "builder.add_edge(\"tools\", \"assistant\")\n",
    "builder.add_conditional_edges(\n",
    "    \"assistant\",\n",
    "    tools_condition\n",
    ")\n",
    "\n",
    "memory = MemorySaver()\n",
    "graph = builder.compile(interrupt_before=[\"tools\"], checkpointer=memory)\n",
    "\n",
    "display(Image(graph.get_graph(xray=True).draw_mermaid_png()))"
   ]
  },
  {
   "cell_type": "code",
   "execution_count": 105,
   "id": "803632aa-0883-45dd-b461-93c6dcf9c1a9",
   "metadata": {},
   "outputs": [
    {
     "name": "stdout",
     "output_type": "stream",
     "text": [
      "================================\u001b[1m Human Message \u001b[0m=================================\n",
      "\n",
      "Multiply 2 and 3\n",
      "==================================\u001b[1m Ai Message \u001b[0m==================================\n",
      "Tool Calls:\n",
      "  multiply (230cff26-4f01-4fb9-b697-e57c10a82211)\n",
      " Call ID: 230cff26-4f01-4fb9-b697-e57c10a82211\n",
      "  Args:\n",
      "    a: 2.0\n",
      "    b: 3.0\n"
     ]
    }
   ],
   "source": [
    "initial_input = {\"messages\": \"Multiply 2 and 3\"}\n",
    "thread = {\"configurable\": {\"thread_id\": \"112\"}}\n",
    "\n",
    "for event in graph.stream(initial_input, thread, stream_mode=\"values\"):\n",
    "    event[\"messages\"][-1].pretty_print()"
   ]
  },
  {
   "cell_type": "markdown",
   "id": "cbd54341-c06f-4013-8910-df06ec28adc8",
   "metadata": {},
   "source": [
    "We have reached the tools node, and we have stopped BEFORE executing the logic of that node"
   ]
  },
  {
   "cell_type": "code",
   "execution_count": 110,
   "id": "48ca58f2-d706-42b6-a6dd-7dd5c26fe58f",
   "metadata": {},
   "outputs": [
    {
     "data": {
      "text/plain": [
       "('tools',)"
      ]
     },
     "execution_count": 110,
     "metadata": {},
     "output_type": "execute_result"
    }
   ],
   "source": [
    "state = graph.get_state(thread)\n",
    "state.next  # what node is going to be invoked/called next"
   ]
  },
  {
   "cell_type": "code",
   "execution_count": 129,
   "id": "9522136a-09f0-464b-bf0e-f8e7b7ef5b3d",
   "metadata": {},
   "outputs": [
    {
     "data": {
      "text/plain": [
       "StateSnapshot(values={'messages': [HumanMessage(content='Multiply 2 and 3', additional_kwargs={}, response_metadata={}, id='883f6615-98fe-4056-8e95-077862085dbb'), AIMessage(content='', additional_kwargs={'function_call': {'name': 'multiply', 'arguments': '{\"a\": 2.0, \"b\": 3.0}'}}, response_metadata={'prompt_feedback': {'block_reason': 0, 'safety_ratings': []}, 'finish_reason': 'STOP', 'safety_ratings': []}, id='run-d38763ef-8202-40b3-9543-97a1737f78f2-0', tool_calls=[{'name': 'multiply', 'args': {'a': 2.0, 'b': 3.0}, 'id': '230cff26-4f01-4fb9-b697-e57c10a82211', 'type': 'tool_call'}], usage_metadata={'input_tokens': 265, 'output_tokens': 3, 'total_tokens': 268, 'input_token_details': {'cache_read': 0}})]}, next=('tools',), config={'configurable': {'thread_id': '112', 'checkpoint_ns': '', 'checkpoint_id': '1efd89ab-d391-62e5-8001-b94af48d75be'}}, metadata={'source': 'loop', 'writes': {'assistant': {'messages': [AIMessage(content='', additional_kwargs={'function_call': {'name': 'multiply', 'arguments': '{\"a\": 2.0, \"b\": 3.0}'}}, response_metadata={'prompt_feedback': {'block_reason': 0, 'safety_ratings': []}, 'finish_reason': 'STOP', 'safety_ratings': []}, id='run-d38763ef-8202-40b3-9543-97a1737f78f2-0', tool_calls=[{'name': 'multiply', 'args': {'a': 2.0, 'b': 3.0}, 'id': '230cff26-4f01-4fb9-b697-e57c10a82211', 'type': 'tool_call'}], usage_metadata={'input_tokens': 265, 'output_tokens': 3, 'total_tokens': 268, 'input_token_details': {'cache_read': 0}})]}}, 'thread_id': '112', 'step': 1, 'parents': {}}, created_at='2025-01-22T08:27:38.297213+00:00', parent_config={'configurable': {'thread_id': '112', 'checkpoint_ns': '', 'checkpoint_id': '1efd89ab-ccb8-60b9-8000-cab12ac918b3'}}, tasks=(PregelTask(id='fd9d1618-3352-e0ec-8121-2b2aacd6bd76', name='tools', path=('__pregel_pull', 'tools'), error=None, interrupts=(), state=None, result=None),))"
      ]
     },
     "execution_count": 129,
     "metadata": {},
     "output_type": "execute_result"
    }
   ],
   "source": [
    "state"
   ]
  },
  {
   "cell_type": "markdown",
   "id": "3d13d9b4-37d7-4b2c-bd9a-7607fac8f7b8",
   "metadata": {},
   "source": [
    "* Each graph has a number of super steps\n",
    "* Each step (as our graph executes) has a state, which is written by a checkpointer (as a checkpoint)\n",
    "* Checkpoint contains the state and other useful metadata\n",
    "* A thread is a collection of checkpoints\n",
    "* A StateSnapshot is a 'type' of checkpoint"
   ]
  },
  {
   "cell_type": "markdown",
   "id": "576de781-1853-4ef9-867c-7edaf8926d4e",
   "metadata": {},
   "source": [
    "So now, we have the `StateSnapshot()` which allows us to resume the execution after we interrupted it with the breakpoint"
   ]
  },
  {
   "cell_type": "markdown",
   "id": "1da791e4-81e0-4043-9fc4-e433da594966",
   "metadata": {},
   "source": [
    "```python\n",
    "thread = {\"configurable\": {\"thread_id\": \"112\"}}\n",
    "graph.stream(None,  thread, stream_mode=\"values\")\n",
    "```"
   ]
  },
  {
   "cell_type": "markdown",
   "id": "716d62c9-1810-4fdb-908a-3b3e18247794",
   "metadata": {},
   "source": [
    "* LangGraph will re-emit the current state, which contains the `AIMessage` with the tool call\n",
    "* And then it will proceed to execute the following step in the graph, which start with the tool node"
   ]
  },
  {
   "cell_type": "code",
   "execution_count": 137,
   "id": "e8a83a88-452b-4889-a0d4-731fddffbc7d",
   "metadata": {},
   "outputs": [
    {
     "name": "stdout",
     "output_type": "stream",
     "text": [
      "==================================\u001b[1m Ai Message \u001b[0m==================================\n",
      "Tool Calls:\n",
      "  multiply (230cff26-4f01-4fb9-b697-e57c10a82211)\n",
      " Call ID: 230cff26-4f01-4fb9-b697-e57c10a82211\n",
      "  Args:\n",
      "    a: 2.0\n",
      "    b: 3.0\n",
      "=================================\u001b[1m Tool Message \u001b[0m=================================\n",
      "Name: multiply\n",
      "\n",
      "6\n",
      "==================================\u001b[1m Ai Message \u001b[0m==================================\n",
      "\n",
      "The result is 6.\n"
     ]
    }
   ],
   "source": [
    "for event in graph.stream(None, thread, stream_mode=\"values\"):\n",
    "    event[\"messages\"][-1].pretty_print()"
   ]
  },
  {
   "cell_type": "markdown",
   "id": "0994b096-816b-471f-9310-98ded726a749",
   "metadata": {},
   "source": [
    "Now, we can introduce user input"
   ]
  },
  {
   "cell_type": "markdown",
   "id": "9b96ef5a-ea1c-46ee-b3e4-c7989fc912f2",
   "metadata": {},
   "source": [
    "## <span style=\"color:red\">Human-in-the-loop</span>"
   ]
  },
  {
   "cell_type": "markdown",
   "id": "36bd0f74-d9a7-44d5-bffc-57eac41b16d6",
   "metadata": {},
   "source": [
    "Motivation for human-in-the-loop:\n",
    "* **Approval**: We can interrupt our agent, surface state to a user, and allow the user to accept an action\n",
    "* **Debugging**: We can rewind the graph to reproduce or avoid issues\n",
    "* **Editing**: You can modify the state"
   ]
  },
  {
   "cell_type": "code",
   "execution_count": 141,
   "id": "fdb312bd-4ac9-41bc-9228-f4b7e56ee999",
   "metadata": {},
   "outputs": [
    {
     "name": "stdout",
     "output_type": "stream",
     "text": [
      "================================\u001b[1m Human Message \u001b[0m=================================\n",
      "\n",
      "Multiply 2 and 3\n",
      "==================================\u001b[1m Ai Message \u001b[0m==================================\n",
      "Tool Calls:\n",
      "  multiply (b83a6b6a-fb85-4bb9-aa98-8b9fd037a6c3)\n",
      " Call ID: b83a6b6a-fb85-4bb9-aa98-8b9fd037a6c3\n",
      "  Args:\n",
      "    a: 2.0\n",
      "    b: 3.0\n",
      "Do you want to call the tool (yes/no): \n"
     ]
    },
    {
     "name": "stdin",
     "output_type": "stream",
     "text": [
      "Do you want to call the tool (yes/no):  yes\n"
     ]
    },
    {
     "name": "stdout",
     "output_type": "stream",
     "text": [
      "yes\n",
      "==================================\u001b[1m Ai Message \u001b[0m==================================\n",
      "Tool Calls:\n",
      "  multiply (b83a6b6a-fb85-4bb9-aa98-8b9fd037a6c3)\n",
      " Call ID: b83a6b6a-fb85-4bb9-aa98-8b9fd037a6c3\n",
      "  Args:\n",
      "    a: 2.0\n",
      "    b: 3.0\n",
      "=================================\u001b[1m Tool Message \u001b[0m=================================\n",
      "Name: multiply\n",
      "\n",
      "6\n",
      "==================================\u001b[1m Ai Message \u001b[0m==================================\n",
      "\n",
      "The result is 6.\n"
     ]
    }
   ],
   "source": [
    "initial_input = {\"messages\": \"Multiply 2 and 3\"}\n",
    "thread = {\"configurable\": {\"thread_id\": \"2\"}}\n",
    "\n",
    "for event in graph.stream(initial_input, thread, stream_mode=\"values\"):\n",
    "    event[\"messages\"][-1].pretty_print()\n",
    "\n",
    "print(\"Do you want to call the tool (yes/no): \")\n",
    "\n",
    "user_approval = input(\"Do you want to call the tool (yes/no): \")\n",
    "print(user_approval)\n",
    "if user_approval.lower() == \"yes\":\n",
    "    for event in graph.stream(None, thread, stream_mode=\"values\"):\n",
    "        event[\"messages\"][-1].pretty_print()\n",
    "else:\n",
    "    print(\"Operation cancelled by user\")"
   ]
  },
  {
   "cell_type": "markdown",
   "id": "3102d503-bc8f-4bcb-8dd1-c6abd277ea16",
   "metadata": {},
   "source": [
    "## <span style=\"color:red\">Editing state</span>"
   ]
  },
  {
   "cell_type": "markdown",
   "id": "2115c994-6d05-4488-bae4-656b8fc219dd",
   "metadata": {},
   "source": [
    "Breakpoints not only interrupt the execution but also provides us an opportunity to modify the graph state"
   ]
  },
  {
   "cell_type": "code",
   "execution_count": 146,
   "id": "7ced5e1d-8642-47ca-9340-0defed6f647a",
   "metadata": {},
   "outputs": [
    {
     "data": {
      "image/png": "[encoded data removed]",
      "text/plain": [
       "<IPython.core.display.Image object>"
      ]
     },
     "metadata": {},
     "output_type": "display_data"
    }
   ],
   "source": [
    "from langgraph.prebuilt import tools_condition\n",
    "from langgraph.prebuilt import ToolNode\n",
    "\n",
    "sys_msg = SystemMessage(content=\"You are a helpful assistant tasked with performing arithmetic on a set of inputs.\")\n",
    "\n",
    "def assistant(state: MessagesState):\n",
    "    return {\"messages\": [llm_with_tools.invoke([sys_msg] + state[\"messages\"])]}\n",
    "\n",
    "builder = StateGraph(MessagesState)\n",
    "\n",
    "builder.add_node(\"assistant\", assistant)\n",
    "builder.add_node(\"tools\", ToolNode(tools))\n",
    "\n",
    "builder.add_edge(START, \"assistant\")\n",
    "builder.add_edge(\"tools\", \"assistant\")\n",
    "builder.add_conditional_edges(\n",
    "    \"assistant\",\n",
    "    tools_condition\n",
    ")\n",
    "\n",
    "memory = MemorySaver()\n",
    "graph = builder.compile(interrupt_before=[\"assistant\"], checkpointer=memory)\n",
    "\n",
    "display(Image(graph.get_graph(xray=True).draw_mermaid_png()))"
   ]
  },
  {
   "cell_type": "code",
   "execution_count": 148,
   "id": "6e966c80-bef2-496c-aded-4ee95a34f1bb",
   "metadata": {},
   "outputs": [
    {
     "name": "stdout",
     "output_type": "stream",
     "text": [
      "================================\u001b[1m Human Message \u001b[0m=================================\n",
      "\n",
      "Multiply 2 and 3\n"
     ]
    }
   ],
   "source": [
    "initial_input = {\"messages\": \"Multiply 2 and 3\"}\n",
    "thread = {\"configurable\": {\"thread_id\": \"119\"}}\n",
    "\n",
    "for event in graph.stream(initial_input, thread, stream_mode=\"values\"):\n",
    "    event[\"messages\"][-1].pretty_print()"
   ]
  },
  {
   "cell_type": "code",
   "execution_count": 150,
   "id": "c3816279-b679-47c1-aaef-ace1a3947fd4",
   "metadata": {},
   "outputs": [
    {
     "data": {
      "text/plain": [
       "StateSnapshot(values={'messages': [HumanMessage(content='Multiply 2 and 3', additional_kwargs={}, response_metadata={}, id='26286efd-3b83-4cad-9cef-e7dfe615cd1d')]}, next=('assistant',), config={'configurable': {'thread_id': '119', 'checkpoint_ns': '', 'checkpoint_id': '1efd8b10-adc3-6ffd-8000-f75b90a38586'}}, metadata={'source': 'loop', 'writes': None, 'thread_id': '119', 'step': 0, 'parents': {}}, created_at='2025-01-22T11:07:17.479218+00:00', parent_config={'configurable': {'thread_id': '119', 'checkpoint_ns': '', 'checkpoint_id': '1efd8b10-adbc-6a89-bfff-73ef52aa426c'}}, tasks=(PregelTask(id='914a6d0c-07f2-78c7-0dc7-08651ec2eaa5', name='assistant', path=('__pregel_pull', 'assistant'), error=None, interrupts=(), state=None, result=None),))"
      ]
     },
     "execution_count": 150,
     "metadata": {},
     "output_type": "execute_result"
    }
   ],
   "source": [
    "state = graph.get_state(thread)\n",
    "state"
   ]
  },
  {
   "cell_type": "code",
   "execution_count": 152,
   "id": "50f71aa8-5ed0-4382-87d8-a3a745b3e966",
   "metadata": {},
   "outputs": [
    {
     "data": {
      "text/plain": [
       "{'configurable': {'thread_id': '119',\n",
       "  'checkpoint_ns': '',\n",
       "  'checkpoint_id': '1efd8b12-f603-6cd3-8001-8d7ea589291f'}}"
      ]
     },
     "execution_count": 152,
     "metadata": {},
     "output_type": "execute_result"
    }
   ],
   "source": [
    "graph.update_state(\n",
    "    thread,\n",
    "    {\"messages\": [HumanMessage(content=\"No, actually multiply 3 and 4!\")]}\n",
    ")"
   ]
  },
  {
   "cell_type": "code",
   "execution_count": 154,
   "id": "51ba8796-0094-402f-aaab-8acd8be2bdc0",
   "metadata": {},
   "outputs": [
    {
     "name": "stdout",
     "output_type": "stream",
     "text": [
      "================================\u001b[1m Human Message \u001b[0m=================================\n",
      "\n",
      "Multiply 2 and 3\n",
      "================================\u001b[1m Human Message \u001b[0m=================================\n",
      "\n",
      "No, actually multiply 3 and 4!\n"
     ]
    }
   ],
   "source": [
    "new_state = graph.get_state(thread).values\n",
    "for m in new_state[\"messages\"]:\n",
    "    m.pretty_print()"
   ]
  },
  {
   "cell_type": "markdown",
   "id": "0e9f4062-eeb8-4d1c-9d01-c33865b55368",
   "metadata": {},
   "source": [
    "* The state class uses reducers for the \"messages\" key, so new changes are getting appended"
   ]
  },
  {
   "cell_type": "code",
   "execution_count": 159,
   "id": "48adffc0-07f9-4945-b85e-216d92fcc2cb",
   "metadata": {},
   "outputs": [
    {
     "name": "stdout",
     "output_type": "stream",
     "text": [
      "================================\u001b[1m Human Message \u001b[0m=================================\n",
      "\n",
      "No, actually multiply 3 and 4!\n",
      "==================================\u001b[1m Ai Message \u001b[0m==================================\n",
      "Tool Calls:\n",
      "  multiply (f2904a4c-ca45-4124-ac51-2bf6e8db3e15)\n",
      " Call ID: f2904a4c-ca45-4124-ac51-2bf6e8db3e15\n",
      "  Args:\n",
      "    a: 3.0\n",
      "    b: 4.0\n",
      "=================================\u001b[1m Tool Message \u001b[0m=================================\n",
      "Name: multiply\n",
      "\n",
      "12\n"
     ]
    }
   ],
   "source": [
    "for event in graph.stream(None, thread, stream_mode=\"values\"):\n",
    "    event[\"messages\"][-1].pretty_print()"
   ]
  },
  {
   "cell_type": "markdown",
   "id": "a5142c4c-3764-4125-9c56-13bac5906e4c",
   "metadata": {},
   "source": [
    "* The tool has returned its value, but it still doesnt reach the LLM, so we have to invoke it again"
   ]
  },
  {
   "cell_type": "code",
   "execution_count": 164,
   "id": "35dc7391-844c-4d09-85c6-615c90163611",
   "metadata": {},
   "outputs": [
    {
     "name": "stdout",
     "output_type": "stream",
     "text": [
      "=================================\u001b[1m Tool Message \u001b[0m=================================\n",
      "Name: multiply\n",
      "\n",
      "12\n",
      "==================================\u001b[1m Ai Message \u001b[0m==================================\n",
      "\n",
      "The result of multiplying 3 and 4 is 12.\n"
     ]
    }
   ],
   "source": [
    "for event in graph.stream(None, thread, stream_mode=\"values\"):\n",
    "    event[\"messages\"][-1].pretty_print()"
   ]
  },
  {
   "cell_type": "markdown",
   "id": "d90ef4c7-5f1a-4728-afb5-f763ef37d36c",
   "metadata": {},
   "source": [
    "* Now the graph execution is completed"
   ]
  },
  {
   "cell_type": "markdown",
   "id": "26722c8e-3b96-40a2-a08d-7fd959e08a0f",
   "metadata": {},
   "source": [
    "## <span style=\"color:red\">Human feedback</span>"
   ]
  },
  {
   "cell_type": "markdown",
   "id": "5d6546b6-76b7-4bcf-b11e-aa24c062542c",
   "metadata": {},
   "source": [
    "What if we want to specifically allow for human feedback to perform the state updates?"
   ]
  },
  {
   "cell_type": "markdown",
   "id": "88f5c2bc-3cda-45c1-8346-6ae057ee3c9e",
   "metadata": {},
   "source": [
    "* We have to add a node that serves as a placeholder for human feedback\n",
    "* This `human_feedback` node allow the user to add feedback directly to state\n",
    "* We specify the breakpoint using `interrupt_before` on our `human_feedback` node\n",
    "* We set up a checkpointer to save the state of the graph up untill this node"
   ]
  },
  {
   "cell_type": "code",
   "execution_count": 173,
   "id": "76580d2a-9ae9-4247-9392-d71b79f51d5d",
   "metadata": {},
   "outputs": [
    {
     "data": {
      "image/png": "[encoded data removed]",
      "text/plain": [
       "<IPython.core.display.Image object>"
      ]
     },
     "metadata": {},
     "output_type": "display_data"
    }
   ],
   "source": [
    "def human_feedback(state: MessagesState):\n",
    "    pass\n",
    "\n",
    "builder = StateGraph(MessagesState)\n",
    "\n",
    "builder.add_node(\"assistant\", assistant)\n",
    "builder.add_node(\"tools\", ToolNode(tools))\n",
    "builder.add_node(\"human_feedback\", human_feedback)\n",
    "\n",
    "builder.add_edge(START, \"human_feedback\")\n",
    "builder.add_edge(\"human_feedback\", \"assistant\")\n",
    "builder.add_edge(\"tools\", \"human_feedback\")\n",
    "builder.add_conditional_edges(\n",
    "    \"assistant\",\n",
    "    tools_condition\n",
    ")\n",
    "\n",
    "memory = MemorySaver()\n",
    "graph = builder.compile(interrupt_before=[\"human_feedback\"], checkpointer=memory)\n",
    "display(Image(graph.get_graph(xray=True).draw_mermaid_png()))"
   ]
  },
  {
   "cell_type": "markdown",
   "id": "942403ec-640b-42f6-8f45-a378cd53005f",
   "metadata": {},
   "source": [
    "* We will use the `as_node` parameter to apply this state update as the specified node, `human_feedback`"
   ]
  },
  {
   "cell_type": "code",
   "execution_count": 176,
   "id": "d997dbab-b09e-4901-a0c2-dd57bd1afe3e",
   "metadata": {},
   "outputs": [
    {
     "name": "stdout",
     "output_type": "stream",
     "text": [
      "================================\u001b[1m Human Message \u001b[0m=================================\n",
      "\n",
      "Multiply 2 and 3\n",
      "Tell me how you want to update this state:\n"
     ]
    },
    {
     "name": "stdin",
     "output_type": "stream",
     "text": [
      "Tell me how you want to update this state: im sorry, actually i want to multiply 6 and 7\n"
     ]
    },
    {
     "name": "stdout",
     "output_type": "stream",
     "text": [
      "im sorry, actually i want to multiply 6 and 7\n",
      "================================\u001b[1m Human Message \u001b[0m=================================\n",
      "\n",
      "im sorry, actually i want to multiply 6 and 7\n",
      "==================================\u001b[1m Ai Message \u001b[0m==================================\n",
      "Tool Calls:\n",
      "  multiply (6a059486-a5ec-4a56-a627-43c4b64ee82c)\n",
      " Call ID: 6a059486-a5ec-4a56-a627-43c4b64ee82c\n",
      "  Args:\n",
      "    a: 6.0\n",
      "    b: 7.0\n",
      "=================================\u001b[1m Tool Message \u001b[0m=================================\n",
      "Name: multiply\n",
      "\n",
      "42\n"
     ]
    }
   ],
   "source": [
    "initial_input = {\"messages\": \"Multiply 2 and 3\"}\n",
    "\n",
    "thread = {\"configurable\": {\"thread_id\": \"121\"}}\n",
    "\n",
    "for event in graph.stream(initial_input, thread, stream_mode=\"values\"):\n",
    "    event[\"messages\"][-1].pretty_print()\n",
    "\n",
    "print(\"Tell me how you want to update this state:\")\n",
    "user_input = input(\"Tell me how you want to update this state:\")\n",
    "print(user_input)\n",
    "\n",
    "graph.update_state(thread, {\"messages\": user_input}, as_node=\"human_feedback\")\n",
    "\n",
    "for event in graph.stream(None, thread, stream_mode=\"values\"):\n",
    "    event[\"messages\"][-1].pretty_print()"
   ]
  },
  {
   "cell_type": "code",
   "execution_count": 178,
   "id": "9ea43320-5508-4f07-a740-dd23b447e1ec",
   "metadata": {},
   "outputs": [
    {
     "name": "stdout",
     "output_type": "stream",
     "text": [
      "=================================\u001b[1m Tool Message \u001b[0m=================================\n",
      "Name: multiply\n",
      "\n",
      "42\n",
      "==================================\u001b[1m Ai Message \u001b[0m==================================\n",
      "\n",
      "The result of multiplying 6 and 7 is 42.\n"
     ]
    }
   ],
   "source": [
    "for event in graph.stream(None, thread, stream_mode=\"values\"):\n",
    "    event[\"messages\"][-1].pretty_print()"
   ]
  },
  {
   "cell_type": "markdown",
   "id": "b84de117-47b1-43e1-9e2a-9e44df93c4da",
   "metadata": {},
   "source": [
    "## <span style=\"color:red\">Dynamic breakpoints</span>"
   ]
  },
  {
   "cell_type": "markdown",
   "id": "72aa9410-17a9-4c8e-b33e-2e45687e7069",
   "metadata": {},
   "source": [
    "* Oftentimes, it may be helpful to allow the graph dynamically interrupt itself\n",
    "* For example, this can be based upon some condition within a given node\n",
    "* This is an internal breakpoint, and can be achieved using `NodeInterrupt`"
   ]
  },
  {
   "cell_type": "code",
   "execution_count": 194,
   "id": "3e2db2c5-6c01-4357-ac6c-b5dfa4a52ccc",
   "metadata": {},
   "outputs": [
    {
     "data": {
      "image/png": "[encoded data removed]",
      "text/plain": [
       "<IPython.core.display.Image object>"
      ]
     },
     "metadata": {},
     "output_type": "display_data"
    }
   ],
   "source": [
    "from langgraph.errors import NodeInterrupt\n",
    "from typing import TypedDict\n",
    "class State(TypedDict):\n",
    "    input: str\n",
    "\n",
    "\n",
    "def step_1(state: State) -> State:\n",
    "    print(\"--- Step 1 ---\")\n",
    "    return state\n",
    "\n",
    "def step_2(state: State) -> State:\n",
    "    if len(state[\"input\"]) > 5:\n",
    "        raise NodeInterrupt(f\"Received input that is longer than 5 characters: {state['input']}\")\n",
    "    print(\"--- Step 2 ---\")\n",
    "    return state\n",
    "\n",
    "def step_3(state: State) -> State:\n",
    "    print(\"--- Step 3 ---\")\n",
    "    return state\n",
    "\n",
    "builder = StateGraph(State)\n",
    "builder.add_node(\"step_1\", step_1)\n",
    "builder.add_node(\"step_2\", step_2)\n",
    "builder.add_node(\"step_3\", step_3)\n",
    "\n",
    "builder.add_edge(START, \"step_1\")\n",
    "builder.add_edge(\"step_1\", \"step_2\")\n",
    "builder.add_edge(\"step_2\", \"step_3\")\n",
    "builder.add_edge(\"step_3\", END)\n",
    "\n",
    "memory = MemorySaver()\n",
    "\n",
    "graph = builder.compile(checkpointer=memory)\n",
    "\n",
    "display(Image(graph.get_graph(xray=True).draw_mermaid_png()))"
   ]
  },
  {
   "cell_type": "code",
   "execution_count": 198,
   "id": "f7b16996-d3cb-468a-ad79-e4045e0ac992",
   "metadata": {},
   "outputs": [
    {
     "name": "stdout",
     "output_type": "stream",
     "text": [
      "{'input': 'this sentence definetly exceeds 5 characters'}\n",
      "--- Step 1 ---\n",
      "{'input': 'this sentence definetly exceeds 5 characters'}\n"
     ]
    }
   ],
   "source": [
    "inital_input = {\"input\": \"this sentence definetly exceeds 5 characters\"}\n",
    "thread_config = {\"configurable\": {\"thread_id\": \"101\"}}\n",
    "\n",
    "for event in graph.stream(inital_input, thread_config, stream_mode=\"values\"):\n",
    "    print(event)"
   ]
  },
  {
   "cell_type": "markdown",
   "id": "e835252d-28e3-49fe-9ad1-1e66d3482ad4",
   "metadata": {},
   "source": [
    "* You can see the graph has **not** reached the END"
   ]
  },
  {
   "cell_type": "code",
   "execution_count": 202,
   "id": "40ac7130-71f0-44a9-8117-b388d6687fbe",
   "metadata": {},
   "outputs": [
    {
     "name": "stdout",
     "output_type": "stream",
     "text": [
      "('step_2',)\n"
     ]
    }
   ],
   "source": [
    "state = graph.get_state(thread_config)\n",
    "print(state.next)"
   ]
  },
  {
   "cell_type": "markdown",
   "id": "1d0f012f-2ad9-437b-a0a6-e86f0315dd17",
   "metadata": {},
   "source": [
    "* The control flow is at `step_2`, i.e., It stopped before executing `step_2`"
   ]
  },
  {
   "cell_type": "code",
   "execution_count": 205,
   "id": "865b4ee5-9de5-4f4e-a5aa-430829e7e5c1",
   "metadata": {},
   "outputs": [
    {
     "name": "stdout",
     "output_type": "stream",
     "text": [
      "(PregelTask(id='1a91326a-e5ac-5ef2-8e14-6b8cc855f92e', name='step_2', path=('__pregel_pull', 'step_2'), error=None, interrupts=(Interrupt(value='Received input that is longer than 5 characters: this sentence definetly exceeds 5 characters', resumable=False, ns=None, when='during'),), state=None, result=None),)\n"
     ]
    }
   ],
   "source": [
    "print(state.tasks)"
   ]
  },
  {
   "cell_type": "markdown",
   "id": "ee630fea-d2ad-4281-b9ae-7642a755c20e",
   "metadata": {},
   "source": [
    "* We can see the node interrupt error:"
   ]
  },
  {
   "cell_type": "markdown",
   "id": "84b2c90a-9d35-4b56-bfe9-189af98beb5c",
   "metadata": {},
   "source": [
    "`interrupts=(Interrupt(value='Received input that is longer than 5 characters: this sentence definetly exceeds 5 characters', resumable=False, ns=None, when='during'),)`"
   ]
  },
  {
   "cell_type": "markdown",
   "id": "c289e03d-a0d7-44a5-8875-b542613b190e",
   "metadata": {},
   "source": [
    "Now, if you try to run with `None` argument (resume the graph execution from the breakpoint):"
   ]
  },
  {
   "cell_type": "code",
   "execution_count": 215,
   "id": "67660b22-0a73-4f24-bec5-c3f5650d0366",
   "metadata": {},
   "outputs": [
    {
     "name": "stdout",
     "output_type": "stream",
     "text": [
      "{'input': 'this sentence definetly exceeds 5 characters'}\n"
     ]
    }
   ],
   "source": [
    "for event in graph.stream(None, thread_config, stream_mode=\"values\"):\n",
    "    print(event)"
   ]
  },
  {
   "cell_type": "markdown",
   "id": "e4e64552-563f-4345-9997-2b2ffd8a32bb",
   "metadata": {},
   "source": [
    "* it will just rerun the state.\n",
    "* Unless the state is changed, the execution will be stuck there "
   ]
  },
  {
   "cell_type": "markdown",
   "id": "fd43f0eb-bc52-4d2d-b011-48f6d66dac9f",
   "metadata": {},
   "source": [
    "We can update the state like this:"
   ]
  },
  {
   "cell_type": "code",
   "execution_count": 222,
   "id": "db180747-5145-4b5d-80ba-26b65160d63c",
   "metadata": {},
   "outputs": [
    {
     "data": {
      "text/plain": [
       "{'configurable': {'thread_id': '101',\n",
       "  'checkpoint_ns': '',\n",
       "  'checkpoint_id': '1efd8bff-aea0-647b-8006-aa35f6177b38'}}"
      ]
     },
     "execution_count": 222,
     "metadata": {},
     "output_type": "execute_result"
    }
   ],
   "source": [
    "graph.update_state(\n",
    "    thread_config,\n",
    "    {\"input\": \"hi\"}\n",
    ")"
   ]
  },
  {
   "cell_type": "code",
   "execution_count": 224,
   "id": "b7756863-97b2-43ca-bf0d-89fae8315614",
   "metadata": {},
   "outputs": [
    {
     "name": "stdout",
     "output_type": "stream",
     "text": [
      "{'input': 'hi'}\n",
      "--- Step 2 ---\n",
      "{'input': 'hi'}\n",
      "--- Step 3 ---\n",
      "{'input': 'hi'}\n"
     ]
    }
   ],
   "source": [
    "for event in graph.stream(None, thread_config, stream_mode=\"values\"):\n",
    "    print(event)"
   ]
  },
  {
   "cell_type": "markdown",
   "id": "b6d6b33b-4143-4740-93be-3dd6564fa049",
   "metadata": {},
   "source": [
    "* Now we can see it went all the way till the end"
   ]
  },
  {
   "cell_type": "markdown",
   "id": "bcce9db3-5748-4c0b-acc7-0a22651e95e9",
   "metadata": {},
   "source": [
    "## <span style=\"color:red\">Time travel</span>"
   ]
  },
  {
   "cell_type": "markdown",
   "id": "5515b34a-3d71-4b1e-a71b-23ae768a9bd0",
   "metadata": {},
   "source": [
    "Debugging techniques in LangGraph is called Time travel, which allows us to view past states, replay them and fork from them "
   ]
  },
  {
   "cell_type": "code",
   "execution_count": 95,
   "id": "0f2a8d25-7e7d-404a-9543-64b6b9846eee",
   "metadata": {},
   "outputs": [
    {
     "data": {
      "image/png": "[encoded data removed]",
      "text/plain": [
       "<IPython.core.display.Image object>"
      ]
     },
     "metadata": {},
     "output_type": "display_data"
    }
   ],
   "source": [
    "sys_msg = SystemMessage(content=\"You are a helpful assistant tasked with performing arithmetic on a set of inputs.\")\n",
    "\n",
    "def assistant(state: MessagesState):\n",
    "    return {\"messages\": [llm_with_tools.invoke([sys_msg] + state[\"messages\"])]}\n",
    "\n",
    "builder = StateGraph(MessagesState)\n",
    "\n",
    "builder.add_node(\"assistant\", assistant)\n",
    "builder.add_node(\"tools\", ToolNode(tools))\n",
    "\n",
    "builder.add_edge(START, \"assistant\")\n",
    "builder.add_edge(\"tools\", \"assistant\")\n",
    "builder.add_conditional_edges(\n",
    "    \"assistant\",\n",
    "    tools_condition\n",
    ")\n",
    "\n",
    "memory = MemorySaver()\n",
    "graph = builder.compile(checkpointer=memory)\n",
    "\n",
    "display(Image(graph.get_graph(xray=True).draw_mermaid_png()))"
   ]
  },
  {
   "cell_type": "code",
   "execution_count": 97,
   "id": "47480754-36d5-4cb0-93b6-3c5d35c2910e",
   "metadata": {},
   "outputs": [
    {
     "name": "stdout",
     "output_type": "stream",
     "text": [
      "================================\u001b[1m Human Message \u001b[0m=================================\n",
      "\n",
      "Whats 9 + 10?\n",
      "==================================\u001b[1m Ai Message \u001b[0m==================================\n",
      "Tool Calls:\n",
      "  add (b35ae143-5819-4773-a9fc-370316887b1a)\n",
      " Call ID: b35ae143-5819-4773-a9fc-370316887b1a\n",
      "  Args:\n",
      "    a: 9.0\n",
      "    b: 10.0\n",
      "=================================\u001b[1m Tool Message \u001b[0m=================================\n",
      "Name: add\n",
      "\n",
      "19\n",
      "==================================\u001b[1m Ai Message \u001b[0m==================================\n",
      "\n",
      "19\n"
     ]
    }
   ],
   "source": [
    "new_input = {\"messages\": \"Whats 9 + 10?\"}\n",
    "thread_config = {\"configurable\": {\"thread_id\": \"192\"}}\n",
    "\n",
    "for event in graph.stream(new_input, thread_config, stream_mode=\"values\"):\n",
    "    event[\"messages\"][-1].pretty_print()"
   ]
  },
  {
   "cell_type": "markdown",
   "id": "f76ad774-7e25-4a2a-9581-0af2d5783bfd",
   "metadata": {},
   "source": [
    "### <span style=\"color:purple\">Browsing history</span>"
   ]
  },
  {
   "cell_type": "markdown",
   "id": "9b81c59b-617f-4e02-b1a4-543608e162ce",
   "metadata": {},
   "source": [
    "* We can use `get_state` to look at the current state of our graph, given the `thread_id`"
   ]
  },
  {
   "cell_type": "code",
   "execution_count": 99,
   "id": "63e75c21-5072-478d-ac3f-9e578a014f50",
   "metadata": {},
   "outputs": [
    {
     "data": {
      "text/plain": [
       "StateSnapshot(values={'messages': [HumanMessage(content='Whats 9 + 10?', additional_kwargs={}, response_metadata={}, id='8c1194d6-ecb1-4547-b3dd-21a72c3ac760'), AIMessage(content='', additional_kwargs={'function_call': {'name': 'add', 'arguments': '{\"a\": 9.0, \"b\": 10.0}'}}, response_metadata={'prompt_feedback': {'block_reason': 0, 'safety_ratings': []}, 'finish_reason': 'STOP', 'safety_ratings': []}, id='run-e032e276-d9ef-4714-a530-402a1721898d-0', tool_calls=[{'name': 'add', 'args': {'a': 9.0, 'b': 10.0}, 'id': 'b35ae143-5819-4773-a9fc-370316887b1a', 'type': 'tool_call'}], usage_metadata={'input_tokens': 267, 'output_tokens': 3, 'total_tokens': 270, 'input_token_details': {'cache_read': 0}}), ToolMessage(content='19', name='add', id='a6456a06-bb93-4a0b-84ac-09cacbfae604', tool_call_id='b35ae143-5819-4773-a9fc-370316887b1a'), AIMessage(content='19', additional_kwargs={}, response_metadata={'prompt_feedback': {'block_reason': 0, 'safety_ratings': []}, 'finish_reason': 'STOP', 'safety_ratings': []}, id='run-26e4fcf3-7740-4efd-b8f6-9f4f979b4a16-0', usage_metadata={'input_tokens': 302, 'output_tokens': 3, 'total_tokens': 305, 'input_token_details': {'cache_read': 0}})]}, next=(), config={'configurable': {'thread_id': '192', 'checkpoint_ns': '', 'checkpoint_id': '1efd9524-eb5b-6383-8003-0caf17d145bb'}}, metadata={'source': 'loop', 'writes': {'assistant': {'messages': [AIMessage(content='19', additional_kwargs={}, response_metadata={'prompt_feedback': {'block_reason': 0, 'safety_ratings': []}, 'finish_reason': 'STOP', 'safety_ratings': []}, id='run-26e4fcf3-7740-4efd-b8f6-9f4f979b4a16-0', usage_metadata={'input_tokens': 302, 'output_tokens': 3, 'total_tokens': 305, 'input_token_details': {'cache_read': 0}})]}}, 'thread_id': '192', 'step': 3, 'parents': {}}, created_at='2025-01-23T06:21:40.285120+00:00', parent_config={'configurable': {'thread_id': '192', 'checkpoint_ns': '', 'checkpoint_id': '1efd9524-e49f-6f82-8002-164faf33872f'}}, tasks=())"
      ]
     },
     "execution_count": 99,
     "metadata": {},
     "output_type": "execute_result"
    }
   ],
   "source": [
    "graph.get_state({\"configurable\": {\"thread_id\": \"192\"}})"
   ]
  },
  {
   "cell_type": "markdown",
   "id": "d50e62dd-0e8b-43f9-bb8b-b5c4bd697a56",
   "metadata": {},
   "source": [
    "* We can also browse the state history of our agent"
   ]
  },
  {
   "cell_type": "markdown",
   "id": "f95b06b2-7d38-4b71-964c-9bdf8f26eaf1",
   "metadata": {},
   "source": [
    "* `get_state_history` lets us get the state at all prior steps"
   ]
  },
  {
   "cell_type": "code",
   "execution_count": 101,
   "id": "f9d1f6c5-802a-4208-ab1b-f87d9a0d8948",
   "metadata": {},
   "outputs": [],
   "source": [
    "state_history = [s for s in graph.get_state_history(thread_config)]"
   ]
  },
  {
   "cell_type": "code",
   "execution_count": 103,
   "id": "d1e74a6f-6552-405a-a073-072dbaefda76",
   "metadata": {},
   "outputs": [
    {
     "data": {
      "text/plain": [
       "5"
      ]
     },
     "execution_count": 103,
     "metadata": {},
     "output_type": "execute_result"
    }
   ],
   "source": [
    "len(state_history)"
   ]
  },
  {
   "cell_type": "code",
   "execution_count": 105,
   "id": "4f6bd205-03f1-468e-985f-86f4601cf542",
   "metadata": {},
   "outputs": [
    {
     "name": "stdout",
     "output_type": "stream",
     "text": [
      "TIME STEP: 0\n",
      "\n",
      "\n",
      "\n",
      "\n",
      "\n",
      "\n",
      "\n",
      "\n",
      "\n",
      "\n",
      "\n",
      "TIME STEP: 1\n",
      "================================\u001b[1m Human Message \u001b[0m=================================\n",
      "\n",
      "Whats 9 + 10?\n",
      "\n",
      "\n",
      "\n",
      "\n",
      "\n",
      "\n",
      "\n",
      "\n",
      "\n",
      "\n",
      "\n",
      "TIME STEP: 2\n",
      "================================\u001b[1m Human Message \u001b[0m=================================\n",
      "\n",
      "Whats 9 + 10?\n",
      "==================================\u001b[1m Ai Message \u001b[0m==================================\n",
      "Tool Calls:\n",
      "  add (b35ae143-5819-4773-a9fc-370316887b1a)\n",
      " Call ID: b35ae143-5819-4773-a9fc-370316887b1a\n",
      "  Args:\n",
      "    a: 9.0\n",
      "    b: 10.0\n",
      "\n",
      "\n",
      "\n",
      "\n",
      "\n",
      "\n",
      "\n",
      "\n",
      "\n",
      "\n",
      "\n",
      "TIME STEP: 3\n",
      "================================\u001b[1m Human Message \u001b[0m=================================\n",
      "\n",
      "Whats 9 + 10?\n",
      "==================================\u001b[1m Ai Message \u001b[0m==================================\n",
      "Tool Calls:\n",
      "  add (b35ae143-5819-4773-a9fc-370316887b1a)\n",
      " Call ID: b35ae143-5819-4773-a9fc-370316887b1a\n",
      "  Args:\n",
      "    a: 9.0\n",
      "    b: 10.0\n",
      "=================================\u001b[1m Tool Message \u001b[0m=================================\n",
      "Name: add\n",
      "\n",
      "19\n",
      "\n",
      "\n",
      "\n",
      "\n",
      "\n",
      "\n",
      "\n",
      "\n",
      "\n",
      "\n",
      "\n",
      "TIME STEP: 4\n",
      "================================\u001b[1m Human Message \u001b[0m=================================\n",
      "\n",
      "Whats 9 + 10?\n",
      "==================================\u001b[1m Ai Message \u001b[0m==================================\n",
      "Tool Calls:\n",
      "  add (b35ae143-5819-4773-a9fc-370316887b1a)\n",
      " Call ID: b35ae143-5819-4773-a9fc-370316887b1a\n",
      "  Args:\n",
      "    a: 9.0\n",
      "    b: 10.0\n",
      "=================================\u001b[1m Tool Message \u001b[0m=================================\n",
      "Name: add\n",
      "\n",
      "19\n",
      "==================================\u001b[1m Ai Message \u001b[0m==================================\n",
      "\n",
      "19\n"
     ]
    }
   ],
   "source": [
    "first_iter = True\n",
    "for i, state in enumerate(reversed(state_history)):\n",
    "    if first_iter:\n",
    "        first_iter = False\n",
    "    else:\n",
    "        print(\"\\n\"*10)\n",
    "    print(f\"TIME STEP: {i}\")\n",
    "    for msg in state.values[\"messages\"]:\n",
    "        msg.pretty_print()"
   ]
  },
  {
   "cell_type": "markdown",
   "id": "22b84dd2-0e31-4a3e-baa1-a0f076e8fca7",
   "metadata": {},
   "source": [
    "### <span style=\"color:purple\">Replaying</span>"
   ]
  },
  {
   "cell_type": "markdown",
   "id": "32c59fd1-f775-46fc-b2cb-7e1c48e85e49",
   "metadata": {},
   "source": [
    "We can rerun our agent from any of the prior steps"
   ]
  },
  {
   "cell_type": "markdown",
   "id": "4ba05ed9-f5b0-4f7c-b55c-8fd7a90b449d",
   "metadata": {},
   "source": [
    "Let's look back at the step that received the human input"
   ]
  },
  {
   "cell_type": "markdown",
   "id": "26ec0495-e7c1-4a71-9ec0-fd6ed56d4504",
   "metadata": {},
   "source": [
    "* When we run `graph.stream` with `None`, with a `thread_id`, it just picks up from the current state in the thead id.\n",
    "* If you pass a `checkpoint_id` along with the `thread_id`, the graph will kick off from a particular checkpoint\n",
    "* NOTE: when we pass a checkpoint_id, the graph will **replay** from the checkpoint, it doesnt **re-execute**. We playback from that checkpoint because the graph knew, it already executed it in the past"
   ]
  },
  {
   "cell_type": "code",
   "execution_count": 107,
   "id": "b9394b24-cd60-4e5a-9ce6-6be883c08690",
   "metadata": {},
   "outputs": [],
   "source": [
    "to_replay = state_history[-2]"
   ]
  },
  {
   "cell_type": "code",
   "execution_count": 109,
   "id": "bef71cf0-fe0e-402e-9318-1dfa8870ed98",
   "metadata": {},
   "outputs": [
    {
     "data": {
      "text/plain": [
       "StateSnapshot(values={'messages': [HumanMessage(content='Whats 9 + 10?', additional_kwargs={}, response_metadata={}, id='8c1194d6-ecb1-4547-b3dd-21a72c3ac760')]}, next=('assistant',), config={'configurable': {'thread_id': '192', 'checkpoint_ns': '', 'checkpoint_id': '1efd9524-d164-664c-8000-07b790623c08'}}, metadata={'source': 'loop', 'writes': None, 'thread_id': '192', 'step': 0, 'parents': {}}, created_at='2025-01-23T06:21:37.562580+00:00', parent_config={'configurable': {'thread_id': '192', 'checkpoint_ns': '', 'checkpoint_id': '1efd9524-d158-645f-bfff-870e44d0e6f9'}}, tasks=(PregelTask(id='1005efff-2250-1a51-633a-bf20264341bc', name='assistant', path=('__pregel_pull', 'assistant'), error=None, interrupts=(), state=None, result={'messages': [AIMessage(content='', additional_kwargs={'function_call': {'name': 'add', 'arguments': '{\"a\": 9.0, \"b\": 10.0}'}}, response_metadata={'prompt_feedback': {'block_reason': 0, 'safety_ratings': []}, 'finish_reason': 'STOP', 'safety_ratings': []}, id='run-e032e276-d9ef-4714-a530-402a1721898d-0', tool_calls=[{'name': 'add', 'args': {'a': 9.0, 'b': 10.0}, 'id': 'b35ae143-5819-4773-a9fc-370316887b1a', 'type': 'tool_call'}], usage_metadata={'input_tokens': 267, 'output_tokens': 3, 'total_tokens': 270, 'input_token_details': {'cache_read': 0}})]}),))"
      ]
     },
     "execution_count": 109,
     "metadata": {},
     "output_type": "execute_result"
    }
   ],
   "source": [
    "to_replay"
   ]
  },
  {
   "cell_type": "markdown",
   "id": "f047d129-e8cb-4281-ad58-a248943dfb79",
   "metadata": {},
   "source": [
    "* View the state"
   ]
  },
  {
   "cell_type": "code",
   "execution_count": 111,
   "id": "f2ad314d-8fdf-4446-9096-dffec14c78de",
   "metadata": {},
   "outputs": [
    {
     "data": {
      "text/plain": [
       "{'messages': [HumanMessage(content='Whats 9 + 10?', additional_kwargs={}, response_metadata={}, id='8c1194d6-ecb1-4547-b3dd-21a72c3ac760')]}"
      ]
     },
     "execution_count": 111,
     "metadata": {},
     "output_type": "execute_result"
    }
   ],
   "source": [
    "to_replay.values"
   ]
  },
  {
   "cell_type": "code",
   "execution_count": 113,
   "id": "96bcbeb4-7cfc-4a47-97b2-40f2fe16d53f",
   "metadata": {},
   "outputs": [
    {
     "data": {
      "text/plain": [
       "('assistant',)"
      ]
     },
     "execution_count": 113,
     "metadata": {},
     "output_type": "execute_result"
    }
   ],
   "source": [
    "to_replay.next"
   ]
  },
  {
   "cell_type": "code",
   "execution_count": 115,
   "id": "688f4462-d096-4548-a400-305986ddb7b6",
   "metadata": {},
   "outputs": [
    {
     "data": {
      "text/plain": [
       "{'configurable': {'thread_id': '192',\n",
       "  'checkpoint_ns': '',\n",
       "  'checkpoint_id': '1efd9524-d164-664c-8000-07b790623c08'}}"
      ]
     },
     "execution_count": 115,
     "metadata": {},
     "output_type": "execute_result"
    }
   ],
   "source": [
    "to_replay.config"
   ]
  },
  {
   "cell_type": "markdown",
   "id": "1d15c80f-6400-4a63-8881-76339d6737ae",
   "metadata": {},
   "source": [
    "* To replay from here, we simply pass the config back to the agent"
   ]
  },
  {
   "cell_type": "code",
   "execution_count": 117,
   "id": "3a6183da-c599-4757-aaf2-6d6da0d5a6e0",
   "metadata": {},
   "outputs": [
    {
     "name": "stdout",
     "output_type": "stream",
     "text": [
      "================================\u001b[1m Human Message \u001b[0m=================================\n",
      "\n",
      "Whats 9 + 10?\n",
      "==================================\u001b[1m Ai Message \u001b[0m==================================\n",
      "Tool Calls:\n",
      "  add (7a50067a-a10f-4f49-8f5c-0b112b28cb2c)\n",
      " Call ID: 7a50067a-a10f-4f49-8f5c-0b112b28cb2c\n",
      "  Args:\n",
      "    a: 9.0\n",
      "    b: 10.0\n",
      "=================================\u001b[1m Tool Message \u001b[0m=================================\n",
      "Name: add\n",
      "\n",
      "19\n",
      "==================================\u001b[1m Ai Message \u001b[0m==================================\n",
      "\n",
      "19\n"
     ]
    }
   ],
   "source": [
    "for event in graph.stream(None, to_replay.config, stream_mode=\"values\"):\n",
    "    event[\"messages\"][-1].pretty_print()"
   ]
  },
  {
   "cell_type": "markdown",
   "id": "2a95114c-9448-45c3-ab49-cbc36e888d15",
   "metadata": {},
   "source": [
    "### <span style=\"color:purple\">Forking</span>"
   ]
  },
  {
   "cell_type": "markdown",
   "id": "5f8c6d57-a2ec-420e-814a-23c27480dc73",
   "metadata": {},
   "source": [
    "Forking is when we want to run from the same step but with a different input."
   ]
  },
  {
   "cell_type": "markdown",
   "id": "156ec99d-c223-4da4-9eb7-0dc4cf1a4059",
   "metadata": {},
   "source": [
    "When we call `graph.upate_state()` with a `thread_id` and the new_state value:"
   ]
  },
  {
   "cell_type": "markdown",
   "id": "fea93017-33bb-4358-91e7-486bcceb3e89",
   "metadata": {},
   "source": [
    "```python\n",
    "graph.update_state({thread_id}, {state: \"I loke cold brew\"})\n",
    "```"
   ]
  },
  {
   "cell_type": "markdown",
   "id": "57f45a93-597d-42ca-9223-ff58e06137b0",
   "metadata": {},
   "source": [
    "**We create a new checkpoint on whatever the current state is**"
   ]
  },
  {
   "cell_type": "markdown",
   "id": "76a3e6d6-aa2e-4d6d-a073-9ab716df2d87",
   "metadata": {},
   "source": [
    "* state dict before:"
   ]
  },
  {
   "cell_type": "markdown",
   "id": "344f5686-f4e7-4558-b917-490cd5dccdeb",
   "metadata": {},
   "source": [
    "#### <span style=\"color:lightblue\">StateSnapshot()</span> with a <span style=\"color:lightblue\">checkpoint_id1</span>"
   ]
  },
  {
   "cell_type": "markdown",
   "id": "1dbeb721-c60b-4c06-8663-57948b9c453b",
   "metadata": {},
   "source": [
    "```python\n",
    "{\n",
    "    state: \"I heart langgraph\",\n",
    "    next: END,\n",
    "    id: ...\n",
    "}\n",
    "```"
   ]
  },
  {
   "cell_type": "markdown",
   "id": "25819f25-0185-46dc-aebd-ae38a821b508",
   "metadata": {},
   "source": [
    "* state dict after:"
   ]
  },
  {
   "cell_type": "markdown",
   "id": "3d91c08d-9711-4c24-afda-5197285c4a62",
   "metadata": {},
   "source": [
    "#### <span style=\"color:lightgreen\">StateSnapshot()</span> with a <span style=\"color:lightgreen\">checkpoint_id2</span>"
   ]
  },
  {
   "cell_type": "markdown",
   "id": "a3a1a39b-63b1-4146-bdbc-7d67fb5a9063",
   "metadata": {},
   "source": [
    "```python\n",
    "{\n",
    "    state: \"I loke cold brew\",\n",
    "    next: END,\n",
    "    id: ...\n",
    "}\n",
    "```"
   ]
  },
  {
   "cell_type": "markdown",
   "id": "53a261d3-a7c7-4554-95ba-759b6a85dbef",
   "metadata": {},
   "source": [
    "**Now if you fork from a prior state (using a checkpoint) and run it:**"
   ]
  },
  {
   "cell_type": "markdown",
   "id": "91d9993d-82af-402e-b9c5-87cd9d23aebf",
   "metadata": {},
   "source": [
    "```python\n",
    "graph.update_state({checkpoint_id3, thread_id}, {state: \"Good morning!\"})\n",
    "```"
   ]
  },
  {
   "cell_type": "markdown",
   "id": "40901f64-0792-4f34-8357-e82253460d9a",
   "metadata": {},
   "source": [
    "**NOTE:** `checkpoint_id3`"
   ]
  },
  {
   "cell_type": "markdown",
   "id": "ae7fe002-9d1c-48c5-90fc-d6065569593a",
   "metadata": {},
   "source": [
    "* state dict before:"
   ]
  },
  {
   "cell_type": "markdown",
   "id": "9d0112e8-4719-459d-96b1-58969537424c",
   "metadata": {},
   "source": [
    "#### <span style=\"color:lightcoral\">StateSnapshot()</span> with a <span style=\"color:lightcoral\">checkpoint_id3</span>"
   ]
  },
  {
   "cell_type": "markdown",
   "id": "e46ce035-27d2-4e25-8113-afa63d9dd0a6",
   "metadata": {},
   "source": [
    "```python\n",
    "{\n",
    "    state: \"Starry starry night\",\n",
    "    next: END,\n",
    "    id: ...\n",
    "}\n",
    "```"
   ]
  },
  {
   "cell_type": "markdown",
   "id": "5e66195b-d3cf-4e1c-bf49-97672c11a51e",
   "metadata": {},
   "source": [
    "* state dict after:"
   ]
  },
  {
   "cell_type": "markdown",
   "id": "3cebd4f6-dbac-4064-9905-919516be4f9a",
   "metadata": {},
   "source": [
    "#### <span style=\"color:thistle\">StateSnapshot()</span> with a <span style=\"color:thistle\">checkpoint_id4</span>"
   ]
  },
  {
   "cell_type": "markdown",
   "id": "85664191-4231-46df-875d-43fa2db64525",
   "metadata": {},
   "source": [
    "```python\n",
    "{\n",
    "    state: \"Good morning!\",\n",
    "    next: END,\n",
    "    id: ...\n",
    "}\n",
    "```"
   ]
  },
  {
   "cell_type": "markdown",
   "id": "6f71759f-22ce-4b10-b473-a7929373f380",
   "metadata": {},
   "source": [
    "```python\n",
    "graph.update_state({checkpoint_id4, thread_id}, {state: \"Good morning!\"})\n",
    "```"
   ]
  },
  {
   "cell_type": "markdown",
   "id": "c84f460c-c7f1-4f61-b4c8-e44a79eab730",
   "metadata": {},
   "source": [
    "* If you pass the red Snapshot(), Langgraph knows it already ran that, and it just replays\n",
    "* But if you pass the purple Snapshot(), Langgraph knows it that checkpoint was never executed before and it will now reinvoke our LLM"
   ]
  },
  {
   "cell_type": "code",
   "execution_count": 121,
   "id": "9870e931-9e6a-4ec0-83a7-73b21a321d0b",
   "metadata": {},
   "outputs": [
    {
     "data": {
      "text/plain": [
       "[HumanMessage(content='Whats 9 + 10?', additional_kwargs={}, response_metadata={}, id='8c1194d6-ecb1-4547-b3dd-21a72c3ac760')]"
      ]
     },
     "execution_count": 121,
     "metadata": {},
     "output_type": "execute_result"
    }
   ],
   "source": [
    "to_fork = state_history[-2]\n",
    "to_fork.values[\"messages\"]"
   ]
  },
  {
   "cell_type": "code",
   "execution_count": 123,
   "id": "09cc4f5f-7a54-4bc6-968d-8902c1be54fc",
   "metadata": {},
   "outputs": [
    {
     "data": {
      "text/plain": [
       "{'configurable': {'thread_id': '192',\n",
       "  'checkpoint_ns': '',\n",
       "  'checkpoint_id': '1efd9524-d164-664c-8000-07b790623c08'}}"
      ]
     },
     "execution_count": 123,
     "metadata": {},
     "output_type": "execute_result"
    }
   ],
   "source": [
    "to_fork.config"
   ]
  },
  {
   "cell_type": "markdown",
   "id": "6cd9e00a-e12d-46cb-b1ba-94ce7cf104d8",
   "metadata": {},
   "source": [
    "* Let's modify the state at that checkpoint\n",
    "* But our reducer on `messages` takes \"update\" as \"appending\" not \"rewriting\"\n",
    "* So, to  modify (**rewrite**), we have to specify a message_id"
   ]
  },
  {
   "cell_type": "markdown",
   "id": "8f37876b-b3af-4ccf-ae0d-360295bbb735",
   "metadata": {},
   "source": [
    "Note: In `thread_id`: 192, our initial message was \"Whats 9 + 10?\""
   ]
  },
  {
   "cell_type": "code",
   "execution_count": 133,
   "id": "bb3fa07f-18ee-42aa-a100-ff0a764c549c",
   "metadata": {},
   "outputs": [],
   "source": [
    "fork_config = graph.update_state(\n",
    "    to_fork.config,\n",
    "    {\n",
    "        \"messages\": [\n",
    "            HumanMessage(\n",
    "                content=\"Multiply 5 and 3\",\n",
    "                id=to_fork.values[\"messages\"][0].id\n",
    "            )\n",
    "        ]\n",
    "    }\n",
    ")"
   ]
  },
  {
   "cell_type": "code",
   "execution_count": 135,
   "id": "ecf12625-a8f7-4502-9fb2-687b71a82b10",
   "metadata": {},
   "outputs": [
    {
     "data": {
      "text/plain": [
       "{'configurable': {'thread_id': '192',\n",
       "  'checkpoint_ns': '',\n",
       "  'checkpoint_id': '1efd9552-82bd-612a-8001-595ba893f604'}}"
      ]
     },
     "execution_count": 135,
     "metadata": {},
     "output_type": "execute_result"
    }
   ],
   "source": [
    "fork_config"
   ]
  },
  {
   "cell_type": "markdown",
   "id": "07b37d81-9495-4dcc-baf7-3ca7ac4300b0",
   "metadata": {},
   "source": [
    "* We have a new checkpoint_id"
   ]
  },
  {
   "cell_type": "code",
   "execution_count": 144,
   "id": "81475198-2a3b-4432-9934-51ec869dc162",
   "metadata": {},
   "outputs": [
    {
     "data": {
      "text/plain": [
       "{'configurable': {'thread_id': '192'}}"
      ]
     },
     "execution_count": 144,
     "metadata": {},
     "output_type": "execute_result"
    }
   ],
   "source": [
    "thread_config"
   ]
  },
  {
   "cell_type": "code",
   "execution_count": 142,
   "id": "33ece1ac-6f40-40d5-995e-68cf1958c64c",
   "metadata": {},
   "outputs": [
    {
     "data": {
      "text/plain": [
       "10"
      ]
     },
     "execution_count": 142,
     "metadata": {},
     "output_type": "execute_result"
    }
   ],
   "source": [
    "state_history = [s for s in graph.get_state_history(thread_config)]\n",
    "len(state_history)"
   ]
  },
  {
   "cell_type": "code",
   "execution_count": 148,
   "id": "82f657fe-5c99-407e-a6a0-eee670d919af",
   "metadata": {},
   "outputs": [
    {
     "data": {
      "text/plain": [
       "StateSnapshot(values={'messages': [HumanMessage(content='Multiply 5 and 3', additional_kwargs={}, response_metadata={}, id='8c1194d6-ecb1-4547-b3dd-21a72c3ac760')]}, next=('assistant',), config={'configurable': {'thread_id': '192', 'checkpoint_ns': '', 'checkpoint_id': '1efd9552-82bd-612a-8001-595ba893f604'}}, metadata={'source': 'update', 'writes': {'__start__': {'messages': [HumanMessage(content='Multiply 5 and 3', additional_kwargs={}, response_metadata={}, id='8c1194d6-ecb1-4547-b3dd-21a72c3ac760')]}}, 'thread_id': '192', 'step': 1, 'parents': {}, 'checkpoint_ns': '', 'checkpoint_id': '1efd9524-d164-664c-8000-07b790623c08'}, created_at='2025-01-23T06:42:04.118250+00:00', parent_config={'configurable': {'thread_id': '192', 'checkpoint_ns': '', 'checkpoint_id': '1efd9524-d164-664c-8000-07b790623c08'}}, tasks=(PregelTask(id='766ff850-68a3-e739-12c5-46127b287bd7', name='assistant', path=('__pregel_pull', 'assistant'), error=None, interrupts=(), state=None, result=None),))"
      ]
     },
     "execution_count": 148,
     "metadata": {},
     "output_type": "execute_result"
    }
   ],
   "source": [
    "state_history[0]"
   ]
  },
  {
   "cell_type": "markdown",
   "id": "d74bd761-e079-4c65-887d-de48636a5992",
   "metadata": {},
   "source": [
    "* This creates a new, forked checkpoint with the metadata preserved"
   ]
  },
  {
   "cell_type": "code",
   "execution_count": 152,
   "id": "daed0d93-2c69-48ac-825f-b6fc1e3e7257",
   "metadata": {},
   "outputs": [
    {
     "data": {
      "text/plain": [
       "[HumanMessage(content='Multiply 5 and 3', additional_kwargs={}, response_metadata={}, id='8c1194d6-ecb1-4547-b3dd-21a72c3ac760')]"
      ]
     },
     "execution_count": 152,
     "metadata": {},
     "output_type": "execute_result"
    }
   ],
   "source": [
    "state_history[0].values[\"messages\"]"
   ]
  },
  {
   "cell_type": "code",
   "execution_count": 154,
   "id": "e0e69be9-e0a1-4fea-bb21-d0db59f91c53",
   "metadata": {},
   "outputs": [
    {
     "data": {
      "text/plain": [
       "StateSnapshot(values={'messages': [HumanMessage(content='Multiply 5 and 3', additional_kwargs={}, response_metadata={}, id='8c1194d6-ecb1-4547-b3dd-21a72c3ac760')]}, next=('assistant',), config={'configurable': {'thread_id': '192', 'checkpoint_ns': '', 'checkpoint_id': '1efd9552-82bd-612a-8001-595ba893f604'}}, metadata={'source': 'update', 'writes': {'__start__': {'messages': [HumanMessage(content='Multiply 5 and 3', additional_kwargs={}, response_metadata={}, id='8c1194d6-ecb1-4547-b3dd-21a72c3ac760')]}}, 'thread_id': '192', 'step': 1, 'parents': {}, 'checkpoint_ns': '', 'checkpoint_id': '1efd9524-d164-664c-8000-07b790623c08'}, created_at='2025-01-23T06:42:04.118250+00:00', parent_config={'configurable': {'thread_id': '192', 'checkpoint_ns': '', 'checkpoint_id': '1efd9524-d164-664c-8000-07b790623c08'}}, tasks=(PregelTask(id='766ff850-68a3-e739-12c5-46127b287bd7', name='assistant', path=('__pregel_pull', 'assistant'), error=None, interrupts=(), state=None, result=None),))"
      ]
     },
     "execution_count": 154,
     "metadata": {},
     "output_type": "execute_result"
    }
   ],
   "source": [
    "graph.get_state({\"configurable\": {\"thread_id\": \"192\"}})"
   ]
  },
  {
   "cell_type": "markdown",
   "id": "0bcc4b12-9768-474a-9acb-eb1aa088785c",
   "metadata": {},
   "source": [
    "Now, when we stream, the graph knows this checkpoint has never been executed"
   ]
  },
  {
   "cell_type": "markdown",
   "id": "eb9c465d-a258-481e-950d-8d5334a3480a",
   "metadata": {},
   "source": [
    "So, the graph runs, rather than simply re-playing"
   ]
  },
  {
   "cell_type": "code",
   "execution_count": 160,
   "id": "1e5869cf-dbce-4409-9512-1d9bba474af7",
   "metadata": {},
   "outputs": [
    {
     "name": "stdout",
     "output_type": "stream",
     "text": [
      "================================\u001b[1m Human Message \u001b[0m=================================\n",
      "\n",
      "Multiply 5 and 3\n",
      "==================================\u001b[1m Ai Message \u001b[0m==================================\n",
      "Tool Calls:\n",
      "  multiply (0d8122d4-e4d1-4ce7-910b-83751c72bfec)\n",
      " Call ID: 0d8122d4-e4d1-4ce7-910b-83751c72bfec\n",
      "  Args:\n",
      "    a: 5.0\n",
      "    b: 3.0\n",
      "=================================\u001b[1m Tool Message \u001b[0m=================================\n",
      "Name: multiply\n",
      "\n",
      "15\n",
      "==================================\u001b[1m Ai Message \u001b[0m==================================\n",
      "\n",
      "The result is 15.\n"
     ]
    }
   ],
   "source": [
    "for event in graph.stream(None, fork_config, stream_mode=\"values\"):\n",
    "    event[\"messages\"][-1].pretty_print()"
   ]
  },
  {
   "cell_type": "markdown",
   "id": "f7f89fc8-6d82-463c-8cce-f9c391b20893",
   "metadata": {},
   "source": [
    "## <span style=\"color:red\">Parallelization</span>"
   ]
  },
  {
   "cell_type": "code",
   "execution_count": 166,
   "id": "7f3f54e5-dcca-4d89-a651-6f061caa8aac",
   "metadata": {},
   "outputs": [
    {
     "data": {
      "image/png": "[encoded data removed]",
      "text/plain": [
       "<IPython.core.display.Image object>"
      ]
     },
     "metadata": {},
     "output_type": "display_data"
    }
   ],
   "source": [
    "from IPython.display import Image, display\n",
    "import operator\n",
    "\n",
    "from typing import Annotated, Any\n",
    "from typing_extensions import TypedDict\n",
    "from langgraph.graph import StateGraph, START, END\n",
    "\n",
    "class State(TypedDict):\n",
    "    state: str\n",
    "\n",
    "class ReturnNodeValue:\n",
    "    def __init__(self, node_secret: str):\n",
    "        self._value = node_secret\n",
    "\n",
    "    def __call__(self, state: State) -> Any:\n",
    "        print(f\"Adding {self._value} to {state['state']}\")\n",
    "        return {\"state\": [self._value]}\n",
    "\n",
    "builder = StateGraph(State)\n",
    "\n",
    "builder.add_node(\"a\", ReturnNodeValue(\"I'm A\"))\n",
    "builder.add_node(\"b\", ReturnNodeValue(\"I'm B\"))\n",
    "builder.add_node(\"c\", ReturnNodeValue(\"I'm C\"))\n",
    "builder.add_node(\"d\", ReturnNodeValue(\"I'm D\"))\n",
    "\n",
    "builder.add_edge(START, \"a\")\n",
    "builder.add_edge(\"a\", \"b\")\n",
    "builder.add_edge(\"b\", \"c\")\n",
    "builder.add_edge(\"c\", \"d\")\n",
    "builder.add_edge(\"d\", END)\n",
    "\n",
    "graph = builder.compile()\n",
    "\n",
    "display(Image(graph.get_graph(xray=True).draw_mermaid_png()))"
   ]
  },
  {
   "cell_type": "code",
   "execution_count": 168,
   "id": "ac7651a3-b64b-4330-ae82-dbfdcd2db392",
   "metadata": {},
   "outputs": [
    {
     "name": "stdout",
     "output_type": "stream",
     "text": [
      "Adding I'm A to []\n",
      "Adding I'm B to [\"I'm A\"]\n",
      "Adding I'm C to [\"I'm B\"]\n",
      "Adding I'm D to [\"I'm C\"]\n"
     ]
    },
    {
     "data": {
      "text/plain": [
       "{'state': [\"I'm D\"]}"
      ]
     },
     "execution_count": 168,
     "metadata": {},
     "output_type": "execute_result"
    }
   ],
   "source": [
    "graph.invoke({\"state\": []})"
   ]
  },
  {
   "cell_type": "markdown",
   "id": "22cf82dd-e14f-404a-8409-29e0f875ee2e",
   "metadata": {},
   "source": [
    "Suppose if we want to run 2 edges in parallel:"
   ]
  },
  {
   "cell_type": "markdown",
   "id": "8091d0b0-7a35-43ed-9e12-5c53572875e5",
   "metadata": {},
   "source": [
    "### <span style=\"color:purple\">Fan out and fan in</span>"
   ]
  },
  {
   "cell_type": "code",
   "execution_count": 173,
   "id": "a509f405-08fc-4633-9e05-979b441686c7",
   "metadata": {},
   "outputs": [
    {
     "data": {
      "image/png": "[encoded data removed]",
      "text/plain": [
       "<IPython.core.display.Image object>"
      ]
     },
     "metadata": {},
     "output_type": "display_data"
    }
   ],
   "source": [
    "builder = StateGraph(State)\n",
    "\n",
    "builder.add_node(\"a\", ReturnNodeValue(\"I'm A\"))\n",
    "builder.add_node(\"b\", ReturnNodeValue(\"I'm B\"))\n",
    "builder.add_node(\"c\", ReturnNodeValue(\"I'm C\"))\n",
    "builder.add_node(\"d\", ReturnNodeValue(\"I'm D\"))\n",
    "\n",
    "builder.add_edge(START, \"a\")\n",
    "builder.add_edge(\"a\", \"b\")\n",
    "builder.add_edge(\"a\", \"c\")\n",
    "builder.add_edge(\"b\", \"d\")\n",
    "builder.add_edge(\"c\", \"d\")\n",
    "builder.add_edge(\"d\", END)\n",
    "\n",
    "graph = builder.compile()\n",
    "\n",
    "display(Image(graph.get_graph(xray=True).draw_mermaid_png()))"
   ]
  },
  {
   "cell_type": "code",
   "execution_count": 175,
   "id": "a9b681dd-f5c3-4839-abea-baafc2bc1406",
   "metadata": {},
   "outputs": [
    {
     "name": "stdout",
     "output_type": "stream",
     "text": [
      "Adding I'm A to []\n",
      "Adding I'm B to [\"I'm A\"]\n",
      "Adding I'm C to [\"I'm A\"]\n",
      "An error occured: At key 'state': Can receive only one value per step. Use an Annotated key to handle multiple values.\n",
      "For troubleshooting, visit: https://python.langchain.com/docs/troubleshooting/errors/INVALID_CONCURRENT_GRAPH_UPDATE\n"
     ]
    }
   ],
   "source": [
    "from langgraph.errors import InvalidUpdateError\n",
    "try:\n",
    "    graph.invoke({\"state\": []})\n",
    "except InvalidUpdateError as e:\n",
    "    print(f\"An error occured: {e}\")"
   ]
  },
  {
   "cell_type": "markdown",
   "id": "13c82c87-735e-483b-9893-6be857ab73de",
   "metadata": {},
   "source": [
    "This is because both `b` and `c` are writing to the same state key/channel in the same step"
   ]
  },
  {
   "cell_type": "code",
   "execution_count": 199,
   "id": "178de7cb-257a-4b8f-b9c2-69bac4efa8aa",
   "metadata": {},
   "outputs": [],
   "source": [
    "import operator\n",
    "from typing import Annotated, Any\n",
    "\n",
    "class State(TypedDict):\n",
    "    state: Annotated[list, operator.add]\n",
    "\n",
    "builder = StateGraph(State)\n",
    "\n",
    "builder.add_node(\"a\", ReturnNodeValue(\"I'm A\"))\n",
    "builder.add_node(\"b\", ReturnNodeValue(\"I'm B\"))\n",
    "builder.add_node(\"c\", ReturnNodeValue(\"I'm C\"))\n",
    "builder.add_node(\"d\", ReturnNodeValue(\"I'm D\"))\n",
    "\n",
    "builder.add_edge(START, \"a\")\n",
    "builder.add_edge(\"a\", \"b\")\n",
    "builder.add_edge(\"a\", \"c\")\n",
    "builder.add_edge(\"b\", \"d\")\n",
    "builder.add_edge(\"c\", \"d\")\n",
    "builder.add_edge(\"d\", END)\n",
    "\n",
    "graph = builder.compile()"
   ]
  },
  {
   "cell_type": "code",
   "execution_count": 201,
   "id": "7af70401-79f3-4cd2-9cc8-a3568c6e3017",
   "metadata": {},
   "outputs": [
    {
     "name": "stdout",
     "output_type": "stream",
     "text": [
      "Adding I'm A to []\n",
      "Adding I'm B to [\"I'm A\"]\n",
      "Adding I'm C to [\"I'm A\"]\n",
      "Adding I'm D to [\"I'm A\", \"I'm B\", \"I'm C\"]\n",
      "{'state': [\"I'm A\", \"I'm B\", \"I'm C\", \"I'm D\"]}\n"
     ]
    }
   ],
   "source": [
    "try:\n",
    "    res = graph.invoke({\"state\": []})\n",
    "    print(res)\n",
    "except InvalidUpdateError as e:\n",
    "    print(f\"An error occured: {e}\")"
   ]
  },
  {
   "cell_type": "markdown",
   "id": "49ced754-ae48-4069-bd95-edb85d60e7d1",
   "metadata": {},
   "source": [
    "When you are doing parallel node operations:\n",
    "* Make sure the proper reducers are being used that can handle those simultaneous updates"
   ]
  },
  {
   "cell_type": "code",
   "execution_count": 222,
   "id": "3f6be2d8-f579-4b93-917f-a3bbe59b3478",
   "metadata": {},
   "outputs": [
    {
     "data": {
      "image/png": "[encoded data removed]",
      "text/plain": [
       "<IPython.core.display.Image object>"
      ]
     },
     "metadata": {},
     "output_type": "display_data"
    }
   ],
   "source": [
    "builder = StateGraph(State)\n",
    "\n",
    "builder.add_node(\"a\", ReturnNodeValue(\"I'm A\"))\n",
    "builder.add_node(\"b\", ReturnNodeValue(\"I'm B\"))\n",
    "builder.add_node(\"b2\", ReturnNodeValue(\"I'm B2\"))\n",
    "builder.add_node(\"b3\", ReturnNodeValue(\"I'm B3\"))\n",
    "builder.add_node(\"c\", ReturnNodeValue(\"I'm C\"))\n",
    "builder.add_node(\"d\", ReturnNodeValue(\"I'm D\"))\n",
    "\n",
    "builder.add_edge(START, \"a\")\n",
    "builder.add_edge(\"a\", \"b\")\n",
    "builder.add_edge(\"a\", \"c\")\n",
    "builder.add_edge(\"b\", \"b2\")\n",
    "builder.add_edge(\"b2\", \"b3\")\n",
    "builder.add_edge([\"b3\", \"c\"], \"d\")\n",
    "builder.add_edge(\"d\", END)\n",
    "\n",
    "graph = builder.compile()\n",
    "\n",
    "display(Image(graph.get_graph(xray=True).draw_mermaid_png()))"
   ]
  },
  {
   "cell_type": "markdown",
   "id": "3475bb08-b31d-485e-8a0a-08e894a92549",
   "metadata": {},
   "source": [
    "* `b` and `c` will run roughly at the same time (first node of both the branchs)"
   ]
  },
  {
   "cell_type": "code",
   "execution_count": 224,
   "id": "ac9aac7e-8007-4141-a4c6-f8498e5bd52f",
   "metadata": {},
   "outputs": [
    {
     "name": "stdout",
     "output_type": "stream",
     "text": [
      "Adding I'm A to []\n",
      "Adding I'm B to [\"I'm A\"]\n",
      "Adding I'm C to [\"I'm A\"]\n",
      "Adding I'm B2 to [\"I'm A\", \"I'm B\", \"I'm C\"]\n",
      "Adding I'm B3 to [\"I'm A\", \"I'm B\", \"I'm C\", \"I'm B2\"]\n",
      "Adding I'm D to [\"I'm A\", \"I'm B\", \"I'm C\", \"I'm B2\", \"I'm B3\"]\n"
     ]
    },
    {
     "data": {
      "text/plain": [
       "{'state': [\"I'm A\", \"I'm B\", \"I'm C\", \"I'm B2\", \"I'm B3\", \"I'm D\"]}"
      ]
     },
     "execution_count": 224,
     "metadata": {},
     "output_type": "execute_result"
    }
   ],
   "source": [
    "res = graph.invoke({\"state\": []})\n",
    "res"
   ]
  },
  {
   "cell_type": "markdown",
   "id": "18039d7a-d77c-4b2b-a913-447174537313",
   "metadata": {},
   "source": [
    "* It waits till all other nodes of other branch are completed, before executing the merging node `d`"
   ]
  },
  {
   "cell_type": "markdown",
   "id": "add5db0d-05a9-4208-a70f-ff7ac39f012e",
   "metadata": {},
   "source": [
    "### <span style=\"color:purple\">Order of updates</span>"
   ]
  },
  {
   "cell_type": "markdown",
   "id": "fbdaf077-2781-4917-9177-abf86cbcb3a2",
   "metadata": {},
   "source": [
    "* LangGraph decides the order of state updates. We can't control\n",
    "* However, we can use a custom reducer to decide the order"
   ]
  },
  {
   "cell_type": "code",
   "execution_count": 226,
   "id": "5770ecae-23a4-4017-ac69-50ebb2c4b8a8",
   "metadata": {},
   "outputs": [],
   "source": [
    "def sorting_reducer(left, right):\n",
    "    \"\"\"\n",
    "    Combines and sorts the values in a list\n",
    "    \"\"\"\n",
    "    if not isinstance(left, list):\n",
    "        left = [left]\n",
    "\n",
    "    if not isinstance(right, list):\n",
    "        right = [right]\n",
    "\n",
    "    return sorted(left + right, reverse=False)\n",
    "\n",
    "\n",
    "class State(TypedDict):\n",
    "    state: Annotated[list, sorting_reducer]\n",
    "\n",
    "builder = StateGraph(State)\n",
    "\n",
    "builder.add_node(\"a\", ReturnNodeValue(\"I'm A\"))\n",
    "builder.add_node(\"b\", ReturnNodeValue(\"I'm B\"))\n",
    "builder.add_node(\"b2\", ReturnNodeValue(\"I'm B2\"))\n",
    "builder.add_node(\"b3\", ReturnNodeValue(\"I'm B3\"))\n",
    "builder.add_node(\"c\", ReturnNodeValue(\"I'm C\"))\n",
    "builder.add_node(\"d\", ReturnNodeValue(\"I'm D\"))\n",
    "\n",
    "builder.add_edge(START, \"a\")\n",
    "builder.add_edge(\"a\", \"b\")\n",
    "builder.add_edge(\"a\", \"c\")\n",
    "builder.add_edge(\"b\", \"b2\")\n",
    "builder.add_edge(\"b2\", \"b3\")\n",
    "builder.add_edge([\"b3\", \"c\"], \"d\")\n",
    "builder.add_edge(\"d\", END)\n",
    "\n",
    "graph = builder.compile()"
   ]
  },
  {
   "cell_type": "code",
   "execution_count": 228,
   "id": "0e9f9484-3d5d-4bc5-8ef0-145f1ad5252b",
   "metadata": {},
   "outputs": [
    {
     "name": "stdout",
     "output_type": "stream",
     "text": [
      "Adding I'm A to []\n",
      "Adding I'm B to [\"I'm A\"]\n",
      "Adding I'm C to [\"I'm A\"]\n",
      "Adding I'm B2 to [\"I'm A\", \"I'm B\", \"I'm C\"]\n",
      "Adding I'm B3 to [\"I'm A\", \"I'm B\", \"I'm B2\", \"I'm C\"]\n",
      "Adding I'm D to [\"I'm A\", \"I'm B\", \"I'm B2\", \"I'm B3\", \"I'm C\"]\n"
     ]
    },
    {
     "data": {
      "text/plain": [
       "{'state': [\"I'm A\", \"I'm B\", \"I'm B2\", \"I'm B3\", \"I'm C\", \"I'm D\"]}"
      ]
     },
     "execution_count": 228,
     "metadata": {},
     "output_type": "execute_result"
    }
   ],
   "source": [
    "graph.invoke({\"state\": []})"
   ]
  },
  {
   "cell_type": "markdown",
   "id": "334b6e5e-6481-494c-b310-fd47af844151",
   "metadata": {},
   "source": [
    "## <span style=\"color:orange\">Working with an LLM on a sample use case</span>"
   ]
  },
  {
   "cell_type": "markdown",
   "id": "d3742eba-7c7e-47b5-85d7-c74f453d7485",
   "metadata": {},
   "source": [
    "`!pip install wikipedia -q`"
   ]
  },
  {
   "cell_type": "code",
   "execution_count": 285,
   "id": "8f4f678f-d951-4ec0-a884-c011b11f04db",
   "metadata": {},
   "outputs": [
    {
     "data": {
      "image/png": "[encoded data removed]",
      "text/plain": [
       "<IPython.core.display.Image object>"
      ]
     },
     "metadata": {},
     "output_type": "display_data"
    }
   ],
   "source": [
    "from langchain_core.messages import HumanMessage, SystemMessage\n",
    "\n",
    "from langchain_community.document_loaders import WikipediaLoader\n",
    "from langchain_community.tools import DuckDuckGoSearchResults\n",
    "\n",
    "llm = ChatGoogleGenerativeAI(\n",
    "    model=\"gemini-1.5-flash\",\n",
    "    temperature=0,\n",
    "    api_key=gemini_api_key\n",
    ")\n",
    "\n",
    "class State(TypedDict):\n",
    "    question: str\n",
    "    answer: str\n",
    "    context: Annotated[list, operator.add]\n",
    "\n",
    "def search_web(state):\n",
    "    \"\"\" Retrieve docs from web search \"\"\"\n",
    "\n",
    "    search_engine_search = DuckDuckGoSearchResults(max_results=5, output_format=\"list\")\n",
    "    search_docs = search_engine_search.invoke(state[\"question\"])\n",
    "\n",
    "    formatted_search_docs = \"\\n\\n---\\n\\n\".join(\n",
    "        [\n",
    "            f'<Document href=\"{doc[\"link\"]}\"/>\\n{doc[\"snippet\"]}\\n</Document>'\n",
    "            for doc in search_docs\n",
    "        ]\n",
    "    )\n",
    "\n",
    "    return {\"context\": [formatted_search_docs]}\n",
    "\n",
    "def search_wikipedia(state):\n",
    "    \"\"\" Retrieve docs from wikipedia \"\"\"\n",
    "    question = state[\"question\"]\n",
    "    search_docs = WikipediaLoader(query=question, load_max_docs=2).load()\n",
    "\n",
    "    formatted_search_docs = \"\\n\\n---\\n\\n\".join(\n",
    "        [\n",
    "            f'<Document source=\"{doc.metadata[\"source\"]}\" page=\"{doc.metadata.get(\"page\", \"\")}\"/>\\n{doc.page_content}\\n</Document>'\n",
    "            for doc in search_docs\n",
    "        ]\n",
    "    )\n",
    "\n",
    "    return {\"context\": [formatted_search_docs]}\n",
    "\n",
    "def generate_answer(state):\n",
    "    \"\"\" Node to answer a question \"\"\"\n",
    "\n",
    "    context = state[\"context\"]\n",
    "    question = state[\"question\"]\n",
    "\n",
    "    answer_template = \"\"\"Answer the question {question} using this context: {context}\"\"\"\n",
    "    answer_instructions = answer_template.format(\n",
    "        question=question,\n",
    "        context=context\n",
    "    )\n",
    "\n",
    "    answer = llm.invoke([SystemMessage(content=answer_instructions)]+[HumanMessage(content=f\"Answer the question.\")])\n",
    "\n",
    "    return {\"answer\": answer}\n",
    "\n",
    "\n",
    "builder = StateGraph(State)\n",
    "\n",
    "builder.add_node(\"search_web\",search_web)\n",
    "builder.add_node(\"search_wiki\", search_wikipedia)\n",
    "builder.add_node(\"generate_answer\", generate_answer)\n",
    "\n",
    "\n",
    "builder.add_edge(START, \"search_wiki\")\n",
    "builder.add_edge(START, \"search_web\")\n",
    "builder.add_edge(\"search_wiki\", \"generate_answer\")\n",
    "builder.add_edge(\"search_web\", \"generate_answer\")\n",
    "builder.add_edge(\"generate_answer\", END)\n",
    "graph = builder.compile()\n",
    "\n",
    "display(Image(graph.get_graph().draw_mermaid_png()))"
   ]
  },
  {
   "cell_type": "code",
   "execution_count": 287,
   "id": "d5328300-10cc-4dce-a8a1-375ea8809dab",
   "metadata": {},
   "outputs": [
    {
     "data": {
      "text/plain": [
       "\"Q-learning is a model-free reinforcement learning algorithm.  It helps an agent learn the optimal action-selection policy by iteratively updating Q-values, which represent the expected rewards of actions in specific states.  The algorithm doesn't require a model of the environment and can handle problems with stochastic transitions and rewards.  The goal is to maximize the total reward the agent receives over time by learning to choose actions that lead to higher rewards in the long run.  Q-learning has been widely used in various domains, including robotics, game theory, and artificial intelligence research.\""
      ]
     },
     "execution_count": 287,
     "metadata": {},
     "output_type": "execute_result"
    }
   ],
   "source": [
    "result = graph.invoke({\"question\": \"What is Q learning?\"})\n",
    "result[\"answer\"].content"
   ]
  },
  {
   "cell_type": "markdown",
   "id": "232be802-d65f-4dde-a845-0f23676c05f9",
   "metadata": {},
   "source": [
    "## <span style=\"color:red\">Sub-graphs</span>"
   ]
  },
  {
   "cell_type": "markdown",
   "id": "3f81a26b-dcc1-44ca-bc50-d6319ba3cf29",
   "metadata": {},
   "source": [
    "* Sub graphs allows us to manage different states in different parts of the graph\n",
    "* This is particularly useful for multi-agent systems, with teams of agents that each have their own state"
   ]
  },
  {
   "cell_type": "markdown",
   "id": "33f1cd18-803d-41d8-97cd-62ab1b67fd22",
   "metadata": {},
   "source": [
    "How graphs communicate?\n",
    "> They communicate using shared keys (over-lapping keys)"
   ]
  },
  {
   "cell_type": "markdown",
   "id": "2fa71e18-9029-4925-bc22-a2d6e4b20758",
   "metadata": {},
   "source": [
    "Consider this example:\n",
    "* A system that accepts logs\n",
    "* It performs two seperate sub-tasks by different agents(summarize logs, find failure mode)\n",
    "* These two operations are performed on two different sub-graphs"
   ]
  },
  {
   "cell_type": "code",
   "execution_count": 380,
   "id": "ce4e560a-9366-4a6d-8fc8-ccb5e812a419",
   "metadata": {},
   "outputs": [],
   "source": [
    "from typing import List, Optional, Annotated, Dict\n",
    "from operator import add\n",
    "from typing_extensions import TypedDict\n",
    "class Log(TypedDict):\n",
    "    id: str\n",
    "    question: str\n",
    "    docs: Optional[List]\n",
    "    answer: str\n",
    "    grade: Optional[int]\n",
    "    grader: Optional[str]\n",
    "    feedback: Optional[str]"
   ]
  },
  {
   "cell_type": "code",
   "execution_count": 382,
   "id": "c5ff7378-d0c9-458e-97de-6a237b280314",
   "metadata": {},
   "outputs": [
    {
     "name": "stderr",
     "output_type": "stream",
     "text": [
      "C:\\Users\\HP\\AppData\\Local\\Temp\\ipykernel_13928\\273254671.py:30: LangGraphDeprecationWarning: Initializing StateGraph without state_schema is deprecated. Please pass in an explicit state_schema instead of just an input and output schema.\n",
      "  fa_builder = StateGraph(input=FailureAnalysisState, output=FailureAnalysisOutputState)\n"
     ]
    },
    {
     "data": {
      "image/png": "[encoded data removed]",
      "text/plain": [
       "<IPython.core.display.Image object>"
      ]
     },
     "metadata": {},
     "output_type": "display_data"
    }
   ],
   "source": [
    "class FailureAnalysisState(TypedDict):\n",
    "    cleaned_logs: List[Log]\n",
    "    failures: List[Log]\n",
    "    fa_summary: str\n",
    "    processed_logs: List[str]\n",
    "\n",
    "class FailureAnalysisOutputState(TypedDict):\n",
    "    fa_summary: str\n",
    "    processed_logs: List[str]\n",
    "\n",
    "def get_failures(state):\n",
    "    \"\"\" Get logs that contain a failure \"\"\"\n",
    "    cleaned_logs = state[\"cleaned_logs\"]\n",
    "    failures = [log for log in cleaned_logs if \"grade\" in log]\n",
    "    return {\"failures\": failures}\n",
    "\n",
    "def generate_summary(state):\n",
    "    \"\"\"\n",
    "    Generate summary of failures\n",
    "    \"\"\"\n",
    "    failures = state[\"failures\"]\n",
    "    fa_summary = \"Poor quality retrieval of Chroma documentation.\"\n",
    "    return {\n",
    "        \"fa_summary\": fa_summary,\n",
    "        \"processed_logs\": [f\"failure-analysis-on-log-{failure['id']}\" for failure in failures]\n",
    "    }\n",
    "\n",
    "fa_builder = StateGraph(input=FailureAnalysisState, output=FailureAnalysisOutputState)\n",
    "\n",
    "fa_builder.add_node(\"get_failures\", get_failures)\n",
    "fa_builder.add_node(\"generate_summary\", generate_summary)\n",
    "fa_builder.add_edge(START, \"get_failures\")\n",
    "fa_builder.add_edge(\"get_failures\", \"generate_summary\")\n",
    "fa_builder.add_edge(\"generate_summary\", END)\n",
    "\n",
    "graph = fa_builder.compile()\n",
    "display(Image(graph.get_graph().draw_mermaid_png()))"
   ]
  },
  {
   "cell_type": "code",
   "execution_count": 383,
   "id": "a4bf610a-b149-431b-ba6a-2b3f0618fe4b",
   "metadata": {},
   "outputs": [
    {
     "name": "stderr",
     "output_type": "stream",
     "text": [
      "C:\\Users\\HP\\AppData\\Local\\Temp\\ipykernel_13928\\2675295755.py:25: LangGraphDeprecationWarning: Initializing StateGraph without state_schema is deprecated. Please pass in an explicit state_schema instead of just an input and output schema.\n",
      "  qs_builder = StateGraph(input=QuestionSummarizationState, output=QuestionSummarizationOutputState)\n"
     ]
    },
    {
     "data": {
      "image/png": "[encoded data removed]",
      "text/plain": [
       "<IPython.core.display.Image object>"
      ]
     },
     "metadata": {},
     "output_type": "display_data"
    }
   ],
   "source": [
    "class QuestionSummarizationState(TypedDict):\n",
    "    cleaned_logs: List[Log]\n",
    "    qs_summary: str\n",
    "    report: str\n",
    "    processed_logs: List[str]\n",
    "\n",
    "class QuestionSummarizationOutputState(TypedDict):\n",
    "    report: str\n",
    "    processed_logs: List[str]\n",
    "\n",
    "def generate_summary(state):\n",
    "    cleaned_logs = state[\"cleaned_logs\"]\n",
    "    # placeholder to summarize the logs\n",
    "    summary = \"Questions focused on usage of ChatOllama and Chroma vector store.\"\n",
    "    return {\n",
    "        \"qs_summary\": summary,\n",
    "        \"processed_logs\": [f\"summary-on-log-{log['id']}\" for log in cleaned_logs]\n",
    "    }\n",
    "\n",
    "def send_to_slack(state):\n",
    "    qs_summary = state[\"qs_summary\"]\n",
    "    report = \"foo bar baz\"\n",
    "    return {\"report\": report}\n",
    "\n",
    "qs_builder = StateGraph(input=QuestionSummarizationState, output=QuestionSummarizationOutputState)\n",
    "qs_builder.add_node(\"generate_summary\", generate_summary)\n",
    "qs_builder.add_node(\"send_to_slack\", send_to_slack)\n",
    "qs_builder.add_edge(START, \"generate_summary\")\n",
    "qs_builder.add_edge(\"generate_summary\", \"send_to_slack\")\n",
    "qs_builder.add_edge(\"send_to_slack\", END)\n",
    "\n",
    "graph = qs_builder.compile()\n",
    "display(Image(graph.get_graph().draw_mermaid_png()))"
   ]
  },
  {
   "cell_type": "markdown",
   "id": "b3c41b32-3969-4cf1-bc94-4b8ef5e3bef1",
   "metadata": {},
   "source": [
    "* Now we can bring it all together\n",
    "* We create our parent graph with `EntryGraphState`\n",
    "* And we **add our sub-graphs as nodes**"
   ]
  },
  {
   "cell_type": "code",
   "execution_count": 390,
   "id": "61466382-393a-410c-80ff-1da915498071",
   "metadata": {},
   "outputs": [
    {
     "data": {
      "image/png": "[encoded data removed]",
      "text/plain": [
       "<IPython.core.display.Image object>"
      ]
     },
     "metadata": {},
     "output_type": "display_data"
    }
   ],
   "source": [
    "class EntryGraphState(TypedDict):\n",
    "    raw_logs : List[Log]\n",
    "    cleaned_logs: List[Log]  # this will be used by both FA and QS sub graphs\n",
    "    fa_summary: str  # this will be genreated in the FA sub graph\n",
    "    report: str  # this will be generated in the QS sub-graph\n",
    "    processed_logs: Annotated[List[int], add] # this will be generated in both FA and QS sub graphs\n",
    "\n",
    "def clean_logs(state):\n",
    "    raw_logs = state[\"raw_logs\"]\n",
    "    # placeholder func to clean the logs\n",
    "    cleaned_logs = raw_logs\n",
    "    return {\"cleaned_logs\": cleaned_logs}\n",
    "\n",
    "entry_builder = StateGraph(EntryGraphState)\n",
    "\n",
    "entry_builder.add_node(\"clean_logs\", clean_logs)\n",
    "entry_builder.add_node(\"question_summarization\", qs_builder.compile())\n",
    "entry_builder.add_node(\"failure_analysis\", fa_builder.compile())\n",
    "\n",
    "entry_builder.add_edge(START, \"clean_logs\")\n",
    "entry_builder.add_edge(\"clean_logs\", \"failure_analysis\")\n",
    "entry_builder.add_edge(\"clean_logs\", \"question_summarization\")\n",
    "entry_builder.add_edge(\"failure_analysis\", END)\n",
    "entry_builder.add_edge(\"question_summarization\", END)\n",
    "\n",
    "graph = entry_builder.compile()\n",
    "display(Image(graph.get_graph(xray=1).draw_mermaid_png())) # xray = 1 will show the internal structure"
   ]
  },
  {
   "cell_type": "code",
   "execution_count": 392,
   "id": "f2c84001-4452-4e59-a001-8bf12b46db94",
   "metadata": {},
   "outputs": [],
   "source": [
    "# Dummy logs\n",
    "question_answer = Log(\n",
    "    id=\"1\",\n",
    "    question=\"How to import ChatOllama?\",\n",
    "    answer=\"To import ChatOllama, use: 'from langchain_community.chat_models import ChatOllama.'\"\n",
    ")\n",
    "\n",
    "question_answer_feedback = Log(\n",
    "    id=\"2\",\n",
    "    question=\"How to use Chroma vector store?\",\n",
    "    answer=\"To use ChromaDB, define the following:\\n rag_chain = create_retrieval_chain(retriever, question_answer_chain).\",\n",
    "    grade=0,\n",
    "    grader=\"Document Relevance Recall\",\n",
    "    feedback=\"The retrieved documents discuss vector stores in general, but not Chroma specifically\",\n",
    ")"
   ]
  },
  {
   "cell_type": "code",
   "execution_count": 394,
   "id": "a0ac9510-bf8b-40da-baf5-4389ce6366f4",
   "metadata": {},
   "outputs": [
    {
     "data": {
      "text/plain": [
       "{'raw_logs': [{'id': '1',\n",
       "   'question': 'How to import ChatOllama?',\n",
       "   'answer': \"To import ChatOllama, use: 'from langchain_community.chat_models import ChatOllama.'\"},\n",
       "  {'id': '2',\n",
       "   'question': 'How to use Chroma vector store?',\n",
       "   'answer': 'To use ChromaDB, define the following:\\n rag_chain = create_retrieval_chain(retriever, question_answer_chain).',\n",
       "   'grade': 0,\n",
       "   'grader': 'Document Relevance Recall',\n",
       "   'feedback': 'The retrieved documents discuss vector stores in general, but not Chroma specifically'}],\n",
       " 'cleaned_logs': [{'id': '1',\n",
       "   'question': 'How to import ChatOllama?',\n",
       "   'answer': \"To import ChatOllama, use: 'from langchain_community.chat_models import ChatOllama.'\"},\n",
       "  {'id': '2',\n",
       "   'question': 'How to use Chroma vector store?',\n",
       "   'answer': 'To use ChromaDB, define the following:\\n rag_chain = create_retrieval_chain(retriever, question_answer_chain).',\n",
       "   'grade': 0,\n",
       "   'grader': 'Document Relevance Recall',\n",
       "   'feedback': 'The retrieved documents discuss vector stores in general, but not Chroma specifically'}],\n",
       " 'fa_summary': 'Poor quality retrieval of Chroma documentation.',\n",
       " 'report': 'foo bar boz',\n",
       " 'processed_logs': ['failure-analysis-on-log-2',\n",
       "  'summary-on-log-1',\n",
       "  'summary-on-log-2']}"
      ]
     },
     "execution_count": 394,
     "metadata": {},
     "output_type": "execute_result"
    }
   ],
   "source": [
    "raw_logs = [question_answer, question_answer_feedback]\n",
    "graph.invoke({\"raw_logs\": raw_logs})"
   ]
  },
  {
   "cell_type": "markdown",
   "id": "e7afe8f6-28a3-4735-bb65-127671567db5",
   "metadata": {},
   "source": [
    "## <span style=\"color:red\">Map-reduce</span>"
   ]
  },
  {
   "cell_type": "markdown",
   "id": "a59cf1b8-1a2c-4796-801a-3b709b23b913",
   "metadata": {},
   "source": [
    "- Map reduce operations are essential for efficient task decomposition and parallel processing\n",
    "- It has 2 phases:\n",
    "  - `Map`: Break the task into smaller sub tasks, processing each sub task in parallel\n",
    "  - `Reduce`: Aggregate the results across all of the completed sub tasks"
   ]
  },
  {
   "cell_type": "code",
   "execution_count": 127,
   "id": "e46c0a2e-96e3-483e-81a7-502687e7b9b0",
   "metadata": {},
   "outputs": [],
   "source": [
    "from langchain_google_genai import ChatGoogleGenerativeAI\n",
    "from keys import gemini_api_key\n",
    "model = ChatGoogleGenerativeAI(model=\"gemini-1.5-flash\", google_api_key=gemini_api_key)"
   ]
  },
  {
   "cell_type": "markdown",
   "id": "578231b5-c561-4e08-a03a-abd738f7d9c5",
   "metadata": {},
   "source": [
    "Let's build a simple agent that does joke generation and selection"
   ]
  },
  {
   "cell_type": "code",
   "execution_count": 130,
   "id": "f00b6e1b-3fe5-435b-b795-c6d33f8ca155",
   "metadata": {},
   "outputs": [],
   "source": [
    "subjects_prompt = \"\"\"\n",
    "Generate a list of 3 sub-topics that are all related to this overall topic: {topic}.\n",
    "\"\"\"\n",
    "joke_prompt = \"\"\"\n",
    "Generate a joke about {subject}\n",
    "\"\"\"\n",
    "best_joke_prompt = \"\"\"\n",
    "Below are a bunch of jokes about {topic}. Select the best one!\n",
    "Return the ID of the best one, starting 0 as the ID for the first joke. Jokes: \\n\\n  {jokes}\n",
    "\"\"\""
   ]
  },
  {
   "cell_type": "markdown",
   "id": "9e97028e-2939-4359-b50d-b4eac7bd625a",
   "metadata": {},
   "source": [
    "**Parallelizing joke generation :**"
   ]
  },
  {
   "cell_type": "markdown",
   "id": "619c7272-1d36-405d-87d6-f0c585d28b22",
   "metadata": {},
   "source": [
    "- The entry point of the graph will:\n",
    "  - Take a user input topic\n",
    "  - Produce a list of joke topics from it\n",
    "  - Send each joke topic to our above joke generation node\n",
    "- The entry point to the graph has a `jokes` key which will accumulate jokes from parallelized joke generation"
   ]
  },
  {
   "cell_type": "code",
   "execution_count": 134,
   "id": "ab5258ca-d84f-43ec-9d6c-40d5d77cf21d",
   "metadata": {},
   "outputs": [],
   "source": [
    "import operator\n",
    "from typing import Annotated, TypedDict\n",
    "from pydantic import BaseModel\n",
    "\n",
    "class Subjects(BaseModel):\n",
    "    subjects: list[str]\n",
    "\n",
    "class BestJoke(BaseModel):\n",
    "    id: int\n",
    "\n",
    "class OverallState(TypedDict):\n",
    "    topic: str\n",
    "    subjects: list\n",
    "    jokes: Annotated[list, operator.add]\n",
    "    best_selected_joke: str"
   ]
  },
  {
   "cell_type": "code",
   "execution_count": 136,
   "id": "ca22c8e5-2720-4bfa-8bce-cf607c38e93c",
   "metadata": {},
   "outputs": [],
   "source": [
    "def generate_topics(state: OverallState):\n",
    "    prompt = subjects_prompt.format(topic=state[\"topic\"])\n",
    "    response = model.with_structured_output(Subjects).invoke(prompt)\n",
    "    return {\"subjects\": response.subjects}"
   ]
  },
  {
   "cell_type": "code",
   "execution_count": 138,
   "id": "102a77e7-d812-4af4-8f02-8e8fcab2f4cf",
   "metadata": {},
   "outputs": [],
   "source": [
    "from langgraph.constants import Send\n",
    "def continue_to_jokes(state: OverallState):\n",
    "    return [Send(\"generate_joke\", {\"subject\": s}) for s in state[\"subjects\"]]"
   ]
  },
  {
   "cell_type": "markdown",
   "id": "1b0e133f-1346-4958-ab99-538086c4f37c",
   "metadata": {},
   "source": [
    "```python\n",
    "# Send is used to automatically parallelize tasks\n",
    "Send(\"generate_joke\", {\"subject\": s})\n",
    "\n",
    "# \"generate_joke\": the name of the node in the graph\n",
    "# {\"subject\", \"\"}: the state to send\n",
    "```"
   ]
  },
  {
   "cell_type": "markdown",
   "id": "0d613603-76a1-426a-87de-dcac8a409d7f",
   "metadata": {},
   "source": [
    "* `Send` allows you to pass any state. It doesn't have to align with your original state"
   ]
  },
  {
   "cell_type": "markdown",
   "id": "816f492b-2731-44f4-a1dc-5017e721e187",
   "metadata": {},
   "source": [
    "**Joke generation (map)**"
   ]
  },
  {
   "cell_type": "code",
   "execution_count": 143,
   "id": "33063bf4-1b72-4ff0-b08d-21993e1405ae",
   "metadata": {},
   "outputs": [],
   "source": [
    "class JokeState(TypedDict):\n",
    "    subject: str\n",
    "\n",
    "class Joke(BaseModel):\n",
    "    joke: str\n",
    "\n",
    "def generate_joke(state: JokeState):\n",
    "    prompt = joke_prompt.format(subject=state[\"subject\"])\n",
    "    response = model.with_structured_output(Joke).invoke(prompt)\n",
    "    return {\"jokes\": [response.joke]}"
   ]
  },
  {
   "cell_type": "markdown",
   "id": "d9a244b9-600b-4902-a131-e2a9494bcd52",
   "metadata": {},
   "source": [
    "**Best joke selection (reduce)**"
   ]
  },
  {
   "cell_type": "code",
   "execution_count": 146,
   "id": "5d1f8430-82c9-46cf-a4ea-0f8f91ec82e8",
   "metadata": {},
   "outputs": [],
   "source": [
    "def best_joke(state: OverallState):\n",
    "    jokes = \"\\n\\n\".join(state[\"jokes\"])\n",
    "    prompt = best_joke_prompt.format(topic=state[\"topic\"], jokes=jokes)\n",
    "    response = model.with_structured_output(BestJoke).invoke(prompt)\n",
    "    return {\"best_selected_joke\": state[\"jokes\"][response.id]}"
   ]
  },
  {
   "cell_type": "markdown",
   "id": "a59a39df-f544-4c09-a19a-c170440fa473",
   "metadata": {},
   "source": [
    "**Compile**"
   ]
  },
  {
   "cell_type": "code",
   "execution_count": 149,
   "id": "2e30001a-9d91-4609-8b41-b90b904313ed",
   "metadata": {},
   "outputs": [
    {
     "data": {
      "image/png": "[encoded data removed]",
      "text/plain": [
       "<IPython.core.display.Image object>"
      ]
     },
     "execution_count": 149,
     "metadata": {},
     "output_type": "execute_result"
    }
   ],
   "source": [
    "from langgraph.graph import START, END, StateGraph\n",
    "\n",
    "graph = StateGraph(OverallState)\n",
    "graph.add_node(\"generate_topics\", generate_topics)\n",
    "graph.add_node(\"generate_joke\", generate_joke)\n",
    "graph.add_node(\"best_joke\", best_joke)\n",
    "graph.add_edge(START, \"generate_topics\")\n",
    "graph.add_conditional_edges(\"generate_topics\", continue_to_jokes, [\"generate_joke\"])\n",
    "\n",
    "graph.add_edge(\"generate_joke\", \"best_joke\")\n",
    "graph.add_edge(\"best_joke\", END)\n",
    "\n",
    "app = graph.compile()\n",
    "\n",
    "Image(app.get_graph().draw_mermaid_png())"
   ]
  },
  {
   "cell_type": "code",
   "execution_count": 151,
   "id": "8b97c66c-3e9b-4dd9-8d6b-a6a4733d9b9d",
   "metadata": {},
   "outputs": [
    {
     "name": "stdout",
     "output_type": "stream",
     "text": [
      "{'generate_topics': {'subjects': ['mammals', 'birds', 'reptiles']}}\n",
      "{'generate_joke': {'jokes': [\"Why did the mammal cross the road? Because it wasn't a reptile!\"]}}\n",
      "{'generate_joke': {'jokes': ['Why did the bird get a ticket? Because it was caught speeding in a school zone!']}}\n",
      "{'generate_joke': {'jokes': ['Why did the snake cross the road? To get to the other slither!']}}\n",
      "{'best_joke': {'best_selected_joke': \"Why did the mammal cross the road? Because it wasn't a reptile!\"}}\n"
     ]
    }
   ],
   "source": [
    "for s in app.stream({\"topic\": \"animals\"}):\n",
    "    print(s)"
   ]
  },
  {
   "cell_type": "markdown",
   "id": "7531c197-4dc3-4361-a236-8684baaca476",
   "metadata": {},
   "source": [
    "## <span style=\"color:brown\">Research Assistant</span>"
   ]
  },
  {
   "cell_type": "markdown",
   "id": "85c91ea3-dc11-4bec-a9e1-0441f4cbff29",
   "metadata": {},
   "source": [
    "Lets bring all our learnings together to tackle one of AI's most widespread applications: research automation."
   ]
  },
  {
   "cell_type": "markdown",
   "id": "7761ae0e-217a-4a69-81a4-b543829a8495",
   "metadata": {},
   "source": [
    "Customized, LLM-based research and report generation is a promising way for AI systems to play a role in decision-making processes"
   ]
  },
  {
   "cell_type": "markdown",
   "id": "6cb1cfe1-295f-4478-aa45-72f4dde2c2a5",
   "metadata": {},
   "source": [
    "**Goal**\n",
    "\n",
    "Our goal is to build a lightweight, multi-agent system aroung LLMs that optimizes and customizes the research process.\n",
    "\n",
    "`Source selection`\n",
    "\n",
    "* Users can choose any set of input sources for their research\n",
    "\n",
    "`Planning`\n",
    "\n",
    "* Users provide a topic, and the system generates a team of AI analysis, each focusing on sub-topics.\n",
    "* `Human-in-the-loop` will refine these sub-topics before researc begins.\n",
    "\n",
    "`LLM utilization`\n",
    "\n",
    "* Each analyst will conduct in-depth interviews with an expert AI using selected sources.\n",
    "* This will employ multi-turn conversations to extract detailed insights\n",
    "* These interviews will be captured in `sub-graphs`\n",
    "\n",
    "`Research process`\n",
    "\n",
    "* Experts will gather information in `parallel`\n",
    "* All interviews will be conducted simultaneously through `map-reduce`\n",
    "\n",
    "`Output Format`\n",
    "\n",
    "* The gathered insights will be synthesized into a final report\n",
    "* Done using customizable prompts for the report structures"
   ]
  },
  {
   "cell_type": "code",
   "execution_count": 1,
   "id": "77006e1d-a010-44c5-aeea-d9a0a9098e13",
   "metadata": {},
   "outputs": [],
   "source": [
    "from langchain_google_genai import ChatGoogleGenerativeAI\n",
    "from keys import gemini_api_key\n",
    "llm = ChatGoogleGenerativeAI(\n",
    "    model=\"gemini-1.5-flash\",\n",
    "    temperature=0,\n",
    "    google_api_key=gemini_api_key\n",
    ")"
   ]
  },
  {
   "cell_type": "markdown",
   "id": "e21f6b96-7404-48cf-822e-87841341a7e7",
   "metadata": {},
   "source": [
    "### <span style=\"color:green\">Generate Analysts: Human-in-the-loop</span>"
   ]
  },
  {
   "cell_type": "code",
   "execution_count": 3,
   "id": "07e4f63d-bd62-4543-8160-f707f4dfad8c",
   "metadata": {},
   "outputs": [],
   "source": [
    "from typing import List\n",
    "from typing_extensions import TypedDict\n",
    "from pydantic import BaseModel, Field\n",
    "\n",
    "class Analyst(BaseModel):\n",
    "    \"\"\"\n",
    "    Analyst schema.\n",
    "    \"\"\"\n",
    "    name: str = Field(default=\"John Doe\", description=\"Name of the analyst.\")\n",
    "    role: str = Field(default=\"Placeholder professional\", description=\"Role of the analyst in the context of the topic.\")\n",
    "    company: str = Field(default=\"Unknown\", description=\"Primary affiliation of the analyst.\")\n",
    "    summary: str = Field(default=\"Not provided\", description=\"Description of the analyst focus, concers, and motives.\")\n",
    "\n",
    "    @property\n",
    "    def persona(self) -> str:\n",
    "        return f\"Name: {self.name}\\nRole: {self.role}\\nAffiliation: {self.company}\\n Description: {self.summary}\\n\"\n",
    "\n",
    "\n",
    "class Perspectives(BaseModel):\n",
    "    \"\"\"\n",
    "    List of analysts.\n",
    "    \"\"\"\n",
    "    analysts: List[Analyst] = Field(description=\"list of analysts\")\n",
    "\n",
    "\n",
    "class GenerateAnalystsState(TypedDict):\n",
    "    \"\"\"\n",
    "    State for the subgraph.\n",
    "    \"\"\"\n",
    "    topic: str  # Research topic\n",
    "    max_analysts: int  # Number of analysts\n",
    "    human_analyst_feedback: str  # Human feedback\n",
    "    analysts: List[Analyst]  # Analysts asking questions"
   ]
  },
  {
   "cell_type": "code",
   "execution_count": 5,
   "id": "3f5b2842-cc9a-4395-8aa2-d2e9058b9cb4",
   "metadata": {},
   "outputs": [
    {
     "data": {
      "image/png": "[encoded data removed]",
      "text/plain": [
       "<IPython.core.display.Image object>"
      ]
     },
     "metadata": {},
     "output_type": "display_data"
    }
   ],
   "source": [
    "from IPython.display import Image, display\n",
    "from langgraph.graph import START, END, StateGraph\n",
    "from langgraph.checkpoint.memory import MemorySaver\n",
    "from langchain_core.messages import AIMessage, HumanMessage, SystemMessage\n",
    "\n",
    "analyst_instructions = \"\"\"\n",
    "Please create {max_analysts} different analyst personas based on the given topic:\n",
    "{topic}\n",
    "\n",
    "For each persona, include:\n",
    "- Name\n",
    "- Role\n",
    "- Company (where they are from)\n",
    "- Summary (what they focus on, their expertise, etc.. briefly)\n",
    "\n",
    "Feedback from the human about the topic:\n",
    "{human_analyst_feedback}\n",
    "\"\"\"\n",
    "\n",
    "\n",
    "def create_analysts(state: GenerateAnalystsState):\n",
    "    \"\"\"\n",
    "    Create analysts\n",
    "    \"\"\"\n",
    "    topic = state[\"topic\"]\n",
    "    max_analysts = state[\"max_analysts\"]\n",
    "    human_analyst_feedback = state.get(\"human_analyst_feedback\", \"No feedback\")\n",
    "\n",
    "    # System message\n",
    "    system_message = analyst_instructions.format(\n",
    "        topic=topic,\n",
    "        human_analyst_feedback=human_analyst_feedback,\n",
    "        max_analysts=max_analysts\n",
    "    )\n",
    "\n",
    "    # Generate question\n",
    "    analysts = llm.with_structured_output(Perspectives).invoke(\n",
    "        system_message\n",
    "    )\n",
    "\n",
    "    return {\"analysts\": analysts.analysts}\n",
    "\n",
    "\n",
    "def human_feedback(state: GenerateAnalystsState):\n",
    "    \"\"\"\n",
    "    No-op node that should be interrupted on\n",
    "    \"\"\"\n",
    "    pass\n",
    "\n",
    "\n",
    "def should_continue(state: GenerateAnalystsState):\n",
    "    \"\"\"\n",
    "    Returns the next node to execute\n",
    "    \"\"\"\n",
    "\n",
    "    # Check if human feedback\n",
    "    human_analyst_feedback = state.get(\"human_analyst_feedback\", None)\n",
    "    if human_analyst_feedback:\n",
    "        return \"create_analysts\"\n",
    "\n",
    "    # otherwise end\n",
    "    return END\n",
    "\n",
    "\n",
    "builder = StateGraph(GenerateAnalystsState)\n",
    "builder.add_node(\"create_analysts\", create_analysts)\n",
    "builder.add_node(\"human_feedback\", human_feedback)\n",
    "builder.add_edge(START, \"create_analysts\")\n",
    "builder.add_edge(\"create_analysts\", \"human_feedback\")\n",
    "builder.add_conditional_edges(\"human_feedback\", should_continue, [\"create_analysts\", END])\n",
    "\n",
    "memory = MemorySaver()\n",
    "graph = builder.compile(interrupt_before=[\"human_feedback\"], checkpointer=memory)\n",
    "\n",
    "display(Image(graph.get_graph(xray=1).draw_mermaid_png()))"
   ]
  },
  {
   "cell_type": "code",
   "execution_count": 4,
   "id": "64d072bc-cde9-4b93-abe2-5a4fde6ce2ae",
   "metadata": {},
   "outputs": [
    {
     "name": "stdout",
     "output_type": "stream",
     "text": [
      "Name: Dr. Alice\n",
      "Affiliation: Google\n",
      "Role: Senior Research Scientist\n",
      "Description: Focuses on the efficiency and scalability of large language models. Expertise in graph databases and knowledge representation. Interested in the practical applications of LangGraph for complex reasoning tasks.\n",
      "--------------------------------------------------\n",
      "Name: Bob\n",
      "Affiliation: Stanford University\n",
      "Role: PhD Candidate\n",
      "Description: Researching the explainability and trustworthiness of AI agents.  Focuses on the impact of LangGraph on agent transparency and debugging.  Interested in the ethical implications of advanced agent frameworks.\n",
      "--------------------------------------------------\n",
      "Name: Charlie\n",
      "Affiliation: OpenAI\n",
      "Role: Software Engineer\n",
      "Description: Experienced in building and deploying large-scale AI systems.  Focuses on the performance and reliability of LangGraph in real-world applications.  Interested in the integration of LangGraph with existing AI infrastructure.\n",
      "--------------------------------------------------\n"
     ]
    }
   ],
   "source": [
    "max_analysts = 3\n",
    "topic = \"\"\"The benefits of adopting LangGraph as an agent framework\"\"\"\n",
    "thread = {\"configurable\": {\"thread_id\": \"24011\"}}\n",
    "\n",
    "# Run graph untill the first interruption\n",
    "for event in graph.stream(\n",
    "    input={\"topic\": topic, \"max_analysts\": max_analysts},\n",
    "    config=thread,\n",
    "    stream_mode=\"values\"\n",
    "):\n",
    "    analysts = event.get(\"analysts\", \"\")\n",
    "    if analysts:\n",
    "        for analyst in analysts:\n",
    "            print(f\"Name: {analyst.name}\")\n",
    "            print(f\"Affiliation: {analyst.company}\")\n",
    "            print(f\"Role: {analyst.role}\")\n",
    "            print(f\"Description: {analyst.summary}\")\n",
    "            print(\"-\"*50)"
   ]
  },
  {
   "cell_type": "code",
   "execution_count": 5,
   "id": "6974a72e-e056-4ba6-89f3-f60c844b54bb",
   "metadata": {},
   "outputs": [
    {
     "data": {
      "text/plain": [
       "('human_feedback',)"
      ]
     },
     "execution_count": 5,
     "metadata": {},
     "output_type": "execute_result"
    }
   ],
   "source": [
    "state = graph.get_state(thread)\n",
    "state.next"
   ]
  },
  {
   "cell_type": "code",
   "execution_count": 8,
   "id": "c5e135fe-6d4d-4e90-8d2a-892c0cd3eea1",
   "metadata": {},
   "outputs": [
    {
     "data": {
      "text/plain": [
       "{'configurable': {'thread_id': '24011',\n",
       "  'checkpoint_ns': '',\n",
       "  'checkpoint_id': '1efdc706-1229-6108-8002-2b736712586c'}}"
      ]
     },
     "execution_count": 8,
     "metadata": {},
     "output_type": "execute_result"
    }
   ],
   "source": [
    "# we can update the state as if we are the human_feedback node\n",
    "feedback = \"Add in someone from a startup to add some entrepreneur perspective\"\n",
    "graph.update_state(thread, {\"human_analyst_feedback\": feedback}, as_node=\"human_feedback\")"
   ]
  },
  {
   "cell_type": "code",
   "execution_count": 13,
   "id": "4652a436-a61e-4c3e-9bed-acb218683bf2",
   "metadata": {},
   "outputs": [
    {
     "name": "stdout",
     "output_type": "stream",
     "text": [
      "Name: Dr. Alice\n",
      "Affiliation: Google\n",
      "Role: Senior Research Scientist\n",
      "Description: Focuses on the efficiency and scalability of large language models. Expertise in graph databases and knowledge representation. Interested in the practical applications of LangGraph for complex reasoning tasks.\n",
      "--------------------------------------------------\n",
      "Name: Bob\n",
      "Affiliation: Stanford University\n",
      "Role: PhD Candidate\n",
      "Description: Researching the explainability and trustworthiness of AI agents.  Focuses on the impact of LangGraph on agent transparency and debugging.  Interested in the ethical implications of advanced agent frameworks.\n",
      "--------------------------------------------------\n",
      "Name: Charlie\n",
      "Affiliation: OpenAI\n",
      "Role: Software Engineer\n",
      "Description: Experienced in building and deploying large-scale AI systems.  Focuses on the performance and reliability of LangGraph in real-world applications.  Interested in the integration of LangGraph with existing AI infrastructure.\n",
      "--------------------------------------------------\n",
      "Name: Dr. Emily Carter\n",
      "Affiliation: Google\n",
      "Role: Principal Scientist\n",
      "Description: Focuses on the scalability and efficiency of large language models in complex systems. Expertise in distributed computing and graph databases.\n",
      "--------------------------------------------------\n",
      "Name: Professor Michael Bernstein\n",
      "Affiliation: Stanford University\n",
      "Role: Professor of Computer Science\n",
      "Description: Researches the ethical implications of AI and agent systems. Focuses on the societal impact of LangGraph and similar technologies.\n",
      "--------------------------------------------------\n",
      "Name: Alice Johnson\n",
      "Affiliation: LangChainAI\n",
      "Role: CEO and Founder\n",
      "Description: Experienced entrepreneur with a focus on building successful AI-powered businesses.  Interested in the practical applications and market potential of LangGraph.\n",
      "--------------------------------------------------\n"
     ]
    }
   ],
   "source": [
    "# Resume the graph execution\n",
    "# NOTE: im using stream_mode = \"values\" that is why the repeatation\n",
    "for event in graph.stream(None, thread, stream_mode=\"values\"):\n",
    "    analysts = event.get(\"analysts\", \"\")\n",
    "    if analysts:\n",
    "        for analyst in analysts:\n",
    "            print(f\"Name: {analyst.name}\")\n",
    "            print(f\"Affiliation: {analyst.company}\")\n",
    "            print(f\"Role: {analyst.role}\")\n",
    "            print(f\"Description: {analyst.summary}\")\n",
    "            print(\"-\"*50)"
   ]
  },
  {
   "cell_type": "code",
   "execution_count": 15,
   "id": "889cfd02-e89a-40bc-8258-f53af95093d8",
   "metadata": {},
   "outputs": [
    {
     "data": {
      "text/plain": [
       "{'configurable': {'thread_id': '24011',\n",
       "  'checkpoint_ns': '',\n",
       "  'checkpoint_id': '1efdc706-96be-62c6-8004-552fc0657e8b'}}"
      ]
     },
     "execution_count": 15,
     "metadata": {},
     "output_type": "execute_result"
    }
   ],
   "source": [
    "further_feedback = None\n",
    "graph.update_state(thread, {\"human_analyst_feedback\": further_feedback}, as_node=\"human_feedback\")"
   ]
  },
  {
   "cell_type": "code",
   "execution_count": 17,
   "id": "8d5a6127-8403-4ea9-9508-d18d3fc34ef0",
   "metadata": {},
   "outputs": [
    {
     "name": "stdout",
     "output_type": "stream",
     "text": [
      "Name: Dr. Emily Carter\n",
      "Affiliation: Google\n",
      "Role: Principal Scientist\n",
      "Description: Focuses on the scalability and efficiency of large language models in complex systems. Expertise in distributed computing and graph databases.\n",
      "--------------------------------------------------\n",
      "Name: Professor Michael Bernstein\n",
      "Affiliation: Stanford University\n",
      "Role: Professor of Computer Science\n",
      "Description: Researches the ethical implications of AI and agent systems. Focuses on the societal impact of LangGraph and similar technologies.\n",
      "--------------------------------------------------\n",
      "Name: Alice Johnson\n",
      "Affiliation: LangChainAI\n",
      "Role: CEO and Founder\n",
      "Description: Experienced entrepreneur with a focus on building successful AI-powered businesses.  Interested in the practical applications and market potential of LangGraph.\n",
      "--------------------------------------------------\n"
     ]
    }
   ],
   "source": [
    "# NOTE: im using stream_mode = \"values\" that is why the repeatation\n",
    "for event in graph.stream(None, thread, stream_mode=\"values\"):\n",
    "    analysts = event.get(\"analysts\", \"\")\n",
    "    if analysts:\n",
    "        for analyst in analysts:\n",
    "            print(f\"Name: {analyst.name}\")\n",
    "            print(f\"Affiliation: {analyst.company}\")\n",
    "            print(f\"Role: {analyst.role}\")\n",
    "            print(f\"Description: {analyst.summary}\")\n",
    "            print(\"-\"*50)"
   ]
  },
  {
   "cell_type": "code",
   "execution_count": 19,
   "id": "4bc9a266-6d31-4b77-a613-3b974812884c",
   "metadata": {},
   "outputs": [],
   "source": [
    "final_state = graph.get_state(thread)\n",
    "analysts = final_state.values.get(\"analysts\")"
   ]
  },
  {
   "cell_type": "code",
   "execution_count": 21,
   "id": "3673c113-b164-479e-9dfd-f7c5d8d7b770",
   "metadata": {},
   "outputs": [
    {
     "data": {
      "text/plain": [
       "()"
      ]
     },
     "execution_count": 21,
     "metadata": {},
     "output_type": "execute_result"
    }
   ],
   "source": [
    "final_state.next"
   ]
  },
  {
   "cell_type": "code",
   "execution_count": 23,
   "id": "d47bb903-5d56-44a3-8044-95413913cb1d",
   "metadata": {},
   "outputs": [
    {
     "name": "stdout",
     "output_type": "stream",
     "text": [
      "Name: Dr. Emily Carter\n",
      "Affiliation: Google\n",
      "Role: Principal Scientist\n",
      "Description: Focuses on the scalability and efficiency of large language models in complex systems. Expertise in distributed computing and graph databases.\n",
      "--------------------------------------------------\n",
      "Name: Professor Michael Bernstein\n",
      "Affiliation: Stanford University\n",
      "Role: Professor of Computer Science\n",
      "Description: Researches the ethical implications of AI and agent systems. Focuses on the societal impact of LangGraph and similar technologies.\n",
      "--------------------------------------------------\n",
      "Name: Alice Johnson\n",
      "Affiliation: LangChainAI\n",
      "Role: CEO and Founder\n",
      "Description: Experienced entrepreneur with a focus on building successful AI-powered businesses.  Interested in the practical applications and market potential of LangGraph.\n",
      "--------------------------------------------------\n"
     ]
    }
   ],
   "source": [
    "for analyst in analysts:\n",
    "    print(f\"Name: {analyst.name}\")\n",
    "    print(f\"Affiliation: {analyst.company}\")\n",
    "    print(f\"Role: {analyst.role}\")\n",
    "    print(f\"Description: {analyst.summary}\")\n",
    "    print(\"-\"*50)"
   ]
  },
  {
   "cell_type": "markdown",
   "id": "f29e3079-582a-4cfd-b68f-30ca83ca30aa",
   "metadata": {},
   "source": [
    "### <span style=\"color:green\">Conduct Interview</span>"
   ]
  },
  {
   "cell_type": "markdown",
   "id": "fe86d508-fc34-439f-ac7a-102105bc0f51",
   "metadata": {},
   "source": [
    "* The analyst will ask questions"
   ]
  },
  {
   "cell_type": "code",
   "execution_count": 7,
   "id": "f0598bee-e7fa-4a2b-ad0d-8c56e84e446e",
   "metadata": {},
   "outputs": [],
   "source": [
    "import operator\n",
    "from typing import Annotated\n",
    "from langgraph.graph import MessagesState\n",
    "\n",
    "\n",
    "class InterviewState(MessagesState):\n",
    "    max_num_turns: int  # Number of turns of conversation\n",
    "    context: Annotated[list, operator.add]  # Source docs\n",
    "    analyst: Analyst  # Analyst asking questions\n",
    "    interview: str  # Interview transcript\n",
    "    sections: list  # Final key we duplicate in outer state for Send() API\n",
    "\n",
    "class SearchQuery(BaseModel):\n",
    "    search_query: str = Field(None, description=\"Search query for retrieval.\")"
   ]
  },
  {
   "cell_type": "code",
   "execution_count": 9,
   "id": "028996b6-be58-46f0-b3fd-7eec858612f8",
   "metadata": {},
   "outputs": [],
   "source": [
    "question_instructions = \"\"\"\n",
    "You are an analyst tasked with interviewing an expert to learn about a specific topic.\n",
    "Your goal is to boil down interesting and specific insights related to your topic.\n",
    "1. Interesting: Insights that people will find surprising or non-obvious\n",
    "2. Specific: Insights that avoid generalities and include specific examples form the expert.\n",
    "\n",
    "Here is your topic of focus and set of goals: {goals}\n",
    "\n",
    "Begin by introducing yourself using a name that fits your persona, and then ask your question.\n",
    "Continue to ask questions to drill down and refine your understanding of the topic.\n",
    "When you are satisfied with your understanding, complete the interview with: \"Thank you so much for your help!\"\n",
    "\n",
    "Remember to stay in character throughout your response, reflecting the persona and goals provided to you.\n",
    "\"\"\""
   ]
  },
  {
   "cell_type": "code",
   "execution_count": 11,
   "id": "b34e1b3e-b3a2-4d43-a017-e1ac07ea774e",
   "metadata": {},
   "outputs": [],
   "source": [
    "def generate_question(state: InterviewState):\n",
    "    \"\"\"\n",
    "    Node to generate a question\n",
    "    \"\"\"\n",
    "    print(\"Generate question\")\n",
    "    print(\"|\")\n",
    "    print(\"V\")\n",
    "    analyst = state[\"analyst\"]\n",
    "    messages = state[\"messages\"]\n",
    "    sys_msg = question_instructions.format(goals=analyst.persona)\n",
    "    question = llm.invoke([SystemMessage(content=sys_msg)] + messages)\n",
    "\n",
    "    return {\"messages\": [question]}"
   ]
  },
  {
   "cell_type": "markdown",
   "id": "461e3320-f786-4dd7-a28b-19fd24b7569b",
   "metadata": {},
   "source": [
    "### <span style=\"color:green\">Generate answer: Parallelization</span>"
   ]
  },
  {
   "cell_type": "markdown",
   "id": "a8b4f9ca-d5a9-4604-a41e-14b283a82179",
   "metadata": {},
   "source": [
    "* The expert will gather information from multiple sources in parallel\n",
    "* Here, we can use many things:\n",
    "  * Specific websites via `WebBaseLoader`\n",
    "  * Indexed documents\n",
    "  * Web search\n",
    "  * Wikipedia search"
   ]
  },
  {
   "cell_type": "code",
   "execution_count": 13,
   "id": "d10165ab-8e67-4c6f-a2d6-3f6e17750995",
   "metadata": {},
   "outputs": [],
   "source": [
    "from langchain_community.tools import DuckDuckGoSearchResults\n",
    "from langchain_community.document_loaders import WikipediaLoader\n",
    "from langchain_core.messages import get_buffer_string\n",
    "\n",
    "search_engine_search = DuckDuckGoSearchResults(max_results=5, output_format=\"list\")"
   ]
  },
  {
   "cell_type": "code",
   "execution_count": 15,
   "id": "129e466e-f5ed-40d1-b5e3-4cc1aff3f537",
   "metadata": {},
   "outputs": [],
   "source": [
    "search_inst_content = f\"\"\"\n",
    "You will be given a conversation between an analyst and an expert.\n",
    "Your goal is to generate a well-structured query for use in retrieval and / or web-search related to the conversation.\n",
    "First, analyze the full conversation.\n",
    "Pay particular attention to the final question posed by the analyst.\n",
    "Convert this final question into a well-structured web searh query\n",
    "\"\"\"\n",
    "search_instructions = SystemMessage(content=search_inst_content)"
   ]
  },
  {
   "cell_type": "code",
   "execution_count": 17,
   "id": "dfca8403-64db-4bf2-bed4-fcba55881f0a",
   "metadata": {},
   "outputs": [],
   "source": [
    "def search_web(state: InterviewState):\n",
    "    \"\"\"\n",
    "    Retrieve docs from web search\n",
    "    \"\"\"\n",
    "    print(\"Search web\")\n",
    "    print(\"|\")\n",
    "    print(\"V\")\n",
    "    search_query = llm.with_structured_output(SearchQuery).invoke([search_instructions] + state[\"messages\"])\n",
    "\n",
    "    search_docs = search_engine_search.invoke(search_query.search_query)\n",
    "\n",
    "    formatted_search_docs = \"\\n\\n---\\n\\n\".join(\n",
    "        [\n",
    "            f'<Document href=\"{doc[\"link\"]}\"/>\\n{doc[\"snippet\"]}\\n</Document>'\n",
    "            for doc in search_docs\n",
    "        ]\n",
    "    )\n",
    "    return {\"context\": [formatted_search_docs]}\n",
    "\n",
    "\n",
    "\n",
    "def search_wikipedia(state: InterviewState):\n",
    "    \"\"\" Retrieve docs from wikipedia \"\"\"\n",
    "    print(\"Search wiki\")\n",
    "    print(\"|\")\n",
    "    print(\"V\")\n",
    "    search_query = llm.with_structured_output(SearchQuery).invoke([search_instructions] + state[\"messages\"])\n",
    "\n",
    "    search_docs = WikipediaLoader(query=search_query.search_query, load_max_docs=2).load()\n",
    "\n",
    "    formatted_search_docs = \"\\n\\n---\\n\\n\".join(\n",
    "        [\n",
    "            f'<Document source=\"{doc.metadata[\"source\"]}\" page=\"{doc.metadata.get(\"page\", \"\")}\"/>\\n{doc.page_content}\\n</Document>'\n",
    "            for doc in search_docs\n",
    "        ]\n",
    "    )\n",
    "\n",
    "    return {\"context\": [formatted_search_docs]}"
   ]
  },
  {
   "cell_type": "code",
   "execution_count": 19,
   "id": "67f8e9a0-6880-4bb4-9ac1-2395ca0eaf66",
   "metadata": {},
   "outputs": [],
   "source": [
    "answer_instruct_content = \"\"\"\n",
    "You are an expert being interviewed by an analyst. Here is the analyst area of focus:\n",
    "{goals}\n",
    "\n",
    "Your goal is to answer a question posed by the interviwer. To answer question, use this context:\n",
    "{context}\n",
    "\n",
    "When answering questions, follow these guidelines:\n",
    "1. Use only the information provided in the context.\n",
    "2. Do not introduce external information or make assumptions beyond what is explicitly state in the context.\n",
    "3. The context contain sources at the topic of each individual document.\n",
    "4. Include these sources of your answer next to any relevant statements. For example, for source # 1 use [1]. \n",
    "5. List your sources in order at the bottom of your answer. [1] Source 1, [2] Source 2, etc\n",
    "6. If the source is: <Document source=\"assistant/docs/llama3_1.pdf\" page=\"7\"/>' then just list: \n",
    "[1] assistant/docs/llama3_1.pdf, page 7 \n",
    "\n",
    "And skip the addition of the brackets as well as the Document source preamble in your citation.\n",
    "\"\"\""
   ]
  },
  {
   "cell_type": "code",
   "execution_count": 21,
   "id": "49696cb8-370a-44df-b88d-6ea972b1fe45",
   "metadata": {},
   "outputs": [],
   "source": [
    "def generate_answer(state: InterviewState):\n",
    "    \"\"\"\n",
    "    Node to answer a question\n",
    "    \"\"\"\n",
    "    print(\"Generate answer\")\n",
    "    print(\"|\")\n",
    "    print(\"V\")\n",
    "    analyst = state[\"analyst\"]\n",
    "    messages = state[\"messages\"]\n",
    "    context = state[\"context\"]\n",
    "\n",
    "    sys_msg = answer_instruct_content.format(goals=analyst.persona, context=context)\n",
    "    answer = llm.invoke([SystemMessage(content=sys_msg)] + messages)\n",
    "\n",
    "    answer.name = \"expert\"\n",
    "    return {\"messages\": [answer]}\n",
    "\n",
    "\n",
    "def save_interview(state: InterviewState):\n",
    "    \"\"\"\n",
    "    Save interviews\n",
    "    \"\"\"\n",
    "    print(\"Save interview\")\n",
    "    print(\"|\")\n",
    "    print(\"V\")\n",
    "    messages = state[\"messages\"]\n",
    "    interview = get_buffer_string(messages)\n",
    "    return {\"interview\": interview}\n",
    "\n",
    "\n",
    "def route_messages(state: InterviewState, name: str = \"expert\"):\n",
    "    \"\"\"\n",
    "    Route between question and answer\n",
    "    \"\"\"\n",
    "    messages = state[\"messages\"]\n",
    "    max_num_turns = state.get(\"max_num_turns\", 2)\n",
    "\n",
    "    num_responses = len(\n",
    "        [m for m in messages if isinstance(m, AIMessage) and m.name == name]\n",
    "    )\n",
    "\n",
    "    if num_responses == max_num_turns:\n",
    "        return \"save_interview\"\n",
    "\n",
    "    last_question = messages[-2]\n",
    "\n",
    "    if \"Thank you so much for your help\" in last_question.content:\n",
    "        return \"save_interview\"\n",
    "\n",
    "    return \"ask_question\""
   ]
  },
  {
   "cell_type": "markdown",
   "id": "25059466-1f99-4488-9800-2a1acd1c1ac3",
   "metadata": {},
   "source": [
    "### <span style=\"color:green\">Write report</span>"
   ]
  },
  {
   "cell_type": "code",
   "execution_count": 23,
   "id": "48403116-b664-4757-aa08-5949915f86f4",
   "metadata": {},
   "outputs": [],
   "source": [
    "section_writer_instructions = \"\"\"\n",
    "You are an expert technical writer. \n",
    "Your task is to create a short, easily digestible section of a report based on a set of source documents.\n",
    "\n",
    "1. Analyze the content of the source documents:\n",
    "- The name of each source document is at the start of the document, with the <Document tag.\n",
    "\n",
    "2. Create a report structure using markdown formatting:\n",
    "- Use ## for the section title\n",
    "- Use ### for sub-section headers\n",
    "\n",
    "3. Write the report following this structure:\n",
    "a. Title (## header)\n",
    "b. Summary (### header)\n",
    "c. Sources (### header)\n",
    "\n",
    "4. Make your title engaging based upon the focus area of the analyst: \n",
    "{focus}\n",
    "\n",
    "5. For the summary section:\n",
    "- Set up summary with general background / context related to the focus area of the analyst\n",
    "- Emphasize what is novel, interesting, or surprising about insights gathered from the interview\n",
    "- Create a numbered list of source documents, as you use them\n",
    "- Do not mention the names of interviewers or experts\n",
    "- Aim for approximately 400 words maximum\n",
    "- Use numbered sources in your report (e.g., [1], [2]) based on information from source documents\n",
    "\n",
    "6. In the Sources section:\n",
    "- Include all sources used in your report\n",
    "- Provide full links to relevant websites or specific document paths\n",
    "- Separate each source by a newline. Use two spaces at the end of each line to create a newline in Markdown.\n",
    "- It will look like:\n",
    "### Sources\n",
    "[1] Link or Document name\n",
    "[2] Link or Document name\n",
    "\n",
    "7. Be sure to combine sources. For example this is not correct:\n",
    "[3] https://ai.meta.com/blog/meta-llama-3-1/\n",
    "[4] https://ai.meta.com/blog/meta-llama-3-1/\n",
    "\n",
    "There should be no redundant sources. It should simply be:\n",
    "[3] https://ai.meta.com/blog/meta-llama-3-1/\n",
    "\n",
    "8. Final review:\n",
    "- Ensure the report follows the required structure\n",
    "- Include no preamble before the title of the report\n",
    "- Check that all guidelines have been followed\n",
    "\"\"\""
   ]
  },
  {
   "cell_type": "code",
   "execution_count": 25,
   "id": "9450670c-2769-4a80-8b97-eb7ab7d0641e",
   "metadata": {},
   "outputs": [],
   "source": [
    "def write_section(state: InterviewState):\n",
    "    print(\"Write section\")\n",
    "    print(\"-----------------\")\n",
    "    \"\"\"\n",
    "    Node to answer a question\n",
    "    \"\"\"\n",
    "    interview = state[\"interview\"]\n",
    "    context = state[\"context\"]\n",
    "    analyst = state[\"analyst\"]\n",
    "\n",
    "    sys_msg = section_writer_instructions.format(focus=analyst.summary)\n",
    "    hum_msg = f\"Use this source to write your section: {context}\"\n",
    "    msgs = [SystemMessage(content=sys_msg), HumanMessage(content=hum_msg)]\n",
    "    section = llm.invoke(msgs)\n",
    "\n",
    "    return {\"sections\": [section.content]}"
   ]
  },
  {
   "cell_type": "markdown",
   "id": "8809f2b6-656c-412a-a53f-17c966d47e2d",
   "metadata": {},
   "source": [
    "### <span style=\"color:green\">Build the graph</span>"
   ]
  },
  {
   "cell_type": "code",
   "execution_count": 27,
   "id": "095455b8-4af8-4d33-b16b-8655d4c944ee",
   "metadata": {},
   "outputs": [
    {
     "data": {
      "image/png": "[encoded data removed]",
      "text/plain": [
       "<IPython.core.display.Image object>"
      ]
     },
     "metadata": {},
     "output_type": "display_data"
    }
   ],
   "source": [
    "builder = StateGraph(InterviewState)\n",
    "\n",
    "builder.add_node(\"ask_question\", generate_question)\n",
    "builder.add_node(\"search_web\", search_web)\n",
    "builder.add_node(\"search_wikipedia\", search_wikipedia)\n",
    "builder.add_node(\"answer_question\", generate_answer)\n",
    "builder.add_node(\"save_interview\", save_interview)\n",
    "builder.add_node(\"write_section\", write_section)\n",
    "\n",
    "builder.add_edge(START, \"ask_question\")\n",
    "builder.add_edge(\"ask_question\", \"search_web\")\n",
    "builder.add_edge(\"ask_question\", \"search_wikipedia\")\n",
    "builder.add_edge(\"search_web\", \"answer_question\")\n",
    "builder.add_edge(\"search_wikipedia\", \"answer_question\")\n",
    "builder.add_edge(\"save_interview\", \"write_section\")\n",
    "builder.add_edge(\"write_section\", END)\n",
    "builder.add_conditional_edges(\"answer_question\", route_messages, [\"ask_question\", \"save_interview\"])\n",
    "\n",
    "memory = MemorySaver()\n",
    "graph = builder.compile(checkpointer=memory).with_config(run_name=\"Conduct Interviews\")\n",
    "\n",
    "display(Image(graph.get_graph(xray=1).draw_mermaid_png()))"
   ]
  },
  {
   "cell_type": "code",
   "execution_count": 154,
   "id": "4b2876de-3388-4571-bbb8-888a4fab5bd6",
   "metadata": {},
   "outputs": [
    {
     "data": {
      "text/plain": [
       "Analyst(name='Dr. Emily Carter', role='Principal Scientist', company='Google', summary='Focuses on the scalability and efficiency of large language models in complex systems. Expertise in distributed computing and graph databases.')"
      ]
     },
     "execution_count": 154,
     "metadata": {},
     "output_type": "execute_result"
    }
   ],
   "source": [
    "analysts[0]"
   ]
  },
  {
   "cell_type": "code",
   "execution_count": 166,
   "id": "c14f77c4-7123-40fd-aea4-13618b85e4c9",
   "metadata": {},
   "outputs": [
    {
     "name": "stdout",
     "output_type": "stream",
     "text": [
      "Generate question\n",
      "|\n",
      "V\n",
      "Search web\n",
      "|\n",
      "V\n",
      "Search wiki\n",
      "|\n",
      "V\n",
      "Generate answer\n",
      "|\n",
      "V\n",
      "Save interview\n",
      "|\n",
      "V\n",
      "Write section\n",
      "-----------------\n"
     ]
    },
    {
     "data": {
      "text/markdown": [
       "## Scaling Language Models: Efficiency and Complexity in Distributed Systems\n",
       "\n",
       "### Summary\n",
       "\n",
       "Large language models (LLMs) are rapidly evolving, pushing the boundaries of natural language processing.  However, their scalability and efficiency, particularly within complex systems, remain significant challenges.  This report summarizes insights gathered from recent discussions focusing on the intersection of distributed computing, graph databases, and LLM optimization.  A key area of interest is how to effectively manage the computational and storage demands of these models as they grow in size and complexity.  The current trend towards ever-larger models necessitates innovative solutions for distributed training and inference, moving beyond simple data parallelism.\n",
       "\n",
       "One surprising insight highlights the potential of graph databases to enhance LLM performance.  By representing contextual information and relationships within a graph structure, we can potentially optimize both training and inference processes.  This approach offers a more nuanced understanding of semantic relationships, leading to improved accuracy and reduced computational overhead.  Furthermore, the inherent scalability of graph databases could address the limitations of traditional relational databases when dealing with the massive datasets required for training LLMs.  This suggests a shift towards hybrid architectures, combining the strengths of distributed computing frameworks with the semantic richness of graph databases.  The potential for significant efficiency gains through this approach is particularly noteworthy, especially considering the exponential growth in model parameters.  Another interesting finding emphasizes the importance of model compression techniques.  Reducing the size of the model without sacrificing performance is crucial for deploying LLMs on resource-constrained devices and improving overall efficiency.  This includes exploring quantization, pruning, and knowledge distillation methods.  The combination of graph database integration and model compression techniques offers a promising pathway towards more efficient and scalable LLMs.\n",
       "\n",
       "\n",
       "1.  The discussions revealed a significant gap in current research regarding the optimal integration of graph databases and distributed computing frameworks for LLM training and inference. [1]\n",
       "2.  Experts emphasized the need for more research into novel model compression techniques tailored to the specific characteristics of LLMs. [2]\n",
       "\n",
       "\n",
       "### Sources\n",
       "\n",
       "[1]  Internal Research Discussion  (Access Restricted)  \n",
       "[2]  Internal Research Discussion  (Access Restricted)"
      ],
      "text/plain": [
       "<IPython.core.display.Markdown object>"
      ]
     },
     "execution_count": 166,
     "metadata": {},
     "output_type": "execute_result"
    }
   ],
   "source": [
    "from IPython.display import Markdown\n",
    "messages = [HumanMessage(f\"So you said you were writing an article on {topic}\")]\n",
    "thread = {\"configurable\": {\"thread_id\": \"2025\"}}\n",
    "interview = graph.invoke(\n",
    "    {\n",
    "        \"analyst\": analysts[0],\n",
    "        \"messages\": messages,\n",
    "        \"max_num_turns\": 1\n",
    "    },\n",
    "    thread\n",
    ")\n",
    "Markdown(interview[\"sections\"][0])"
   ]
  },
  {
   "cell_type": "markdown",
   "id": "6139817e-a00c-41b5-ac25-7ba99d3dc1bb",
   "metadata": {},
   "source": [
    "### <span style=\"color:green\">Parallelize interviews</span>"
   ]
  },
  {
   "cell_type": "markdown",
   "id": "dadc7203-92d4-4d08-961e-26c2106225fc",
   "metadata": {},
   "source": [
    "* Map: We parallelize the interviews via the `Send()` API\n",
    "* Reduce: We combine them into the report body in a reduce step"
   ]
  },
  {
   "cell_type": "code",
   "execution_count": 29,
   "id": "f5250ad7-8984-460d-8c3e-8fdc6c66d3b0",
   "metadata": {},
   "outputs": [],
   "source": [
    "import operator\n",
    "from typing import List, Annotated\n",
    "from typing_extensions import TypedDict\n",
    "\n",
    "# Overall graph state\n",
    "class ResearchGraphState(TypedDict):\n",
    "    topic: str  # Research topic\n",
    "    max_analysts: int  # Number of analysts\n",
    "    human_analyst_feedback: str  # Human feedback\n",
    "    analysts: List[Analyst]  # Analyst asking questions\n",
    "    sections: Annotated[list, operator.add]  # Send() API's results\n",
    "    introduction: str  # Introduction for the final report\n",
    "    content: str  # Content for the final report\n",
    "    conclusion: str  # Conclusion for the report\n",
    "    final_report: str  # Final report"
   ]
  },
  {
   "cell_type": "code",
   "execution_count": 31,
   "id": "ddc811b3-f80a-415f-8ec4-12a316995d1c",
   "metadata": {},
   "outputs": [],
   "source": [
    "from langgraph.constants import Send\n",
    "sub_graph1 = \"conduct interviews\"\n",
    "def initiate_all_interviews(state: ResearchGraphState):\n",
    "    \"\"\"\n",
    "    This is the \"map\" step where we run each interview sub-graph using Send API\n",
    "    \"\"\"\n",
    "\n",
    "    human_analyst_feedback = state.get(\"human_analyst_feedback\")\n",
    "    if human_analyst_feedback:\n",
    "        return \"create analysts\"\n",
    "    else:\n",
    "        topic = state[\"topic\"]\n",
    "        return [\n",
    "            Send(\n",
    "                sub_graph1,\n",
    "                {\n",
    "                    \"analyst\": analyst,\n",
    "                    \"topic\": topic,\n",
    "                    \"messages\": [HumanMessage(\n",
    "                        content=f\"So you said you were writing an article on {topic}?\"\n",
    "                    )]\n",
    "                }\n",
    "            ) for analyst in state[\"analysts\"]\n",
    "        ]"
   ]
  },
  {
   "cell_type": "code",
   "execution_count": 33,
   "id": "1046c3db-6ce2-4c48-afc0-df5f96cb6478",
   "metadata": {},
   "outputs": [],
   "source": [
    "report_writer_instructions = \"\"\"\n",
    "You are a technical writer creating a report on this overall topic: \n",
    "\n",
    "{topic}\n",
    "\n",
    "You have a team of analysts. Each analyst has done two things:\n",
    "\n",
    "1. They conducted an interview with an expert on a specific sub-topic.\n",
    "2. They write up their finding into a memo.\n",
    "\n",
    "Your task:\n",
    "\n",
    "1. You will be given a collection of memos from your analysts.\n",
    "2. Think carefully about the insights from each memo.\n",
    "3. Consolidate these into a crisp overall summary that ties together the central ideas from all of the memos. \n",
    "4. Summarize the central points in each memo into a cohesive single narrative.\n",
    "\n",
    "To format your report:\n",
    "\n",
    "1. Use markdown formatting.\n",
    "2. Include no pre-amble for the report.\n",
    "3. Use no sub-heading.\n",
    "4. Start your report with a single title header: ## Insights\n",
    "5. Do not mention any analyst names in your report.\n",
    "6. Preserve any citations in the memos, which will be annotated in brackets, for example [1] or [2].\n",
    "7. Create a final, consolidated list of sources and add to a Sources section with the `## Sources` header.\n",
    "8. List your sources in order and do not repeat.\n",
    "\n",
    "[1] Source 1\n",
    "[2] Source 2\n",
    "\n",
    "Here are the memos from your analysts to build your report from:\n",
    "\n",
    "{context}\n",
    "\"\"\""
   ]
  },
  {
   "cell_type": "code",
   "execution_count": 35,
   "id": "a82d9d68-e611-42bd-aaa4-99c71972c280",
   "metadata": {},
   "outputs": [],
   "source": [
    "def write_report(state: ResearchGraphState):\n",
    "    sections = state[\"sections\"]\n",
    "    topic = state[\"topic\"]\n",
    "\n",
    "    formatted_str_sections = \"\\n\\n\".join([f\"{section}\" for section in sections])\n",
    "\n",
    "    sys_msg = report_writer_inst.format(topic=topic, context=formatted_str_sections)\n",
    "    hum_msg = f\"Write a report based upon these memos.\"\n",
    "    report = llm.invoke([SystemMessage(content=sys_msg), HumanMessage(content=hum_msg)])\n",
    "    return {\"content\": report.content}"
   ]
  },
  {
   "cell_type": "code",
   "execution_count": 37,
   "id": "d9ca7de9-e543-496b-9a6a-4eb3c7300ef4",
   "metadata": {},
   "outputs": [],
   "source": [
    "intro_conclusion_instructions = \"\"\"\n",
    "You are a technical writer finishing a report on {topic}\n",
    "You will be given all of the sections of the report.\n",
    "You job is to write a crisp and compelling introduction or conclusion section.\n",
    "The user will instruct you whether to write the introduction or conclusion.\n",
    "Include no pre-amble for either section.\n",
    "Target around 100 words, crisply previewing (for introduction) or recapping (for conclusion) all of the sections of the report.\n",
    "Use markdown formatting.\n",
    "For your introduction, create a compelling title and use the # header for the title.\n",
    "For your sources, use ## Sources as the section header.\n",
    "For your conclusion, use ## Conclusion as the section header.\n",
    "\n",
    "Here are the sections to reflect on for writing: {formatted_str_sections}\"\"\""
   ]
  },
  {
   "cell_type": "code",
   "execution_count": 39,
   "id": "6580eb5d-c5e4-4753-b5db-b4c9ac596354",
   "metadata": {},
   "outputs": [],
   "source": [
    "def write_introduction(state: ResearchGraphState):\n",
    "    sections = state[\"sections\"]\n",
    "    topic = state[\"topic\"]\n",
    "\n",
    "    formatted_str_sections = \"\\n\\n\".join([f\"{section}\" for section in sections])\n",
    "\n",
    "    sys_msg = intro_conclusion_instructions.format(topic=topic, formatted_str_sections=formatted_str_sections)\n",
    "    hum_msg = \"Write the report introduction\"\n",
    "    report = llm.invoke([SystemMessage(content=sys_msg), HumanMessage(content=hum_msg)])\n",
    "    return {\"introduction\": intro.content}\n",
    "\n",
    "\n",
    "def write_conclusion(state: ResearchGraphState):\n",
    "    sections = state[\"sections\"]\n",
    "    topic = state[\"topic\"]\n",
    "\n",
    "    formatted_str_sections = \"\\n\\n\".join([f\"{section}\" for section in sections])\n",
    "\n",
    "    sys_msg = intro_conclusion_instructions.format(topic=topic, formatted_str_sections=formatted_str_sections)\n",
    "    hum_msg = \"Write the report conclusion\"\n",
    "    instructions = intro_conclusion_instructions.format(topic=topic, formatted_str_sections=formatted_str_sections)    \n",
    "    conclusion = llm.invoke([SystemMessage(content=sys_msg), HumanMessage(content=hum_msg)])\n",
    "    return {\"conclusion\": conclusion.content}"
   ]
  },
  {
   "cell_type": "code",
   "execution_count": 41,
   "id": "d51717fe-81b7-4510-b8db-ab656ded8a9e",
   "metadata": {},
   "outputs": [],
   "source": [
    "def finalize_report(state: ResearchGraphState):\n",
    "    content = state[\"content\"]\n",
    "    if content.startswith(\"## Insights\"):\n",
    "        content = content.strip(\"## Insights\")\n",
    "\n",
    "    if \"## Sources\" in content:\n",
    "        try:\n",
    "            content, sources = content.split(\"\\n## Sources\\n\")\n",
    "        except:\n",
    "            sources = None\n",
    "    else:\n",
    "        sources = None\n",
    "\n",
    "    final_report = state[\"introduction\"] + \"\\n\\n---\\n\\n\" + content + \"\\n\\n---\\n\\n\" + state[\"conclusion\"]\n",
    "    if sources is not None:\n",
    "        final_report += \"\\n\\n## Sources\\n\" + sources\n",
    "\n",
    "    return {\"final_report\": final_report}"
   ]
  },
  {
   "cell_type": "code",
   "execution_count": 43,
   "id": "cd985650-c0c1-4d1b-bc07-38d7e6c440dc",
   "metadata": {},
   "outputs": [
    {
     "data": {
      "image/png": "[encoded data removed]",
      "text/plain": [
       "<IPython.core.display.Image object>"
      ]
     },
     "metadata": {},
     "output_type": "display_data"
    }
   ],
   "source": [
    "workflow = StateGraph(ResearchGraphState)\n",
    "workflow.add_node(\"human feedback\", human_feedback)\n",
    "workflow.add_node(\"create analysts\", create_analysts)\n",
    "workflow.add_node(sub_graph1, builder.compile())\n",
    "workflow.add_node('write introduction', write_introduction)\n",
    "workflow.add_node('write report', write_report)\n",
    "workflow.add_node('write conclusion', write_conclusion)\n",
    "workflow.add_node('finalize report', finalize_report)\n",
    "\n",
    "workflow.add_edge(START, \"create analysts\")\n",
    "workflow.add_edge(\"create analysts\", \"human feedback\")\n",
    "workflow.add_conditional_edges(\"human feedback\", initiate_all_interviews, [\"create analysts\", sub_graph1])\n",
    "workflow.add_edge(sub_graph1, \"write report\")\n",
    "workflow.add_edge(sub_graph1, \"write introduction\")\n",
    "workflow.add_edge(sub_graph1, \"write conclusion\")\n",
    "workflow.add_edge([\"write report\", \"write introduction\", \"write conclusion\"], \"finalize report\")\n",
    "workflow.add_edge(\"finalize report\", END)\n",
    "\n",
    "memory = MemorySaver()\n",
    "full_graph = workflow.compile(interrupt_before=[\"human feedback\"], checkpointer=memory)\n",
    "display(Image(full_graph.get_graph(xray=1).draw_mermaid_png()))"
   ]
  },
  {
   "cell_type": "code",
   "execution_count": 45,
   "id": "a194b190-0215-4c42-a8ff-411890b43de7",
   "metadata": {},
   "outputs": [
    {
     "name": "stdout",
     "output_type": "stream",
     "text": [
      "Name: Dr. Anya Petrova\n",
      "Affiliation: OpenAI\n",
      "Role: AI Safety Researcher\n",
      "Description: Focuses on the long-term risks of advanced AI, particularly the potential for unintended consequences and existential threats. Expertise in AI alignment and control problems.\n",
      "--------------------------------------------------\n",
      "Name: Dr. Ben Carter\n",
      "Affiliation: Future of Humanity Institute\n",
      "Role: Philosopher and AI Ethicist\n",
      "Description: Examines the ethical implications of superintelligent AI, exploring questions of moral responsibility, value alignment, and the potential impact on human society.  Expertise in philosophy of technology and ethics.\n",
      "--------------------------------------------------\n",
      "Name: Dr. Chen Li\n",
      "Affiliation: Google DeepMind\n",
      "Role: AI Systems Engineer\n",
      "Description: Focuses on the technical challenges of building and controlling highly advanced AI systems. Expertise in large language models, reinforcement learning, and AI scalability.\n",
      "--------------------------------------------------\n"
     ]
    }
   ],
   "source": [
    "max_analysts = 3\n",
    "topic = \"\"\"The possiblity of AI becoming Superintelligent.\"\"\"\n",
    "thread = {\"configurable\": {\"thread_id\": \"1\"}}\n",
    "\n",
    "for event in full_graph.stream({\"topic\": topic, \"max_analysts\": max_analysts}, thread, stream_mode=\"values\"):\n",
    "    analysts = event.get(\"analysts\", \"\")\n",
    "    if analysts:\n",
    "        for analyst in analysts:\n",
    "            print(f\"Name: {analyst.name}\")\n",
    "            print(f\"Affiliation: {analyst.company}\")\n",
    "            print(f\"Role: {analyst.role}\")\n",
    "            print(f\"Description: {analyst.summary}\")\n",
    "            print(\"-\"*50)"
   ]
  },
  {
   "cell_type": "code",
   "execution_count": 47,
   "id": "67de2c08-8252-43fe-88ed-3e4ddcd205c8",
   "metadata": {},
   "outputs": [
    {
     "data": {
      "text/plain": [
       "{'configurable': {'thread_id': '1',\n",
       "  'checkpoint_ns': '',\n",
       "  'checkpoint_id': '1efdc85f-19b3-6b00-8002-6294aa982cf4'}}"
      ]
     },
     "execution_count": 47,
     "metadata": {},
     "output_type": "execute_result"
    }
   ],
   "source": [
    "full_graph.update_state(\n",
    "    thread,\n",
    "    {\"human_analyst_feedback\": \"Add in the CEO of gen ai native startup\"},\n",
    "    as_node=\"human feedback\"\n",
    ")"
   ]
  },
  {
   "cell_type": "code",
   "execution_count": 49,
   "id": "2ce5622b-cb2c-4d17-853f-f81a98225ba2",
   "metadata": {},
   "outputs": [
    {
     "name": "stdout",
     "output_type": "stream",
     "text": [
      "Name: Dr. Anya Petrova\n",
      "Affiliation: OpenAI\n",
      "Role: AI Safety Researcher\n",
      "Description: Focuses on the long-term risks of advanced AI, particularly the potential for unintended consequences and existential threats. Expertise in AI alignment and control problems.\n",
      "--------------------------------------------------\n",
      "Name: Dr. Ben Carter\n",
      "Affiliation: Future of Humanity Institute\n",
      "Role: Philosopher and AI Ethicist\n",
      "Description: Examines the ethical implications of superintelligent AI, exploring questions of moral responsibility, value alignment, and the potential impact on human society.  Expertise in philosophy of technology and ethics.\n",
      "--------------------------------------------------\n",
      "Name: Dr. Chen Li\n",
      "Affiliation: Google DeepMind\n",
      "Role: AI Systems Engineer\n",
      "Description: Focuses on the technical challenges of building and controlling highly advanced AI systems. Expertise in large language models, reinforcement learning, and AI scalability.\n",
      "--------------------------------------------------\n",
      "Name: Dr. Anya Petrova\n",
      "Affiliation: OpenAI\n",
      "Role: Lead AI Safety Researcher\n",
      "Description: Focuses on the long-term risks of advanced AI, particularly existential risks. Expertise in AI alignment and control problems.\n",
      "--------------------------------------------------\n",
      "Name: Dr. Jian Li\n",
      "Affiliation: DeepMind\n",
      "Role: Principal Research Scientist\n",
      "Description: Studies the theoretical limits of AI capabilities and the potential for superintelligence.  Expertise in AI scalability and resource requirements.\n",
      "--------------------------------------------------\n",
      "Name: Ms. Evelyn Reed\n",
      "Affiliation: Gen AI Native Startup\n",
      "Role: CEO\n",
      "Description: Focuses on the business and market implications of superintelligent AI. Expertise in AI commercialization and investment strategies.\n",
      "--------------------------------------------------\n"
     ]
    }
   ],
   "source": [
    "for event in full_graph.stream(None, thread, stream_mode=\"values\"):\n",
    "    analysts = event.get(\"analysts\", \"\")\n",
    "    if analysts:\n",
    "        for analyst in analysts:\n",
    "            print(f\"Name: {analyst.name}\")\n",
    "            print(f\"Affiliation: {analyst.company}\")\n",
    "            print(f\"Role: {analyst.role}\")\n",
    "            print(f\"Description: {analyst.summary}\")\n",
    "            print(\"-\"*50)"
   ]
  },
  {
   "cell_type": "code",
   "execution_count": 51,
   "id": "a79155ba-914c-4b84-abc1-8127586e9bec",
   "metadata": {},
   "outputs": [
    {
     "data": {
      "text/plain": [
       "{'configurable': {'thread_id': '1',\n",
       "  'checkpoint_ns': '',\n",
       "  'checkpoint_id': '1efdc85f-cde0-62c6-8004-511cbbcb920e'}}"
      ]
     },
     "execution_count": 51,
     "metadata": {},
     "output_type": "execute_result"
    }
   ],
   "source": [
    "full_graph.update_state(\n",
    "    thread,\n",
    "    {\"human_analyst_feedback\": None},\n",
    "    as_node=\"human feedback\"\n",
    ")"
   ]
  },
  {
   "cell_type": "code",
   "execution_count": 53,
   "id": "85b66db0-165c-4e60-9fb9-28e0e464f616",
   "metadata": {},
   "outputs": [
    {
     "name": "stdout",
     "output_type": "stream",
     "text": [
      "Generate question\n",
      "|\n",
      "V\n",
      "Generate question\n",
      "|\n",
      "V\n",
      "Generate question\n",
      "|\n",
      "V\n",
      "Search web\n",
      "|\n",
      "V\n",
      "Search wiki\n",
      "|\n",
      "V\n",
      "Search web\n",
      "|\n",
      "V\n",
      "Search wiki\n",
      "|\n",
      "V\n",
      "Search web\n",
      "|\n",
      "V\n",
      "Search wiki\n",
      "|\n",
      "V\n"
     ]
    },
    {
     "ename": "DuckDuckGoSearchException",
     "evalue": "https://links.duckduckgo.com/d.js?q=%22most+underestimated+aspect+of+the+transition+to+superintelligent+AI+from+a+business+perspective%22&kl=wt-wt&l=wt-wt&p=&s=0&df=y&vqd=4-86141918571744139219541697319044016543&bing_market=wt-WT&ex=-1 202 Ratelimit",
     "output_type": "error",
     "traceback": [
      "\u001b[1;31m---------------------------------------------------------------------------\u001b[0m",
      "\u001b[1;31mDuckDuckGoSearchException\u001b[0m                 Traceback (most recent call last)",
      "Cell \u001b[1;32mIn[53], line 1\u001b[0m\n\u001b[1;32m----> 1\u001b[0m \u001b[38;5;28;01mfor\u001b[39;00m event \u001b[38;5;129;01min\u001b[39;00m full_graph\u001b[38;5;241m.\u001b[39mstream(\u001b[38;5;28;01mNone\u001b[39;00m, thread, stream_mode\u001b[38;5;241m=\u001b[39m\u001b[38;5;124m\"\u001b[39m\u001b[38;5;124mupdates\u001b[39m\u001b[38;5;124m\"\u001b[39m):\n\u001b[0;32m      2\u001b[0m     \u001b[38;5;28mprint\u001b[39m(\u001b[38;5;124m\"\u001b[39m\u001b[38;5;124m--Node--\u001b[39m\u001b[38;5;124m\"\u001b[39m)\n\u001b[0;32m      3\u001b[0m     node_name \u001b[38;5;241m=\u001b[39m \u001b[38;5;28mnext\u001b[39m(\u001b[38;5;28miter\u001b[39m(event\u001b[38;5;241m.\u001b[39mkeys()))\n",
      "File \u001b[1;32m~\\anaconda3\\Lib\\site-packages\\langgraph\\pregel\\__init__.py:1660\u001b[0m, in \u001b[0;36mPregel.stream\u001b[1;34m(self, input, config, stream_mode, output_keys, interrupt_before, interrupt_after, debug, subgraphs)\u001b[0m\n\u001b[0;32m   1654\u001b[0m     \u001b[38;5;66;03m# Similarly to Bulk Synchronous Parallel / Pregel model\u001b[39;00m\n\u001b[0;32m   1655\u001b[0m     \u001b[38;5;66;03m# computation proceeds in steps, while there are channel updates\u001b[39;00m\n\u001b[0;32m   1656\u001b[0m     \u001b[38;5;66;03m# channel updates from step N are only visible in step N+1\u001b[39;00m\n\u001b[0;32m   1657\u001b[0m     \u001b[38;5;66;03m# channels are guaranteed to be immutable for the duration of the step,\u001b[39;00m\n\u001b[0;32m   1658\u001b[0m     \u001b[38;5;66;03m# with channel updates applied only at the transition between steps\u001b[39;00m\n\u001b[0;32m   1659\u001b[0m     \u001b[38;5;28;01mwhile\u001b[39;00m loop\u001b[38;5;241m.\u001b[39mtick(input_keys\u001b[38;5;241m=\u001b[39m\u001b[38;5;28mself\u001b[39m\u001b[38;5;241m.\u001b[39minput_channels):\n\u001b[1;32m-> 1660\u001b[0m         \u001b[38;5;28;01mfor\u001b[39;00m _ \u001b[38;5;129;01min\u001b[39;00m runner\u001b[38;5;241m.\u001b[39mtick(\n\u001b[0;32m   1661\u001b[0m             loop\u001b[38;5;241m.\u001b[39mtasks\u001b[38;5;241m.\u001b[39mvalues(),\n\u001b[0;32m   1662\u001b[0m             timeout\u001b[38;5;241m=\u001b[39m\u001b[38;5;28mself\u001b[39m\u001b[38;5;241m.\u001b[39mstep_timeout,\n\u001b[0;32m   1663\u001b[0m             retry_policy\u001b[38;5;241m=\u001b[39m\u001b[38;5;28mself\u001b[39m\u001b[38;5;241m.\u001b[39mretry_policy,\n\u001b[0;32m   1664\u001b[0m             get_waiter\u001b[38;5;241m=\u001b[39mget_waiter,\n\u001b[0;32m   1665\u001b[0m         ):\n\u001b[0;32m   1666\u001b[0m             \u001b[38;5;66;03m# emit output\u001b[39;00m\n\u001b[0;32m   1667\u001b[0m             \u001b[38;5;28;01myield from\u001b[39;00m output()\n\u001b[0;32m   1668\u001b[0m \u001b[38;5;66;03m# emit output\u001b[39;00m\n",
      "File \u001b[1;32m~\\anaconda3\\Lib\\site-packages\\langgraph\\pregel\\runner.py:239\u001b[0m, in \u001b[0;36mPregelRunner.tick\u001b[1;34m(self, tasks, reraise, timeout, retry_policy, get_waiter)\u001b[0m\n\u001b[0;32m    237\u001b[0m time\u001b[38;5;241m.\u001b[39msleep(\u001b[38;5;241m0\u001b[39m)\n\u001b[0;32m    238\u001b[0m \u001b[38;5;66;03m# panic on failure or timeout\u001b[39;00m\n\u001b[1;32m--> 239\u001b[0m _panic_or_proceed(\n\u001b[0;32m    240\u001b[0m     done_futures\u001b[38;5;241m.\u001b[39munion(f \u001b[38;5;28;01mfor\u001b[39;00m f, t \u001b[38;5;129;01min\u001b[39;00m futures\u001b[38;5;241m.\u001b[39mitems() \u001b[38;5;28;01mif\u001b[39;00m t \u001b[38;5;129;01mis\u001b[39;00m \u001b[38;5;129;01mnot\u001b[39;00m \u001b[38;5;28;01mNone\u001b[39;00m),\n\u001b[0;32m    241\u001b[0m     panic\u001b[38;5;241m=\u001b[39mreraise,\n\u001b[0;32m    242\u001b[0m )\n",
      "File \u001b[1;32m~\\anaconda3\\Lib\\site-packages\\langgraph\\pregel\\runner.py:539\u001b[0m, in \u001b[0;36m_panic_or_proceed\u001b[1;34m(futs, timeout_exc_cls, panic)\u001b[0m\n\u001b[0;32m    537\u001b[0m         \u001b[38;5;66;03m# raise the exception\u001b[39;00m\n\u001b[0;32m    538\u001b[0m         \u001b[38;5;28;01mif\u001b[39;00m panic:\n\u001b[1;32m--> 539\u001b[0m             \u001b[38;5;28;01mraise\u001b[39;00m exc\n\u001b[0;32m    540\u001b[0m \u001b[38;5;28;01mif\u001b[39;00m inflight:\n\u001b[0;32m    541\u001b[0m     \u001b[38;5;66;03m# if we got here means we timed out\u001b[39;00m\n\u001b[0;32m    542\u001b[0m     \u001b[38;5;28;01mwhile\u001b[39;00m inflight:\n\u001b[0;32m    543\u001b[0m         \u001b[38;5;66;03m# cancel all pending tasks\u001b[39;00m\n",
      "File \u001b[1;32m~\\anaconda3\\Lib\\site-packages\\langgraph\\pregel\\executor.py:76\u001b[0m, in \u001b[0;36mBackgroundExecutor.done\u001b[1;34m(self, task)\u001b[0m\n\u001b[0;32m     74\u001b[0m \u001b[38;5;28;01mdef\u001b[39;00m \u001b[38;5;21mdone\u001b[39m(\u001b[38;5;28mself\u001b[39m, task: concurrent\u001b[38;5;241m.\u001b[39mfutures\u001b[38;5;241m.\u001b[39mFuture) \u001b[38;5;241m-\u001b[39m\u001b[38;5;241m>\u001b[39m \u001b[38;5;28;01mNone\u001b[39;00m:\n\u001b[0;32m     75\u001b[0m     \u001b[38;5;28;01mtry\u001b[39;00m:\n\u001b[1;32m---> 76\u001b[0m         task\u001b[38;5;241m.\u001b[39mresult()\n\u001b[0;32m     77\u001b[0m     \u001b[38;5;28;01mexcept\u001b[39;00m GraphBubbleUp:\n\u001b[0;32m     78\u001b[0m         \u001b[38;5;66;03m# This exception is an interruption signal, not an error\u001b[39;00m\n\u001b[0;32m     79\u001b[0m         \u001b[38;5;66;03m# so we don't want to re-raise it on exit\u001b[39;00m\n\u001b[0;32m     80\u001b[0m         \u001b[38;5;28mself\u001b[39m\u001b[38;5;241m.\u001b[39mtasks\u001b[38;5;241m.\u001b[39mpop(task)\n",
      "File \u001b[1;32m~\\anaconda3\\Lib\\concurrent\\futures\\_base.py:449\u001b[0m, in \u001b[0;36mFuture.result\u001b[1;34m(self, timeout)\u001b[0m\n\u001b[0;32m    447\u001b[0m     \u001b[38;5;28;01mraise\u001b[39;00m CancelledError()\n\u001b[0;32m    448\u001b[0m \u001b[38;5;28;01melif\u001b[39;00m \u001b[38;5;28mself\u001b[39m\u001b[38;5;241m.\u001b[39m_state \u001b[38;5;241m==\u001b[39m FINISHED:\n\u001b[1;32m--> 449\u001b[0m     \u001b[38;5;28;01mreturn\u001b[39;00m \u001b[38;5;28mself\u001b[39m\u001b[38;5;241m.\u001b[39m__get_result()\n\u001b[0;32m    451\u001b[0m \u001b[38;5;28mself\u001b[39m\u001b[38;5;241m.\u001b[39m_condition\u001b[38;5;241m.\u001b[39mwait(timeout)\n\u001b[0;32m    453\u001b[0m \u001b[38;5;28;01mif\u001b[39;00m \u001b[38;5;28mself\u001b[39m\u001b[38;5;241m.\u001b[39m_state \u001b[38;5;129;01min\u001b[39;00m [CANCELLED, CANCELLED_AND_NOTIFIED]:\n",
      "File \u001b[1;32m~\\anaconda3\\Lib\\concurrent\\futures\\_base.py:401\u001b[0m, in \u001b[0;36mFuture.__get_result\u001b[1;34m(self)\u001b[0m\n\u001b[0;32m    399\u001b[0m \u001b[38;5;28;01mif\u001b[39;00m \u001b[38;5;28mself\u001b[39m\u001b[38;5;241m.\u001b[39m_exception:\n\u001b[0;32m    400\u001b[0m     \u001b[38;5;28;01mtry\u001b[39;00m:\n\u001b[1;32m--> 401\u001b[0m         \u001b[38;5;28;01mraise\u001b[39;00m \u001b[38;5;28mself\u001b[39m\u001b[38;5;241m.\u001b[39m_exception\n\u001b[0;32m    402\u001b[0m     \u001b[38;5;28;01mfinally\u001b[39;00m:\n\u001b[0;32m    403\u001b[0m         \u001b[38;5;66;03m# Break a reference cycle with the exception in self._exception\u001b[39;00m\n\u001b[0;32m    404\u001b[0m         \u001b[38;5;28mself\u001b[39m \u001b[38;5;241m=\u001b[39m \u001b[38;5;28;01mNone\u001b[39;00m\n",
      "File \u001b[1;32m~\\anaconda3\\Lib\\concurrent\\futures\\thread.py:58\u001b[0m, in \u001b[0;36m_WorkItem.run\u001b[1;34m(self)\u001b[0m\n\u001b[0;32m     55\u001b[0m     \u001b[38;5;28;01mreturn\u001b[39;00m\n\u001b[0;32m     57\u001b[0m \u001b[38;5;28;01mtry\u001b[39;00m:\n\u001b[1;32m---> 58\u001b[0m     result \u001b[38;5;241m=\u001b[39m \u001b[38;5;28mself\u001b[39m\u001b[38;5;241m.\u001b[39mfn(\u001b[38;5;241m*\u001b[39m\u001b[38;5;28mself\u001b[39m\u001b[38;5;241m.\u001b[39margs, \u001b[38;5;241m*\u001b[39m\u001b[38;5;241m*\u001b[39m\u001b[38;5;28mself\u001b[39m\u001b[38;5;241m.\u001b[39mkwargs)\n\u001b[0;32m     59\u001b[0m \u001b[38;5;28;01mexcept\u001b[39;00m \u001b[38;5;167;01mBaseException\u001b[39;00m \u001b[38;5;28;01mas\u001b[39;00m exc:\n\u001b[0;32m     60\u001b[0m     \u001b[38;5;28mself\u001b[39m\u001b[38;5;241m.\u001b[39mfuture\u001b[38;5;241m.\u001b[39mset_exception(exc)\n",
      "File \u001b[1;32m~\\anaconda3\\Lib\\site-packages\\langgraph\\pregel\\retry.py:40\u001b[0m, in \u001b[0;36mrun_with_retry\u001b[1;34m(task, retry_policy, configurable)\u001b[0m\n\u001b[0;32m     38\u001b[0m     task\u001b[38;5;241m.\u001b[39mwrites\u001b[38;5;241m.\u001b[39mclear()\n\u001b[0;32m     39\u001b[0m     \u001b[38;5;66;03m# run the task\u001b[39;00m\n\u001b[1;32m---> 40\u001b[0m     \u001b[38;5;28;01mreturn\u001b[39;00m task\u001b[38;5;241m.\u001b[39mproc\u001b[38;5;241m.\u001b[39minvoke(task\u001b[38;5;241m.\u001b[39minput, config)\n\u001b[0;32m     41\u001b[0m \u001b[38;5;28;01mexcept\u001b[39;00m ParentCommand \u001b[38;5;28;01mas\u001b[39;00m exc:\n\u001b[0;32m     42\u001b[0m     ns: \u001b[38;5;28mstr\u001b[39m \u001b[38;5;241m=\u001b[39m config[CONF][CONFIG_KEY_CHECKPOINT_NS]\n",
      "File \u001b[1;32m~\\anaconda3\\Lib\\site-packages\\langgraph\\utils\\runnable.py:408\u001b[0m, in \u001b[0;36mRunnableSeq.invoke\u001b[1;34m(self, input, config, **kwargs)\u001b[0m\n\u001b[0;32m    404\u001b[0m config \u001b[38;5;241m=\u001b[39m patch_config(\n\u001b[0;32m    405\u001b[0m     config, callbacks\u001b[38;5;241m=\u001b[39mrun_manager\u001b[38;5;241m.\u001b[39mget_child(\u001b[38;5;124mf\u001b[39m\u001b[38;5;124m\"\u001b[39m\u001b[38;5;124mseq:step:\u001b[39m\u001b[38;5;132;01m{\u001b[39;00mi\u001b[38;5;241m+\u001b[39m\u001b[38;5;241m1\u001b[39m\u001b[38;5;132;01m}\u001b[39;00m\u001b[38;5;124m\"\u001b[39m)\n\u001b[0;32m    406\u001b[0m )\n\u001b[0;32m    407\u001b[0m \u001b[38;5;28;01mif\u001b[39;00m i \u001b[38;5;241m==\u001b[39m \u001b[38;5;241m0\u001b[39m:\n\u001b[1;32m--> 408\u001b[0m     \u001b[38;5;28minput\u001b[39m \u001b[38;5;241m=\u001b[39m step\u001b[38;5;241m.\u001b[39minvoke(\u001b[38;5;28minput\u001b[39m, config, \u001b[38;5;241m*\u001b[39m\u001b[38;5;241m*\u001b[39mkwargs)\n\u001b[0;32m    409\u001b[0m \u001b[38;5;28;01melse\u001b[39;00m:\n\u001b[0;32m    410\u001b[0m     \u001b[38;5;28minput\u001b[39m \u001b[38;5;241m=\u001b[39m step\u001b[38;5;241m.\u001b[39minvoke(\u001b[38;5;28minput\u001b[39m, config)\n",
      "File \u001b[1;32m~\\anaconda3\\Lib\\site-packages\\langgraph\\pregel\\__init__.py:1940\u001b[0m, in \u001b[0;36mPregel.invoke\u001b[1;34m(self, input, config, stream_mode, output_keys, interrupt_before, interrupt_after, debug, **kwargs)\u001b[0m\n\u001b[0;32m   1938\u001b[0m \u001b[38;5;28;01melse\u001b[39;00m:\n\u001b[0;32m   1939\u001b[0m     chunks \u001b[38;5;241m=\u001b[39m []\n\u001b[1;32m-> 1940\u001b[0m \u001b[38;5;28;01mfor\u001b[39;00m chunk \u001b[38;5;129;01min\u001b[39;00m \u001b[38;5;28mself\u001b[39m\u001b[38;5;241m.\u001b[39mstream(\n\u001b[0;32m   1941\u001b[0m     \u001b[38;5;28minput\u001b[39m,\n\u001b[0;32m   1942\u001b[0m     config,\n\u001b[0;32m   1943\u001b[0m     stream_mode\u001b[38;5;241m=\u001b[39mstream_mode,\n\u001b[0;32m   1944\u001b[0m     output_keys\u001b[38;5;241m=\u001b[39moutput_keys,\n\u001b[0;32m   1945\u001b[0m     interrupt_before\u001b[38;5;241m=\u001b[39minterrupt_before,\n\u001b[0;32m   1946\u001b[0m     interrupt_after\u001b[38;5;241m=\u001b[39minterrupt_after,\n\u001b[0;32m   1947\u001b[0m     debug\u001b[38;5;241m=\u001b[39mdebug,\n\u001b[0;32m   1948\u001b[0m     \u001b[38;5;241m*\u001b[39m\u001b[38;5;241m*\u001b[39mkwargs,\n\u001b[0;32m   1949\u001b[0m ):\n\u001b[0;32m   1950\u001b[0m     \u001b[38;5;28;01mif\u001b[39;00m stream_mode \u001b[38;5;241m==\u001b[39m \u001b[38;5;124m\"\u001b[39m\u001b[38;5;124mvalues\u001b[39m\u001b[38;5;124m\"\u001b[39m:\n\u001b[0;32m   1951\u001b[0m         latest \u001b[38;5;241m=\u001b[39m chunk\n",
      "File \u001b[1;32m~\\anaconda3\\Lib\\site-packages\\langgraph\\pregel\\__init__.py:1660\u001b[0m, in \u001b[0;36mPregel.stream\u001b[1;34m(self, input, config, stream_mode, output_keys, interrupt_before, interrupt_after, debug, subgraphs)\u001b[0m\n\u001b[0;32m   1654\u001b[0m     \u001b[38;5;66;03m# Similarly to Bulk Synchronous Parallel / Pregel model\u001b[39;00m\n\u001b[0;32m   1655\u001b[0m     \u001b[38;5;66;03m# computation proceeds in steps, while there are channel updates\u001b[39;00m\n\u001b[0;32m   1656\u001b[0m     \u001b[38;5;66;03m# channel updates from step N are only visible in step N+1\u001b[39;00m\n\u001b[0;32m   1657\u001b[0m     \u001b[38;5;66;03m# channels are guaranteed to be immutable for the duration of the step,\u001b[39;00m\n\u001b[0;32m   1658\u001b[0m     \u001b[38;5;66;03m# with channel updates applied only at the transition between steps\u001b[39;00m\n\u001b[0;32m   1659\u001b[0m     \u001b[38;5;28;01mwhile\u001b[39;00m loop\u001b[38;5;241m.\u001b[39mtick(input_keys\u001b[38;5;241m=\u001b[39m\u001b[38;5;28mself\u001b[39m\u001b[38;5;241m.\u001b[39minput_channels):\n\u001b[1;32m-> 1660\u001b[0m         \u001b[38;5;28;01mfor\u001b[39;00m _ \u001b[38;5;129;01min\u001b[39;00m runner\u001b[38;5;241m.\u001b[39mtick(\n\u001b[0;32m   1661\u001b[0m             loop\u001b[38;5;241m.\u001b[39mtasks\u001b[38;5;241m.\u001b[39mvalues(),\n\u001b[0;32m   1662\u001b[0m             timeout\u001b[38;5;241m=\u001b[39m\u001b[38;5;28mself\u001b[39m\u001b[38;5;241m.\u001b[39mstep_timeout,\n\u001b[0;32m   1663\u001b[0m             retry_policy\u001b[38;5;241m=\u001b[39m\u001b[38;5;28mself\u001b[39m\u001b[38;5;241m.\u001b[39mretry_policy,\n\u001b[0;32m   1664\u001b[0m             get_waiter\u001b[38;5;241m=\u001b[39mget_waiter,\n\u001b[0;32m   1665\u001b[0m         ):\n\u001b[0;32m   1666\u001b[0m             \u001b[38;5;66;03m# emit output\u001b[39;00m\n\u001b[0;32m   1667\u001b[0m             \u001b[38;5;28;01myield from\u001b[39;00m output()\n\u001b[0;32m   1668\u001b[0m \u001b[38;5;66;03m# emit output\u001b[39;00m\n",
      "File \u001b[1;32m~\\anaconda3\\Lib\\site-packages\\langgraph\\pregel\\runner.py:239\u001b[0m, in \u001b[0;36mPregelRunner.tick\u001b[1;34m(self, tasks, reraise, timeout, retry_policy, get_waiter)\u001b[0m\n\u001b[0;32m    237\u001b[0m time\u001b[38;5;241m.\u001b[39msleep(\u001b[38;5;241m0\u001b[39m)\n\u001b[0;32m    238\u001b[0m \u001b[38;5;66;03m# panic on failure or timeout\u001b[39;00m\n\u001b[1;32m--> 239\u001b[0m _panic_or_proceed(\n\u001b[0;32m    240\u001b[0m     done_futures\u001b[38;5;241m.\u001b[39munion(f \u001b[38;5;28;01mfor\u001b[39;00m f, t \u001b[38;5;129;01min\u001b[39;00m futures\u001b[38;5;241m.\u001b[39mitems() \u001b[38;5;28;01mif\u001b[39;00m t \u001b[38;5;129;01mis\u001b[39;00m \u001b[38;5;129;01mnot\u001b[39;00m \u001b[38;5;28;01mNone\u001b[39;00m),\n\u001b[0;32m    241\u001b[0m     panic\u001b[38;5;241m=\u001b[39mreraise,\n\u001b[0;32m    242\u001b[0m )\n",
      "File \u001b[1;32m~\\anaconda3\\Lib\\site-packages\\langgraph\\pregel\\runner.py:539\u001b[0m, in \u001b[0;36m_panic_or_proceed\u001b[1;34m(futs, timeout_exc_cls, panic)\u001b[0m\n\u001b[0;32m    537\u001b[0m         \u001b[38;5;66;03m# raise the exception\u001b[39;00m\n\u001b[0;32m    538\u001b[0m         \u001b[38;5;28;01mif\u001b[39;00m panic:\n\u001b[1;32m--> 539\u001b[0m             \u001b[38;5;28;01mraise\u001b[39;00m exc\n\u001b[0;32m    540\u001b[0m \u001b[38;5;28;01mif\u001b[39;00m inflight:\n\u001b[0;32m    541\u001b[0m     \u001b[38;5;66;03m# if we got here means we timed out\u001b[39;00m\n\u001b[0;32m    542\u001b[0m     \u001b[38;5;28;01mwhile\u001b[39;00m inflight:\n\u001b[0;32m    543\u001b[0m         \u001b[38;5;66;03m# cancel all pending tasks\u001b[39;00m\n",
      "File \u001b[1;32m~\\anaconda3\\Lib\\site-packages\\langgraph\\pregel\\executor.py:76\u001b[0m, in \u001b[0;36mBackgroundExecutor.done\u001b[1;34m(self, task)\u001b[0m\n\u001b[0;32m     74\u001b[0m \u001b[38;5;28;01mdef\u001b[39;00m \u001b[38;5;21mdone\u001b[39m(\u001b[38;5;28mself\u001b[39m, task: concurrent\u001b[38;5;241m.\u001b[39mfutures\u001b[38;5;241m.\u001b[39mFuture) \u001b[38;5;241m-\u001b[39m\u001b[38;5;241m>\u001b[39m \u001b[38;5;28;01mNone\u001b[39;00m:\n\u001b[0;32m     75\u001b[0m     \u001b[38;5;28;01mtry\u001b[39;00m:\n\u001b[1;32m---> 76\u001b[0m         task\u001b[38;5;241m.\u001b[39mresult()\n\u001b[0;32m     77\u001b[0m     \u001b[38;5;28;01mexcept\u001b[39;00m GraphBubbleUp:\n\u001b[0;32m     78\u001b[0m         \u001b[38;5;66;03m# This exception is an interruption signal, not an error\u001b[39;00m\n\u001b[0;32m     79\u001b[0m         \u001b[38;5;66;03m# so we don't want to re-raise it on exit\u001b[39;00m\n\u001b[0;32m     80\u001b[0m         \u001b[38;5;28mself\u001b[39m\u001b[38;5;241m.\u001b[39mtasks\u001b[38;5;241m.\u001b[39mpop(task)\n",
      "File \u001b[1;32m~\\anaconda3\\Lib\\concurrent\\futures\\_base.py:449\u001b[0m, in \u001b[0;36mFuture.result\u001b[1;34m(self, timeout)\u001b[0m\n\u001b[0;32m    447\u001b[0m     \u001b[38;5;28;01mraise\u001b[39;00m CancelledError()\n\u001b[0;32m    448\u001b[0m \u001b[38;5;28;01melif\u001b[39;00m \u001b[38;5;28mself\u001b[39m\u001b[38;5;241m.\u001b[39m_state \u001b[38;5;241m==\u001b[39m FINISHED:\n\u001b[1;32m--> 449\u001b[0m     \u001b[38;5;28;01mreturn\u001b[39;00m \u001b[38;5;28mself\u001b[39m\u001b[38;5;241m.\u001b[39m__get_result()\n\u001b[0;32m    451\u001b[0m \u001b[38;5;28mself\u001b[39m\u001b[38;5;241m.\u001b[39m_condition\u001b[38;5;241m.\u001b[39mwait(timeout)\n\u001b[0;32m    453\u001b[0m \u001b[38;5;28;01mif\u001b[39;00m \u001b[38;5;28mself\u001b[39m\u001b[38;5;241m.\u001b[39m_state \u001b[38;5;129;01min\u001b[39;00m [CANCELLED, CANCELLED_AND_NOTIFIED]:\n",
      "File \u001b[1;32m~\\anaconda3\\Lib\\concurrent\\futures\\_base.py:401\u001b[0m, in \u001b[0;36mFuture.__get_result\u001b[1;34m(self)\u001b[0m\n\u001b[0;32m    399\u001b[0m \u001b[38;5;28;01mif\u001b[39;00m \u001b[38;5;28mself\u001b[39m\u001b[38;5;241m.\u001b[39m_exception:\n\u001b[0;32m    400\u001b[0m     \u001b[38;5;28;01mtry\u001b[39;00m:\n\u001b[1;32m--> 401\u001b[0m         \u001b[38;5;28;01mraise\u001b[39;00m \u001b[38;5;28mself\u001b[39m\u001b[38;5;241m.\u001b[39m_exception\n\u001b[0;32m    402\u001b[0m     \u001b[38;5;28;01mfinally\u001b[39;00m:\n\u001b[0;32m    403\u001b[0m         \u001b[38;5;66;03m# Break a reference cycle with the exception in self._exception\u001b[39;00m\n\u001b[0;32m    404\u001b[0m         \u001b[38;5;28mself\u001b[39m \u001b[38;5;241m=\u001b[39m \u001b[38;5;28;01mNone\u001b[39;00m\n",
      "File \u001b[1;32m~\\anaconda3\\Lib\\concurrent\\futures\\thread.py:58\u001b[0m, in \u001b[0;36m_WorkItem.run\u001b[1;34m(self)\u001b[0m\n\u001b[0;32m     55\u001b[0m     \u001b[38;5;28;01mreturn\u001b[39;00m\n\u001b[0;32m     57\u001b[0m \u001b[38;5;28;01mtry\u001b[39;00m:\n\u001b[1;32m---> 58\u001b[0m     result \u001b[38;5;241m=\u001b[39m \u001b[38;5;28mself\u001b[39m\u001b[38;5;241m.\u001b[39mfn(\u001b[38;5;241m*\u001b[39m\u001b[38;5;28mself\u001b[39m\u001b[38;5;241m.\u001b[39margs, \u001b[38;5;241m*\u001b[39m\u001b[38;5;241m*\u001b[39m\u001b[38;5;28mself\u001b[39m\u001b[38;5;241m.\u001b[39mkwargs)\n\u001b[0;32m     59\u001b[0m \u001b[38;5;28;01mexcept\u001b[39;00m \u001b[38;5;167;01mBaseException\u001b[39;00m \u001b[38;5;28;01mas\u001b[39;00m exc:\n\u001b[0;32m     60\u001b[0m     \u001b[38;5;28mself\u001b[39m\u001b[38;5;241m.\u001b[39mfuture\u001b[38;5;241m.\u001b[39mset_exception(exc)\n",
      "File \u001b[1;32m~\\anaconda3\\Lib\\site-packages\\langgraph\\pregel\\retry.py:40\u001b[0m, in \u001b[0;36mrun_with_retry\u001b[1;34m(task, retry_policy, configurable)\u001b[0m\n\u001b[0;32m     38\u001b[0m     task\u001b[38;5;241m.\u001b[39mwrites\u001b[38;5;241m.\u001b[39mclear()\n\u001b[0;32m     39\u001b[0m     \u001b[38;5;66;03m# run the task\u001b[39;00m\n\u001b[1;32m---> 40\u001b[0m     \u001b[38;5;28;01mreturn\u001b[39;00m task\u001b[38;5;241m.\u001b[39mproc\u001b[38;5;241m.\u001b[39minvoke(task\u001b[38;5;241m.\u001b[39minput, config)\n\u001b[0;32m     41\u001b[0m \u001b[38;5;28;01mexcept\u001b[39;00m ParentCommand \u001b[38;5;28;01mas\u001b[39;00m exc:\n\u001b[0;32m     42\u001b[0m     ns: \u001b[38;5;28mstr\u001b[39m \u001b[38;5;241m=\u001b[39m config[CONF][CONFIG_KEY_CHECKPOINT_NS]\n",
      "File \u001b[1;32m~\\anaconda3\\Lib\\site-packages\\langgraph\\utils\\runnable.py:408\u001b[0m, in \u001b[0;36mRunnableSeq.invoke\u001b[1;34m(self, input, config, **kwargs)\u001b[0m\n\u001b[0;32m    404\u001b[0m config \u001b[38;5;241m=\u001b[39m patch_config(\n\u001b[0;32m    405\u001b[0m     config, callbacks\u001b[38;5;241m=\u001b[39mrun_manager\u001b[38;5;241m.\u001b[39mget_child(\u001b[38;5;124mf\u001b[39m\u001b[38;5;124m\"\u001b[39m\u001b[38;5;124mseq:step:\u001b[39m\u001b[38;5;132;01m{\u001b[39;00mi\u001b[38;5;241m+\u001b[39m\u001b[38;5;241m1\u001b[39m\u001b[38;5;132;01m}\u001b[39;00m\u001b[38;5;124m\"\u001b[39m)\n\u001b[0;32m    406\u001b[0m )\n\u001b[0;32m    407\u001b[0m \u001b[38;5;28;01mif\u001b[39;00m i \u001b[38;5;241m==\u001b[39m \u001b[38;5;241m0\u001b[39m:\n\u001b[1;32m--> 408\u001b[0m     \u001b[38;5;28minput\u001b[39m \u001b[38;5;241m=\u001b[39m step\u001b[38;5;241m.\u001b[39minvoke(\u001b[38;5;28minput\u001b[39m, config, \u001b[38;5;241m*\u001b[39m\u001b[38;5;241m*\u001b[39mkwargs)\n\u001b[0;32m    409\u001b[0m \u001b[38;5;28;01melse\u001b[39;00m:\n\u001b[0;32m    410\u001b[0m     \u001b[38;5;28minput\u001b[39m \u001b[38;5;241m=\u001b[39m step\u001b[38;5;241m.\u001b[39minvoke(\u001b[38;5;28minput\u001b[39m, config)\n",
      "File \u001b[1;32m~\\anaconda3\\Lib\\site-packages\\langgraph\\utils\\runnable.py:184\u001b[0m, in \u001b[0;36mRunnableCallable.invoke\u001b[1;34m(self, input, config, **kwargs)\u001b[0m\n\u001b[0;32m    182\u001b[0m \u001b[38;5;28;01melse\u001b[39;00m:\n\u001b[0;32m    183\u001b[0m     context\u001b[38;5;241m.\u001b[39mrun(_set_config_context, config)\n\u001b[1;32m--> 184\u001b[0m     ret \u001b[38;5;241m=\u001b[39m context\u001b[38;5;241m.\u001b[39mrun(\u001b[38;5;28mself\u001b[39m\u001b[38;5;241m.\u001b[39mfunc, \u001b[38;5;28minput\u001b[39m, \u001b[38;5;241m*\u001b[39m\u001b[38;5;241m*\u001b[39mkwargs)\n\u001b[0;32m    185\u001b[0m \u001b[38;5;28;01mif\u001b[39;00m \u001b[38;5;28misinstance\u001b[39m(ret, Runnable) \u001b[38;5;129;01mand\u001b[39;00m \u001b[38;5;28mself\u001b[39m\u001b[38;5;241m.\u001b[39mrecurse:\n\u001b[0;32m    186\u001b[0m     \u001b[38;5;28;01mreturn\u001b[39;00m ret\u001b[38;5;241m.\u001b[39minvoke(\u001b[38;5;28minput\u001b[39m, config)\n",
      "Cell \u001b[1;32mIn[17], line 10\u001b[0m, in \u001b[0;36msearch_web\u001b[1;34m(state)\u001b[0m\n\u001b[0;32m      7\u001b[0m \u001b[38;5;28mprint\u001b[39m(\u001b[38;5;124m\"\u001b[39m\u001b[38;5;124mV\u001b[39m\u001b[38;5;124m\"\u001b[39m)\n\u001b[0;32m      8\u001b[0m search_query \u001b[38;5;241m=\u001b[39m llm\u001b[38;5;241m.\u001b[39mwith_structured_output(SearchQuery)\u001b[38;5;241m.\u001b[39minvoke([search_instructions] \u001b[38;5;241m+\u001b[39m state[\u001b[38;5;124m\"\u001b[39m\u001b[38;5;124mmessages\u001b[39m\u001b[38;5;124m\"\u001b[39m])\n\u001b[1;32m---> 10\u001b[0m search_docs \u001b[38;5;241m=\u001b[39m search_engine_search\u001b[38;5;241m.\u001b[39minvoke(search_query\u001b[38;5;241m.\u001b[39msearch_query)\n\u001b[0;32m     12\u001b[0m formatted_search_docs \u001b[38;5;241m=\u001b[39m \u001b[38;5;124m\"\u001b[39m\u001b[38;5;130;01m\\n\u001b[39;00m\u001b[38;5;130;01m\\n\u001b[39;00m\u001b[38;5;124m---\u001b[39m\u001b[38;5;130;01m\\n\u001b[39;00m\u001b[38;5;130;01m\\n\u001b[39;00m\u001b[38;5;124m\"\u001b[39m\u001b[38;5;241m.\u001b[39mjoin(\n\u001b[0;32m     13\u001b[0m     [\n\u001b[0;32m     14\u001b[0m         \u001b[38;5;124mf\u001b[39m\u001b[38;5;124m'\u001b[39m\u001b[38;5;124m<Document href=\u001b[39m\u001b[38;5;124m\"\u001b[39m\u001b[38;5;132;01m{\u001b[39;00mdoc[\u001b[38;5;124m\"\u001b[39m\u001b[38;5;124mlink\u001b[39m\u001b[38;5;124m\"\u001b[39m]\u001b[38;5;132;01m}\u001b[39;00m\u001b[38;5;124m\"\u001b[39m\u001b[38;5;124m/>\u001b[39m\u001b[38;5;130;01m\\n\u001b[39;00m\u001b[38;5;132;01m{\u001b[39;00mdoc[\u001b[38;5;124m\"\u001b[39m\u001b[38;5;124msnippet\u001b[39m\u001b[38;5;124m\"\u001b[39m]\u001b[38;5;132;01m}\u001b[39;00m\u001b[38;5;130;01m\\n\u001b[39;00m\u001b[38;5;124m</Document>\u001b[39m\u001b[38;5;124m'\u001b[39m\n\u001b[0;32m     15\u001b[0m         \u001b[38;5;28;01mfor\u001b[39;00m doc \u001b[38;5;129;01min\u001b[39;00m search_docs\n\u001b[0;32m     16\u001b[0m     ]\n\u001b[0;32m     17\u001b[0m )\n\u001b[0;32m     18\u001b[0m \u001b[38;5;28;01mreturn\u001b[39;00m {\u001b[38;5;124m\"\u001b[39m\u001b[38;5;124mcontext\u001b[39m\u001b[38;5;124m\"\u001b[39m: [formatted_search_docs]}\n",
      "File \u001b[1;32m~\\anaconda3\\Lib\\site-packages\\langchain_core\\tools\\base.py:484\u001b[0m, in \u001b[0;36mBaseTool.invoke\u001b[1;34m(self, input, config, **kwargs)\u001b[0m\n\u001b[0;32m    477\u001b[0m \u001b[38;5;28;01mdef\u001b[39;00m \u001b[38;5;21minvoke\u001b[39m(\n\u001b[0;32m    478\u001b[0m     \u001b[38;5;28mself\u001b[39m,\n\u001b[0;32m    479\u001b[0m     \u001b[38;5;28minput\u001b[39m: Union[\u001b[38;5;28mstr\u001b[39m, \u001b[38;5;28mdict\u001b[39m, ToolCall],\n\u001b[0;32m    480\u001b[0m     config: Optional[RunnableConfig] \u001b[38;5;241m=\u001b[39m \u001b[38;5;28;01mNone\u001b[39;00m,\n\u001b[0;32m    481\u001b[0m     \u001b[38;5;241m*\u001b[39m\u001b[38;5;241m*\u001b[39mkwargs: Any,\n\u001b[0;32m    482\u001b[0m ) \u001b[38;5;241m-\u001b[39m\u001b[38;5;241m>\u001b[39m Any:\n\u001b[0;32m    483\u001b[0m     tool_input, kwargs \u001b[38;5;241m=\u001b[39m _prep_run_args(\u001b[38;5;28minput\u001b[39m, config, \u001b[38;5;241m*\u001b[39m\u001b[38;5;241m*\u001b[39mkwargs)\n\u001b[1;32m--> 484\u001b[0m     \u001b[38;5;28;01mreturn\u001b[39;00m \u001b[38;5;28mself\u001b[39m\u001b[38;5;241m.\u001b[39mrun(tool_input, \u001b[38;5;241m*\u001b[39m\u001b[38;5;241m*\u001b[39mkwargs)\n",
      "File \u001b[1;32m~\\anaconda3\\Lib\\site-packages\\langchain_core\\tools\\base.py:725\u001b[0m, in \u001b[0;36mBaseTool.run\u001b[1;34m(self, tool_input, verbose, start_color, color, callbacks, tags, metadata, run_name, run_id, config, tool_call_id, **kwargs)\u001b[0m\n\u001b[0;32m    723\u001b[0m \u001b[38;5;28;01mif\u001b[39;00m error_to_raise:\n\u001b[0;32m    724\u001b[0m     run_manager\u001b[38;5;241m.\u001b[39mon_tool_error(error_to_raise)\n\u001b[1;32m--> 725\u001b[0m     \u001b[38;5;28;01mraise\u001b[39;00m error_to_raise\n\u001b[0;32m    726\u001b[0m output \u001b[38;5;241m=\u001b[39m _format_output(content, artifact, tool_call_id, \u001b[38;5;28mself\u001b[39m\u001b[38;5;241m.\u001b[39mname, status)\n\u001b[0;32m    727\u001b[0m run_manager\u001b[38;5;241m.\u001b[39mon_tool_end(output, color\u001b[38;5;241m=\u001b[39mcolor, name\u001b[38;5;241m=\u001b[39m\u001b[38;5;28mself\u001b[39m\u001b[38;5;241m.\u001b[39mname, \u001b[38;5;241m*\u001b[39m\u001b[38;5;241m*\u001b[39mkwargs)\n",
      "File \u001b[1;32m~\\anaconda3\\Lib\\site-packages\\langchain_core\\tools\\base.py:693\u001b[0m, in \u001b[0;36mBaseTool.run\u001b[1;34m(self, tool_input, verbose, start_color, color, callbacks, tags, metadata, run_name, run_id, config, tool_call_id, **kwargs)\u001b[0m\n\u001b[0;32m    691\u001b[0m \u001b[38;5;28;01mif\u001b[39;00m config_param \u001b[38;5;241m:=\u001b[39m _get_runnable_config_param(\u001b[38;5;28mself\u001b[39m\u001b[38;5;241m.\u001b[39m_run):\n\u001b[0;32m    692\u001b[0m     tool_kwargs \u001b[38;5;241m=\u001b[39m tool_kwargs \u001b[38;5;241m|\u001b[39m {config_param: config}\n\u001b[1;32m--> 693\u001b[0m response \u001b[38;5;241m=\u001b[39m context\u001b[38;5;241m.\u001b[39mrun(\u001b[38;5;28mself\u001b[39m\u001b[38;5;241m.\u001b[39m_run, \u001b[38;5;241m*\u001b[39mtool_args, \u001b[38;5;241m*\u001b[39m\u001b[38;5;241m*\u001b[39mtool_kwargs)\n\u001b[0;32m    694\u001b[0m \u001b[38;5;28;01mif\u001b[39;00m \u001b[38;5;28mself\u001b[39m\u001b[38;5;241m.\u001b[39mresponse_format \u001b[38;5;241m==\u001b[39m \u001b[38;5;124m\"\u001b[39m\u001b[38;5;124mcontent_and_artifact\u001b[39m\u001b[38;5;124m\"\u001b[39m:\n\u001b[0;32m    695\u001b[0m     \u001b[38;5;28;01mif\u001b[39;00m \u001b[38;5;129;01mnot\u001b[39;00m \u001b[38;5;28misinstance\u001b[39m(response, \u001b[38;5;28mtuple\u001b[39m) \u001b[38;5;129;01mor\u001b[39;00m \u001b[38;5;28mlen\u001b[39m(response) \u001b[38;5;241m!=\u001b[39m \u001b[38;5;241m2\u001b[39m:\n",
      "File \u001b[1;32m~\\anaconda3\\Lib\\site-packages\\langchain_community\\tools\\ddg_search\\tool.py:112\u001b[0m, in \u001b[0;36mDuckDuckGoSearchResults._run\u001b[1;34m(self, query, run_manager)\u001b[0m\n\u001b[0;32m    106\u001b[0m \u001b[38;5;28;01mdef\u001b[39;00m \u001b[38;5;21m_run\u001b[39m(\n\u001b[0;32m    107\u001b[0m     \u001b[38;5;28mself\u001b[39m,\n\u001b[0;32m    108\u001b[0m     query: \u001b[38;5;28mstr\u001b[39m,\n\u001b[0;32m    109\u001b[0m     run_manager: Optional[CallbackManagerForToolRun] \u001b[38;5;241m=\u001b[39m \u001b[38;5;28;01mNone\u001b[39;00m,\n\u001b[0;32m    110\u001b[0m ) \u001b[38;5;241m-\u001b[39m\u001b[38;5;241m>\u001b[39m \u001b[38;5;28mtuple\u001b[39m[Union[List[\u001b[38;5;28mdict\u001b[39m], \u001b[38;5;28mstr\u001b[39m], List[\u001b[38;5;28mdict\u001b[39m]]:\n\u001b[0;32m    111\u001b[0m \u001b[38;5;250m    \u001b[39m\u001b[38;5;124;03m\"\"\"Use the tool.\"\"\"\u001b[39;00m\n\u001b[1;32m--> 112\u001b[0m     raw_results \u001b[38;5;241m=\u001b[39m \u001b[38;5;28mself\u001b[39m\u001b[38;5;241m.\u001b[39mapi_wrapper\u001b[38;5;241m.\u001b[39mresults(\n\u001b[0;32m    113\u001b[0m         query, \u001b[38;5;28mself\u001b[39m\u001b[38;5;241m.\u001b[39mmax_results, source\u001b[38;5;241m=\u001b[39m\u001b[38;5;28mself\u001b[39m\u001b[38;5;241m.\u001b[39mbackend\n\u001b[0;32m    114\u001b[0m     )\n\u001b[0;32m    115\u001b[0m     results \u001b[38;5;241m=\u001b[39m [\n\u001b[0;32m    116\u001b[0m         {\n\u001b[0;32m    117\u001b[0m             k: v\n\u001b[1;32m   (...)\u001b[0m\n\u001b[0;32m    121\u001b[0m         \u001b[38;5;28;01mfor\u001b[39;00m d \u001b[38;5;129;01min\u001b[39;00m raw_results\n\u001b[0;32m    122\u001b[0m     ]\n\u001b[0;32m    124\u001b[0m     \u001b[38;5;28;01mif\u001b[39;00m \u001b[38;5;28mself\u001b[39m\u001b[38;5;241m.\u001b[39moutput_format \u001b[38;5;241m==\u001b[39m \u001b[38;5;124m\"\u001b[39m\u001b[38;5;124mlist\u001b[39m\u001b[38;5;124m\"\u001b[39m:\n",
      "File \u001b[1;32m~\\anaconda3\\Lib\\site-packages\\langchain_community\\utilities\\duckduckgo_search.py:127\u001b[0m, in \u001b[0;36mDuckDuckGoSearchAPIWrapper.results\u001b[1;34m(self, query, max_results, source)\u001b[0m\n\u001b[0;32m    123\u001b[0m source \u001b[38;5;241m=\u001b[39m source \u001b[38;5;129;01mor\u001b[39;00m \u001b[38;5;28mself\u001b[39m\u001b[38;5;241m.\u001b[39msource\n\u001b[0;32m    124\u001b[0m \u001b[38;5;28;01mif\u001b[39;00m source \u001b[38;5;241m==\u001b[39m \u001b[38;5;124m\"\u001b[39m\u001b[38;5;124mtext\u001b[39m\u001b[38;5;124m\"\u001b[39m:\n\u001b[0;32m    125\u001b[0m     results \u001b[38;5;241m=\u001b[39m [\n\u001b[0;32m    126\u001b[0m         {\u001b[38;5;124m\"\u001b[39m\u001b[38;5;124msnippet\u001b[39m\u001b[38;5;124m\"\u001b[39m: r[\u001b[38;5;124m\"\u001b[39m\u001b[38;5;124mbody\u001b[39m\u001b[38;5;124m\"\u001b[39m], \u001b[38;5;124m\"\u001b[39m\u001b[38;5;124mtitle\u001b[39m\u001b[38;5;124m\"\u001b[39m: r[\u001b[38;5;124m\"\u001b[39m\u001b[38;5;124mtitle\u001b[39m\u001b[38;5;124m\"\u001b[39m], \u001b[38;5;124m\"\u001b[39m\u001b[38;5;124mlink\u001b[39m\u001b[38;5;124m\"\u001b[39m: r[\u001b[38;5;124m\"\u001b[39m\u001b[38;5;124mhref\u001b[39m\u001b[38;5;124m\"\u001b[39m]}\n\u001b[1;32m--> 127\u001b[0m         \u001b[38;5;28;01mfor\u001b[39;00m r \u001b[38;5;129;01min\u001b[39;00m \u001b[38;5;28mself\u001b[39m\u001b[38;5;241m.\u001b[39m_ddgs_text(query, max_results\u001b[38;5;241m=\u001b[39mmax_results)\n\u001b[0;32m    128\u001b[0m     ]\n\u001b[0;32m    129\u001b[0m \u001b[38;5;28;01melif\u001b[39;00m source \u001b[38;5;241m==\u001b[39m \u001b[38;5;124m\"\u001b[39m\u001b[38;5;124mnews\u001b[39m\u001b[38;5;124m\"\u001b[39m:\n\u001b[0;32m    130\u001b[0m     results \u001b[38;5;241m=\u001b[39m [\n\u001b[0;32m    131\u001b[0m         {\n\u001b[0;32m    132\u001b[0m             \u001b[38;5;124m\"\u001b[39m\u001b[38;5;124msnippet\u001b[39m\u001b[38;5;124m\"\u001b[39m: r[\u001b[38;5;124m\"\u001b[39m\u001b[38;5;124mbody\u001b[39m\u001b[38;5;124m\"\u001b[39m],\n\u001b[1;32m   (...)\u001b[0m\n\u001b[0;32m    138\u001b[0m         \u001b[38;5;28;01mfor\u001b[39;00m r \u001b[38;5;129;01min\u001b[39;00m \u001b[38;5;28mself\u001b[39m\u001b[38;5;241m.\u001b[39m_ddgs_news(query, max_results\u001b[38;5;241m=\u001b[39mmax_results)\n\u001b[0;32m    139\u001b[0m     ]\n",
      "File \u001b[1;32m~\\anaconda3\\Lib\\site-packages\\langchain_community\\utilities\\duckduckgo_search.py:64\u001b[0m, in \u001b[0;36mDuckDuckGoSearchAPIWrapper._ddgs_text\u001b[1;34m(self, query, max_results)\u001b[0m\n\u001b[0;32m     61\u001b[0m \u001b[38;5;28;01mfrom\u001b[39;00m \u001b[38;5;21;01mduckduckgo_search\u001b[39;00m \u001b[38;5;28;01mimport\u001b[39;00m DDGS\n\u001b[0;32m     63\u001b[0m \u001b[38;5;28;01mwith\u001b[39;00m DDGS() \u001b[38;5;28;01mas\u001b[39;00m ddgs:\n\u001b[1;32m---> 64\u001b[0m     ddgs_gen \u001b[38;5;241m=\u001b[39m ddgs\u001b[38;5;241m.\u001b[39mtext(\n\u001b[0;32m     65\u001b[0m         query,\n\u001b[0;32m     66\u001b[0m         region\u001b[38;5;241m=\u001b[39m\u001b[38;5;28mself\u001b[39m\u001b[38;5;241m.\u001b[39mregion,  \u001b[38;5;66;03m# type: ignore[arg-type]\u001b[39;00m\n\u001b[0;32m     67\u001b[0m         safesearch\u001b[38;5;241m=\u001b[39m\u001b[38;5;28mself\u001b[39m\u001b[38;5;241m.\u001b[39msafesearch,\n\u001b[0;32m     68\u001b[0m         timelimit\u001b[38;5;241m=\u001b[39m\u001b[38;5;28mself\u001b[39m\u001b[38;5;241m.\u001b[39mtime,\n\u001b[0;32m     69\u001b[0m         max_results\u001b[38;5;241m=\u001b[39mmax_results \u001b[38;5;129;01mor\u001b[39;00m \u001b[38;5;28mself\u001b[39m\u001b[38;5;241m.\u001b[39mmax_results,\n\u001b[0;32m     70\u001b[0m         backend\u001b[38;5;241m=\u001b[39m\u001b[38;5;28mself\u001b[39m\u001b[38;5;241m.\u001b[39mbackend,\n\u001b[0;32m     71\u001b[0m     )\n\u001b[0;32m     72\u001b[0m     \u001b[38;5;28;01mif\u001b[39;00m ddgs_gen:\n\u001b[0;32m     73\u001b[0m         \u001b[38;5;28;01mreturn\u001b[39;00m [r \u001b[38;5;28;01mfor\u001b[39;00m r \u001b[38;5;129;01min\u001b[39;00m ddgs_gen]\n",
      "File \u001b[1;32m~\\anaconda3\\Lib\\site-packages\\duckduckgo_search\\duckduckgo_search.py:253\u001b[0m, in \u001b[0;36mDDGS.text\u001b[1;34m(self, keywords, region, safesearch, timelimit, backend, max_results)\u001b[0m\n\u001b[0;32m    250\u001b[0m         logger\u001b[38;5;241m.\u001b[39minfo(\u001b[38;5;124mf\u001b[39m\u001b[38;5;124m\"\u001b[39m\u001b[38;5;124mError to search using \u001b[39m\u001b[38;5;132;01m{\u001b[39;00mb\u001b[38;5;132;01m}\u001b[39;00m\u001b[38;5;124m backend: \u001b[39m\u001b[38;5;132;01m{\u001b[39;00mex\u001b[38;5;132;01m}\u001b[39;00m\u001b[38;5;124m\"\u001b[39m)\n\u001b[0;32m    251\u001b[0m         err \u001b[38;5;241m=\u001b[39m ex\n\u001b[1;32m--> 253\u001b[0m \u001b[38;5;28;01mraise\u001b[39;00m DuckDuckGoSearchException(err)\n",
      "\u001b[1;31mDuckDuckGoSearchException\u001b[0m: https://links.duckduckgo.com/d.js?q=%22most+underestimated+aspect+of+the+transition+to+superintelligent+AI+from+a+business+perspective%22&kl=wt-wt&l=wt-wt&p=&s=0&df=y&vqd=4-86141918571744139219541697319044016543&bing_market=wt-WT&ex=-1 202 Ratelimit",
      "\u001b[0mDuring task with name 'search_web' and id 'd2e2f24d-7272-b1b2-5deb-e7c06d773db2'",
      "\u001b[0mDuring task with name 'conduct interviews' and id 'ac33ac34-df27-6716-4f6d-f652f3081009'"
     ]
    }
   ],
   "source": [
    "for event in full_graph.stream(None, thread, stream_mode=\"updates\"):\n",
    "    print(\"--Node--\")\n",
    "    node_name = next(iter(event.keys()))\n",
    "    print(node_name)"
   ]
  },
  {
   "cell_type": "code",
   "execution_count": null,
   "id": "393d5e4e-9260-47c2-9b83-3dc23ef4e588",
   "metadata": {},
   "outputs": [],
   "source": [
    "from IPython.display import Markdown\n",
    "final_state = full_graph.get_state(thread)\n",
    "report = final_state.values.get('final_report')\n",
    "Markdown(report)"
   ]
  },
  {
   "cell_type": "markdown",
   "id": "3cf50522-45da-4f0e-8b22-cbad411a3696",
   "metadata": {},
   "source": [
    "## <span style=\"color:red\">Long-term vs short-term memory</span>"
   ]
  },
  {
   "cell_type": "markdown",
   "id": "7574d34d-5ce9-4bf0-8046-77d90f70e98c",
   "metadata": {},
   "source": [
    "* Memory is a cognitive function that allows people to store, retrieve, and use information to understand their present and future\n",
    "* In context of AI application, we think of memory in 2 ways:\n",
    "  * Within session: a conversation between user and ai (which wont persist after session ends)\n",
    "  * Across session: with persistence, able to access past threads"
   ]
  },
  {
   "cell_type": "markdown",
   "id": "7293a922-0174-45c8-8b7b-9d6ea322c56a",
   "metadata": {},
   "source": [
    "|   |  Short-term  |  Long-term |\n",
    "|---|--------------|------------|\n",
    "|Scope | Within session | Across session |\n",
    "|example use case | Persist conv history, allow interruptions in a chat (user is idle/ human-in-the-loop) | Remember info about a specific user across all chat sessions |\n",
    "| Implemented using | Checkpointers | Store |"
   ]
  },
  {
   "cell_type": "markdown",
   "id": "7002b7f1-35f3-4fa1-98a4-104fd8ceb1ef",
   "metadata": {},
   "source": [
    "* In either case, we take info, and pass it to an LLM"
   ]
  },
  {
   "cell_type": "markdown",
   "id": "18f1118e-910c-4e40-bdfc-d097fdb4d434",
   "metadata": {},
   "source": [
    "**In Short term memory**, long messages were filtered / summarized to prevent losing the context<br>\n",
    "**In long term memory**, we have 2 things to keep in mind:\n",
    "- What is the type of memory?\n",
    "- When you want to update the memory?"
   ]
  },
  {
   "cell_type": "markdown",
   "id": "64ee09e1-a69e-4e29-b773-ae2a842de24e",
   "metadata": {},
   "source": [
    "* What is the type of memory?\n",
    "  * In a human, we have 3 types of long term memory:\n",
    "    * Semantic: To store facts (eg., Bike model i have)\n",
    "    * Episodic: To store memories (eg., Bike rides I took)\n",
    "    * Procedural: To store instructions (eg., Bike driving method)\n",
    "  * Same for Agent:\n",
    "    * Semantic: Facts about a user\n",
    "    * Episodic: Past agent actions\n",
    "    * Procedural: Agent's system prompt\n",
    "* When you want to update the memory?\n",
    "  * Hot-path\n",
    "    * During runtime\n",
    "    * Real time updates with transparency for user\n",
    "    * Can affect UX/latency and degrade performance\n",
    "  * Background\n",
    "    * As a seperate process\n",
    "    * Lower risk of performance degradation\n",
    "    * Frequency of memory writing needs to be tuned"
   ]
  },
  {
   "cell_type": "markdown",
   "id": "078693e6-3d74-4f4e-82fb-837051de5d5d",
   "metadata": {},
   "source": [
    "## <span style=\"color:red\">Memory store</span>"
   ]
  },
  {
   "cell_type": "markdown",
   "id": "93598877-a63f-429b-9076-75489f6fbdc9",
   "metadata": {},
   "source": [
    "* the LangGraph memory store provides us a way to store and retrieve information across threads\n",
    "* this is the base class for persistent key : value stores"
   ]
  },
  {
   "cell_type": "code",
   "execution_count": 9,
   "id": "102866ae-e185-4efa-9c0c-c934cfcb2989",
   "metadata": {},
   "outputs": [],
   "source": [
    "import uuid\n",
    "from langgraph.store.memory import InMemoryStore\n",
    "in_memory_store = InMemoryStore()"
   ]
  },
  {
   "cell_type": "markdown",
   "id": "8c5752a0-9031-4408-9899-958711e33fcd",
   "metadata": {},
   "source": [
    "When storing objects (eg., memories in the store), we have:\n",
    "* `namespace`: tuple (similar to directories)\n",
    "* `key`: str (similar to filenames)\n",
    "* `value`: str (similar to file contents)"
   ]
  },
  {
   "cell_type": "code",
   "execution_count": 11,
   "id": "20b2feb5-2374-4f15-88a7-34bfc6c8ec55",
   "metadata": {},
   "outputs": [],
   "source": [
    "user_id = \"1\"\n",
    "namespace_for_memory = (user_id, \"memories\")\n",
    "\n",
    "key = str(uuid.uuid4())\n",
    "value = {\"food_preference\": \"I like plum cake\"}\n",
    "\n",
    "in_memory_store.put(namespace_for_memory, key, value)"
   ]
  },
  {
   "cell_type": "code",
   "execution_count": 13,
   "id": "2d3c9e66-b787-4a7e-b56e-20563d2e4188",
   "metadata": {},
   "outputs": [
    {
     "data": {
      "text/plain": [
       "[Item(namespace=['1', 'memories'], key='9ad82e7b-1f3c-417d-8d2d-06f925d18601', value={'food_preference': 'I like plum cake'}, created_at='2025-01-27T10:59:22.857075+00:00', updated_at='2025-01-27T10:59:22.857075+00:00', score=None)]"
      ]
     },
     "execution_count": 13,
     "metadata": {},
     "output_type": "execute_result"
    }
   ],
   "source": [
    "memories = in_memory_store.search(namespace_for_memory)\n",
    "memories"
   ]
  },
  {
   "cell_type": "code",
   "execution_count": 15,
   "id": "a16a1b3c-0dd9-4942-80b3-2814c453cb64",
   "metadata": {},
   "outputs": [
    {
     "data": {
      "text/plain": [
       "{'namespace': ['1', 'memories'],\n",
       " 'key': '9ad82e7b-1f3c-417d-8d2d-06f925d18601',\n",
       " 'value': {'food_preference': 'I like plum cake'},\n",
       " 'created_at': '2025-01-27T10:59:22.857075+00:00',\n",
       " 'updated_at': '2025-01-27T10:59:22.857075+00:00',\n",
       " 'score': None}"
      ]
     },
     "execution_count": 15,
     "metadata": {},
     "output_type": "execute_result"
    }
   ],
   "source": [
    "memories[0].dict()"
   ]
  },
  {
   "cell_type": "code",
   "execution_count": 19,
   "id": "054e627b-3f06-4ecb-bf22-6e0e08e9a9dd",
   "metadata": {},
   "outputs": [
    {
     "data": {
      "text/plain": [
       "{'namespace': ['1', 'memories'],\n",
       " 'key': '9ad82e7b-1f3c-417d-8d2d-06f925d18601',\n",
       " 'value': {'food_preference': 'I like plum cake'},\n",
       " 'created_at': '2025-01-27T10:59:22.857075+00:00',\n",
       " 'updated_at': '2025-01-27T10:59:22.857075+00:00'}"
      ]
     },
     "execution_count": 19,
     "metadata": {},
     "output_type": "execute_result"
    }
   ],
   "source": [
    "memory = in_memory_store.get(namespace_for_memory, '9ad82e7b-1f3c-417d-8d2d-06f925d18601')\n",
    "memory.dict()"
   ]
  },
  {
   "cell_type": "markdown",
   "id": "c4e72b92-6f36-484f-89f7-a0c58b38adbd",
   "metadata": {},
   "source": [
    "* `put`: insert into namespace\n",
    "* `search`: retrieve by namespace\n",
    "* `get`: retrieve by namespace and key"
   ]
  },
  {
   "cell_type": "code",
   "execution_count": 1,
   "id": "5cc8ca1a-cfa8-4436-818f-95b7fdd1b341",
   "metadata": {},
   "outputs": [],
   "source": [
    "from langchain_google_genai import ChatGoogleGenerativeAI\n",
    "from keys import gemini_api_key\n",
    "llm = ChatGoogleGenerativeAI(\n",
    "    model=\"gemini-1.5-flash\",\n",
    "    temperature=0,\n",
    "    google_api_key=gemini_api_key\n",
    ")"
   ]
  },
  {
   "cell_type": "markdown",
   "id": "26a2c619-52f7-4e5c-ba4e-a4fc2937f973",
   "metadata": {},
   "source": [
    "* The chat history will be saved to short-term memory using the checkpointer\n",
    "* The chatbot will reflect on the chat history\n",
    "* It will then create and save a memory to the store\n",
    "* This memory is accessible in future chat sessions to personalize the chatbot's responses"
   ]
  },
  {
   "cell_type": "code",
   "execution_count": 2,
   "id": "33c08f5a-d02c-4159-8269-1055d019f8cd",
   "metadata": {},
   "outputs": [],
   "source": [
    "from IPython.display import Image, display\n",
    "from langgraph.checkpoint.memory import MemorySaver\n",
    "from langgraph.graph import StateGraph, MessagesState, START, END\n",
    "from langgraph.store.base import BaseStore\n",
    "\n",
    "from langchain_core.messages import HumanMessage, SystemMessage\n",
    "from langchain_core.runnables.config import RunnableConfig\n",
    "\n",
    "MODEL_SYS_MSG = \"\"\"You are a helpful assistant with memory that provides information about the user.\n",
    "If you have memory for this user, use it to personalize your responses.\n",
    "Here is the memory (it may be empty): {memory}\"\"\"\n",
    "\n",
    "CREATE_MEMORY_INST = \"\"\"\"You are collecting information about the user to personalize your responses.\n",
    "\n",
    "CURRENT USER INFORMATION:\n",
    "{memory}\n",
    "\n",
    "INSTRUCTIONS:\n",
    "1. Review the chat history carefully\n",
    "2. Identify new information about the user, such as:\n",
    "   - Personal details (name, location)\n",
    "   - Preferences (likes, dislikes)\n",
    "   - Interests and hobbies\n",
    "   - Past experiences\n",
    "   - Goals or future plans\n",
    "3. Merge any new information with existing memory\n",
    "4. Format the memory as a clear, bulleted list\n",
    "5. If new information conflicts with existing memory, keep the most recent version\n",
    "\n",
    "Remember: Only include factual information directly stated by the user. Do not make assumptions or inferences.\n",
    "\n",
    "Based on the chat history below, please update the user information:\"\"\""
   ]
  },
  {
   "cell_type": "code",
   "execution_count": 3,
   "id": "61e723dd-ca76-4330-b329-66f5cfa16038",
   "metadata": {},
   "outputs": [],
   "source": [
    "def call_model(state: MessagesState, config: RunnableConfig, store: BaseStore):\n",
    "    user_id = config[\"configurable\"][\"user_id\"]\n",
    "\n",
    "    namespace = (\"memory\", user_id)\n",
    "    key = \"user_memory\"\n",
    "    existing_memory = store.get(namespace, key)\n",
    "\n",
    "    if existing_memory:\n",
    "        existing_memory_content = existing_memory.value.get(\"memory\")\n",
    "    else:\n",
    "        existing_memory_content = \"No existing memory found\"\n",
    "\n",
    "    sys_msg = MODEL_SYS_MSG.format(memory=existing_memory_content)\n",
    "    response = llm.invoke([SystemMessage(content=sys_msg)]+state[\"messages\"])\n",
    "\n",
    "    return {\"messages\": response}\n",
    "\n",
    "\n",
    "def write_memory(state: MessagesState, config: RunnableConfig, store: BaseStore):\n",
    "    user_id = config[\"configurable\"][\"user_id\"]\n",
    "\n",
    "    namespace = (\"memory\", user_id)\n",
    "    key = \"user_memory\"\n",
    "    existing_memory = store.get(namespace, key)\n",
    "\n",
    "    if existing_memory:\n",
    "        existing_memory_content = existing_memory.value.get(\"memory\")\n",
    "    else:\n",
    "        existing_memory_content = \"No existing memory found\"\n",
    "\n",
    "    sys_msg = CREATE_MEMORY_INST.format(memory=existing_memory_content)\n",
    "    new_memory = llm.invoke([SystemMessage(content=sys_msg)]+state[\"messages\"])\n",
    "\n",
    "    key = \"user_memory\"\n",
    "    store.put(namespace, key, {\"memory\": new_memory.content})"
   ]
  },
  {
   "cell_type": "code",
   "execution_count": 21,
   "id": "698a0fac-55b4-4c51-ba78-4cc16c19afe3",
   "metadata": {},
   "outputs": [
    {
     "data": {
      "image/png": "[encoded data removed]",
      "text/plain": [
       "<IPython.core.display.Image object>"
      ]
     },
     "metadata": {},
     "output_type": "display_data"
    }
   ],
   "source": [
    "builder = StateGraph(MessagesState)\n",
    "builder.add_node(\"call_model\", call_model)\n",
    "builder.add_node(\"write_memory\", write_memory)\n",
    "builder.add_edge(START, \"call_model\")\n",
    "builder.add_edge(\"call_model\", \"write_memory\")\n",
    "builder.add_edge(\"write_memory\", END)\n",
    "\n",
    "across_thread_memory = InMemoryStore()\n",
    "\n",
    "within_thread_memory = MemorySaver()\n",
    "\n",
    "graph = builder.compile(checkpointer=within_thread_memory, store=across_thread_memory)\n",
    "display(Image(graph.get_graph(xray=1).draw_mermaid_png()))"
   ]
  },
  {
   "cell_type": "markdown",
   "id": "df4c6f47-4c96-49a3-9280-780c4bb912a7",
   "metadata": {},
   "source": [
    "* When we interact with the chatbot we supply two things:\n",
    "  * Short-term (within-thread) memory: A `thread ID` for persisting the chat history\n",
    "  * Long term (cross-thread) memory: A `user ID` to namespace long-term memories to the user "
   ]
  },
  {
   "cell_type": "code",
   "execution_count": 23,
   "id": "be39be4d-1b3e-46c8-bb43-ec38c53619a0",
   "metadata": {},
   "outputs": [
    {
     "name": "stdout",
     "output_type": "stream",
     "text": [
      "================================\u001b[1m Human Message \u001b[0m=================================\n",
      "\n",
      "Hi, my name is YiLan Ma\n",
      "==================================\u001b[1m Ai Message \u001b[0m==================================\n",
      "\n",
      "It's nice to meet you, YiLan Ma!  How can I help you today?\n"
     ]
    }
   ],
   "source": [
    "config = {\"configurable\": {\"thread_id\": \"1\", \"user_id\": \"42\"}}\n",
    "input_msgs = [HumanMessage(content=\"Hi, my name is YiLan Ma\")]\n",
    "\n",
    "for chunk in graph.stream({\"messages\": input_msgs}, config, stream_mode=\"values\"):\n",
    "    chunk[\"messages\"][-1].pretty_print()"
   ]
  },
  {
   "cell_type": "code",
   "execution_count": 25,
   "id": "1b929a75-9df4-4e95-9669-051220cde699",
   "metadata": {},
   "outputs": [
    {
     "name": "stdout",
     "output_type": "stream",
     "text": [
      "================================\u001b[1m Human Message \u001b[0m=================================\n",
      "\n",
      "I like to bike around San Francisco\n",
      "==================================\u001b[1m Ai Message \u001b[0m==================================\n",
      "\n",
      "That's fantastic, YiLan Ma! San Francisco is a great city for biking, with so much to see and explore.  Do you have any particular areas you enjoy biking in, or any routes you'd like recommendations on?  Perhaps you're looking for suggestions on scenic routes, challenging climbs, or flat, easy paths?  Knowing your preferences will help me give you more tailored suggestions.\n"
     ]
    }
   ],
   "source": [
    "input_messages = [HumanMessage(content=\"I like to bike around San Francisco\")]\n",
    "\n",
    "# Run the graph\n",
    "for chunk in graph.stream({\"messages\": input_messages}, config, stream_mode=\"values\"):\n",
    "    chunk[\"messages\"][-1].pretty_print()"
   ]
  },
  {
   "cell_type": "markdown",
   "id": "c5cc1205-9336-4666-9672-ab07ea4fcdc7",
   "metadata": {},
   "source": [
    "#### Access the chat history\n",
    "\n",
    "* From the MemorySaver()\n",
    "* From the InMemoryStore()"
   ]
  },
  {
   "cell_type": "code",
   "execution_count": 29,
   "id": "60204ed7-e4f4-4b86-91a5-c19318ac3d9f",
   "metadata": {},
   "outputs": [
    {
     "name": "stdout",
     "output_type": "stream",
     "text": [
      "================================\u001b[1m Human Message \u001b[0m=================================\n",
      "\n",
      "Hi, my name is YiLan Ma\n",
      "==================================\u001b[1m Ai Message \u001b[0m==================================\n",
      "\n",
      "It's nice to meet you, YiLan Ma!  How can I help you today?\n",
      "================================\u001b[1m Human Message \u001b[0m=================================\n",
      "\n",
      "I like to bike around San Francisco\n",
      "==================================\u001b[1m Ai Message \u001b[0m==================================\n",
      "\n",
      "That's fantastic, YiLan Ma! San Francisco is a great city for biking, with so much to see and explore.  Do you have any particular areas you enjoy biking in, or any routes you'd like recommendations on?  Perhaps you're looking for suggestions on scenic routes, challenging climbs, or flat, easy paths?  Knowing your preferences will help me give you more tailored suggestions.\n"
     ]
    }
   ],
   "source": [
    "thread = {\"configurable\": {\"thread_id\": \"1\"}}\n",
    "state = graph.get_state(thread).values\n",
    "for m in state[\"messages\"]:\n",
    "    m.pretty_print()"
   ]
  },
  {
   "cell_type": "code",
   "execution_count": 31,
   "id": "7c32dce3-9880-48b6-87a4-8f99f987a020",
   "metadata": {},
   "outputs": [
    {
     "data": {
      "text/plain": [
       "{'namespace': ['memory', '42'],\n",
       " 'key': 'user_memory',\n",
       " 'value': {'memory': \"Here's an updated memory based on our conversation:\\n\\n* **Name:** YiLan Ma\\n* **Location:** San Francisco (implied by biking there)\\n* **Interests/Hobbies:** Biking\"},\n",
       " 'created_at': '2025-01-27T11:00:27.366186+00:00',\n",
       " 'updated_at': '2025-01-27T11:00:27.366186+00:00'}"
      ]
     },
     "execution_count": 31,
     "metadata": {},
     "output_type": "execute_result"
    }
   ],
   "source": [
    "user_id =\"42\"\n",
    "namespace = (\"memory\", user_id)\n",
    "existing_memory = across_thread_memory.get(namespace, \"user_memory\")\n",
    "existing_memory.dict()"
   ]
  },
  {
   "cell_type": "markdown",
   "id": "e4236cad-78f8-4122-99b8-fb4a4c70c77d",
   "metadata": {},
   "source": [
    "Now, lets use the **same** `user_id` with a **different** `thread_id`"
   ]
  },
  {
   "cell_type": "code",
   "execution_count": 33,
   "id": "6c61432f-eaf6-4636-bc7d-9204a0355cf1",
   "metadata": {},
   "outputs": [
    {
     "name": "stdout",
     "output_type": "stream",
     "text": [
      "================================\u001b[1m Human Message \u001b[0m=================================\n",
      "\n",
      "Hi! Where would you recommend that I go biking?\n",
      "==================================\u001b[1m Ai Message \u001b[0m==================================\n",
      "\n",
      "Hi YiLan!  Since you're in San Francisco and enjoy biking, I have a few recommendations depending on what kind of ride you're looking for.  \n",
      "\n",
      "To give you the best suggestions, could you tell me a bit more about what you're hoping for in a bike ride today?  For example:\n",
      "\n",
      "* **Distance:**  A short, leisurely ride or a longer, more challenging one?\n",
      "* **Terrain:**  Mostly flat, hilly, or a mix?  Are you looking for paved paths or more off-road trails?\n",
      "* **Scenery:**  Are you hoping for city views, ocean views, or something else?\n",
      "\n",
      "Once I know a little more about your preferences, I can give you some more specific and helpful recommendations for biking spots around San Francisco.\n"
     ]
    }
   ],
   "source": [
    "config = {\"configurable\": {\"thread_id\": \"2\", \"user_id\": \"42\"}}\n",
    "input_msgs = [HumanMessage(content=\"Hi! Where would you recommend that I go biking?\")]\n",
    "\n",
    "\n",
    "for chunk in graph.stream({\"messages\": input_msgs}, config, stream_mode=\"values\"):\n",
    "    chunk[\"messages\"][-1].pretty_print()"
   ]
  },
  {
   "cell_type": "code",
   "execution_count": 36,
   "id": "686df4b3-d947-4149-baee-340b18660863",
   "metadata": {},
   "outputs": [
    {
     "name": "stdout",
     "output_type": "stream",
     "text": [
      "================================\u001b[1m Human Message \u001b[0m=================================\n",
      "\n",
      "Okay, before that, what's the best way to end the day after i do that?\n",
      "==================================\u001b[1m Ai Message \u001b[0m==================================\n",
      "\n",
      "That depends entirely on what kind of day you've had biking and what you're in the mood for!  To give you the best suggestion, tell me a bit more about your ideal way to unwind after a bike ride.  For example:\n",
      "\n",
      "* **How tired are you likely to be?**  A vigorous ride might call for a relaxing activity, while a leisurely one might leave you with energy for something more active.\n",
      "* **What's the weather like?**  A warm, sunny day might be perfect for an outdoor activity, while a cool evening might be better suited for something indoors.\n",
      "* **What's your mood?**  Are you looking to socialize, relax alone, or something in between?\n",
      "\n",
      "Once I have a better sense of your preferences, I can offer some personalized suggestions for ending your day perfectly after your bike ride.\n"
     ]
    }
   ],
   "source": [
    "input_messages = [HumanMessage(content=\"Okay, before that, what's the best way to end the day after i do that?\")]\n",
    "\n",
    "for chunk in graph.stream({\"messages\": input_messages}, config, stream_mode=\"values\"):\n",
    "    chunk[\"messages\"][-1].pretty_print()"
   ]
  },
  {
   "cell_type": "markdown",
   "id": "1af88bf3-1cef-4d54-a3be-ad70226ccef6",
   "metadata": {},
   "source": [
    "## <span style=\"color:red\">Complex schemas</span>"
   ]
  },
  {
   "cell_type": "markdown",
   "id": "6fad674d-55d4-4402-9d9c-9da23f1b6697",
   "metadata": {},
   "source": [
    "Can `.with_structured_outputs` work for complex schemas?"
   ]
  },
  {
   "cell_type": "code",
   "execution_count": 6,
   "id": "3d094409-2ca8-4774-a722-b1ab40e74492",
   "metadata": {},
   "outputs": [],
   "source": [
    "from typing import List, Optional\n",
    "from pydantic import BaseModel, Field\n",
    "\n",
    "class OutputFormat(BaseModel):\n",
    "    preference: str\n",
    "    sentence_preference_revealed: str\n",
    "\n",
    "class TelegramPreferences(BaseModel):\n",
    "    preferred_encoding: Optional[List[OutputFormat]] = None\n",
    "    favorite_telegram_operators: Optional[List[OutputFormat]] = None\n",
    "    preferred_telegram_paper: Optional[List[OutputFormat]] = None\n",
    "\n",
    "class MorseCode(BaseModel):\n",
    "    preferred_key_type: Optional[List[OutputFormat]] = None\n",
    "    favorite_morse_abbreviations: Optional[List[OutputFormat]] = None\n",
    "\n",
    "class Semaphore(BaseModel):\n",
    "    preferred_flag_color: Optional[List[OutputFormat]] = None\n",
    "    semaphore_skill_level: Optional[List[OutputFormat]] = None\n",
    "\n",
    "class TrustFallPreferences(BaseModel):\n",
    "    preferred_fall_height: Optional[List[OutputFormat]] = None\n",
    "    trust_level: Optional[List[OutputFormat]] = None\n",
    "    preferred_catching_technique: Optional[List[OutputFormat]] = None\n",
    "\n",
    "class CommunicationPreferences(BaseModel):\n",
    "    telegram: TelegramPreferences\n",
    "    morse_code: MorseCode\n",
    "    semaphore: Semaphore\n",
    "\n",
    "class UserPreferences(BaseModel):\n",
    "    communication_preferences: CommunicationPreferences\n",
    "    trust_fall_preferences: TrustFallPreferences\n",
    "\n",
    "class TelegramAndTrustFallPreferences(BaseModel):\n",
    "    pertinent_user_preferences: UserPreferences"
   ]
  },
  {
   "cell_type": "code",
   "execution_count": 8,
   "id": "6726a220-88cf-4594-8cd5-c7b61679f1d6",
   "metadata": {},
   "outputs": [],
   "source": [
    "from langchain_google_genai import ChatGoogleGenerativeAI\n",
    "from keys import gemini_api_key\n",
    "gemini_llm = ChatGoogleGenerativeAI(\n",
    "    model=\"gemini-1.5-flash-latest\",\n",
    "    temperature=0,\n",
    "    api_key=gemini_api_key\n",
    ")"
   ]
  },
  {
   "cell_type": "code",
   "execution_count": 10,
   "id": "79c1b135-651a-4957-92f3-9311b5fdd46d",
   "metadata": {},
   "outputs": [],
   "source": [
    "from pydantic import ValidationError\n",
    "\n",
    "model_with_structure = gemini_llm.with_structured_output(TelegramAndTrustFallPreferences)"
   ]
  },
  {
   "cell_type": "code",
   "execution_count": 12,
   "id": "0b20b9b4-acb5-4d70-872b-6cefaca49aba",
   "metadata": {},
   "outputs": [],
   "source": [
    "conversation = \"\"\"\n",
    "Operator: How may I assist with your telegram, sir?\n",
    "Customer: I need to send a message about our trust fall exercise.\n",
    "Operator: Certainly. Morse code or standard encoding?\n",
    "Customer: Morse, please. I love using a straight key.\n",
    "Operator: Excellent. What's your message?\n",
    "Customer: Tell him I'm ready for a higher fall, and I prefer the diamond formation for catching.\n",
    "Operator: Done. Shall I use our \"Daredevil\" paper for this daring message?\n",
    "Customer: Perfect! Send it by your fastest carrier pigeon.\n",
    "Operator: It'll be there within the hour, sir.\"\"\""
   ]
  },
  {
   "cell_type": "code",
   "execution_count": 20,
   "id": "b098c672-296e-4b44-9a28-00016a75a860",
   "metadata": {},
   "outputs": [
    {
     "name": "stdout",
     "output_type": "stream",
     "text": [
      "Invalid argument provided to Gemini: 400 * GenerateContentRequest.tools[0].function_declarations[0].parameters.properties[pertinent_user_preferences].properties[trust_fall_preferences].properties[preferred_fall_height].items: missing field.\n",
      "* GenerateContentRequest.tools[0].function_declarations[0].parameters.properties[pertinent_user_preferences].properties[trust_fall_preferences].properties[preferred_catching_technique].items: missing field.\n",
      "* GenerateContentRequest.tools[0].function_declarations[0].parameters.properties[pertinent_user_preferences].properties[trust_fall_preferences].properties[trust_level].items: missing field.\n",
      "* GenerateContentRequest.tools[0].function_declarations[0].parameters.properties[pertinent_user_preferences].properties[communication_preferences].properties[semaphore].properties[preferred_flag_color].items: missing field.\n",
      "* GenerateContentRequest.tools[0].function_declarations[0].parameters.properties[pertinent_user_preferences].properties[communication_preferences].properties[semaphore].properties[semaphore_skill_level].items: missing field.\n",
      "* GenerateContentRequest.tools[0].function_declarations[0].parameters.properties[pertinent_user_preferences].properties[communication_preferences].properties[morse_code].properties[favorite_morse_abbreviations].items: missing field.\n",
      "* GenerateContentRequest.tools[0].function_declarations[0].parameters.properties[pertinent_user_preferences].properties[communication_preferences].properties[morse_code].properties[preferred_key_type].items: missing field.\n",
      "* GenerateContentRequest.tools[0].function_declarations[0].parameters.properties[pertinent_user_preferences].properties[communication_preferences].properties[telegram].properties[preferred_telegram_paper].items: missing field.\n",
      "* GenerateContentRequest.tools[0].function_declarations[0].parameters.properties[pertinent_user_preferences].properties[communication_preferences].properties[telegram].properties[preferred_encoding].items: missing field.\n",
      "* GenerateContentRequest.tools[0].function_declarations[0].parameters.properties[pertinent_user_preferences].properties[communication_preferences].properties[telegram].properties[favorite_telegram_operators].items: missing field.\n",
      "\n"
     ]
    }
   ],
   "source": [
    "prompt = f\"\"\"\n",
    "Extract the preferences from the following conversation:\n",
    "<convo>\n",
    "{conversation}\n",
    "</convo>\n",
    "\"\"\"\n",
    "try:\n",
    "    model_with_structure.invoke(prompt)\n",
    "except Exception as e:\n",
    "    print(str(e))"
   ]
  },
  {
   "cell_type": "markdown",
   "id": "f2b846af-0eda-4b64-b685-8117fe05322b",
   "metadata": {},
   "source": [
    "`!pip install trustcall`"
   ]
  },
  {
   "cell_type": "code",
   "execution_count": 25,
   "id": "260ffd0e-7ccf-4e6b-b528-97e5158f5f32",
   "metadata": {},
   "outputs": [],
   "source": [
    "from trustcall import create_extractor"
   ]
  },
  {
   "cell_type": "code",
   "execution_count": 37,
   "id": "95687bb6-45c2-4a83-ac0a-dd4dacd9a640",
   "metadata": {},
   "outputs": [],
   "source": [
    "gemini_llm = ChatGoogleGenerativeAI(\n",
    "    model=\"gemini-2.0-flash-exp\",\n",
    "    temperature=0,\n",
    "    api_key=gemini_api_key\n",
    ")"
   ]
  },
  {
   "cell_type": "code",
   "execution_count": 39,
   "id": "ef106509-cb0f-4c0c-8bc2-9b57b31326a6",
   "metadata": {},
   "outputs": [
    {
     "name": "stderr",
     "output_type": "stream",
     "text": [
      "Key '$defs' is not supported in schema, ignoring\n",
      "Key 'title' is not supported in schema, ignoring\n"
     ]
    },
    {
     "name": "stdout",
     "output_type": "stream",
     "text": [
      "Invalid argument provided to Gemini: 400 * GenerateContentRequest.tools[0].function_declarations[0].parameters.properties[pertinent_user_preferences].properties[trust_fall_preferences].properties[preferred_catching_technique].items: missing field.\n",
      "* GenerateContentRequest.tools[0].function_declarations[0].parameters.properties[pertinent_user_preferences].properties[trust_fall_preferences].properties[trust_level].items: missing field.\n",
      "* GenerateContentRequest.tools[0].function_declarations[0].parameters.properties[pertinent_user_preferences].properties[trust_fall_preferences].properties[preferred_fall_height].items: missing field.\n",
      "* GenerateContentRequest.tools[0].function_declarations[0].parameters.properties[pertinent_user_preferences].properties[communication_preferences].properties[morse_code].properties[preferred_key_type].items: missing field.\n",
      "* GenerateContentRequest.tools[0].function_declarations[0].parameters.properties[pertinent_user_preferences].properties[communication_preferences].properties[morse_code].properties[favorite_morse_abbreviations].items: missing field.\n",
      "* GenerateContentRequest.tools[0].function_declarations[0].parameters.properties[pertinent_user_preferences].properties[communication_preferences].properties[semaphore].properties[preferred_flag_color].items: missing field.\n",
      "* GenerateContentRequest.tools[0].function_declarations[0].parameters.properties[pertinent_user_preferences].properties[communication_preferences].properties[semaphore].properties[semaphore_skill_level].items: missing field.\n",
      "* GenerateContentRequest.tools[0].function_declarations[0].parameters.properties[pertinent_user_preferences].properties[communication_preferences].properties[telegram].properties[preferred_telegram_paper].items: missing field.\n",
      "* GenerateContentRequest.tools[0].function_declarations[0].parameters.properties[pertinent_user_preferences].properties[communication_preferences].properties[telegram].properties[preferred_encoding].items: missing field.\n",
      "* GenerateContentRequest.tools[0].function_declarations[0].parameters.properties[pertinent_user_preferences].properties[communication_preferences].properties[telegram].properties[favorite_telegram_operators].items: missing field.\n",
      "\n"
     ]
    }
   ],
   "source": [
    "bound = create_extractor(\n",
    "    gemini_llm,\n",
    "    tools=[TelegramAndTrustFallPreferences],\n",
    "    tool_choice=\"TelegramAndTrustFallPreferences\",\n",
    ")\n",
    "\n",
    "# Conversation\n",
    "conversation = \"\"\"Operator: How may I assist with your telegram, sir?\n",
    "Customer: I need to send a message about our trust fall exercise.\n",
    "Operator: Certainly. Morse code or standard encoding?\n",
    "Customer: Morse, please. I love using a straight key.\n",
    "Operator: Excellent. What's your message?\n",
    "Customer: Tell him I'm ready for a higher fall, and I prefer the diamond formation for catching.\n",
    "Operator: Done. Shall I use our \"Daredevil\" paper for this daring message?\n",
    "Customer: Perfect! Send it by your fastest carrier pigeon.\n",
    "Operator: It'll be there within the hour, sir.\"\"\"\n",
    "try:\n",
    "    result = bound.invoke(\n",
    "        f\"\"\"Extract the preferences from the following conversation:\n",
    "    <convo>\n",
    "    {conversation}\n",
    "    </convo>\"\"\"\n",
    "    )\n",
    "except Exception as e:\n",
    "    print(e)"
   ]
  },
  {
   "cell_type": "markdown",
   "id": "fdfadef4-119c-485e-8605-ad869a0aee86",
   "metadata": {},
   "source": [
    "## <span style=\"color:red\">Deployment</span>"
   ]
  },
  {
   "cell_type": "markdown",
   "id": "72a4a204-3a3d-4311-b184-b35195a3ad4c",
   "metadata": {},
   "source": [
    "* Self-Hosted Lite\n",
    "  * Free\n",
    "  * Limited to 1M nodes executed/year\n",
    "  * Some missing features\n",
    "  * Download the CLI"
   ]
  },
  {
   "cell_type": "markdown",
   "id": "ceb80c1a-d782-4437-b16a-443f0ab1fe1b",
   "metadata": {},
   "source": [
    "* For production\n",
    "  * Langgraph cloud\n",
    "  * BYOC\n",
    "  * Self-hosted (enterprise)"
   ]
  },
  {
   "cell_type": "markdown",
   "id": "45d33b01-6d29-412e-a141-3940feeea8ed",
   "metadata": {},
   "source": [
    "| Option | Manage | Infra | Considerations|\n",
    "|-----------------|--------|-------|---------------|\n",
    "| LangGraph cloud | Managed for you | Our infrastructure | Fully managed for easy onboarding |\n",
    "| BYOC | Managed for you | Your infrastructure | Data privacy but managed |\n",
    "| Self-hosted (enterprise) | Managed by you | Your infrastructure | Gives you full control|"
   ]
  },
  {
   "cell_type": "markdown",
   "id": "de581856-4934-4378-b75e-ada09a78beb6",
   "metadata": {},
   "source": [
    "* Features\n",
    "  * Streaming\n",
    "  * Checkpoints/short-term memory\n",
    "  * Human-in-the-loop\n",
    "  * Long-term memory\n",
    "  * Agent schedulling: Cron jobs\n",
    "  * Long running agents: Background runs/ task queue\n",
    "  * Better chat UX: Support for double texting\n",
    "  * Agent configuration: Assistants"
   ]
  }
 ],
 "metadata": {
  "kernelspec": {
   "display_name": "Python 3 (ipykernel)",
   "language": "python",
   "name": "python3"
  },
  "language_info": {
   "codemirror_mode": {
    "name": "ipython",
    "version": 3
   },
   "file_extension": ".py",
   "mimetype": "text/x-python",
   "name": "python",
   "nbconvert_exporter": "python",
   "pygments_lexer": "ipython3",
   "version": "3.11.7"
  }
 },
 "nbformat": 4,
 "nbformat_minor": 5
}
