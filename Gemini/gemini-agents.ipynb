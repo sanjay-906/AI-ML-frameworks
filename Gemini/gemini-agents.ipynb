{
 "cells": [
  {
   "cell_type": "code",
   "execution_count": 21,
   "id": "f77cbc48-7a8b-485e-b6ce-410bcd5da8e7",
   "metadata": {},
   "outputs": [
    {
     "data": {
      "text/plain": [
       "True"
      ]
     },
     "execution_count": 21,
     "metadata": {},
     "output_type": "execute_result"
    }
   ],
   "source": [
    "from langfuse.callback import CallbackHandler\n",
    "import keys \n",
    "import os\n",
    "os.environ[\"LANGFUSE_HOST\"]= \"http://localhost:3000\"\n",
    "os.environ[\"LANGFUSE_SECRET_KEY\"]= keys.langfuse_secret_key\n",
    "os.environ[\"LANGFUSE_PUBLIC_KEY\"]= keys.langfuse_public_key\n",
    "os.environ[\"GOOGLE_API_KEY\"]= keys.gemini_api_key\n",
    "langfuse_handler = CallbackHandler()\n",
    "langfuse_handler.auth_check()\n",
    "\n",
    "#chain.invoke({\"topic\": \"humans\"}, config={\"callbacks\": [langfuse_handler]})"
   ]
  },
  {
   "cell_type": "code",
   "execution_count": 37,
   "id": "7fab7dc4-00fa-45a6-b0ef-52a3f83f9d03",
   "metadata": {},
   "outputs": [],
   "source": [
    "from langchain.text_splitter import RecursiveCharacterTextSplitter\n",
    "from langchain_community.document_loaders import PyPDFLoader\n",
    "from langchain_community.tools import DuckDuckGoSearchRun\n",
    "from langchain_community.vectorstores import Chroma\n",
    "from langchain_google_genai import GoogleGenerativeAIEmbeddings"
   ]
  },
  {
   "cell_type": "code",
   "execution_count": 25,
   "id": "759907d8-9211-4d03-ad7f-eaabfd9c5a74",
   "metadata": {},
   "outputs": [],
   "source": [
    "loader= PyPDFLoader(\"C:/Users/HP/Downloads/sample.pdf\")\n",
    "docs= loader.load_and_split()"
   ]
  },
  {
   "cell_type": "code",
   "execution_count": 27,
   "id": "487b8da0-e3ed-4bd3-8e6f-e76805088b92",
   "metadata": {},
   "outputs": [],
   "source": [
    "text_splitter= RecursiveCharacterTextSplitter(\n",
    "    chunk_size= 200,\n",
    "    chunk_overlap= 20\n",
    ")\n",
    "\n",
    "documents= text_splitter.split_documents(docs)"
   ]
  },
  {
   "cell_type": "code",
   "execution_count": 29,
   "id": "bc2ba2c0-1f4b-4a39-b15e-10d39cd9d6a3",
   "metadata": {},
   "outputs": [
    {
     "data": {
      "text/plain": [
       "36"
      ]
     },
     "execution_count": 29,
     "metadata": {},
     "output_type": "execute_result"
    }
   ],
   "source": [
    "len(documents)"
   ]
  },
  {
   "cell_type": "code",
   "execution_count": 31,
   "id": "eb554427-ad70-4f72-af45-866842ecf20d",
   "metadata": {},
   "outputs": [],
   "source": [
    "embeddings= GoogleGenerativeAIEmbeddings(model= \"models/embedding-001\")"
   ]
  },
  {
   "cell_type": "code",
   "execution_count": 35,
   "id": "efcef528-02be-4ad8-86e9-0f0d8f938fd8",
   "metadata": {},
   "outputs": [
    {
     "data": {
      "text/plain": [
       "768"
      ]
     },
     "execution_count": 35,
     "metadata": {},
     "output_type": "execute_result"
    }
   ],
   "source": [
    "embedded_docs= embeddings.embed_query(documents[0].page_content)\n",
    "len(embedded_docs)"
   ]
  },
  {
   "cell_type": "code",
   "execution_count": 39,
   "id": "5402b6c0-700e-4c9f-b075-d1265c5a3291",
   "metadata": {},
   "outputs": [],
   "source": [
    "vectorstore= FAISS.from_documents(documents, embeddings)\n",
    "retriever= vectorstore.as_retriever()"
   ]
  },
  {
   "cell_type": "code",
   "execution_count": 41,
   "id": "504b8436-0fac-4eca-8ed6-b01e34f58818",
   "metadata": {},
   "outputs": [
    {
     "data": {
      "text/plain": [
       "[Document(metadata={'source': 'C:/Users/HP/Downloads/sample.pdf', 'page': 4}, page_content='2.run“pdflatexfile.tex ”onthemainﬁleofthedocumentthreetimes\\n(three—to preparevalidtable ofcontents);\\n3.to see or print the result use acroread (unfortunately some versions of'),\n",
       " Document(metadata={'source': 'C:/Users/HP/Downloads/sample.pdf', 'page': 2}, page_content='Contents\\n1 Template 5\\n1.1 How tocompilea .texﬁleto a.pdfﬁle. . . . . . . . . . . . . 5\\n1.1.1 Tools . . . . . . . . . . . . . . . . . . . . . . . . . . . . 5'),\n",
       " Document(metadata={'source': 'C:/Users/HP/Downloads/sample.pdf', 'page': 6}, page_content='When producing.pdfﬁles you should usepdflatex , which produces di-\\nrectly.pdfﬁles out of.texsources. Note that in the .texﬁle you may need\\nto usesomePDFspeciﬁcpackages.'),\n",
       " Document(metadata={'source': 'C:/Users/HP/Downloads/sample.pdf', 'page': 5}, page_content='5.run“fax send phone-numberfile.ps ”asroottosendafax,or—ifyou\\nknowhowtodothis—modifythe faxscripttobeabletofax .pdfﬁlesdirectly\\n(you have to insert“|%PDF*” somewhere...).\\n1.2 How towrite adocument')]"
      ]
     },
     "execution_count": 41,
     "metadata": {},
     "output_type": "execute_result"
    }
   ],
   "source": [
    "retriever.invoke(\"how to process a pdf file?\")"
   ]
  },
  {
   "cell_type": "code",
   "execution_count": 81,
   "id": "3abe720d-4f9c-48d5-9e08-5b1e279c38af",
   "metadata": {},
   "outputs": [
    {
     "data": {
      "text/plain": [
       "{'name': 'retriever_tool',\n",
       " 'description': 'For any information related to types of file and formattigs, use this tool.\\n    Useful for retrieving information related to the PDFs, Text files, Latex etc..',\n",
       " 'args_schema': langchain_core.tools.RetrieverInput,\n",
       " 'return_direct': False,\n",
       " 'verbose': False,\n",
       " 'tags': None,\n",
       " 'metadata': None,\n",
       " 'handle_tool_error': False,\n",
       " 'handle_validation_error': False,\n",
       " 'response_format': 'content',\n",
       " 'func': functools.partial(<function _get_relevant_documents at 0x0000027219CCD260>, retriever=VectorStoreRetriever(tags=['FAISS', 'GoogleGenerativeAIEmbeddings'], vectorstore=<langchain_community.vectorstores.faiss.FAISS object at 0x000002721C7B3450>), document_prompt=PromptTemplate(input_variables=['page_content'], template='{page_content}'), document_separator='\\n\\n'),\n",
       " 'coroutine': functools.partial(<function _aget_relevant_documents at 0x0000027219CCD800>, retriever=VectorStoreRetriever(tags=['FAISS', 'GoogleGenerativeAIEmbeddings'], vectorstore=<langchain_community.vectorstores.faiss.FAISS object at 0x000002721C7B3450>), document_prompt=PromptTemplate(input_variables=['page_content'], template='{page_content}'), document_separator='\\n\\n')}"
      ]
     },
     "execution_count": 81,
     "metadata": {},
     "output_type": "execute_result"
    }
   ],
   "source": [
    "from langchain.tools.retriever import create_retriever_tool\n",
    "\n",
    "retriever_tool= create_retriever_tool(\n",
    "    retriever= retriever,\n",
    "    name= \"retriever_tool\",\n",
    "    description= '''For any information related to types of file and formattigs, use this tool.\n",
    "    Useful for retrieving information related to the PDFs, Text files, Latex etc..''' \n",
    ")\n",
    "\n",
    "retriever_tool.dict()"
   ]
  },
  {
   "cell_type": "code",
   "execution_count": 47,
   "id": "02a953fa-66e0-48e7-8784-5869ec4b540e",
   "metadata": {},
   "outputs": [
    {
     "data": {
      "text/plain": [
       "{'name': 'duckduckgo_search',\n",
       " 'description': 'A wrapper around DuckDuckGo Search. Useful for when you need to answer questions about current events. Input should be a search query.',\n",
       " 'args_schema': langchain_community.tools.ddg_search.tool.DDGInput,\n",
       " 'return_direct': False,\n",
       " 'verbose': False,\n",
       " 'tags': None,\n",
       " 'metadata': None,\n",
       " 'handle_tool_error': False,\n",
       " 'handle_validation_error': False,\n",
       " 'response_format': 'content',\n",
       " 'api_wrapper': {'region': 'wt-wt',\n",
       "  'safesearch': 'moderate',\n",
       "  'time': 'y',\n",
       "  'max_results': 5,\n",
       "  'backend': 'api',\n",
       "  'source': 'text'}}"
      ]
     },
     "execution_count": 47,
     "metadata": {},
     "output_type": "execute_result"
    }
   ],
   "source": [
    "search_tool= DuckDuckGoSearchRun()\n",
    "search_tool.dict()"
   ]
  },
  {
   "cell_type": "code",
   "execution_count": 49,
   "id": "b609f489-423c-45ba-9118-e2e3ed183bc4",
   "metadata": {},
   "outputs": [],
   "source": [
    "tools= [search_tool, retriever_tool]"
   ]
  },
  {
   "cell_type": "code",
   "execution_count": 53,
   "id": "237f4af1-4f1d-45cf-8c34-c80378601487",
   "metadata": {},
   "outputs": [],
   "source": [
    "from langchain_google_genai import GoogleGenerativeAI\n",
    "llm= GoogleGenerativeAI(\n",
    "    model= \"gemini-1.5-pro\",\n",
    "    geoogle_api_key= os.environ[\"GOOGLE_API_KEY\"]\n",
    ")"
   ]
  },
  {
   "cell_type": "code",
   "execution_count": 55,
   "id": "7f9eae22-deb6-47f0-8cbb-517335937c7a",
   "metadata": {},
   "outputs": [
    {
     "data": {
      "text/plain": [
       "GoogleGenerativeAI(model='gemini-1.5-pro', client=genai.GenerativeModel(\n",
       "    model_name='models/gemini-1.5-pro',\n",
       "    generation_config={},\n",
       "    safety_settings={},\n",
       "    tools=None,\n",
       "    system_instruction=None,\n",
       "    cached_content=None\n",
       "))"
      ]
     },
     "execution_count": 55,
     "metadata": {},
     "output_type": "execute_result"
    }
   ],
   "source": [
    "llm"
   ]
  },
  {
   "cell_type": "code",
   "execution_count": 57,
   "id": "27c9a317-fa0e-4091-ac42-cfac8c010e9b",
   "metadata": {},
   "outputs": [],
   "source": [
    "from langchain import hub\n",
    "from langchain.agents import create_react_agent, AgentExecutor"
   ]
  },
  {
   "cell_type": "code",
   "execution_count": 59,
   "id": "6d8c01fd-db77-4306-97c1-e6695cf9bf9a",
   "metadata": {},
   "outputs": [
    {
     "name": "stdout",
     "output_type": "stream",
     "text": [
      "Answer the following questions as best you can. You have access to the following tools:\n",
      "\n",
      "{tools}\n",
      "\n",
      "Use the following format:\n",
      "\n",
      "Question: the input question you must answer\n",
      "Thought: you should always think about what to do\n",
      "Action: the action to take, should be one of [{tool_names}]\n",
      "Action Input: the input to the action\n",
      "Observation: the result of the action\n",
      "... (this Thought/Action/Action Input/Observation can repeat N times)\n",
      "Thought: I now know the final answer\n",
      "Final Answer: the final answer to the original input question\n",
      "\n",
      "Begin!\n",
      "\n",
      "Question: {input}\n",
      "Thought:{agent_scratchpad}\n"
     ]
    }
   ],
   "source": [
    "prompt= hub.pull(\"hwchase17/react\")\n",
    "print(prompt.template)"
   ]
  },
  {
   "cell_type": "code",
   "execution_count": 63,
   "id": "8aa4ac94-ae2c-4648-ab7d-affa9327751c",
   "metadata": {},
   "outputs": [],
   "source": [
    "agent= create_react_agent(tools= tools, llm= llm, prompt= prompt)"
   ]
  },
  {
   "cell_type": "code",
   "execution_count": 65,
   "id": "2e14a0d4-867f-4f24-9dc2-00d974b41848",
   "metadata": {},
   "outputs": [
    {
     "data": {
      "text/plain": [
       "RunnableAssign(mapper={\n",
       "  agent_scratchpad: RunnableLambda(lambda x: format_log_to_str(x['intermediate_steps']))\n",
       "})\n",
       "| PromptTemplate(input_variables=['agent_scratchpad', 'input'], partial_variables={'tools': \"duckduckgo_search - A wrapper around DuckDuckGo Search. Useful for when you need to answer questions about current events. Input should be a search query.\\nretriever_tool(query: 'str', *, retriever: 'BaseRetriever' = VectorStoreRetriever(tags=['FAISS', 'GoogleGenerativeAIEmbeddings'], vectorstore=<langchain_community.vectorstores.faiss.FAISS object at 0x000002721C7B3450>), document_prompt: 'BasePromptTemplate' = PromptTemplate(input_variables=['page_content'], template='{page_content}'), document_separator: 'str' = '\\\\n\\\\n', callbacks: 'Callbacks' = None) -> 'str' - For any information related to types of file and formattigs, use this tool.\\n    Useful for retrieving information related to the PDFs, Text files, Latex etc..\", 'tool_names': 'duckduckgo_search, retriever_tool'}, metadata={'lc_hub_owner': 'hwchase17', 'lc_hub_repo': 'react', 'lc_hub_commit_hash': 'd15fe3c426f1c4b3f37c9198853e4a86e20c425ca7f4752ec0c9b0e97ca7ea4d'}, template='Answer the following questions as best you can. You have access to the following tools:\\n\\n{tools}\\n\\nUse the following format:\\n\\nQuestion: the input question you must answer\\nThought: you should always think about what to do\\nAction: the action to take, should be one of [{tool_names}]\\nAction Input: the input to the action\\nObservation: the result of the action\\n... (this Thought/Action/Action Input/Observation can repeat N times)\\nThought: I now know the final answer\\nFinal Answer: the final answer to the original input question\\n\\nBegin!\\n\\nQuestion: {input}\\nThought:{agent_scratchpad}')\n",
       "| RunnableBinding(bound=GoogleGenerativeAI(model='gemini-1.5-pro', client=genai.GenerativeModel(\n",
       "      model_name='models/gemini-1.5-pro',\n",
       "      generation_config={},\n",
       "      safety_settings={},\n",
       "      tools=None,\n",
       "      system_instruction=None,\n",
       "      cached_content=None\n",
       "  )), kwargs={'stop': ['\\nObservation']})\n",
       "| ReActSingleInputOutputParser()"
      ]
     },
     "execution_count": 65,
     "metadata": {},
     "output_type": "execute_result"
    }
   ],
   "source": [
    "agent"
   ]
  },
  {
   "cell_type": "code",
   "execution_count": 67,
   "id": "c1aa75bd-77c4-4c1e-a8a9-0e3da6e66f0d",
   "metadata": {},
   "outputs": [],
   "source": [
    "agent_executor= AgentExecutor(agent= agent, tools= tools, verbose= True)"
   ]
  },
  {
   "cell_type": "code",
   "execution_count": 69,
   "id": "b451ced8-1966-4e46-9a73-62fc6a8b9135",
   "metadata": {},
   "outputs": [
    {
     "data": {
      "text/plain": [
       "AgentExecutor(verbose=True, agent=RunnableAgent(runnable=RunnableAssign(mapper={\n",
       "  agent_scratchpad: RunnableLambda(lambda x: format_log_to_str(x['intermediate_steps']))\n",
       "})\n",
       "| PromptTemplate(input_variables=['agent_scratchpad', 'input'], partial_variables={'tools': \"duckduckgo_search - A wrapper around DuckDuckGo Search. Useful for when you need to answer questions about current events. Input should be a search query.\\nretriever_tool(query: 'str', *, retriever: 'BaseRetriever' = VectorStoreRetriever(tags=['FAISS', 'GoogleGenerativeAIEmbeddings'], vectorstore=<langchain_community.vectorstores.faiss.FAISS object at 0x000002721C7B3450>), document_prompt: 'BasePromptTemplate' = PromptTemplate(input_variables=['page_content'], template='{page_content}'), document_separator: 'str' = '\\\\n\\\\n', callbacks: 'Callbacks' = None) -> 'str' - For any information related to types of file and formattigs, use this tool.\\n    Useful for retrieving information related to the PDFs, Text files, Latex etc..\", 'tool_names': 'duckduckgo_search, retriever_tool'}, metadata={'lc_hub_owner': 'hwchase17', 'lc_hub_repo': 'react', 'lc_hub_commit_hash': 'd15fe3c426f1c4b3f37c9198853e4a86e20c425ca7f4752ec0c9b0e97ca7ea4d'}, template='Answer the following questions as best you can. You have access to the following tools:\\n\\n{tools}\\n\\nUse the following format:\\n\\nQuestion: the input question you must answer\\nThought: you should always think about what to do\\nAction: the action to take, should be one of [{tool_names}]\\nAction Input: the input to the action\\nObservation: the result of the action\\n... (this Thought/Action/Action Input/Observation can repeat N times)\\nThought: I now know the final answer\\nFinal Answer: the final answer to the original input question\\n\\nBegin!\\n\\nQuestion: {input}\\nThought:{agent_scratchpad}')\n",
       "| RunnableBinding(bound=GoogleGenerativeAI(model='gemini-1.5-pro', client=genai.GenerativeModel(\n",
       "      model_name='models/gemini-1.5-pro',\n",
       "      generation_config={},\n",
       "      safety_settings={},\n",
       "      tools=None,\n",
       "      system_instruction=None,\n",
       "      cached_content=None\n",
       "  )), kwargs={'stop': ['\\nObservation']})\n",
       "| ReActSingleInputOutputParser(), input_keys_arg=[], return_keys_arg=[], stream_runnable=True), tools=[DuckDuckGoSearchRun(), Tool(name='retriever_tool', description='For any information related to types of file and formattigs, use this tool.\\n    Useful for retrieving information related to the PDFs, Text files, Latex etc..', args_schema=<class 'langchain_core.tools.RetrieverInput'>, func=functools.partial(<function _get_relevant_documents at 0x0000027219CCD260>, retriever=VectorStoreRetriever(tags=['FAISS', 'GoogleGenerativeAIEmbeddings'], vectorstore=<langchain_community.vectorstores.faiss.FAISS object at 0x000002721C7B3450>), document_prompt=PromptTemplate(input_variables=['page_content'], template='{page_content}'), document_separator='\\n\\n'), coroutine=functools.partial(<function _aget_relevant_documents at 0x0000027219CCD800>, retriever=VectorStoreRetriever(tags=['FAISS', 'GoogleGenerativeAIEmbeddings'], vectorstore=<langchain_community.vectorstores.faiss.FAISS object at 0x000002721C7B3450>), document_prompt=PromptTemplate(input_variables=['page_content'], template='{page_content}'), document_separator='\\n\\n'))])"
      ]
     },
     "execution_count": 69,
     "metadata": {},
     "output_type": "execute_result"
    }
   ],
   "source": [
    "agent_executor"
   ]
  },
  {
   "cell_type": "code",
   "execution_count": 77,
   "id": "57814b42-0663-4a92-b19e-7dc8c869fd50",
   "metadata": {},
   "outputs": [
    {
     "name": "stdout",
     "output_type": "stream",
     "text": [
      "\n",
      "\n",
      "\u001b[1m> Entering new AgentExecutor chain...\u001b[0m\n",
      "\u001b[32;1m\u001b[1;3mQuestion: What is the hype behing strawberry in the context of AI?\n",
      "Thought: I need more information about the relationship between \"strawberry\" and \"AI\". I'll use a search engine to find potential connections. \n",
      "Action: duckduckgo_search\n",
      "Action Input: \"strawberry\" AI \u001b[0m\u001b[36;1m\u001b[1;3mImmediately, the AI afficionados took to the comment section to decode the post. One user counted the strawberries in the picture, which totaled five, and correlated it to a possible release of ... July 15, 20247:37 AM PDTUpdated 22 days ago. July 12 - ChatGPT maker OpenAI is working on a novel approach to its artificial intelligence models in a project code-named \"Strawberry,\" according ... A cryptic post published on X yesterday by OpenAI Sam Altman has the AI community buzzing with speculation about a mysterious new AI project. \"I love summer in the garden,\" Altman wrote, above ... The documents describing the project and the source who spoke to Reuters suggests Strawberry is building AI models that will go beyond generating answers to queries, with the ability to do ... An article in Reuters claimed its journalists had been shown an internal document from the company discussing a project code-named Strawberry that is building models capable of planning, navigating the internet autonomously, and carrying out what OpenAI refers to as \"deep research.\". A separate story from Bloomberg said the company had ...\u001b[0m\u001b[32;1m\u001b[1;3mThought: The hype is about OpenAI's rumored new AI model codenamed \"Strawberry.\" \n",
      "Final Answer: The hype surrounding \"strawberry\" in the context of AI refers to speculation about a new AI model being developed by OpenAI, codenamed \"Strawberry.\" This model is rumored to have advanced capabilities beyond current AI models, potentially including planning, internet navigation, and \"deep research.\" The hype began with a cryptic social media post by OpenAI CEO Sam Altman featuring strawberries. \n",
      "\u001b[0m\n",
      "\n",
      "\u001b[1m> Finished chain.\u001b[0m\n"
     ]
    },
    {
     "data": {
      "text/plain": [
       "{'input': 'What is the hype behing strawberry in the context of AI?',\n",
       " 'output': 'The hype surrounding \"strawberry\" in the context of AI refers to speculation about a new AI model being developed by OpenAI, codenamed \"Strawberry.\" This model is rumored to have advanced capabilities beyond current AI models, potentially including planning, internet navigation, and \"deep research.\" The hype began with a cryptic social media post by OpenAI CEO Sam Altman featuring strawberries.'}"
      ]
     },
     "execution_count": 77,
     "metadata": {},
     "output_type": "execute_result"
    }
   ],
   "source": [
    "agent_executor.invoke(\n",
    "    {\"input\": \"What is the hype behing strawberry in the context of AI?\"},\n",
    "    {\"config\": {\"callbacks\": [langfuse_handler]}}\n",
    ")"
   ]
  },
  {
   "cell_type": "code",
   "execution_count": 83,
   "id": "41b3a780-8d0a-41ff-95ed-3604cd9fb238",
   "metadata": {},
   "outputs": [
    {
     "name": "stdout",
     "output_type": "stream",
     "text": [
      "\n",
      "\n",
      "\u001b[1m> Entering new AgentExecutor chain...\u001b[0m\n",
      "\u001b[32;1m\u001b[1;3mQuestion: How to compile a text file to a pdf file?\n",
      "Thought: I can use the retriever_tool to get information about compiling text files to pdf.\n",
      "Action: retriever_tool\n",
      "Action Input: How to compile a text file to a pdf file?\u001b[0m\u001b[33;1m\u001b[1;3mContents\n",
      "1 Template 5\n",
      "1.1 How tocompilea .texﬁleto a.pdfﬁle. . . . . . . . . . . . . 5\n",
      "1.1.1 Tools . . . . . . . . . . . . . . . . . . . . . . . . . . . . 5\n",
      "\n",
      "Chapter 1\n",
      "Template\n",
      "1.1 How to compilea .texﬁleto a.pdfﬁle\n",
      "1.1.1 Tools\n",
      "To processthe ﬁlesyou(may)need:\n",
      "•pdflatex (for example fromtetexpackage≥0.9-6, which you can\n",
      "getfromRed Hat5.2 );\n",
      "\n",
      "2.run“pdflatexfile.tex ”onthemainﬁleofthedocumentthreetimes\n",
      "(three—to preparevalidtable ofcontents);\n",
      "3.to see or print the result use acroread (unfortunately some versions of\n",
      "\n",
      "1.3. LATEX ANDPDFL ATEXCAPABILITIES 7\n",
      "1.3 LATEX andpdfLATEX capabilities\n",
      "1.3.1 Overview\n",
      "First you edit your source .texﬁle. In L ATEX you compile it using the latex\u001b[0m\u001b[32;1m\u001b[1;3mThought: The provided text mentions using pdflatex to compile a .tex file to a PDF. However, the question asks about converting a text file, not a .tex file.  I need to clarify this distinction.\n",
      "Action: retriever_tool\n",
      "Action Input: How to convert a plain text file (.txt) to a PDF file? \u001b[0m\u001b[33;1m\u001b[1;3m2.run“pdflatexfile.tex ”onthemainﬁleofthedocumentthreetimes\n",
      "(three—to preparevalidtable ofcontents);\n",
      "3.to see or print the result use acroread (unfortunately some versions of\n",
      "\n",
      "Contents\n",
      "1 Template 5\n",
      "1.1 How tocompilea .texﬁleto a.pdfﬁle. . . . . . . . . . . . . 5\n",
      "1.1.1 Tools . . . . . . . . . . . . . . . . . . . . . . . . . . . . 5\n",
      "\n",
      "Chapter 1\n",
      "Template\n",
      "1.1 How to compilea .texﬁleto a.pdfﬁle\n",
      "1.1.1 Tools\n",
      "To processthe ﬁlesyou(may)need:\n",
      "•pdflatex (for example fromtetexpackage≥0.9-6, which you can\n",
      "getfromRed Hat5.2 );\n",
      "\n",
      "•acroread (a PDFviewer,availablefrom http://www.adobe.com/ );\n",
      "•ghostscript≥5.10(forexamplefrom RedHatContrib )andghostview\n",
      "orgv(fromRedHatLinux);\n",
      "•efaxpackagecouldbe useful,ifyou plantofax documents.\u001b[0m\u001b[32;1m\u001b[1;3mThought: The retriever tool is not providing useful information. I will try a DuckDuckGo search.\n",
      "Action: duckduckgo_search\n",
      "Action Input: convert text file to pdf\u001b[0m\u001b[36;1m\u001b[1;3mConvert text files to PDF in seconds with Smallpdf, a cloud-based tool that accepts Word, Excel, PowerPoint, and image formats. No signup required, just drag and drop your file and download your PDF. Zamzar is a trusted and reliable online service that can convert your TXT files to PDF format in seconds. You can also convert other file types, such as Word, Excel, PowerPoint, and more, without an account or installation. Open a new document in Microsoft Word. If needed, you can download Microsoft Word. Use this method if you have plain text you want to convert into a PDF file. 2. Copy and paste your text into the document. Make sure your text is selected. On Windows, press CTRL + C to Copy, then CTRL + V to paste into Microsoft Word. You can convert a DOCX to PDF using Microsoft Word or a conversion tool. To use Word, simply open your DOCX file within the application, click 'File', 'Save As' and then select PDF as the format to save to. You will be able to select a location on your device to save your new PDF file to. Output Formats: PDF, DOCX, DOC, JPEG, TIFF, GIF, PNG, HTML, MHT, ODT, RTF, EPUB, FB2, and MOBI; Depending on the output format you choose, there are a number of customizations you can tweak if you want to. For example, when converting a file to PDF, you can add a watermark and even merge PDFs into one file or extract pages from a PDF. However ...\u001b[0m\u001b[32;1m\u001b[1;3mThought: DuckDuckGo search provided several methods to convert a text file to PDF. \n",
      "Final Answer: You can convert a text file to PDF using several methods:\n",
      "* **Online Converters:** Websites like Smallpdf and Zamzar offer free and easy conversion without software installation.\n",
      "* **Microsoft Word:** Open a new Word document, copy and paste your text, and save the file as a PDF. \n",
      "* **Other Software:**  Dedicated conversion tools offer more advanced features like batch processing and format customization. \n",
      "\u001b[0m\n",
      "\n",
      "\u001b[1m> Finished chain.\u001b[0m\n"
     ]
    },
    {
     "data": {
      "text/plain": [
       "{'input': 'How to compile a text file to a pdf file?',\n",
       " 'output': 'You can convert a text file to PDF using several methods:\\n* **Online Converters:** Websites like Smallpdf and Zamzar offer free and easy conversion without software installation.\\n* **Microsoft Word:** Open a new Word document, copy and paste your text, and save the file as a PDF. \\n* **Other Software:**  Dedicated conversion tools offer more advanced features like batch processing and format customization.'}"
      ]
     },
     "execution_count": 83,
     "metadata": {},
     "output_type": "execute_result"
    }
   ],
   "source": [
    "agent_executor.invoke(\n",
    "    {\"input\": \"How to compile a text file to a pdf file?\"},\n",
    "    {\"config\": {\"callbacks\": [langfuse_handler]}}\n",
    ")"
   ]
  },
  {
   "cell_type": "code",
   "execution_count": null,
   "id": "c1149999-17e2-4e20-a750-c3f152949d35",
   "metadata": {},
   "outputs": [],
   "source": []
  }
 ],
 "metadata": {
  "kernelspec": {
   "display_name": "Python 3 (ipykernel)",
   "language": "python",
   "name": "python3"
  },
  "language_info": {
   "codemirror_mode": {
    "name": "ipython",
    "version": 3
   },
   "file_extension": ".py",
   "mimetype": "text/x-python",
   "name": "python",
   "nbconvert_exporter": "python",
   "pygments_lexer": "ipython3",
   "version": "3.11.7"
  }
 },
 "nbformat": 4,
 "nbformat_minor": 5
}
