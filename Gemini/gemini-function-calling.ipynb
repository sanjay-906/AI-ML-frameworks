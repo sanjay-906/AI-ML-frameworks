{
 "cells": [
  {
   "cell_type": "code",
   "execution_count": 1,
   "id": "9dafbe6c-1c32-44c2-b9fa-d6cce690c05e",
   "metadata": {},
   "outputs": [
    {
     "name": "stdout",
     "output_type": "stream",
     "text": [
      "C:\\Users\\HP\\Desktop\\chatbot\n"
     ]
    }
   ],
   "source": [
    "%cd .."
   ]
  },
  {
   "cell_type": "code",
   "execution_count": 4,
   "id": "b0565915-a6ab-46b5-a6e6-1b92efca1112",
   "metadata": {},
   "outputs": [],
   "source": [
    "import pathlib\n",
    "import textwrap\n",
    "import time\n",
    "import os\n",
    "\n",
    "import keys\n",
    "import google.generativeai as genai\n",
    "import google.ai.generativelanguage as glm\n",
    "\n",
    "from IPython import display\n",
    "from IPython.display import Markdown\n",
    "\n",
    "os.environ[\"GOOGLE_API_KEY\"]= keys.gemini_api_key\n",
    "genai.configure(api_key= os.environ[\"GOOGLE_API_KEY\"])\n",
    "\n",
    "def to_markdown(text):\n",
    "    return Markdown(textwrap.indent(text, '> ', predicate= lambda _ : True))"
   ]
  },
  {
   "cell_type": "code",
   "execution_count": 20,
   "id": "0ce4517c-6362-461c-9029-488c82880d81",
   "metadata": {},
   "outputs": [],
   "source": [
    "order_statuses= {\n",
    "    \"1142\": \"Shipped\",\n",
    "    \"1906\": \"Processing\",\n",
    "    \"0745\": \"Delivered\"\n",
    "}\n",
    "\n",
    "\n",
    "def get_order_status(order_id: str) -> str:\n",
    "    \"\"\"Fetches the status of a given order ID.\"\"\"\n",
    "    return order_statuses.get(order_id, \"Order ID not found\")\n",
    "\n",
    "\n",
    "def initiate_return(order_id: str, reason: str) -> str:\n",
    "    \"\"\"Initiates a return for a given order ID with a specified reason.\"\"\"\n",
    "    if order_id in [i for i in order_statuses.keys()]:\n",
    "        return f\"Return initiated for order {order_id} due to: {reason}.\"\n",
    "    else:\n",
    "        return \"Order ID not found. Cannot initiate return.\""
   ]
  },
  {
   "cell_type": "code",
   "execution_count": 22,
   "id": "95c97516-21d3-46ae-a834-c115676f9e28",
   "metadata": {},
   "outputs": [],
   "source": [
    "model = genai.GenerativeModel(\n",
    "    model_name= \"gemini-1.5-flash\",\n",
    "    tools=[get_order_status, initiate_return]\n",
    ")"
   ]
  },
  {
   "cell_type": "code",
   "execution_count": 24,
   "id": "81356bce-a96e-49cc-964e-35765a8ed7c0",
   "metadata": {},
   "outputs": [],
   "source": [
    "# always use in chat mode for function calling\n",
    "chat = model.start_chat(enable_automatic_function_calling=True)"
   ]
  },
  {
   "cell_type": "code",
   "execution_count": 26,
   "id": "e16d4942-a36a-4369-9362-0fb6d3dbcd31",
   "metadata": {},
   "outputs": [],
   "source": [
    "response = chat.send_message(\"What is the status of order 1906?\")"
   ]
  },
  {
   "cell_type": "code",
   "execution_count": 28,
   "id": "ac72beb8-3303-4314-907f-bda34677dfe8",
   "metadata": {},
   "outputs": [
    {
     "data": {
      "text/plain": [
       "'The order is currently being processed. \\n'"
      ]
     },
     "execution_count": 28,
     "metadata": {},
     "output_type": "execute_result"
    }
   ],
   "source": [
    "response.text"
   ]
  },
  {
   "cell_type": "code",
   "execution_count": 36,
   "id": "15cc97c2-1ae2-45e8-8e4a-238e8c3dfa61",
   "metadata": {},
   "outputs": [
    {
     "name": "stdout",
     "output_type": "stream",
     "text": [
      "user -> {'text': 'What is the status of order 1906?'}\n",
      "----------------------------------------------------------------------------------------------------\n",
      "model -> {'function_call': {'name': 'get_order_status', 'args': {'order_id': '1906'}}}\n",
      "----------------------------------------------------------------------------------------------------\n",
      "user -> {'function_response': {'name': 'get_order_status', 'response': {'result': 'Processing'}}}\n",
      "----------------------------------------------------------------------------------------------------\n",
      "model -> {'text': 'The order is currently being processed. \\n'}\n",
      "----------------------------------------------------------------------------------------------------\n"
     ]
    }
   ],
   "source": [
    "for content in chat.history:\n",
    "    part= content.parts[0]\n",
    "    print(content.role, \"->\", type(part).to_dict(part))\n",
    "    print(\"-\"*100)"
   ]
  },
  {
   "cell_type": "code",
   "execution_count": 38,
   "id": "a89864ec-dcf6-4c96-a2ff-d2df9a146f4a",
   "metadata": {},
   "outputs": [],
   "source": [
    "response = chat.send_message(\"I want to return order 0745 because it is defecctive.\")"
   ]
  },
  {
   "cell_type": "code",
   "execution_count": 40,
   "id": "b32e3401-2ebd-4b00-93a9-532888aa32ac",
   "metadata": {},
   "outputs": [
    {
     "data": {
      "text/plain": [
       "'OK. I have initiated a return for order 0745. \\n'"
      ]
     },
     "execution_count": 40,
     "metadata": {},
     "output_type": "execute_result"
    }
   ],
   "source": [
    "response.text"
   ]
  },
  {
   "cell_type": "code",
   "execution_count": 42,
   "id": "766280ac-3072-4576-9a19-469eb5d706d7",
   "metadata": {},
   "outputs": [
    {
     "name": "stdout",
     "output_type": "stream",
     "text": [
      "user -> {'text': 'What is the status of order 1906?'}\n",
      "----------------------------------------------------------------------------------------------------\n",
      "model -> {'function_call': {'name': 'get_order_status', 'args': {'order_id': '1906'}}}\n",
      "----------------------------------------------------------------------------------------------------\n",
      "user -> {'function_response': {'name': 'get_order_status', 'response': {'result': 'Processing'}}}\n",
      "----------------------------------------------------------------------------------------------------\n",
      "model -> {'text': 'The order is currently being processed. \\n'}\n",
      "----------------------------------------------------------------------------------------------------\n",
      "user -> {'text': 'I want to return order 0745 because it is defecctive.'}\n",
      "----------------------------------------------------------------------------------------------------\n",
      "model -> {'function_call': {'name': 'initiate_return', 'args': {'order_id': '0745', 'reason': 'defective'}}}\n",
      "----------------------------------------------------------------------------------------------------\n",
      "user -> {'function_response': {'name': 'initiate_return', 'response': {'result': 'Return initiated for order 0745 due to: defective.'}}}\n",
      "----------------------------------------------------------------------------------------------------\n",
      "model -> {'text': 'OK. I have initiated a return for order 0745. \\n'}\n",
      "----------------------------------------------------------------------------------------------------\n"
     ]
    }
   ],
   "source": [
    "for content in chat.history:\n",
    "    part= content.parts[0]\n",
    "    print(content.role, \"->\", type(part).to_dict(part))\n",
    "    print(\"-\"*100)"
   ]
  },
  {
   "cell_type": "markdown",
   "id": "39925ab5-a615-4170-ab0e-8e040f814c22",
   "metadata": {},
   "source": [
    "# Sequential function calls/ nested function calls"
   ]
  },
  {
   "cell_type": "code",
   "execution_count": 46,
   "id": "13e0d29c-202a-46bc-b5ee-882c1c6fbe1a",
   "metadata": {},
   "outputs": [],
   "source": [
    "rsponse = chat.send_message(\"Can you check the status of order 1906? If it's delivered, please initiate return as it was the wrong order.\")"
   ]
  },
  {
   "cell_type": "code",
   "execution_count": 50,
   "id": "b7f6169a-4e3d-42c5-b224-8ddec70ce07f",
   "metadata": {},
   "outputs": [
    {
     "data": {
      "text/plain": [
       "\"Order 1906 is still being processed. I can't initiate a return yet. I'll check back on it later. \\n\""
      ]
     },
     "execution_count": 50,
     "metadata": {},
     "output_type": "execute_result"
    }
   ],
   "source": [
    "rsponse.text"
   ]
  },
  {
   "cell_type": "code",
   "execution_count": 52,
   "id": "81b08ab9-da36-4f16-968e-b9cf4c34148d",
   "metadata": {},
   "outputs": [],
   "source": [
    "rsponse = chat.send_message(\"Can you check the status of order 0745? If it's delivered, please initiate return as it was the wrong order.\")"
   ]
  },
  {
   "cell_type": "code",
   "execution_count": 54,
   "id": "3e834150-c1e4-48b0-b989-417235200913",
   "metadata": {},
   "outputs": [
    {
     "data": {
      "text/plain": [
       "\"Order 0745 has been delivered. I've initiated a return for you because it was the wrong order. \\n\""
      ]
     },
     "execution_count": 54,
     "metadata": {},
     "output_type": "execute_result"
    }
   ],
   "source": [
    "rsponse.text"
   ]
  },
  {
   "cell_type": "code",
   "execution_count": 64,
   "id": "503b1787-3ad6-4bf9-a6c9-0d2923e89298",
   "metadata": {},
   "outputs": [],
   "source": [
    "def cancel_order(order_id: str) -> str:\n",
    "    \"\"\"Cancels a given order ID if possible.\"\"\"\n",
    "    if order_id in order_statuses:\n",
    "        if order_statuses[order_id] == \"Processing\":\n",
    "            return f\"Order {order_id} has been cancelled successfully.\"\n",
    "        else:\n",
    "            return f\"Order {order_id} cannot be cancelled as it is already {order_statuses[order_id]}.\"\n",
    "    else:\n",
    "        return \"Invalid Order ID / Order ID not found. Cannot cancel order\""
   ]
  },
  {
   "cell_type": "code",
   "execution_count": 66,
   "id": "9eb62d65-b39d-486c-ae89-11892e3f8e31",
   "metadata": {},
   "outputs": [],
   "source": [
    "model = genai.GenerativeModel(\n",
    "    model_name=\"gemini-1.5-flash\",\n",
    "    tools=[get_order_status, initiate_return, cancel_order]\n",
    ")"
   ]
  },
  {
   "cell_type": "code",
   "execution_count": 68,
   "id": "8cb31d15-94c2-41c1-81d1-b057d370c56d",
   "metadata": {},
   "outputs": [],
   "source": [
    "chat = model.start_chat(enable_automatic_function_calling=True)"
   ]
  },
  {
   "cell_type": "code",
   "execution_count": 70,
   "id": "f3d77720-68b9-445b-91e2-d7f75eb5ec08",
   "metadata": {},
   "outputs": [],
   "source": [
    "response = chat.send_message(\"Can you check the status of order 1906? if it is delivered, please initiate return as it was wrong order, else cancel the order\")"
   ]
  },
  {
   "cell_type": "code",
   "execution_count": 72,
   "id": "18539c56-0689-4b14-b01e-616127191f5c",
   "metadata": {},
   "outputs": [
    {
     "data": {
      "text/plain": [
       "'OK. I have cancelled order 1906. \\n'"
      ]
     },
     "execution_count": 72,
     "metadata": {},
     "output_type": "execute_result"
    }
   ],
   "source": [
    "response.text"
   ]
  },
  {
   "cell_type": "code",
   "execution_count": 74,
   "id": "af67407f-2d3b-49fd-816e-dabf4794c685",
   "metadata": {},
   "outputs": [
    {
     "name": "stdout",
     "output_type": "stream",
     "text": [
      "user -> {'text': 'Can you check the status of order 1906? if it is delivered, please initiate return as it was wrong order, else cancel the order'}\n",
      "--------------------------------------------------------------------------------\n",
      "model -> {'function_call': {'name': 'get_order_status', 'args': {'order_id': '1906'}}}\n",
      "--------------------------------------------------------------------------------\n",
      "user -> {'function_response': {'name': 'get_order_status', 'response': {'result': 'Processing'}}}\n",
      "--------------------------------------------------------------------------------\n",
      "model -> {'function_call': {'name': 'cancel_order', 'args': {'order_id': '1906'}}}\n",
      "--------------------------------------------------------------------------------\n",
      "user -> {'function_response': {'name': 'cancel_order', 'response': {'result': 'Order 1906 has been cancelled successfully.'}}}\n",
      "--------------------------------------------------------------------------------\n",
      "model -> {'text': 'OK. I have cancelled order 1906. \\n'}\n",
      "--------------------------------------------------------------------------------\n"
     ]
    }
   ],
   "source": [
    "for content in chat.history:\n",
    "    part = content.parts[0]\n",
    "    print(content.role, \"->\", type(part).to_dict(part))\n",
    "    print('-'*80)"
   ]
  },
  {
   "cell_type": "markdown",
   "id": "74a212a1-d7b2-4542-9f60-81b220d581cb",
   "metadata": {},
   "source": [
    "# Parallel function calling"
   ]
  },
  {
   "cell_type": "code",
   "execution_count": 77,
   "id": "f84c54fd-93bf-4d33-87ba-76937131e7ba",
   "metadata": {},
   "outputs": [],
   "source": [
    "import random\n",
    "\n",
    "def update_shipping_address(order_id: str, new_address: str) -> str:\n",
    "    \"\"\"Updates the shipping address for a given order ID.\"\"\"\n",
    "    if order_id in [i for i in order_statuses.keys()]:\n",
    "        return f\"Shipping address for order {order_id} has been updated to: {new_address}.\"\n",
    "    else:\n",
    "        return \"Order ID not found. Cannot update shipping address.\"\n",
    "\n",
    "\n",
    "def track_shipment(tracking_number: str) -> str:\n",
    "    \"\"\"Tracks the shipment with the given tracking number\"\"\"\n",
    "    statuses = [\n",
    "        \"Your order is sent for packaging\",\n",
    "        \"Your order has departed.\",\n",
    "        \"Your order has arrived\"\n",
    "    ]\n",
    "    return statuses[random.randrange(0,3)]\n",
    "    \n",
    "\n",
    "def apply_discount(order_id: str, discount_code: str) -> str:\n",
    "    \"\"\"Applies a discount to the given order ID.\"\"\"\n",
    "    statuses = [\n",
    "        \"Discount of $2 has been applied.\",\n",
    "        \"Discount code provided has expired\",\n",
    "        \"Invalid discount code\"\n",
    "    ]\n",
    "    return statuses[random.randrange(0,2)]\n",
    "    \n",
    "\n",
    "def change_payment_method(order_id: str, payment_method: str) -> str:\n",
    "    \"\"\"Changes the payment method for a given order ID.\"\"\"\n",
    "    statuses = [\n",
    "        \"Payment method not supported\",\n",
    "        \"Payment method changed successfully.\"\n",
    "        \"Error occured. Please try again later.\"\n",
    "    ]\n",
    "    return statuses[random.randrange(0,2)]\n",
    "\n",
    "\n",
    "def provide_invoice(order_id: str) -> str:\n",
    "    \"\"\"Provides an invoice for the given order ID.\"\"\"\n",
    "    statuses = [\n",
    "        \"Invoice has been sent to your mail.\",\n",
    "        \"Unable to generate Invoice .\"\n",
    "        \"Daily limit exceeded. Try again tomorrow.\"\n",
    "    ]\n",
    "    return statuses[random.randrange(0,2)]\n",
    "\n",
    "\n",
    "def extend_warranty(order_id: str, years: int) -> str:\n",
    "    \"\"\"Extends the warranty for a given order ID.\"\"\"\n",
    "    statuses = [\n",
    "        \"Warranty extended successfully\",\n",
    "        \"Duration too long. Unable to extended.\"\n",
    "        \"Not possible for this order ID.\"\n",
    "    ]\n",
    "    return statuses[random.randrange(0,2)]\n",
    "\n",
    "\n",
    "def check_product_availability(product_id: str) -> str:\n",
    "    \"\"\"Checks the availability of a product with the given product ID.\"\"\"\n",
    "    statuses = [\n",
    "        \"Product available (in stock)\",\n",
    "        \"Product not available (out of stock)\",\n",
    "        \"product available (limited stock)\"\n",
    "    ]\n",
    "    return statuses[random.randrange(0,2)]"
   ]
  },
  {
   "cell_type": "markdown",
   "id": "b5576772-7913-4813-bcad-5707fd89d554",
   "metadata": {},
   "source": [
    "## Not possible to do parallel function calling in automatic mode, we have to do it manually"
   ]
  },
  {
   "cell_type": "code",
   "execution_count": 80,
   "id": "1cf37870-641b-4b6c-b636-c9c57d0a66a6",
   "metadata": {},
   "outputs": [],
   "source": [
    "model = genai.GenerativeModel(\n",
    "    model_name=\"gemini-1.5-pro\",\n",
    "    tools= [\n",
    "        get_order_status, initiate_return, cancel_order, update_shipping_address,\n",
    "        track_shipment, apply_discount, change_payment_method, provide_invoice,\n",
    "        extend_warranty, check_product_availability\n",
    "    ]\n",
    ")"
   ]
  },
  {
   "cell_type": "code",
   "execution_count": 82,
   "id": "c2c7efbf-794c-48d4-9dbd-bd54a02882ba",
   "metadata": {},
   "outputs": [],
   "source": [
    "chat = model.start_chat()"
   ]
  },
  {
   "cell_type": "code",
   "execution_count": 100,
   "id": "31bd1219-e3a5-4ae0-9c2c-c77f0d44ad85",
   "metadata": {},
   "outputs": [],
   "source": [
    "response = chat.send_message(\"What is the status of order 1142? Can you extend the warranty of order 1906?\")"
   ]
  },
  {
   "cell_type": "code",
   "execution_count": 102,
   "id": "e7501e2d-7328-4c26-9ade-1d1913825a8f",
   "metadata": {},
   "outputs": [
    {
     "data": {
      "text/plain": [
       "[index: 0\n",
       "content {\n",
       "  parts {\n",
       "    function_call {\n",
       "      name: \"get_order_status\"\n",
       "      args {\n",
       "        fields {\n",
       "          key: \"order_id\"\n",
       "          value {\n",
       "            string_value: \"1142\"\n",
       "          }\n",
       "        }\n",
       "      }\n",
       "    }\n",
       "  }\n",
       "  parts {\n",
       "    text: \"\\n\\n\"\n",
       "  }\n",
       "  parts {\n",
       "    function_call {\n",
       "      name: \"extend_warranty\"\n",
       "      args {\n",
       "        fields {\n",
       "          key: \"years\"\n",
       "          value {\n",
       "            number_value: 1\n",
       "          }\n",
       "        }\n",
       "        fields {\n",
       "          key: \"order_id\"\n",
       "          value {\n",
       "            string_value: \"1906\"\n",
       "          }\n",
       "        }\n",
       "      }\n",
       "    }\n",
       "  }\n",
       "  role: \"model\"\n",
       "}\n",
       "finish_reason: STOP\n",
       "safety_ratings {\n",
       "  category: HARM_CATEGORY_HATE_SPEECH\n",
       "  probability: NEGLIGIBLE\n",
       "}\n",
       "safety_ratings {\n",
       "  category: HARM_CATEGORY_SEXUALLY_EXPLICIT\n",
       "  probability: NEGLIGIBLE\n",
       "}\n",
       "safety_ratings {\n",
       "  category: HARM_CATEGORY_DANGEROUS_CONTENT\n",
       "  probability: NEGLIGIBLE\n",
       "}\n",
       "safety_ratings {\n",
       "  category: HARM_CATEGORY_HARASSMENT\n",
       "  probability: NEGLIGIBLE\n",
       "}\n",
       "]"
      ]
     },
     "execution_count": 102,
     "metadata": {},
     "output_type": "execute_result"
    }
   ],
   "source": [
    "response.candidates"
   ]
  },
  {
   "cell_type": "markdown",
   "id": "51c67a06-68f4-4bf5-99e0-6164371bc7fc",
   "metadata": {},
   "source": [
    "# we have 2 function calls"
   ]
  },
  {
   "cell_type": "code",
   "execution_count": 107,
   "id": "2e9d20cd-2bae-4b1a-b1ec-35a1e7c0274e",
   "metadata": {},
   "outputs": [
    {
     "name": "stdout",
     "output_type": "stream",
     "text": [
      "get_order_status(order_id=1142)\n",
      "extend_warranty(order_id=1906, years=1.0)\n"
     ]
    }
   ],
   "source": [
    "# just extract the function names that the model chose to call\n",
    "\n",
    "for part in response.parts:\n",
    "    if fn := part.function_call:\n",
    "        args = \", \".join(f\"{key}={val}\" for key, val in fn.args.items())\n",
    "        print(f\"{fn.name}({args})\")"
   ]
  },
  {
   "cell_type": "code",
   "execution_count": 111,
   "id": "a1e3f5cf-dd54-4286-b0ab-8c4c25cafdd1",
   "metadata": {},
   "outputs": [],
   "source": [
    "responses = {\n",
    "    \"get_order_status\": get_order_status(order_id=\"1142\"),\n",
    "    \"extend_warranty\": extend_warranty(order_id=\"1906\", years=\"1.0\")\n",
    "}"
   ]
  },
  {
   "cell_type": "code",
   "execution_count": 113,
   "id": "249a2e6a-9912-4ad0-887c-7078fd0a6d3b",
   "metadata": {},
   "outputs": [],
   "source": [
    "# build the response parts\n",
    "\n",
    "response_parts = [\n",
    "    glm.Part(function_response=glm.FunctionResponse(name=fn, response={\"result\": val}))\n",
    "    for fn, val in responses.items()\n",
    "]"
   ]
  },
  {
   "cell_type": "code",
   "execution_count": 115,
   "id": "04616087-dfc5-4dba-afe6-ee62635bec44",
   "metadata": {},
   "outputs": [
    {
     "name": "stdout",
     "output_type": "stream",
     "text": [
      "The status of order 1142 is shipped. I have extended the warranty of order 1906. \n",
      "\n"
     ]
    }
   ],
   "source": [
    "responses = chat.send_message(response_parts)\n",
    "print(responses.text)"
   ]
  },
  {
   "cell_type": "code",
   "execution_count": null,
   "id": "92ddde46-f4c3-4fd6-b42a-9a1c9361c00e",
   "metadata": {},
   "outputs": [],
   "source": []
  }
 ],
 "metadata": {
  "kernelspec": {
   "display_name": "Python 3 (ipykernel)",
   "language": "python",
   "name": "python3"
  },
  "language_info": {
   "codemirror_mode": {
    "name": "ipython",
    "version": 3
   },
   "file_extension": ".py",
   "mimetype": "text/x-python",
   "name": "python",
   "nbconvert_exporter": "python",
   "pygments_lexer": "ipython3",
   "version": "3.11.7"
  }
 },
 "nbformat": 4,
 "nbformat_minor": 5
}
